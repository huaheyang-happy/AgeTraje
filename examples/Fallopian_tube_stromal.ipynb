{
 "cells": [
  {
   "cell_type": "code",
   "execution_count": 1,
   "id": "349b1657",
   "metadata": {
    "ExecuteTime": {
     "end_time": "2025-05-08T12:59:49.023557Z",
     "start_time": "2025-05-08T12:59:24.566763Z"
    }
   },
   "outputs": [],
   "source": [
    "\n",
    "import scanpy as sc\n",
    "import matplotlib.pyplot as plt\n",
    "import sys\n",
    "import os\n",
    "import numpy as np\n",
    "import pandas as pd\n",
    "import anndata as ad\n",
    "import scanpy as sc\n",
    "import networkx as nx\n",
    "import torch\n",
    "import sklearn.preprocessing\n",
    "import episcanpy as epi\n",
    "import sys\n",
    "import os\n",
    "import numpy as np\n",
    "import pandas as pd\n",
    "import anndata as ad\n",
    "import scanpy as sc\n",
    "# import networkx as nx # No longer needed for training script itself\n",
    "import torch\n",
    "\n",
    "\n",
    "adata_ATAC=sc.read(\"/data/cabins/sccancer/hhy/TI/Fallopian_tube_ATAC.h5ad\")\n",
    "adata_RNA= sc.read(\"/data/cabins/sccancer/hhy/TI/Fallopian_tube_RNA.h5ad\")"
   ]
  },
  {
   "cell_type": "code",
   "execution_count": 2,
   "id": "ef91f1e3",
   "metadata": {
    "ExecuteTime": {
     "end_time": "2025-05-08T12:59:51.229164Z",
     "start_time": "2025-05-08T12:59:49.026314Z"
    }
   },
   "outputs": [],
   "source": [
    "adata_ATAC_NK = adata_ATAC[adata_ATAC.obs[\"cell_type\"] == 'stromal cell',:]\n",
    "samples_to_keep = ['55-year-old stage', '61-year-old stage', '62-year-old stage', '65-year-old stage']\n",
    "mask = adata_ATAC_NK.obs['development_stage'].isin(samples_to_keep)\n",
    "adata_ATAC_NK_Age = adata_ATAC_NK[mask].copy()"
   ]
  },
  {
   "cell_type": "code",
   "execution_count": 3,
   "id": "8f56b2ad",
   "metadata": {
    "ExecuteTime": {
     "end_time": "2025-05-08T12:59:52.304471Z",
     "start_time": "2025-05-08T12:59:51.230943Z"
    }
   },
   "outputs": [],
   "source": [
    "adata_RNA_NK = adata_RNA[adata_RNA.obs[\"cell_type\"] == 'stromal cell',:]\n",
    "samples_to_keep = ['55-year-old stage', '61-year-old stage', '62-year-old stage', '65-year-old stage']\n",
    "mask = adata_RNA_NK.obs['development_stage'].isin(samples_to_keep)\n",
    "adata_RNA_NK_Age = adata_RNA_NK[mask].copy()"
   ]
  },
  {
   "cell_type": "code",
   "execution_count": 18,
   "id": "112cd12b",
   "metadata": {
    "ExecuteTime": {
     "end_time": "2025-05-09T00:27:44.712113Z",
     "start_time": "2025-05-09T00:27:44.694241Z"
    }
   },
   "outputs": [
    {
     "data": {
      "text/plain": [
       "AAACCACCCCAA_1           stromal cell\n",
       "AAAGACATCTTC_1           stromal cell\n",
       "AAAGCCCGAATC_1           stromal cell\n",
       "AAAGCCCGAATG_1           stromal cell\n",
       "AAATCACCATAC_1           stromal cell\n",
       "                             ...     \n",
       "TTTGGAGTCGGTAGGA-1_18    stromal cell\n",
       "TTTGGTTTCTTGGCTC-1_18    stromal cell\n",
       "TTTGTTGAGCATCAGG-1_18    stromal cell\n",
       "TTTGTTGGTACTGTTG-1_18    stromal cell\n",
       "TTTGTTGGTATATGGA-1_18    stromal cell\n",
       "Name: cell_type, Length: 27695, dtype: category\n",
       "Categories (1, object): ['stromal cell']"
      ]
     },
     "execution_count": 18,
     "metadata": {},
     "output_type": "execute_result"
    }
   ],
   "source": [
    "adata_RNA_NK.obs[\"cell_type\"]"
   ]
  },
  {
   "cell_type": "code",
   "execution_count": 4,
   "id": "2a261d93",
   "metadata": {
    "ExecuteTime": {
     "end_time": "2025-05-08T12:59:52.314877Z",
     "start_time": "2025-05-08T12:59:52.307034Z"
    }
   },
   "outputs": [
    {
     "name": "stderr",
     "output_type": "stream",
     "text": [
      " FutureWarning:/tmp/ipykernel_1132836/732861383.py:7: The behavior of Series.replace (and DataFrame.replace) with CategoricalDtype is deprecated. In a future version, replace will only be used for cases that preserve the categories. To change the categories, use ser.cat.rename_categories instead.\n",
      " FutureWarning:/tmp/ipykernel_1132836/732861383.py:8: The behavior of Series.replace (and DataFrame.replace) with CategoricalDtype is deprecated. In a future version, replace will only be used for cases that preserve the categories. To change the categories, use ser.cat.rename_categories instead.\n"
     ]
    }
   ],
   "source": [
    "replacement_map = {\n",
    "    '55-year-old stage': '55',\n",
    "    '61-year-old stage': '61',\n",
    "    '62-year-old stage': '62',\n",
    "    '65-year-old stage': '65'\n",
    "}\n",
    "adata_ATAC_NK_Age.obs['age'] = adata_ATAC_NK_Age.obs['development_stage'].replace(replacement_map)\n",
    "adata_RNA_NK_Age.obs['age'] = adata_RNA_NK_Age.obs['development_stage'].replace(replacement_map)"
   ]
  },
  {
   "cell_type": "code",
   "execution_count": 5,
   "id": "5c9f39d2",
   "metadata": {
    "ExecuteTime": {
     "end_time": "2025-05-08T13:00:04.534089Z",
     "start_time": "2025-05-08T12:59:52.316151Z"
    }
   },
   "outputs": [
    {
     "name": "stderr",
     "output_type": "stream",
     "text": [
      " FutureWarning:/home/sccancer/anaconda3/envs/CGLUE-SOE/lib/python3.9/site-packages/episcanpy/preprocessing/_scanpy_fct.py:145: The specified parameters ('min_counts', 'min_cells', 'max_counts', 'max_cells', 'inplace', 'copy') are no longer positional. Please specify them like `min_counts=None`\n"
     ]
    }
   ],
   "source": [
    "sc.pp.filter_cells(adata_RNA_NK_Age, min_genes=100)\n",
    "sc.pp.filter_genes(adata_RNA_NK_Age, min_cells=3)\n",
    "# Saving count data\n",
    "adata_RNA_NK_Age.layers[\"counts\"] = adata_RNA_NK_Age.X.copy()\n",
    "# Normalizing to median total counts\n",
    "sc.pp.normalize_total(adata_RNA_NK_Age)\n",
    "# Logarithmize the data\n",
    "sc.pp.log1p(adata_RNA_NK_Age)\n",
    "sc.pp.highly_variable_genes(adata_RNA_NK_Age, n_top_genes=2000)\n",
    "adata_RNA_NK_Age = adata_RNA_NK_Age[:,adata_RNA_NK_Age.var['highly_variable'] ==True]\n",
    "fpeak=0.03\n",
    "epi.pp.binarize(adata_ATAC_NK_Age)\n",
    "epi.pp.filter_features(adata_ATAC_NK_Age, min_cells=np.ceil(adata_ATAC_NK_Age.shape[0])*fpeak)"
   ]
  },
  {
   "cell_type": "code",
   "execution_count": 6,
   "id": "442d9868",
   "metadata": {
    "ExecuteTime": {
     "end_time": "2025-05-08T13:00:04.543216Z",
     "start_time": "2025-05-08T13:00:04.536319Z"
    }
   },
   "outputs": [
    {
     "data": {
      "text/plain": [
       "AnnData object with n_obs × n_vars = 19096 × 16764\n",
       "    obs: 'mapped_reference_assembly', 'alignment_software', 'donor_id', 'self_reported_ethnicity_ontology_term_id', 'donor_living_at_sample_collection', 'donor_menopausal_status', 'organism_ontology_term_id', 'sample_uuid', 'sample_preservation_method', 'tissue_ontology_term_id', 'development_stage_ontology_term_id', 'sample_derivation_process', 'sample_source', 'suspension_derivation_process', 'suspension_uuid', 'suspension_type', 'library_uuid', 'assay_ontology_term_id', 'library_starting_quantity', 'is_primary_data', 'cell_type_ontology_term_id', 'author_cell_type', 'disease_ontology_term_id', 'sex_ontology_term_id', 'nCount_ATAC', 'nFeature_ATAC', 'sample', 'tissue_type', 'cell_type', 'assay', 'disease', 'organism', 'sex', 'tissue', 'self_reported_ethnicity', 'development_stage', 'observation_joinid', 'age'\n",
       "    var: 'feature_is_filtered', 'feature_name', 'feature_reference', 'feature_biotype', 'feature_length', 'feature_type', 'n_cells'\n",
       "    uns: 'citation', 'default_embedding', 'schema_reference', 'schema_version', 'title'\n",
       "    obsm: 'X_harmony', 'X_lsi', 'X_umap'"
      ]
     },
     "execution_count": 6,
     "metadata": {},
     "output_type": "execute_result"
    }
   ],
   "source": [
    "adata_ATAC_NK_Age"
   ]
  },
  {
   "cell_type": "code",
   "execution_count": 7,
   "id": "5f838108",
   "metadata": {
    "ExecuteTime": {
     "end_time": "2025-05-08T13:00:15.564430Z",
     "start_time": "2025-05-08T13:00:04.544656Z"
    }
   },
   "outputs": [
    {
     "name": "stderr",
     "output_type": "stream",
     "text": [
      " TqdmWarning:/home/sccancer/anaconda3/envs/CGLUE-SOE/lib/python3.9/site-packages/tqdm/auto.py:21: IProgress not found. Please update jupyter and ipywidgets. See https://ipywidgets.readthedocs.io/en/stable/user_install.html\n"
     ]
    }
   ],
   "source": [
    "# -*- coding: utf-8 -*-\n",
    "\"\"\"\n",
    "Training script for CGLUE-SOE-OT model using real (preprocessed)\n",
    "scRNA-seq and scATAC-seq data with ordered age labels.\n",
    "\n",
    "This script assumes the modified CGLUE-SOE-OT model files\n",
    "(e.g., cglue_soe_ot.py, cglue_soe_components_ot.py) are\n",
    "accessible within the scglue package structure or Python path.\n",
    "\"\"\"\n",
    "\n",
    "import sys\n",
    "import os\n",
    "import numpy as np\n",
    "import pandas as pd\n",
    "import anndata as ad\n",
    "import scanpy as sc\n",
    "# import networkx as nx # No longer needed for training script itself\n",
    "import torch\n",
    "\n",
    "# --- Add project root to path if necessary ---\n",
    "# Adjust this path if your script is located elsewhere relative to the scglue package\n",
    "# project_root = os.path.abspath(os.path.join(os.path.dirname(__file__), '..'))\n",
    "# if project_root not in sys.path:\n",
    "#     sys.path.insert(0, project_root)\n",
    "\n",
    "try:\n",
    "    # Import the modified model and config function\n",
    "    import scglue\n",
    "    from scglue.models.cglue_soe_ot import CGLUESOE_OT_Model, configure_dataset_cglue_soe\n",
    "    # AnnDatasetWithLabels is still needed, GraphDataset is not\n",
    "    from scglue.models.data import AnnDatasetWithLabels\n",
    "    # from scglue.utils import config as scglue_config # Optional config import\n",
    "except ImportError as e:\n",
    "    print(f\"Error importing modified scglue components: {e}\")\n",
    "    print(\"Please ensure the modified scglue package (with CGLUE-SOE-OT) is installed or accessible.\")\n",
    "    sys.exit(1)\n",
    "except AttributeError as e:\n",
    "    print(f\"Error importing specific components (check file/class names): {e}\")\n",
    "    print(\"Ensure 'CGLUESOE_OT_Model' and 'configure_dataset_cglue_soe' exist in 'scglue.models.cglue_soe_ot'.\")\n",
    "    sys.exit(1)\n",
    "\n",
    "\n",
    "# --- Configuration ---\n",
    "SEED = 0\n",
    "\n",
    "torch.manual_seed(SEED)\n",
    "np.random.seed(SEED)\n",
    "SAVE_DIR = \"cglue_soe_ot_Fallopian_tube_stromal_output\" # Changed save directory name\n",
    "os.makedirs(SAVE_DIR, exist_ok=True)"
   ]
  },
  {
   "cell_type": "code",
   "execution_count": 8,
   "id": "3124cd48",
   "metadata": {
    "ExecuteTime": {
     "end_time": "2025-05-08T13:00:15.923180Z",
     "start_time": "2025-05-08T13:00:15.566372Z"
    }
   },
   "outputs": [
    {
     "name": "stdout",
     "output_type": "stream",
     "text": [
      "Loading real data...\n",
      "Preprocessing data...\n"
     ]
    },
    {
     "name": "stderr",
     "output_type": "stream",
     "text": [
      " ImplicitModificationWarning:/tmp/ipykernel_1132836/2428429756.py:19: Trying to modify attribute `.obs` of view, initializing view as actual.\n"
     ]
    }
   ],
   "source": [
    "# --- 1. Load Your Real Data ---\n",
    "print(\"Loading real data...\")\n",
    "\n",
    "atac_adata= adata_ATAC_NK_Age\n",
    "rna_adata = adata_RNA_NK_Age\n",
    "adatas = {\"rna\": rna_adata, \"atac\": atac_adata}\n",
    "\n",
    "# --- 2. Preprocessing Steps ---\n",
    "print(\"Preprocessing data...\")\n",
    "\n",
    "# ** Crucial: Ensure 'age' column is ordered categorical **\n",
    "# Define the correct order\n",
    "age_order = ['55', '61', '62','65']\n",
    "label_col = 'age' # MODIFY AS NEEDED\n",
    "try:\n",
    "    for k in adatas:\n",
    "        if 'age' not in adatas[k].obs:\n",
    "            raise ValueError(f\"'age' column not found in adata '{k}'.\")\n",
    "        adatas[k].obs['age'] = pd.Categorical(\n",
    "            adatas[k].obs['age'], categories=age_order, ordered=True\n",
    "        )\n",
    "        # Check if any values became NaN after conversion (means original values didn't match categories)\n",
    "        if adatas[k].obs['age'].isnull().any():\n",
    "             print(f\"Warning: Some 'age' values in adata '{k}' did not match the expected categories {age_order} and resulted in NaNs.\")\n",
    "             # Optional: Handle NaNs, e.g., remove cells or raise error\n",
    "             # adatas[k] = adatas[k][adatas[k].obs['age'].notna()].copy()\n",
    "except Exception as e:\n",
    "    print(f\"Error processing 'age' column: {e}\")\n",
    "    sys.exit(1)\n"
   ]
  },
  {
   "cell_type": "code",
   "execution_count": 9,
   "id": "a7f2707e",
   "metadata": {
    "ExecuteTime": {
     "end_time": "2025-05-08T13:00:15.928182Z",
     "start_time": "2025-05-08T13:00:15.924796Z"
    }
   },
   "outputs": [],
   "source": [
    "atac_adata.var['highly_variable'] = True"
   ]
  },
  {
   "cell_type": "code",
   "execution_count": 10,
   "id": "0f30ff06",
   "metadata": {
    "ExecuteTime": {
     "end_time": "2025-05-08T13:00:15.969583Z",
     "start_time": "2025-05-08T13:00:15.930399Z"
    }
   },
   "outputs": [
    {
     "name": "stdout",
     "output_type": "stream",
     "text": [
      "Defining feature vertices...\n",
      "Total unique features (vertices): 17580\n"
     ]
    }
   ],
   "source": [
    "\n",
    "# --- 3. Define Vertices (No Graph Construction Needed) ---\n",
    "# The model still needs the list of all unique features across datasets\n",
    "# for the feature embedding layer.\n",
    "print(\"Defining feature vertices...\")\n",
    "vertices = pd.Index(rna_adata.var_names.tolist() + atac_adata.var_names.tolist()).unique()\n",
    "print(f\"Total unique features (vertices): {len(vertices)}\")\n"
   ]
  },
  {
   "cell_type": "code",
   "execution_count": 11,
   "id": "515a6657",
   "metadata": {
    "ExecuteTime": {
     "end_time": "2025-05-08T13:00:16.003362Z",
     "start_time": "2025-05-08T13:00:15.971147Z"
    }
   },
   "outputs": [
    {
     "name": "stdout",
     "output_type": "stream",
     "text": [
      "Configuring datasets for CGLUE-SOE-OT...\n",
      "[INFO] CGLUESOE_OT_Model: Dataset configured for CGLUE-SOE-OT using label 'age'.\n",
      "[INFO] CGLUESOE_OT_Model: Dataset configured for CGLUE-SOE-OT using label 'age'.\n",
      "Datasets configured.\n"
     ]
    }
   ],
   "source": [
    "\n",
    "# --- 4. Configure Datasets for CGLUE-SOE-OT ---\n",
    "print(\"Configuring datasets for CGLUE-SOE-OT...\")\n",
    "# ** Choose appropriate prob_model based on your preprocessing **\n",
    "# 'Normal' or 'ZILN' for log-normalized RNA.\n",
    "# 'Normal', 'ZILN', or 'Bernoulli' for ATAC depending on preprocessing.\n",
    "try:\n",
    "    configure_dataset_cglue_soe( # Use the same config function name\n",
    "        adatas[\"rna\"],\n",
    "        prob_model=\"Normal\", # Adjust if needed (e.g., \"NB\" if using raw counts)\n",
    "        use_highly_variable=True, # Use selected HVGs\n",
    "        use_label=label_col, # Use the ordered label column\n",
    "        use_layer=None, # Assuming preprocessed data is in .X\n",
    "        use_rep=None,   # Or specify a representation like 'X_pca' if desired\n",
    "        use_obs_names=False # Data is unpaired\n",
    "    )\n",
    "    configure_dataset_cglue_soe( # Use the same config function name\n",
    "        adatas[\"atac\"],\n",
    "        prob_model=\"Bernoulli\", # Adjust based on ATAC preprocessing\n",
    "        use_highly_variable=True, # Use selected HVGs\n",
    "        use_label=label_col, # Use the ordered label column\n",
    "        use_layer=None, # Assuming preprocessed data is in .X\n",
    "        use_rep=None,   # Or specify a representation like 'X_lsi' if desired\n",
    "        use_obs_names=False # Data is unpaired\n",
    "    )\n",
    "    print(\"Datasets configured.\")\n",
    "except Exception as e:\n",
    "    print(f\"Error configuring datasets: {e}\")\n",
    "    sys.exit(1)\n"
   ]
  },
  {
   "cell_type": "code",
   "execution_count": null,
   "id": "5c3140ef",
   "metadata": {
    "ExecuteTime": {
     "start_time": "2025-05-08T12:59:26.083Z"
    }
   },
   "outputs": [
    {
     "name": "stdout",
     "output_type": "stream",
     "text": [
      "Initializing CGLUE-SOE-OT model...\n",
      "[INFO] autodevice: Using GPU 3 as computation device.\n",
      "Model initialized.\n",
      "Compiling model...\n",
      "Model compiled.\n",
      "Fitting model...\n"
     ]
    },
    {
     "name": "stderr",
     "output_type": "stream",
     "text": [
      " UserWarning:/home/sccancer/anaconda3/envs/CGLUE-SOE/lib/python3.9/site-packages/torch/optim/lr_scheduler.py:62: The verbose parameter is deprecated. Please use get_last_lr() to access the learning rate.\n",
      " FutureWarning:/home/sccancer/anaconda3/envs/CGLUE-SOE/lib/python3.9/abc.py:119: SparseDataset is deprecated and will be removed in late 2024. It has been replaced by the public classes CSRDataset and CSCDataset.\n",
      "\n",
      "For instance checks, use `isinstance(X, (anndata.experimental.CSRDataset, anndata.experimental.CSCDataset))` instead.\n",
      "\n",
      "For creation, use `anndata.experimental.sparse_dataset(X)` instead.\n",
      "\n"
     ]
    },
    {
     "name": "stdout",
     "output_type": "stream",
     "text": [
      "[INFO] CGLUESOE_OT_Trainer: [Epoch 10] Train={'x_rna_nll': '-725.7470', 'x_rna_kl': '100.4366', 'x_rna_elbo': '-715.7033', 'x_atac_nll': '8108.7521', 'x_atac_kl': '129.1962', 'x_atac_elbo': '8121.6717', 'triplet_loss': '0.0289', 'ot_loss': '43.6748', 'total_loss': '11385.4343'}, Val={'x_rna_nll': '-825.5368', 'x_rna_kl': '102.1343', 'x_rna_elbo': '-815.3234', 'x_atac_nll': '8069.4629', 'x_atac_kl': '127.0070', 'x_atac_elbo': '8082.1636', 'triplet_loss': '0.1806', 'ot_loss': '38.9918', 'total_loss': '11224.5264'}\n",
      "[INFO] CGLUESOE_OT_Trainer: [Epoch 20] Train={'x_rna_nll': '-2462.8344', 'x_rna_kl': '144.6887', 'x_rna_elbo': '-2448.3655', 'x_atac_nll': '7993.0848', 'x_atac_kl': '161.4434', 'x_atac_elbo': '8009.2291', 'triplet_loss': '0.0126', 'ot_loss': '11.8381', 'total_loss': '8418.6314'}, Val={'x_rna_nll': '-2522.7682', 'x_rna_kl': '145.7455', 'x_rna_elbo': '-2508.1937', 'x_atac_nll': '7994.3669', 'x_atac_kl': '161.6793', 'x_atac_elbo': '8010.5348', 'triplet_loss': '0.3178', 'ot_loss': '21.8247', 'total_loss': '8543.3580'}\n",
      "[INFO] CGLUESOE_OT_Trainer: [Epoch 30] Train={'x_rna_nll': '-3099.2473', 'x_rna_kl': '155.5654', 'x_rna_elbo': '-3083.6907', 'x_atac_nll': '7975.5296', 'x_atac_kl': '175.8119', 'x_atac_elbo': '7993.1108', 'triplet_loss': '0.0053', 'ot_loss': '5.1496', 'total_loss': '7397.6528'}, Val={'x_rna_nll': '-3020.6919', 'x_rna_kl': '154.8990', 'x_rna_elbo': '-3005.2020', 'x_atac_nll': '7973.8272', 'x_atac_kl': '172.6253', 'x_atac_elbo': '7991.0897', 'triplet_loss': '0.0880', 'ot_loss': '5.6417', 'total_loss': '7556.7056'}\n",
      "[INFO] CGLUESOE_OT_Trainer: [Epoch 40] Train={'x_rna_nll': '-3184.8461', 'x_rna_kl': '161.7797', 'x_rna_elbo': '-3168.6682', 'x_atac_nll': '7961.8683', 'x_atac_kl': '182.4184', 'x_atac_elbo': '7980.1102', 'triplet_loss': '0.0049', 'ot_loss': '4.4805', 'total_loss': '7246.4865'}, Val={'x_rna_nll': '-2872.0715', 'x_rna_kl': '163.3096', 'x_rna_elbo': '-2855.7406', 'x_atac_nll': '7963.4484', 'x_atac_kl': '181.1530', 'x_atac_elbo': '7981.5637', 'triplet_loss': '0.0255', 'ot_loss': '4.0294', 'total_loss': '7725.6618'}\n",
      "[INFO] CGLUESOE_OT_Trainer: [Epoch 50] Train={'x_rna_nll': '-3193.9064', 'x_rna_kl': '167.0692', 'x_rna_elbo': '-3177.1995', 'x_atac_nll': '7959.7800', 'x_atac_kl': '189.0338', 'x_atac_elbo': '7978.6834', 'triplet_loss': '0.0041', 'ot_loss': '3.9222', 'total_loss': '7227.7921'}, Val={'x_rna_nll': '-1348.3338', 'x_rna_kl': '166.5544', 'x_rna_elbo': '-1331.6784', 'x_atac_nll': '7951.3770', 'x_atac_kl': '185.9922', 'x_atac_elbo': '7969.9762', 'triplet_loss': '0.0691', 'ot_loss': '4.7968', 'total_loss': '10020.7714'}\n",
      "[INFO] LRScheduler: Learning rate reduction: step 1\n",
      "[INFO] CGLUESOE_OT_Trainer: [Epoch 60] Train={'x_rna_nll': '-3221.9300', 'x_rna_kl': '165.6536', 'x_rna_elbo': '-3205.3647', 'x_atac_nll': '7923.9858', 'x_atac_kl': '188.5162', 'x_atac_elbo': '7942.8374', 'triplet_loss': '0.0015', 'ot_loss': '2.9686', 'total_loss': '7124.7732'}, Val={'x_rna_nll': '-846.2732', 'x_rna_kl': '165.2216', 'x_rna_elbo': '-829.7510', 'x_atac_nll': '7939.7583', 'x_atac_kl': '185.4636', 'x_atac_elbo': '7958.3047', 'triplet_loss': '0.0757', 'ot_loss': '2.8558', 'total_loss': '10747.7914'}\n",
      "[INFO] CGLUESOE_OT_Trainer: [Epoch 80] Train={'x_rna_nll': '-3226.2112', 'x_rna_kl': '164.9951', 'x_rna_elbo': '-3209.7116', 'x_atac_nll': '7929.1710', 'x_atac_kl': '188.0339', 'x_atac_elbo': '7947.9744', 'triplet_loss': '0.0012', 'ot_loss': '2.6363', 'total_loss': '7123.8331'}, Val={'x_rna_nll': '-33.7248', 'x_rna_kl': '164.3563', 'x_rna_elbo': '-17.2892', 'x_atac_nll': '7937.0723', 'x_atac_kl': '184.7126', 'x_atac_elbo': '7955.5435', 'triplet_loss': '0.0765', 'ot_loss': '2.3827', 'total_loss': '11959.9155'}\n",
      "[INFO] CGLUESOE_OT_Trainer: [Epoch 90] Train={'x_rna_nll': '-3214.6623', 'x_rna_kl': '164.8563', 'x_rna_elbo': '-3198.1767', 'x_atac_nll': '7929.6014', 'x_atac_kl': '188.0836', 'x_atac_elbo': '7948.4098', 'triplet_loss': '0.0021', 'ot_loss': '2.6437', 'total_loss': '7142.2827'}, Val={'x_rna_nll': '47.2427', 'x_rna_kl': '164.3319', 'x_rna_elbo': '63.6760', 'x_atac_nll': '7936.5986', 'x_atac_kl': '185.0048', 'x_atac_elbo': '7955.0990', 'triplet_loss': '0.0706', 'ot_loss': '2.0845', 'total_loss': '12075.9821'}\n",
      "[INFO] LRScheduler: Learning rate reduction: step 3\n",
      "[INFO] CGLUESOE_OT_Trainer: [Epoch 100] Train={'x_rna_nll': '-3228.5387', 'x_rna_kl': '164.8611', 'x_rna_elbo': '-3212.0526', 'x_atac_nll': '7922.4190', 'x_atac_kl': '188.1411', 'x_atac_elbo': '7941.2331', 'triplet_loss': '0.0012', 'ot_loss': '2.7818', 'total_loss': '7111.0482'}, Val={'x_rna_nll': '70.4706', 'x_rna_kl': '164.2679', 'x_rna_elbo': '86.8974', 'x_atac_nll': '7935.8852', 'x_atac_kl': '184.8361', 'x_atac_elbo': '7954.3687', 'triplet_loss': '0.0835', 'ot_loss': '2.0743', 'total_loss': '12116.0734'}\n",
      "[INFO] CGLUESOE_OT_Trainer: [Epoch 110] Train={'x_rna_nll': '-3206.1157', 'x_rna_kl': '164.9018', 'x_rna_elbo': '-3189.6255', 'x_atac_nll': '7932.0396', 'x_atac_kl': '187.9828', 'x_atac_elbo': '7950.8379', 'triplet_loss': '0.0011', 'ot_loss': '2.6553', 'total_loss': '7158.2936'}, Val={'x_rna_nll': '78.4025', 'x_rna_kl': '164.1375', 'x_rna_elbo': '94.8163', 'x_atac_nll': '7936.7230', 'x_atac_kl': '184.9315', 'x_atac_elbo': '7955.2162', 'triplet_loss': '0.0815', 'ot_loss': '1.8789', 'total_loss': '12127.0830'}\n",
      "[INFO] LRScheduler: Learning rate reduction: step 4\n",
      "[INFO] CGLUESOE_OT_Trainer: [Epoch 120] Train={'x_rna_nll': '-3219.7348', 'x_rna_kl': '164.9145', 'x_rna_elbo': '-3203.2433', 'x_atac_nll': '7926.9363', 'x_atac_kl': '188.3163', 'x_atac_elbo': '7945.7679', 'triplet_loss': '0.0019', 'ot_loss': '2.4973', 'total_loss': '7129.7203'}, Val={'x_rna_nll': '80.9565', 'x_rna_kl': '164.1920', 'x_rna_elbo': '97.3757', 'x_atac_nll': '7936.5709', 'x_atac_kl': '184.9155', 'x_atac_elbo': '7955.0624', 'triplet_loss': '0.0809', 'ot_loss': '1.8892', 'total_loss': '12130.4306'}\n",
      "[INFO] CGLUESOE_OT_Trainer: [Epoch 130] Train={'x_rna_nll': '-3221.0473', 'x_rna_kl': '164.9401', 'x_rna_elbo': '-3204.5533', 'x_atac_nll': '7925.0021', 'x_atac_kl': '188.1562', 'x_atac_elbo': '7943.8178', 'triplet_loss': '0.0016', 'ot_loss': '2.7371', 'total_loss': '7126.1414'}, Val={'x_rna_nll': '80.2025', 'x_rna_kl': '164.4237', 'x_rna_elbo': '96.6449', 'x_atac_nll': '7936.0416', 'x_atac_kl': '184.9422', 'x_atac_elbo': '7954.5358', 'triplet_loss': '0.0762', 'ot_loss': '2.2542', 'total_loss': '12128.3727'}\n",
      "[INFO] LRScheduler: Learning rate reduction: step 5\n",
      "[INFO] CGLUESOE_OT_Trainer: [Epoch 140] Train={'x_rna_nll': '-3232.8272', 'x_rna_kl': '164.8934', 'x_rna_elbo': '-3216.3378', 'x_atac_nll': '7923.9557', 'x_atac_kl': '188.0463', 'x_atac_elbo': '7942.7603', 'triplet_loss': '0.0022', 'ot_loss': '2.7336', 'total_loss': '7107.1526'}, Val={'x_rna_nll': '80.5897', 'x_rna_kl': '163.9855', 'x_rna_elbo': '96.9882', 'x_atac_nll': '7936.1127', 'x_atac_kl': '185.0587', 'x_atac_elbo': '7954.6185', 'triplet_loss': '0.0848', 'ot_loss': '1.8755', 'total_loss': '12131.0575'}\n",
      "[INFO] CGLUESOE_OT_Trainer: [Epoch 150] Train={'x_rna_nll': '-3224.6466', 'x_rna_kl': '164.8468', 'x_rna_elbo': '-3208.1619', 'x_atac_nll': '7933.3382', 'x_atac_kl': '188.1298', 'x_atac_elbo': '7952.1512', 'triplet_loss': '0.0017', 'ot_loss': '2.6162', 'total_loss': '7132.5420'}, Val={'x_rna_nll': '80.4867', 'x_rna_kl': '164.0193', 'x_rna_elbo': '96.8886', 'x_atac_nll': '7936.2040', 'x_atac_kl': '184.9558', 'x_atac_elbo': '7954.6996', 'triplet_loss': '0.0846', 'ot_loss': '1.9502', 'total_loss': '12131.3950'}\n",
      "[INFO] CGLUESOE_OT_Trainer: [Epoch 160] Train={'x_rna_nll': '-3217.5586', 'x_rna_kl': '164.9521', 'x_rna_elbo': '-3201.0634', 'x_atac_nll': '7929.4821', 'x_atac_kl': '187.8878', 'x_atac_elbo': '7948.2709', 'triplet_loss': '0.0015', 'ot_loss': '2.7019', 'total_loss': '7137.7565'}, Val={'x_rna_nll': '81.0829', 'x_rna_kl': '163.9583', 'x_rna_elbo': '97.4787', 'x_atac_nll': '7936.4092', 'x_atac_kl': '185.0419', 'x_atac_elbo': '7954.9134', 'triplet_loss': '0.0826', 'ot_loss': '1.8580', 'total_loss': '12131.0440'}\n",
      "[INFO] CGLUESOE_OT_Trainer: [Epoch 170] Train={'x_rna_nll': '-3219.9170', 'x_rna_kl': '164.8755', 'x_rna_elbo': '-3203.4295', 'x_atac_nll': '7924.7752', 'x_atac_kl': '188.1581', 'x_atac_elbo': '7943.5910', 'triplet_loss': '0.0018', 'ot_loss': '2.6118', 'total_loss': '7126.8283'}, Val={'x_rna_nll': '80.6012', 'x_rna_kl': '164.1112', 'x_rna_elbo': '97.0123', 'x_atac_nll': '7936.2815', 'x_atac_kl': '185.0503', 'x_atac_elbo': '7954.7866', 'triplet_loss': '0.0816', 'ot_loss': '2.0775', 'total_loss': '12130.9438'}\n"
     ]
    },
    {
     "name": "stdout",
     "output_type": "stream",
     "text": [
      "[INFO] CGLUESOE_OT_Trainer: [Epoch 180] Train={'x_rna_nll': '-3217.8711', 'x_rna_kl': '164.9529', 'x_rna_elbo': '-3201.3758', 'x_atac_nll': '7929.1455', 'x_atac_kl': '188.0035', 'x_atac_elbo': '7947.9459', 'triplet_loss': '0.0018', 'ot_loss': '2.6700', 'total_loss': '7136.7989'}, Val={'x_rna_nll': '80.6538', 'x_rna_kl': '164.3443', 'x_rna_elbo': '97.0882', 'x_atac_nll': '7935.9855', 'x_atac_kl': '184.9825', 'x_atac_elbo': '7954.4837', 'triplet_loss': '0.0731', 'ot_loss': '2.2293', 'total_loss': '12127.2801'}\n",
      "[INFO] CGLUESOE_OT_Trainer: [Epoch 190] Train={'x_rna_nll': '-3226.0126', 'x_rna_kl': '164.9515', 'x_rna_elbo': '-3209.5175', 'x_atac_nll': '7922.4919', 'x_atac_kl': '188.1554', 'x_atac_elbo': '7941.3074', 'triplet_loss': '0.0012', 'ot_loss': '2.5815', 'total_loss': '7113.7693'}, Val={'x_rna_nll': '80.2271', 'x_rna_kl': '164.3299', 'x_rna_elbo': '96.6601', 'x_atac_nll': '7936.2433', 'x_atac_kl': '184.7398', 'x_atac_elbo': '7954.7173', 'triplet_loss': '0.0816', 'ot_loss': '2.3908', 'total_loss': '12132.1907'}\n",
      "[INFO] CGLUESOE_OT_Trainer: [Epoch 200] Train={'x_rna_nll': '-3218.1723', 'x_rna_kl': '164.9195', 'x_rna_elbo': '-3201.6803', 'x_atac_nll': '7931.5426', 'x_atac_kl': '188.1359', 'x_atac_elbo': '7950.3561', 'triplet_loss': '0.0016', 'ot_loss': '2.5373', 'total_loss': '7139.0488'}, Val={'x_rna_nll': '80.3919', 'x_rna_kl': '164.2680', 'x_rna_elbo': '96.8187', 'x_atac_nll': '7936.5341', 'x_atac_kl': '185.0026', 'x_atac_elbo': '7955.0343', 'triplet_loss': '0.0775', 'ot_loss': '2.2572', 'total_loss': '12130.0640'}\n",
      "[INFO] CGLUESOE_OT_Trainer: [Epoch 210] Train={'x_rna_nll': '-3202.7599', 'x_rna_kl': '164.8195', 'x_rna_elbo': '-3186.2780', 'x_atac_nll': '7931.8137', 'x_atac_kl': '188.1129', 'x_atac_elbo': '7950.6250', 'triplet_loss': '0.0014', 'ot_loss': '2.5640', 'total_loss': '7162.5823'}, Val={'x_rna_nll': '80.9031', 'x_rna_kl': '164.2421', 'x_rna_elbo': '97.3273', 'x_atac_nll': '7936.0899', 'x_atac_kl': '184.8679', 'x_atac_elbo': '7954.5766', 'triplet_loss': '0.0791', 'ot_loss': '2.0106', 'total_loss': '12129.4777'}\n",
      "[INFO] CGLUESOE_OT_Trainer: [Epoch 220] Train={'x_rna_nll': '-3224.5336', 'x_rna_kl': '164.8788', 'x_rna_elbo': '-3208.0458', 'x_atac_nll': '7935.6498', 'x_atac_kl': '188.2837', 'x_atac_elbo': '7954.4781', 'triplet_loss': '0.0019', 'ot_loss': '2.6297', 'total_loss': '7136.3596'}, Val={'x_rna_nll': '80.4718', 'x_rna_kl': '164.3540', 'x_rna_elbo': '96.9072', 'x_atac_nll': '7936.8059', 'x_atac_kl': '184.8952', 'x_atac_elbo': '7955.2955', 'triplet_loss': '0.0793', 'ot_loss': '2.2105', 'total_loss': '12131.2299'}\n",
      "[INFO] CGLUESOE_OT_Trainer: [Epoch 230] Train={'x_rna_nll': '-3209.2232', 'x_rna_kl': '164.9604', 'x_rna_elbo': '-3192.7272', 'x_atac_nll': '7925.3865', 'x_atac_kl': '188.0143', 'x_atac_elbo': '7944.1880', 'triplet_loss': '0.0009', 'ot_loss': '2.7128', 'total_loss': '7143.9418'}, Val={'x_rna_nll': '80.7683', 'x_rna_kl': '164.4780', 'x_rna_elbo': '97.2162', 'x_atac_nll': '7936.2586', 'x_atac_kl': '184.9481', 'x_atac_elbo': '7954.7533', 'triplet_loss': '0.0674', 'ot_loss': '2.5319', 'total_loss': '12126.8284'}\n",
      "[INFO] CGLUESOE_OT_Trainer: [Epoch 240] Train={'x_rna_nll': '-3212.7324', 'x_rna_kl': '164.8107', 'x_rna_elbo': '-3196.2513', 'x_atac_nll': '7918.2004', 'x_atac_kl': '188.0406', 'x_atac_elbo': '7937.0044', 'triplet_loss': '0.0017', 'ot_loss': '2.6316', 'total_loss': '7127.7470'}, Val={'x_rna_nll': '80.8211', 'x_rna_kl': '164.1623', 'x_rna_elbo': '97.2374', 'x_atac_nll': '7937.0797', 'x_atac_kl': '185.0510', 'x_atac_elbo': '7955.5847', 'triplet_loss': '0.0766', 'ot_loss': '1.8705', 'total_loss': '12128.7668'}\n",
      "[INFO] CGLUESOE_OT_Trainer: [Epoch 250] Train={'x_rna_nll': '-3221.5848', 'x_rna_kl': '165.0344', 'x_rna_elbo': '-3205.0814', 'x_atac_nll': '7918.8618', 'x_atac_kl': '188.2817', 'x_atac_elbo': '7937.6900', 'triplet_loss': '0.0011', 'ot_loss': '2.5677', 'total_loss': '7114.8668'}, Val={'x_rna_nll': '80.6565', 'x_rna_kl': '164.4140', 'x_rna_elbo': '97.0979', 'x_atac_nll': '7936.6517', 'x_atac_kl': '185.0541', 'x_atac_elbo': '7955.1571', 'triplet_loss': '0.0689', 'ot_loss': '2.0336', 'total_loss': '12125.0353'}\n",
      "[INFO] CGLUESOE_OT_Trainer: [Epoch 260] Train={'x_rna_nll': '-3208.7331', 'x_rna_kl': '164.8776', 'x_rna_elbo': '-3192.2454', 'x_atac_nll': '7934.4995', 'x_atac_kl': '187.9703', 'x_atac_elbo': '7953.2965', 'triplet_loss': '0.0014', 'ot_loss': '2.6669', 'total_loss': '7158.2702'}, Val={'x_rna_nll': '80.4898', 'x_rna_kl': '164.2770', 'x_rna_elbo': '96.9174', 'x_atac_nll': '7936.0024', 'x_atac_kl': '185.0792', 'x_atac_elbo': '7954.5103', 'triplet_loss': '0.0739', 'ot_loss': '2.0178', 'total_loss': '12126.1821'}\n",
      "[INFO] CGLUESOE_OT_Trainer: [Epoch 270] Train={'x_rna_nll': '-3223.9772', 'x_rna_kl': '164.8062', 'x_rna_elbo': '-3207.4965', 'x_atac_nll': '7939.7657', 'x_atac_kl': '188.0967', 'x_atac_elbo': '7958.5754', 'triplet_loss': '0.0028', 'ot_loss': '2.6212', 'total_loss': '7143.7475'}, Val={'x_rna_nll': '80.8216', 'x_rna_kl': '164.0448', 'x_rna_elbo': '97.2261', 'x_atac_nll': '7936.0373', 'x_atac_kl': '184.9957', 'x_atac_elbo': '7954.5369', 'triplet_loss': '0.0856', 'ot_loss': '1.8835', 'total_loss': '12131.7418'}\n",
      "[INFO] CGLUESOE_OT_Trainer: [Epoch 280] Train={'x_rna_nll': '-3212.7159', 'x_rna_kl': '164.9367', 'x_rna_elbo': '-3196.2222', 'x_atac_nll': '7928.1300', 'x_atac_kl': '188.0357', 'x_atac_elbo': '7946.9335', 'triplet_loss': '0.0018', 'ot_loss': '2.6658', 'total_loss': '7142.9475'}, Val={'x_rna_nll': '80.7479', 'x_rna_kl': '164.0410', 'x_rna_elbo': '97.1520', 'x_atac_nll': '7936.0214', 'x_atac_kl': '185.2189', 'x_atac_elbo': '7954.5433', 'triplet_loss': '0.0826', 'ot_loss': '2.3875', 'total_loss': '12133.1622'}\n",
      "[INFO] CGLUESOE_OT_Trainer: [Epoch 290] Train={'x_rna_nll': '-3225.4033', 'x_rna_kl': '164.8468', 'x_rna_elbo': '-3208.9186', 'x_atac_nll': '7926.8611', 'x_atac_kl': '188.1178', 'x_atac_elbo': '7945.6729', 'triplet_loss': '0.0016', 'ot_loss': '2.4607', 'total_loss': '7120.6774'}, Val={'x_rna_nll': '80.4100', 'x_rna_kl': '164.3587', 'x_rna_elbo': '96.8459', 'x_atac_nll': '7935.8624', 'x_atac_kl': '184.8785', 'x_atac_elbo': '7954.3503', 'triplet_loss': '0.0832', 'ot_loss': '2.2844', 'total_loss': '12132.1000'}\n",
      "[INFO] CGLUESOE_OT_Trainer: [Epoch 300] Train={'x_rna_nll': '-3225.1534', 'x_rna_kl': '164.9602', 'x_rna_elbo': '-3208.6574', 'x_atac_nll': '7929.2808', 'x_atac_kl': '188.2015', 'x_atac_elbo': '7948.1009', 'triplet_loss': '0.0017', 'ot_loss': '2.6302', 'total_loss': '7125.7978'}, Val={'x_rna_nll': '80.5579', 'x_rna_kl': '164.4137', 'x_rna_elbo': '96.9993', 'x_atac_nll': '7936.3913', 'x_atac_kl': '185.0763', 'x_atac_elbo': '7954.8990', 'triplet_loss': '0.0676', 'ot_loss': '2.1394', 'total_loss': '12124.5050'}\n"
     ]
    }
   ],
   "source": [
    "\n",
    "\n",
    "# --- 5. Initialize CGLUE-SOE-OT Model ---\n",
    "print(\"Initializing CGLUE-SOE-OT model...\")\n",
    "try:\n",
    "    model = CGLUESOE_OT_Model(\n",
    "        adatas=adatas,\n",
    "        x2u_h_depth=2, \n",
    "        x2u_h_dim=256,                 \n",
    "        u2x_h_depth=2, \n",
    "        u2x_h_dim=256, \n",
    "        dropout=0.2,\n",
    "        vertices=vertices.tolist(), # Pass the combined feature list\n",
    "        latent_dim=50, # Example latent dimension, adjust as needed\n",
    "        random_seed=SEED\n",
    "    )\n",
    "    print(\"Model initialized.\")\n",
    "except Exception as e:\n",
    "    print(f\"Error initializing model: {e}\")\n",
    "    sys.exit(1)\n",
    "\n",
    "# --- 6. Compile Model ---\n",
    "print(\"Compiling model...\")\n",
    "Times = '2'\n",
    "lam_kl=0.1           # Weight for KL divergence regularization 调低有利于聚类更紧密\n",
    "lam_data=1.5         # Weight for data reconstruction loss 调高有利于聚类更紧密\n",
    "lam_triplet=500      # Weight for triplet loss (NEEDS TUNING)\n",
    "lam_ot=6.0           # Weight for Optimal Transport loss (NEEDS TUNING)\n",
    "triplet_margin=5   # Margin for triplet loss (NEEDS TUNING)有可能数据本身就是按照时间序列排序的\n",
    "ot_epsilon=0.1       # OT Sinkhorn regularization (NEEDS TUNING) 较小的值 (如当前的 0.1) 匹配更精确，但也可能对噪声更敏感\n",
    "ot_tau=1.0          # OT Sinkhorn unbalancedness (NEEDS TUNING)\n",
    "ot_max_iter=100\n",
    "\n",
    "max_epochs=500\n",
    "# ** Tune hyperparameters, especially loss weights **\n",
    "try:\n",
    "    model.compile(\n",
    "        lr=1e-3,              # Learning rate for the single optimizer\n",
    "        # lam_graph removed\n",
    "        # lam_align removed\n",
    "        # dsc_lr removed\n",
    "        # train_ratio removed\n",
    "        lam_kl=lam_kl,           # Weight for KL divergence regularization 调低有利于聚类更紧密\n",
    "        lam_data=lam_data,         # Weight for data reconstruction loss 调高有利于聚类更紧密\n",
    "        lam_triplet=lam_triplet,      # Weight for triplet loss (NEEDS TUNING)\n",
    "        lam_ot=lam_ot,           # Weight for Optimal Transport loss (NEEDS TUNING)\n",
    "        triplet_margin=triplet_margin,   # Margin for triplet loss (NEEDS TUNING)有可能数据本身就是按照时间序列排序的\n",
    "        ot_epsilon=ot_epsilon,       # OT Sinkhorn regularization (NEEDS TUNING) 较小的值 (如当前的 0.1) 匹配更精确，但也可能对噪声更敏感\n",
    "        ot_tau=ot_tau,           # OT Sinkhorn unbalancedness (NEEDS TUNING)\n",
    "        ot_max_iter=ot_max_iter,      # OT Sinkhorn iterations\n",
    "         #weight_decay=1e-5   # Example: Add optimizer args directly\n",
    "    )\n",
    "    print(\"Model compiled.\")\n",
    "except Exception as e:\n",
    "    print(f\"Error compiling model: {e}\")\n",
    "    sys.exit(1)\n",
    "\n",
    "# --- 7. Train Model ---\n",
    "print(\"Fitting model...\")\n",
    "# Fit the model (No GraphDataset needed)\n",
    "# Adjust training parameters as needed\n",
    "try:\n",
    "    model.fit(\n",
    "        adatas=adatas,            # Pass adatas dictionary\n",
    "        # graph removed\n",
    "        val_split=0.2,            # Use 10% of data for validation\n",
    "        data_batch_size=256,      # Adjust based on memory\n",
    "        # graph_batch_size removed\n",
    "        max_epochs=max_epochs,           # Set a reasonable number of epochs\n",
    "        patience=35,              # Early stopping patience\n",
    "        reduce_lr_patience=20,    # LR scheduling patience\n",
    "        wait_n_lrs=3,             # Wait for LR reductions before stopping\n",
    "        num_workers=0,            # Set > 0 for parallel data loading if needed\n",
    "        directory=SAVE_DIR        # Directory for logs and checkpoints\n",
    "    )\n",
    "    print(\"Model fitting finished.\")\n",
    "except Exception as e:\n",
    "    print(f\"An error occurred during model fitting: {e}\")\n",
    "    import traceback\n",
    "    traceback.print_exc()\n",
    "    sys.exit(1)\n",
    "\n",
    "\n"
   ]
  },
  {
   "cell_type": "code",
   "execution_count": null,
   "id": "d1b11c2a",
   "metadata": {
    "ExecuteTime": {
     "start_time": "2025-05-08T12:59:26.237Z"
    }
   },
   "outputs": [],
   "source": [
    "# --- 8. Post-Training Analysis ---\n",
    "print(\"Extracting embeddings...\")\n",
    "try:\n",
    "    # Use a different key for the new model's embeddings\n",
    "    embedding_key = \"X_cgluesoe_ot\"\n",
    "    rna_adata.obsm[embedding_key] = model.encode_data(\"rna\", rna_adata)\n",
    "    atac_adata.obsm[embedding_key] = model.encode_data(\"atac\", atac_adata)\n",
    "\n",
    "    # Get feature embeddings from the nn.Embedding layer\n",
    "    feature_embeddings = model.get_feature_embeddings()\n",
    "    feature_embeddings_df = pd.DataFrame(feature_embeddings, index=model.vertices)\n",
    "\n",
    "    print(\"RNA embeddings shape:\", rna_adata.obsm[embedding_key].shape)\n",
    "    print(\"ATAC embeddings shape:\", atac_adata.obsm[embedding_key].shape)\n",
    "    print(\"Feature embeddings shape:\", feature_embeddings_df.shape)\n",
    "\n",
    "    # --- Optional: Save model and embeddings ---\n",
    "    final_model_path = os.path.join(SAVE_DIR, \"cglue_soe_ot_final_model.dill\")\n",
    "    print(f\"Saving final model to {final_model_path}\")\n",
    "    model.save(final_model_path)\n",
    "\n",
    "    rna_save_path = os.path.join(SAVE_DIR, \"rna_adata_with_embeddings.h5ad\")\n",
    "    atac_save_path = os.path.join(SAVE_DIR, \"atac_adata_with_embeddings.h5ad\")\n",
    "    feat_save_path = os.path.join(SAVE_DIR, \"feature_embeddings.csv\")\n",
    "\n",
    "    # print(f\"Saving RNA AnnData to {rna_save_path}\")\n",
    "    # rna_adata.write_h5ad(rna_save_path)\n",
    "    # print(f\"Saving ATAC AnnData to {atac_save_path}\")\n",
    "    # atac_adata.write_h5ad(atac_save_path)\n",
    "    # print(f\"Saving feature embeddings to {feat_save_path}\")\n",
    "    # feature_embeddings_df.to_csv(feat_save_path)\n",
    "\n",
    "\n",
    "    # --- Optional: Visualization (UMAP) ---\n",
    "    print(\"Generating UMAP visualization...\")\n",
    "    # Combine embeddings and obs for visualization\n",
    "    all_embeddings = np.concatenate([rna_adata.obsm[embedding_key], atac_adata.obsm[embedding_key]], axis=0)\n",
    "    all_obs = pd.concat([\n",
    "        rna_adata.obs[[label_col]].assign(modality='rna'), # Use label_col\n",
    "        atac_adata.obs[[label_col]].assign(modality='atac') # Use label_col\n",
    "    ], axis=0)\n",
    "    # Create combined obs_names for the visualization AnnData\n",
    "    vis_obs_names = rna_adata.obs_names.tolist() + atac_adata.obs_names.tolist()\n",
    "    if len(vis_obs_names) != len(all_obs): # Basic check\n",
    "         print(f\"Warning: Length mismatch between obs_names ({len(vis_obs_names)}) and combined obs ({len(all_obs)}). Using default index.\")\n",
    "         vis_obs_names = pd.RangeIndex(start=0, stop=len(all_obs), step=1)\n",
    "\n",
    "\n",
    "    vis_adata = ad.AnnData(all_embeddings, dtype=all_embeddings.dtype) # Ensure dtype is set\n",
    "    vis_adata.obs = all_obs\n",
    "    vis_adata.obs_names = vis_obs_names # Assign combined names\n",
    "    vis_adata.obsm['X_cgluesoe_ot'] = all_embeddings # Store for scanpy functions\n",
    "\n",
    "    print(\"Running neighbors and UMAP...\")\n",
    "    sc.pp.neighbors(vis_adata, use_rep='X_cgluesoe_ot', n_neighbors=15, random_state=SEED)\n",
    "    sc.tl.umap(vis_adata, min_dist=0.3, random_state=SEED) # Adjust min_dist for spread\n",
    "\n",
    "    print(\"Plotting UMAP...\")\n",
    "    umap_save_path = f'_cglue_soe_ot_Fallopian_stromal_{Times}_results.png' # Updated filename\n",
    "    sc.pl.umap(\n",
    "        vis_adata,\n",
    "        color=['modality', label_col], # Color by label_col\n",
    "        title=['UMAP by Modality', f'UMAP by {label_col.capitalize()}'],\n",
    "        save=umap_save_path,\n",
    "        show=False # Set to True to display interactively if possible\n",
    "    )\n",
    "    print(f\"UMAP plots saved to figures/ directory ({umap_save_path}).\")\n",
    "\n",
    "except Exception as e:\n",
    "    print(f\"An error occurred during post-training analysis: {e}\")\n",
    "    import traceback\n",
    "    traceback.print_exc()\n",
    "\n",
    "print(\"Script finished.\")"
   ]
  },
  {
   "cell_type": "code",
   "execution_count": null,
   "id": "653d5a4d",
   "metadata": {
    "ExecuteTime": {
     "start_time": "2025-05-08T12:59:26.625Z"
    }
   },
   "outputs": [],
   "source": [
    "print(\"Plotting loss curves...\")\n",
    "try:\n",
    "    # Define where to save the plot\n",
    "    loss_plot_path = os.path.join(SAVE_DIR, f\"cglue_soe_ot_loss_curves_Fallopian_stromal_{Times}.png\")\n",
    "    # Call the plotting method\n",
    "    model.plot_loss_curves(save_path=loss_plot_path)\n",
    "    print(f\"Loss curves saved to {loss_plot_path}\")\n",
    "except Exception as e:\n",
    "    print(f\"An error occurred during loss plotting: {e}\")\n",
    "    import traceback\n",
    "    traceback.print_exc()\n"
   ]
  },
  {
   "cell_type": "code",
   "execution_count": null,
   "id": "d181b3b7",
   "metadata": {
    "ExecuteTime": {
     "start_time": "2025-05-08T12:59:26.968Z"
    }
   },
   "outputs": [],
   "source": [
    "import csv\n",
    "import pickle\n",
    "# 定义你的超参数 (与上面相同)\n",
    "hyperparameters = {\n",
    "    \"lam_kl\": lam_kl,\n",
    "    \"lam_data\": lam_data,\n",
    "    \"lam_triplet\": lam_triplet,\n",
    "    \"lam_ot\": lam_ot,\n",
    "    \"triplet_margin\": triplet_margin,\n",
    "    \"ot_epsilon\": ot_epsilon,\n",
    "    \"ot_tau\": ot_tau,\n",
    "    \"ot_max_iter\": ot_max_iter,\n",
    "    \"max_epochs\": max_epochs\n",
    "}\n",
    "\n",
    "# 定义要保存的PKL文件名\n",
    "csv_filename = os.path.join(SAVE_DIR, \"hyperparameters_stromal.csv\")\n",
    "\n",
    "# 写入CSV文件\n",
    "try:\n",
    "    with open(csv_filename, 'a', newline='') as csvfile:\n",
    "        # 定义CSV写入器\n",
    "        writer = csv.writer(csvfile)\n",
    "\n",
    "        # 写入表头 (可选，但推荐)\n",
    "        writer.writerow([f'ParameterName_{Times}', 'Value'])\n",
    "\n",
    "        # 遍历字典并写入每一行\n",
    "        for name, value in hyperparameters.items():\n",
    "            writer.writerow([name, value])\n",
    "    print(f\"超参数已成功保存到 {csv_filename}\")\n",
    "except IOError:\n",
    "    print(f\"错误：无法写入文件 {csv_filename}\")"
   ]
  },
  {
   "cell_type": "code",
   "execution_count": null,
   "id": "29911cd6",
   "metadata": {},
   "outputs": [],
   "source": []
  }
 ],
 "metadata": {
  "kernelspec": {
   "display_name": "Python [conda env:CGLUE-SOE]",
   "language": "python",
   "name": "conda-env-CGLUE-SOE-py"
  },
  "language_info": {
   "codemirror_mode": {
    "name": "ipython",
    "version": 3
   },
   "file_extension": ".py",
   "mimetype": "text/x-python",
   "name": "python",
   "nbconvert_exporter": "python",
   "pygments_lexer": "ipython3",
   "version": "3.9.22"
  },
  "toc": {
   "base_numbering": 1,
   "nav_menu": {},
   "number_sections": true,
   "sideBar": true,
   "skip_h1_title": false,
   "title_cell": "Table of Contents",
   "title_sidebar": "Contents",
   "toc_cell": false,
   "toc_position": {},
   "toc_section_display": true,
   "toc_window_display": false
  }
 },
 "nbformat": 4,
 "nbformat_minor": 5
}
