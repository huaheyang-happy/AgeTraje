{
 "cells": [
  {
   "cell_type": "code",
   "execution_count": 1,
   "id": "ec83abc4",
   "metadata": {
    "ExecuteTime": {
     "end_time": "2025-05-08T13:08:15.185917Z",
     "start_time": "2025-05-08T13:07:55.970910Z"
    }
   },
   "outputs": [],
   "source": [
    "\n",
    "import scanpy as sc\n",
    "import matplotlib.pyplot as plt\n",
    "import sys\n",
    "import os\n",
    "import numpy as np\n",
    "import pandas as pd\n",
    "import anndata as ad\n",
    "import scanpy as sc\n",
    "import networkx as nx\n",
    "import torch\n",
    "import sklearn.preprocessing\n",
    "import episcanpy as epi\n",
    "import sys\n",
    "import os\n",
    "import numpy as np\n",
    "import pandas as pd\n",
    "import anndata as ad\n",
    "import scanpy as sc\n",
    "# import networkx as nx # No longer needed for training script itself\n",
    "import torch\n",
    "\n",
    "\n",
    "adata_ATAC=sc.read(\"/data/cabins/sccancer/hhy/TI/adult_human_kidney_ATAC.h5ad\")\n",
    "adata_RNA= sc.read(\"/data/cabins/sccancer/hhy/TI/adult_human_kidney_RNA.h5ad\")"
   ]
  },
  {
   "cell_type": "code",
   "execution_count": 2,
   "id": "cbc54ad8",
   "metadata": {
    "ExecuteTime": {
     "end_time": "2025-05-08T13:08:18.744762Z",
     "start_time": "2025-05-08T13:08:15.191030Z"
    }
   },
   "outputs": [],
   "source": [
    "adata_ATAC_copy = adata_ATAC.copy()\n",
    "adata_RNA_copy = adata_RNA.copy()"
   ]
  },
  {
   "cell_type": "code",
   "execution_count": 3,
   "id": "5f3ba9e1",
   "metadata": {
    "ExecuteTime": {
     "end_time": "2025-05-08T13:08:18.753326Z",
     "start_time": "2025-05-08T13:08:18.747711Z"
    }
   },
   "outputs": [],
   "source": [
    "adata_ATAC = adata_ATAC_copy \n",
    "adata_RNA = adata_RNA_copy"
   ]
  },
  {
   "cell_type": "code",
   "execution_count": 4,
   "id": "34291fa3",
   "metadata": {
    "ExecuteTime": {
     "end_time": "2025-05-08T13:08:18.800380Z",
     "start_time": "2025-05-08T13:08:18.755224Z"
    }
   },
   "outputs": [
    {
     "data": {
      "text/plain": [
       "cell_type\n",
       "kidney loop of Henle thick ascending limb epithelial cell    7775\n",
       "kidney proximal convoluted tubule epithelial cell            6384\n",
       "kidney proximal straight tubule epithelial cell              4146\n",
       "kidney distal convoluted tubule epithelial cell              2781\n",
       "renal principal cell                                         1291\n",
       "kidney connecting tubule epithelial cell                      884\n",
       "kidney capillary endothelial cell                             759\n",
       "epithelial cell of proximal tubule                            690\n",
       "renal beta-intercalated cell                                  620\n",
       "renal alpha-intercalated cell                                 613\n",
       "parietal epithelial cell                                      402\n",
       "connective tissue cell                                        363\n",
       "leukocyte                                                     193\n",
       "podocyte                                                      133\n",
       "Name: count, dtype: int64"
      ]
     },
     "execution_count": 4,
     "metadata": {},
     "output_type": "execute_result"
    }
   ],
   "source": [
    "adata_ATAC.obs[\"cell_type\"].value_counts()"
   ]
  },
  {
   "cell_type": "code",
   "execution_count": 5,
   "id": "b396e153",
   "metadata": {
    "ExecuteTime": {
     "end_time": "2025-05-08T13:08:18.835614Z",
     "start_time": "2025-05-08T13:08:18.804002Z"
    }
   },
   "outputs": [
    {
     "data": {
      "text/plain": [
       "cell_type\n",
       "epithelial cell of proximal tubule                           5485\n",
       "kidney loop of Henle thick ascending limb epithelial cell    4435\n",
       "kidney distal convoluted tubule epithelial cell              3250\n",
       "kidney connecting tubule epithelial cell                     1805\n",
       "renal alpha-intercalated cell                                1107\n",
       "renal principal cell                                         1022\n",
       "kidney capillary endothelial cell                            1008\n",
       "parietal epithelial cell                                      552\n",
       "podocyte                                                      463\n",
       "renal beta-intercalated cell                                  349\n",
       "mesangial cell                                                239\n",
       "fibroblast                                                    207\n",
       "leukocyte                                                      63\n",
       "Name: count, dtype: int64"
      ]
     },
     "execution_count": 5,
     "metadata": {},
     "output_type": "execute_result"
    }
   ],
   "source": [
    "adata_RNA.obs[\"cell_type\"].value_counts()"
   ]
  },
  {
   "cell_type": "code",
   "execution_count": 6,
   "id": "2c4ce3e0",
   "metadata": {
    "ExecuteTime": {
     "end_time": "2025-05-08T13:08:18.981906Z",
     "start_time": "2025-05-08T13:08:18.839041Z"
    }
   },
   "outputs": [],
   "source": [
    "adata_ATAC = adata_ATAC[adata_ATAC.obs[\"cell_type\"] == 'renal alpha-intercalated cell',:]\n",
    "samples_to_keep = ['50-year-old stage', '52-year-old stage', '54-year-old stage', '61-year-old stage','62-year-old stage']\n",
    "mask = adata_ATAC.obs['development_stage'].isin(samples_to_keep)\n",
    "adata_ATAC = adata_ATAC[mask].copy()"
   ]
  },
  {
   "cell_type": "code",
   "execution_count": 7,
   "id": "13863c20",
   "metadata": {
    "ExecuteTime": {
     "end_time": "2025-05-08T13:08:18.993047Z",
     "start_time": "2025-05-08T13:08:18.984737Z"
    }
   },
   "outputs": [
    {
     "data": {
      "text/plain": [
       "development_stage\n",
       "61-year-old stage    182\n",
       "52-year-old stage    160\n",
       "62-year-old stage    121\n",
       "54-year-old stage    106\n",
       "50-year-old stage     44\n",
       "Name: count, dtype: int64"
      ]
     },
     "execution_count": 7,
     "metadata": {},
     "output_type": "execute_result"
    }
   ],
   "source": [
    "adata_ATAC.obs['development_stage'].value_counts()"
   ]
  },
  {
   "cell_type": "code",
   "execution_count": 8,
   "id": "bd4c2063",
   "metadata": {
    "ExecuteTime": {
     "end_time": "2025-05-08T13:08:19.453534Z",
     "start_time": "2025-05-08T13:08:18.995140Z"
    }
   },
   "outputs": [],
   "source": [
    "adata_RNA = adata_RNA[adata_RNA.obs[\"cell_type\"] == 'renal alpha-intercalated cell',:]\n",
    "samples_to_keep = ['50-year-old stage', '52-year-old stage', '54-year-old stage', '61-year-old stage','62-year-old stage']\n",
    "mask = adata_RNA.obs['development_stage'].isin(samples_to_keep)\n",
    "adata_RNA = adata_RNA[mask].copy()"
   ]
  },
  {
   "cell_type": "code",
   "execution_count": 9,
   "id": "f5bdf0e3",
   "metadata": {
    "ExecuteTime": {
     "end_time": "2025-05-08T13:08:19.469177Z",
     "start_time": "2025-05-08T13:08:19.456856Z"
    }
   },
   "outputs": [
    {
     "name": "stderr",
     "output_type": "stream",
     "text": [
      " FutureWarning:/tmp/ipykernel_1138807/887913303.py:8: The behavior of Series.replace (and DataFrame.replace) with CategoricalDtype is deprecated. In a future version, replace will only be used for cases that preserve the categories. To change the categories, use ser.cat.rename_categories instead.\n",
      " FutureWarning:/tmp/ipykernel_1138807/887913303.py:9: The behavior of Series.replace (and DataFrame.replace) with CategoricalDtype is deprecated. In a future version, replace will only be used for cases that preserve the categories. To change the categories, use ser.cat.rename_categories instead.\n"
     ]
    }
   ],
   "source": [
    "replacement_map = {\n",
    "    '50-year-old stage': '50',\n",
    "    '52-year-old stage': '52',\n",
    "    '54-year-old stage': '54',\n",
    "    '61-year-old stage': '61',\n",
    "    '62-year-old stage': '62',   \n",
    "}\n",
    "adata_ATAC.obs['age'] = adata_ATAC.obs['development_stage'].replace(replacement_map)\n",
    "adata_RNA.obs['age'] = adata_RNA.obs['development_stage'].replace(replacement_map)"
   ]
  },
  {
   "cell_type": "code",
   "execution_count": 10,
   "id": "f0e123ad",
   "metadata": {
    "ExecuteTime": {
     "end_time": "2025-05-08T13:08:20.775851Z",
     "start_time": "2025-05-08T13:08:19.472377Z"
    }
   },
   "outputs": [
    {
     "name": "stderr",
     "output_type": "stream",
     "text": [
      " FutureWarning:/home/sccancer/anaconda3/envs/CGLUE-SOE/lib/python3.9/site-packages/episcanpy/preprocessing/_scanpy_fct.py:145: The specified parameters ('min_counts', 'min_cells', 'max_counts', 'max_cells', 'inplace', 'copy') are no longer positional. Please specify them like `min_counts=None`\n"
     ]
    }
   ],
   "source": [
    "sc.pp.filter_cells(adata_RNA, min_genes=100)\n",
    "sc.pp.filter_genes(adata_RNA, min_cells=3)\n",
    "# Saving count data\n",
    "adata_RNA.layers[\"counts\"] = adata_RNA.X.copy()\n",
    "# Normalizing to median total counts\n",
    "sc.pp.normalize_total(adata_RNA)\n",
    "# Logarithmize the data\n",
    "sc.pp.log1p(adata_RNA)\n",
    "sc.pp.highly_variable_genes(adata_RNA, n_top_genes=2000)\n",
    "adata_RNA = adata_RNA[:,adata_RNA.var['highly_variable'] ==True]\n",
    "fpeak=0.03\n",
    "epi.pp.binarize(adata_ATAC)\n",
    "epi.pp.filter_features(adata_ATAC, min_cells=np.ceil(adata_ATAC.shape[0])*fpeak)"
   ]
  },
  {
   "cell_type": "code",
   "execution_count": 11,
   "id": "66ce914c",
   "metadata": {
    "ExecuteTime": {
     "end_time": "2025-05-08T13:08:25.306293Z",
     "start_time": "2025-05-08T13:08:20.779455Z"
    }
   },
   "outputs": [
    {
     "name": "stderr",
     "output_type": "stream",
     "text": [
      " TqdmWarning:/home/sccancer/anaconda3/envs/CGLUE-SOE/lib/python3.9/site-packages/tqdm/auto.py:21: IProgress not found. Please update jupyter and ipywidgets. See https://ipywidgets.readthedocs.io/en/stable/user_install.html\n"
     ]
    }
   ],
   "source": [
    "# -*- coding: utf-8 -*-\n",
    "\"\"\"\n",
    "Training script for CGLUE-SOE-OT model using real (preprocessed)\n",
    "scRNA-seq and scATAC-seq data with ordered age labels.\n",
    "\n",
    "This script assumes the modified CGLUE-SOE-OT model files\n",
    "(e.g., cglue_soe_ot.py, cglue_soe_components_ot.py) are\n",
    "accessible within the scglue package structure or Python path.\n",
    "\"\"\"\n",
    "\n",
    "import sys\n",
    "import os\n",
    "import numpy as np\n",
    "import pandas as pd\n",
    "import anndata as ad\n",
    "import scanpy as sc\n",
    "# import networkx as nx # No longer needed for training script itself\n",
    "import torch\n",
    "\n",
    "# --- Add project root to path if necessary ---\n",
    "# Adjust this path if your script is located elsewhere relative to the scglue package\n",
    "# project_root = os.path.abspath(os.path.join(os.path.dirname(__file__), '..'))\n",
    "# if project_root not in sys.path:\n",
    "#     sys.path.insert(0, project_root)\n",
    "\n",
    "try:\n",
    "    # Import the modified model and config function\n",
    "    import scglue\n",
    "    from scglue.models.cglue_soe_ot import CGLUESOE_OT_Model, configure_dataset_cglue_soe\n",
    "    # AnnDatasetWithLabels is still needed, GraphDataset is not\n",
    "    from scglue.models.data import AnnDatasetWithLabels\n",
    "    # from scglue.utils import config as scglue_config # Optional config import\n",
    "except ImportError as e:\n",
    "    print(f\"Error importing modified scglue components: {e}\")\n",
    "    print(\"Please ensure the modified scglue package (with CGLUE-SOE-OT) is installed or accessible.\")\n",
    "    sys.exit(1)\n",
    "except AttributeError as e:\n",
    "    print(f\"Error importing specific components (check file/class names): {e}\")\n",
    "    print(\"Ensure 'CGLUESOE_OT_Model' and 'configure_dataset_cglue_soe' exist in 'scglue.models.cglue_soe_ot'.\")\n",
    "    sys.exit(1)\n",
    "\n",
    "\n",
    "# --- Configuration ---\n",
    "SEED = 0\n",
    "torch.manual_seed(SEED)\n",
    "np.random.seed(SEED)\n",
    "SAVE_DIR = \"cglue_soe_ot_adult_human_kidney_renal_alpha_intercalated_output\" # Changed save directory name\n",
    "os.makedirs(SAVE_DIR, exist_ok=True)"
   ]
  },
  {
   "cell_type": "code",
   "execution_count": 12,
   "id": "e891cb2b",
   "metadata": {
    "ExecuteTime": {
     "end_time": "2025-05-08T13:08:25.354036Z",
     "start_time": "2025-05-08T13:08:25.310991Z"
    }
   },
   "outputs": [
    {
     "name": "stdout",
     "output_type": "stream",
     "text": [
      "Loading real data...\n",
      "Preprocessing data...\n"
     ]
    },
    {
     "name": "stderr",
     "output_type": "stream",
     "text": [
      " ImplicitModificationWarning:/tmp/ipykernel_1138807/840349884.py:19: Trying to modify attribute `.obs` of view, initializing view as actual.\n"
     ]
    }
   ],
   "source": [
    "# --- 1. Load Your Real Data ---\n",
    "print(\"Loading real data...\")\n",
    "\n",
    "atac_adata= adata_ATAC\n",
    "rna_adata = adata_RNA\n",
    "adatas = {\"rna\": rna_adata, \"atac\": atac_adata}\n",
    "\n",
    "# --- 2. Preprocessing Steps ---\n",
    "print(\"Preprocessing data...\")\n",
    "\n",
    "# ** Crucial: Ensure 'age' column is ordered categorical **\n",
    "# Define the correct order\n",
    "age_order = ['50', '52', '54','61','62']\n",
    "label_col = 'age' # MODIFY AS NEEDED\n",
    "try:\n",
    "    for k in adatas:\n",
    "        if 'age' not in adatas[k].obs:\n",
    "            raise ValueError(f\"'age' column not found in adata '{k}'.\")\n",
    "        adatas[k].obs['age'] = pd.Categorical(\n",
    "            adatas[k].obs['age'], categories=age_order, ordered=True\n",
    "        )\n",
    "        # Check if any values became NaN after conversion (means original values didn't match categories)\n",
    "        if adatas[k].obs['age'].isnull().any():\n",
    "             print(f\"Warning: Some 'age' values in adata '{k}' did not match the expected categories {age_order} and resulted in NaNs.\")\n",
    "             # Optional: Handle NaNs, e.g., remove cells or raise error\n",
    "             # adatas[k] = adatas[k][adatas[k].obs['age'].notna()].copy()\n",
    "except Exception as e:\n",
    "    print(f\"Error processing 'age' column: {e}\")\n",
    "    sys.exit(1)\n"
   ]
  },
  {
   "cell_type": "code",
   "execution_count": 13,
   "id": "09574d30",
   "metadata": {
    "ExecuteTime": {
     "end_time": "2025-05-08T13:08:25.363607Z",
     "start_time": "2025-05-08T13:08:25.357340Z"
    }
   },
   "outputs": [],
   "source": [
    "atac_adata.var['highly_variable'] = True"
   ]
  },
  {
   "cell_type": "code",
   "execution_count": 14,
   "id": "68ac913d",
   "metadata": {
    "ExecuteTime": {
     "end_time": "2025-05-08T13:08:25.399836Z",
     "start_time": "2025-05-08T13:08:25.367510Z"
    }
   },
   "outputs": [
    {
     "name": "stdout",
     "output_type": "stream",
     "text": [
      "Defining feature vertices...\n",
      "Total unique features (vertices): 17712\n"
     ]
    }
   ],
   "source": [
    "\n",
    "# --- 3. Define Vertices (No Graph Construction Needed) ---\n",
    "# The model still needs the list of all unique features across datasets\n",
    "# for the feature embedding layer.\n",
    "print(\"Defining feature vertices...\")\n",
    "vertices = pd.Index(rna_adata.var_names.tolist() + atac_adata.var_names.tolist()).unique()\n",
    "print(f\"Total unique features (vertices): {len(vertices)}\")\n"
   ]
  },
  {
   "cell_type": "code",
   "execution_count": 15,
   "id": "4db0332d",
   "metadata": {
    "ExecuteTime": {
     "end_time": "2025-05-08T13:08:25.435856Z",
     "start_time": "2025-05-08T13:08:25.403124Z"
    }
   },
   "outputs": [
    {
     "name": "stdout",
     "output_type": "stream",
     "text": [
      "Configuring datasets for CGLUE-SOE-OT...\n",
      "[INFO] CGLUESOE_OT_Model: Dataset configured for CGLUE-SOE-OT using label 'age'.\n",
      "[INFO] CGLUESOE_OT_Model: Dataset configured for CGLUE-SOE-OT using label 'age'.\n",
      "Datasets configured.\n"
     ]
    }
   ],
   "source": [
    "\n",
    "# --- 4. Configure Datasets for CGLUE-SOE-OT ---\n",
    "print(\"Configuring datasets for CGLUE-SOE-OT...\")\n",
    "# ** Choose appropriate prob_model based on your preprocessing **\n",
    "# 'Normal' or 'ZILN' for log-normalized RNA.\n",
    "# 'Normal', 'ZILN', or 'Bernoulli' for ATAC depending on preprocessing.\n",
    "try:\n",
    "    configure_dataset_cglue_soe( # Use the same config function name\n",
    "        adatas[\"rna\"],\n",
    "        prob_model=\"Normal\", # Adjust if needed (e.g., \"NB\" if using raw counts)\n",
    "        use_highly_variable=True, # Use selected HVGs\n",
    "        use_label=label_col, # Use the ordered label column\n",
    "        use_layer=None, # Assuming preprocessed data is in .X\n",
    "        use_rep=None,   # Or specify a representation like 'X_pca' if desired\n",
    "        use_obs_names=False # Data is unpaired\n",
    "    )\n",
    "    configure_dataset_cglue_soe( # Use the same config function name\n",
    "        adatas[\"atac\"],\n",
    "        prob_model=\"Bernoulli\", # Adjust based on ATAC preprocessing\n",
    "        use_highly_variable=True, # Use selected HVGs\n",
    "        use_label=label_col, # Use the ordered label column\n",
    "        use_layer=None, # Assuming preprocessed data is in .X\n",
    "        use_rep=None,   # Or specify a representation like 'X_lsi' if desired\n",
    "        use_obs_names=False # Data is unpaired\n",
    "    )\n",
    "    print(\"Datasets configured.\")\n",
    "except Exception as e:\n",
    "    print(f\"Error configuring datasets: {e}\")\n",
    "    sys.exit(1)\n"
   ]
  },
  {
   "cell_type": "code",
   "execution_count": 16,
   "id": "23f1e761",
   "metadata": {
    "ExecuteTime": {
     "end_time": "2025-05-08T13:16:40.882022Z",
     "start_time": "2025-05-08T13:08:25.439028Z"
    }
   },
   "outputs": [
    {
     "name": "stdout",
     "output_type": "stream",
     "text": [
      "Initializing CGLUE-SOE-OT model...\n",
      "[INFO] autodevice: Using GPU 3 as computation device.\n",
      "Model initialized.\n",
      "Compiling model...\n",
      "Model compiled.\n",
      "Fitting model...\n"
     ]
    },
    {
     "name": "stderr",
     "output_type": "stream",
     "text": [
      " UserWarning:/home/sccancer/anaconda3/envs/CGLUE-SOE/lib/python3.9/site-packages/torch/optim/lr_scheduler.py:62: The verbose parameter is deprecated. Please use get_last_lr() to access the learning rate.\n",
      " FutureWarning:/home/sccancer/anaconda3/envs/CGLUE-SOE/lib/python3.9/abc.py:119: SparseDataset is deprecated and will be removed in late 2024. It has been replaced by the public classes CSRDataset and CSCDataset.\n",
      "\n",
      "For instance checks, use `isinstance(X, (anndata.experimental.CSRDataset, anndata.experimental.CSCDataset))` instead.\n",
      "\n",
      "For creation, use `anndata.experimental.sparse_dataset(X)` instead.\n",
      "\n"
     ]
    },
    {
     "name": "stdout",
     "output_type": "stream",
     "text": [
      "[INFO] CGLUESOE_OT_Trainer: [Epoch 10] Train={'x_rna_nll': '1126.4853', 'x_rna_kl': '19.8496', 'x_rna_elbo': '1127.4777', 'x_atac_nll': '14097.1682', 'x_atac_kl': '19.9045', 'x_atac_elbo': '14098.1635', 'triplet_loss': '0.0435', 'ot_loss': '50.9759', 'total_loss': '7889.4627'}, Val={'x_rna_nll': '1117.3446', 'x_rna_kl': '10.7171', 'x_rna_elbo': '1117.8804', 'x_atac_nll': '13801.8008', 'x_atac_kl': '9.9981', 'x_atac_elbo': '13802.3008', 'triplet_loss': '1.8542', 'ot_loss': '15.5868', 'total_loss': '8465.1177'}\n",
      "[INFO] CGLUESOE_OT_Trainer: [Epoch 20] Train={'x_rna_nll': '1057.0722', 'x_rna_kl': '16.8599', 'x_rna_elbo': '1057.9152', 'x_atac_nll': '12285.4928', 'x_atac_kl': '22.7414', 'x_atac_elbo': '12286.6299', 'triplet_loss': '0.0388', 'ot_loss': '43.0661', 'total_loss': '6907.0094'}, Val={'x_rna_nll': '1044.4372', 'x_rna_kl': '12.4781', 'x_rna_elbo': '1045.0611', 'x_atac_nll': '12066.6567', 'x_atac_kl': '15.6403', 'x_atac_elbo': '12067.4390', 'triplet_loss': '1.6916', 'ot_loss': '20.3310', 'total_loss': '7503.7095'}\n",
      "[INFO] CGLUESOE_OT_Trainer: [Epoch 30] Train={'x_rna_nll': '977.3160', 'x_rna_kl': '18.5662', 'x_rna_elbo': '978.2443', 'x_atac_nll': '11733.7381', 'x_atac_kl': '27.8025', 'x_atac_elbo': '11735.1281', 'triplet_loss': '0.0348', 'ot_loss': '39.2281', 'total_loss': '6570.2485'}, Val={'x_rna_nll': '966.9879', 'x_rna_kl': '15.3503', 'x_rna_elbo': '967.7554', 'x_atac_nll': '11629.3345', 'x_atac_kl': '20.0187', 'x_atac_elbo': '11630.3354', 'triplet_loss': '1.7017', 'ot_loss': '17.7200', 'total_loss': '7238.4722'}\n",
      "[INFO] CGLUESOE_OT_Trainer: [Epoch 40] Train={'x_rna_nll': '901.7078', 'x_rna_kl': '24.6027', 'x_rna_elbo': '902.9379', 'x_atac_nll': '11277.9123', 'x_atac_kl': '34.0311', 'x_atac_elbo': '11279.6139', 'triplet_loss': '0.0256', 'ot_loss': '35.4387', 'total_loss': '6281.2538'}, Val={'x_rna_nll': '891.8184', 'x_rna_kl': '21.6407', 'x_rna_elbo': '892.9004', 'x_atac_nll': '11241.4204', 'x_atac_kl': '26.4709', 'x_atac_elbo': '11242.7441', 'triplet_loss': '1.9853', 'ot_loss': '13.9092', 'total_loss': '7130.0371'}\n",
      "[INFO] CGLUESOE_OT_Trainer: [Epoch 50] Train={'x_rna_nll': '830.4639', 'x_rna_kl': '33.3544', 'x_rna_elbo': '832.1316', 'x_atac_nll': '10928.8215', 'x_atac_kl': '41.7242', 'x_atac_elbo': '10930.9076', 'triplet_loss': '0.0231', 'ot_loss': '33.2170', 'total_loss': '6059.1651'}, Val={'x_rna_nll': '817.6307', 'x_rna_kl': '30.7603', 'x_rna_elbo': '819.1687', 'x_atac_nll': '10873.6646', 'x_atac_kl': '34.1293', 'x_atac_elbo': '10875.3711', 'triplet_loss': '1.7172', 'ot_loss': '12.9612', 'total_loss': '6770.6853'}\n",
      "[INFO] CGLUESOE_OT_Trainer: [Epoch 60] Train={'x_rna_nll': '756.5114', 'x_rna_kl': '43.4948', 'x_rna_elbo': '758.6861', 'x_atac_nll': '10590.5273', 'x_atac_kl': '50.5784', 'x_atac_elbo': '10593.0562', 'triplet_loss': '0.0211', 'ot_loss': '31.9883', 'total_loss': '5846.3728'}, Val={'x_rna_nll': '744.7548', 'x_rna_kl': '39.8619', 'x_rna_elbo': '746.7479', 'x_atac_nll': '10563.5918', 'x_atac_kl': '44.3862', 'x_atac_elbo': '10565.8110', 'triplet_loss': '1.7949', 'ot_loss': '11.6253', 'total_loss': '6611.8545'}\n",
      "[INFO] CGLUESOE_OT_Trainer: [Epoch 70] Train={'x_rna_nll': '683.2893', 'x_rna_kl': '53.1363', 'x_rna_elbo': '685.9461', 'x_atac_nll': '10257.6918', 'x_atac_kl': '61.9969', 'x_atac_elbo': '10260.7916', 'triplet_loss': '0.0235', 'ot_loss': '30.4525', 'total_loss': '5637.4054'}, Val={'x_rna_nll': '671.6674', 'x_rna_kl': '50.2634', 'x_rna_elbo': '674.1806', 'x_atac_nll': '10295.5327', 'x_atac_kl': '55.1898', 'x_atac_elbo': '10298.2925', 'triplet_loss': '1.8449', 'ot_loss': '11.1867', 'total_loss': '6464.6123'}\n",
      "[INFO] CGLUESOE_OT_Trainer: [Epoch 80] Train={'x_rna_nll': '611.3500', 'x_rna_kl': '63.9447', 'x_rna_elbo': '614.5472', 'x_atac_nll': '9969.6768', 'x_atac_kl': '73.0957', 'x_atac_elbo': '9973.3314', 'triplet_loss': '0.0331', 'ot_loss': '30.3080', 'total_loss': '5462.0078'}, Val={'x_rna_nll': '599.3006', 'x_rna_kl': '60.6719', 'x_rna_elbo': '602.3342', 'x_atac_nll': '10039.7319', 'x_atac_kl': '67.0362', 'x_atac_elbo': '10043.0840', 'triplet_loss': '1.9575', 'ot_loss': '10.2934', 'total_loss': '6352.9434'}\n",
      "[INFO] CGLUESOE_OT_Trainer: [Epoch 90] Train={'x_rna_nll': '541.0812', 'x_rna_kl': '74.4698', 'x_rna_elbo': '544.8047', 'x_atac_nll': '9694.1396', 'x_atac_kl': '85.1825', 'x_atac_elbo': '9698.3988', 'triplet_loss': '0.0201', 'ot_loss': '30.7613', 'total_loss': '5285.4498'}, Val={'x_rna_nll': '526.8831', 'x_rna_kl': '70.4557', 'x_rna_elbo': '530.4059', 'x_atac_nll': '9832.1821', 'x_atac_kl': '78.2643', 'x_atac_elbo': '9836.0952', 'triplet_loss': '2.1321', 'ot_loss': '9.0345', 'total_loss': '6294.4817'}\n",
      "[INFO] CGLUESOE_OT_Trainer: [Epoch 100] Train={'x_rna_nll': '467.6838', 'x_rna_kl': '83.9123', 'x_rna_elbo': '471.8794', 'x_atac_nll': '9415.8035', 'x_atac_kl': '98.7442', 'x_atac_elbo': '9420.7406', 'triplet_loss': '0.0263', 'ot_loss': '31.4932', 'total_loss': '5116.9054'}, Val={'x_rna_nll': '455.4492', 'x_rna_kl': '81.1294', 'x_rna_elbo': '459.5056', 'x_atac_nll': '9674.0757', 'x_atac_kl': '88.3010', 'x_atac_elbo': '9678.4907', 'triplet_loss': '2.1293', 'ot_loss': '9.4779', 'total_loss': '6181.0164'}\n",
      "[INFO] CGLUESOE_OT_Trainer: [Epoch 110] Train={'x_rna_nll': '396.8717', 'x_rna_kl': '92.2233', 'x_rna_elbo': '401.4829', 'x_atac_nll': '9165.0717', 'x_atac_kl': '110.8457', 'x_atac_elbo': '9170.6141', 'triplet_loss': '0.0173', 'ot_loss': '33.2083', 'total_loss': '4960.7408'}, Val={'x_rna_nll': '382.3307', 'x_rna_kl': '90.1208', 'x_rna_elbo': '386.8367', 'x_atac_nll': '9486.3066', 'x_atac_kl': '101.2593', 'x_atac_elbo': '9491.3696', 'triplet_loss': '2.0204', 'ot_loss': '9.9578', 'total_loss': '5999.0674'}\n",
      "[INFO] CGLUESOE_OT_Trainer: [Epoch 120] Train={'x_rna_nll': '326.4404', 'x_rna_kl': '102.5188', 'x_rna_elbo': '331.5663', 'x_atac_nll': '8910.6658', 'x_atac_kl': '122.8720', 'x_atac_elbo': '8916.8094', 'triplet_loss': '0.0177', 'ot_loss': '33.5529', 'total_loss': '4800.8211'}, Val={'x_rna_nll': '310.3214', 'x_rna_kl': '97.9731', 'x_rna_elbo': '315.2200', 'x_atac_nll': '9332.1143', 'x_atac_kl': '113.0346', 'x_atac_elbo': '9337.7661', 'triplet_loss': '2.0424', 'ot_loss': '9.6446', 'total_loss': '5895.9268'}\n",
      "[INFO] CGLUESOE_OT_Trainer: [Epoch 130] Train={'x_rna_nll': '254.9105', 'x_rna_kl': '109.5699', 'x_rna_elbo': '260.3890', 'x_atac_nll': '8679.3762', 'x_atac_kl': '134.0848', 'x_atac_elbo': '8686.0805', 'triplet_loss': '0.0166', 'ot_loss': '35.3118', 'total_loss': '4658.0871'}, Val={'x_rna_nll': '238.8950', 'x_rna_kl': '104.8626', 'x_rna_elbo': '244.1382', 'x_atac_nll': '9208.4692', 'x_atac_kl': '122.1507', 'x_atac_elbo': '9214.5767', 'triplet_loss': '2.0550', 'ot_loss': '9.6406', 'total_loss': '5805.0508'}\n",
      "[INFO] CGLUESOE_OT_Trainer: [Epoch 140] Train={'x_rna_nll': '182.5444', 'x_rna_kl': '116.5411', 'x_rna_elbo': '188.3714', 'x_atac_nll': '8455.3873', 'x_atac_kl': '144.1454', 'x_atac_elbo': '8462.5945', 'triplet_loss': '0.0278', 'ot_loss': '33.7091', 'total_loss': '4507.9350'}, Val={'x_rna_nll': '167.2570', 'x_rna_kl': '112.1966', 'x_rna_elbo': '172.8668', 'x_atac_nll': '9100.8594', 'x_atac_kl': '132.2026', 'x_atac_elbo': '9107.4697', 'triplet_loss': '1.9736', 'ot_loss': '9.8293', 'total_loss': '5676.0935'}\n",
      "[INFO] CGLUESOE_OT_Trainer: [Epoch 150] Train={'x_rna_nll': '110.4209', 'x_rna_kl': '122.1603', 'x_rna_elbo': '116.5290', 'x_atac_nll': '8331.1762', 'x_atac_kl': '152.9353', 'x_atac_elbo': '8338.8229', 'triplet_loss': '0.0081', 'ot_loss': '35.6341', 'total_loss': '4409.9157'}, Val={'x_rna_nll': '96.3047', 'x_rna_kl': '116.3258', 'x_rna_elbo': '102.1210', 'x_atac_nll': '9023.5400', 'x_atac_kl': '139.5037', 'x_atac_elbo': '9030.5151', 'triplet_loss': '1.8582', 'ot_loss': '9.9049', 'total_loss': '5544.9402'}\n",
      "[INFO] CGLUESOE_OT_Trainer: [Epoch 160] Train={'x_rna_nll': '39.3512', 'x_rna_kl': '126.9253', 'x_rna_elbo': '45.6975', 'x_atac_nll': '8184.4983', 'x_atac_kl': '159.1795', 'x_atac_elbo': '8192.4573', 'triplet_loss': '0.0188', 'ot_loss': '32.6481', 'total_loss': '4291.7054'}, Val={'x_rna_nll': '25.8504', 'x_rna_kl': '121.0263', 'x_rna_elbo': '31.9017', 'x_atac_nll': '8905.3569', 'x_atac_kl': '145.9501', 'x_atac_elbo': '8912.6548', 'triplet_loss': '2.0800', 'ot_loss': '9.1603', 'total_loss': '5558.0806'}\n",
      "[INFO] CGLUESOE_OT_Trainer: [Epoch 170] Train={'x_rna_nll': '-32.7896', 'x_rna_kl': '128.2666', 'x_rna_elbo': '-26.3763', 'x_atac_nll': '8014.4838', 'x_atac_kl': '165.8596', 'x_atac_elbo': '8022.7768', 'triplet_loss': '0.0265', 'ot_loss': '31.1687', 'total_loss': '4167.2832'}, Val={'x_rna_nll': '-44.5709', 'x_rna_kl': '124.7704', 'x_rna_elbo': '-38.3323', 'x_atac_nll': '8852.7817', 'x_atac_kl': '152.0833', 'x_atac_elbo': '8860.3862', 'triplet_loss': '1.9523', 'ot_loss': '9.3652', 'total_loss': '5433.9937'}\n"
     ]
    },
    {
     "name": "stdout",
     "output_type": "stream",
     "text": [
      "[INFO] CGLUESOE_OT_Trainer: [Epoch 180] Train={'x_rna_nll': '-100.6524', 'x_rna_kl': '132.3646', 'x_rna_elbo': '-94.0342', 'x_atac_nll': '7940.5983', 'x_atac_kl': '171.3227', 'x_atac_elbo': '7949.1645', 'triplet_loss': '0.0229', 'ot_loss': '30.7774', 'total_loss': '4092.9147'}, Val={'x_rna_nll': '-114.2574', 'x_rna_kl': '127.2886', 'x_rna_elbo': '-107.8930', 'x_atac_nll': '8782.0293', 'x_atac_kl': '158.5486', 'x_atac_elbo': '8789.9570', 'triplet_loss': '2.1633', 'ot_loss': '8.8293', 'total_loss': '5466.8054'}\n",
      "[INFO] CGLUESOE_OT_Trainer: [Epoch 190] Train={'x_rna_nll': '-168.1045', 'x_rna_kl': '135.8002', 'x_rna_elbo': '-161.3145', 'x_atac_nll': '7875.1059', 'x_atac_kl': '176.6118', 'x_atac_elbo': '7883.9363', 'triplet_loss': '0.0086', 'ot_loss': '30.9161', 'total_loss': '4020.1999'}, Val={'x_rna_nll': '-183.3658', 'x_rna_kl': '130.4768', 'x_rna_elbo': '-176.8419', 'x_atac_nll': '8730.7529', 'x_atac_kl': '158.8854', 'x_atac_elbo': '8738.6973', 'triplet_loss': '2.1053', 'ot_loss': '8.4565', 'total_loss': '5375.8630'}\n",
      "[INFO] CGLUESOE_OT_Trainer: [Epoch 200] Train={'x_rna_nll': '-235.9973', 'x_rna_kl': '137.3554', 'x_rna_elbo': '-229.1295', 'x_atac_nll': '7776.9297', 'x_atac_kl': '180.6940', 'x_atac_elbo': '7785.9644', 'triplet_loss': '0.0215', 'ot_loss': '29.9254', 'total_loss': '3938.7859'}, Val={'x_rna_nll': '-251.6443', 'x_rna_kl': '132.4965', 'x_rna_elbo': '-245.0195', 'x_atac_nll': '8694.2578', 'x_atac_kl': '167.6073', 'x_atac_elbo': '8702.6382', 'triplet_loss': '2.1063', 'ot_loss': '8.4820', 'total_loss': '5324.3462'}\n",
      "[INFO] CGLUESOE_OT_Trainer: [Epoch 210] Train={'x_rna_nll': '-301.1556', 'x_rna_kl': '140.2713', 'x_rna_elbo': '-294.1420', 'x_atac_nll': '7677.2261', 'x_atac_kl': '183.4392', 'x_atac_elbo': '7686.3980', 'triplet_loss': '0.0151', 'ot_loss': '29.3994', 'total_loss': '3850.6808'}, Val={'x_rna_nll': '-318.5408', 'x_rna_kl': '134.5032', 'x_rna_elbo': '-311.8156', 'x_atac_nll': '8651.4111', 'x_atac_kl': '169.4265', 'x_atac_elbo': '8659.8823', 'triplet_loss': '1.9792', 'ot_loss': '7.9241', 'total_loss': '5203.2334'}\n",
      "[INFO] CGLUESOE_OT_Trainer: [Epoch 220] Train={'x_rna_nll': '-369.9268', 'x_rna_kl': '142.1587', 'x_rna_elbo': '-362.8189', 'x_atac_nll': '7635.9571', 'x_atac_kl': '187.3275', 'x_atac_elbo': '7645.3235', 'triplet_loss': '0.0154', 'ot_loss': '28.4403', 'total_loss': '3791.1718'}, Val={'x_rna_nll': '-384.8045', 'x_rna_kl': '136.9130', 'x_rna_elbo': '-377.9588', 'x_atac_nll': '8623.7759', 'x_atac_kl': '173.1350', 'x_atac_elbo': '8632.4326', 'triplet_loss': '1.9781', 'ot_loss': '8.2191', 'total_loss': '5157.3926'}\n",
      "[INFO] CGLUESOE_OT_Trainer: [Epoch 230] Train={'x_rna_nll': '-430.1888', 'x_rna_kl': '144.2528', 'x_rna_elbo': '-422.9761', 'x_atac_nll': '7574.3146', 'x_atac_kl': '191.3478', 'x_atac_elbo': '7583.8820', 'triplet_loss': '0.0129', 'ot_loss': '28.6886', 'total_loss': '3730.3256'}, Val={'x_rna_nll': '-450.0876', 'x_rna_kl': '138.8068', 'x_rna_elbo': '-443.1472', 'x_atac_nll': '8566.6538', 'x_atac_kl': '175.2256', 'x_atac_elbo': '8575.4150', 'triplet_loss': '1.9366', 'ot_loss': '8.0493', 'total_loss': '5074.6702'}\n",
      "[INFO] CGLUESOE_OT_Trainer: [Epoch 240] Train={'x_rna_nll': '-495.8656', 'x_rna_kl': '145.9369', 'x_rna_elbo': '-488.5688', 'x_atac_nll': '7535.5804', 'x_atac_kl': '192.3448', 'x_atac_elbo': '7545.1977', 'triplet_loss': '0.0224', 'ot_loss': '28.7139', 'total_loss': '3683.0905'}, Val={'x_rna_nll': '-514.7823', 'x_rna_kl': '141.5265', 'x_rna_elbo': '-507.7060', 'x_atac_nll': '8635.4297', 'x_atac_kl': '175.9377', 'x_atac_elbo': '8644.2266', 'triplet_loss': '1.8443', 'ot_loss': '8.8680', 'total_loss': '5034.7720'}\n",
      "[INFO] CGLUESOE_OT_Trainer: [Epoch 250] Train={'x_rna_nll': '-559.1172', 'x_rna_kl': '148.7864', 'x_rna_elbo': '-551.6779', 'x_atac_nll': '7475.9598', 'x_atac_kl': '192.6041', 'x_atac_elbo': '7485.5899', 'triplet_loss': '0.0122', 'ot_loss': '27.8104', 'total_loss': '3612.1056'}, Val={'x_rna_nll': '-577.8523', 'x_rna_kl': '144.1309', 'x_rna_elbo': '-570.6457', 'x_atac_nll': '8525.7095', 'x_atac_kl': '174.9178', 'x_atac_elbo': '8534.4556', 'triplet_loss': '1.8977', 'ot_loss': '8.9707', 'total_loss': '4975.5981'}\n",
      "[INFO] CGLUESOE_OT_Trainer: [Epoch 260] Train={'x_rna_nll': '-618.6662', 'x_rna_kl': '149.9247', 'x_rna_elbo': '-611.1699', 'x_atac_nll': '7423.7797', 'x_atac_kl': '195.1333', 'x_atac_elbo': '7433.5363', 'triplet_loss': '0.0232', 'ot_loss': '25.8919', 'total_loss': '3552.2227'}, Val={'x_rna_nll': '-638.4599', 'x_rna_kl': '145.7687', 'x_rna_elbo': '-631.1715', 'x_atac_nll': '8539.2065', 'x_atac_kl': '179.6716', 'x_atac_elbo': '8548.1899', 'triplet_loss': '1.9663', 'ot_loss': '6.9730', 'total_loss': '4976.5344'}\n",
      "[INFO] CGLUESOE_OT_Trainer: [Epoch 270] Train={'x_rna_nll': '-678.3351', 'x_rna_kl': '154.1350', 'x_rna_elbo': '-670.6284', 'x_atac_nll': '7397.7898', 'x_atac_kl': '198.1913', 'x_atac_elbo': '7407.6994', 'triplet_loss': '0.0181', 'ot_loss': '25.5008', 'total_loss': '3505.1104'}, Val={'x_rna_nll': '-699.3802', 'x_rna_kl': '148.3424', 'x_rna_elbo': '-691.9631', 'x_atac_nll': '8546.5483', 'x_atac_kl': '182.8962', 'x_atac_elbo': '8555.6934', 'triplet_loss': '1.8784', 'ot_loss': '7.5864', 'total_loss': '4908.9734'}\n",
      "[INFO] CGLUESOE_OT_Trainer: [Epoch 280] Train={'x_rna_nll': '-736.3680', 'x_rna_kl': '155.4370', 'x_rna_elbo': '-728.5961', 'x_atac_nll': '7359.4653', 'x_atac_kl': '200.1464', 'x_atac_elbo': '7369.4727', 'triplet_loss': '0.0209', 'ot_loss': '24.2706', 'total_loss': '3452.2496'}, Val={'x_rna_nll': '-757.6686', 'x_rna_kl': '150.8333', 'x_rna_elbo': '-750.1270', 'x_atac_nll': '8541.5498', 'x_atac_kl': '185.7186', 'x_atac_elbo': '8550.8359', 'triplet_loss': '1.7193', 'ot_loss': '7.7333', 'total_loss': '4798.6543'}\n",
      "[INFO] CGLUESOE_OT_Trainer: [Epoch 290] Train={'x_rna_nll': '-799.3441', 'x_rna_kl': '160.7107', 'x_rna_elbo': '-791.3086', 'x_atac_nll': '7352.5813', 'x_atac_kl': '202.0114', 'x_atac_elbo': '7362.6818', 'triplet_loss': '0.0157', 'ot_loss': '22.4280', 'total_loss': '3405.6756'}, Val={'x_rna_nll': '-816.0463', 'x_rna_kl': '153.9621', 'x_rna_elbo': '-808.3482', 'x_atac_nll': '8482.8579', 'x_atac_kl': '186.0756', 'x_atac_elbo': '8492.1616', 'triplet_loss': '1.9215', 'ot_loss': '7.6099', 'total_loss': '4840.7109'}\n",
      "[INFO] CGLUESOE_OT_Trainer: [Epoch 300] Train={'x_rna_nll': '-847.0165', 'x_rna_kl': '161.5242', 'x_rna_elbo': '-838.9403', 'x_atac_nll': '7349.9060', 'x_atac_kl': '204.7810', 'x_atac_elbo': '7360.1449', 'triplet_loss': '0.0221', 'ot_loss': '22.2815', 'total_loss': '3383.0454'}, Val={'x_rna_nll': '-871.8726', 'x_rna_kl': '155.1584', 'x_rna_elbo': '-864.1147', 'x_atac_nll': '8505.7871', 'x_atac_kl': '191.0522', 'x_atac_elbo': '8515.3394', 'triplet_loss': '1.7121', 'ot_loss': '7.1394', 'total_loss': '4717.3625'}\n",
      "[INFO] CGLUESOE_OT_Trainer: [Epoch 310] Train={'x_rna_nll': '-904.5010', 'x_rna_kl': '164.7499', 'x_rna_elbo': '-896.2635', 'x_atac_nll': '7314.2335', 'x_atac_kl': '206.4243', 'x_atac_elbo': '7324.5547', 'triplet_loss': '0.0177', 'ot_loss': '22.0418', 'total_loss': '3333.2128'}, Val={'x_rna_nll': '-924.2490', 'x_rna_kl': '157.0723', 'x_rna_elbo': '-916.3954', 'x_atac_nll': '8505.9585', 'x_atac_kl': '192.4877', 'x_atac_elbo': '8515.5830', 'triplet_loss': '1.4829', 'ot_loss': '8.0732', 'total_loss': '4581.4343'}\n",
      "[INFO] CGLUESOE_OT_Trainer: [Epoch 320] Train={'x_rna_nll': '-952.2950', 'x_rna_kl': '166.8827', 'x_rna_elbo': '-943.9508', 'x_atac_nll': '7303.7485', 'x_atac_kl': '206.7516', 'x_atac_elbo': '7314.0860', 'triplet_loss': '0.0181', 'ot_loss': '19.4798', 'total_loss': '3291.5400'}, Val={'x_rna_nll': '-978.6677', 'x_rna_kl': '160.3159', 'x_rna_elbo': '-970.6519', 'x_atac_nll': '8480.6450', 'x_atac_kl': '194.2661', 'x_atac_elbo': '8490.3584', 'triplet_loss': '1.5831', 'ot_loss': '7.9589', 'total_loss': '4591.2041'}\n",
      "[INFO] CGLUESOE_OT_Trainer: [Epoch 330] Train={'x_rna_nll': '-1009.7210', 'x_rna_kl': '167.7797', 'x_rna_elbo': '-1001.3320', 'x_atac_nll': '7288.9591', 'x_atac_kl': '208.9099', 'x_atac_elbo': '7299.4046', 'triplet_loss': '0.0122', 'ot_loss': '18.1735', 'total_loss': '3246.0000'}, Val={'x_rna_nll': '-1029.0951', 'x_rna_kl': '161.9468', 'x_rna_elbo': '-1020.9977', 'x_atac_nll': '8514.1274', 'x_atac_kl': '194.0223', 'x_atac_elbo': '8523.8286', 'triplet_loss': '1.6127', 'ot_loss': '11.0476', 'total_loss': '4613.0073'}\n"
     ]
    },
    {
     "name": "stdout",
     "output_type": "stream",
     "text": [
      "[INFO] CGLUESOE_OT_Trainer: [Epoch 340] Train={'x_rna_nll': '-1050.9519', 'x_rna_kl': '170.4029', 'x_rna_elbo': '-1042.4318', 'x_atac_nll': '7294.6477', 'x_atac_kl': '209.9863', 'x_atac_elbo': '7305.1470', 'triplet_loss': '0.0180', 'ot_loss': '18.7553', 'total_loss': '3234.1143'}, Val={'x_rna_nll': '-1079.1389', 'x_rna_kl': '164.0115', 'x_rna_elbo': '-1070.9384', 'x_atac_nll': '8497.4526', 'x_atac_kl': '196.9851', 'x_atac_elbo': '8507.3018', 'triplet_loss': '1.4974', 'ot_loss': '8.7946', 'total_loss': '4510.8618'}\n",
      "[INFO] CGLUESOE_OT_Trainer: [Epoch 350] Train={'x_rna_nll': '-1101.1122', 'x_rna_kl': '170.5562', 'x_rna_elbo': '-1092.5844', 'x_atac_nll': '7310.8049', 'x_atac_kl': '211.4778', 'x_atac_elbo': '7321.3789', 'triplet_loss': '0.0251', 'ot_loss': '17.5833', 'total_loss': '3214.8647'}, Val={'x_rna_nll': '-1126.3674', 'x_rna_kl': '164.8452', 'x_rna_elbo': '-1118.1251', 'x_atac_nll': '8506.8315', 'x_atac_kl': '196.3761', 'x_atac_elbo': '8516.6504', 'triplet_loss': '1.2401', 'ot_loss': '8.6168', 'total_loss': '4362.4126'}\n",
      "[INFO] CGLUESOE_OT_Trainer: [Epoch 360] Train={'x_rna_nll': '-1150.4794', 'x_rna_kl': '173.4130', 'x_rna_elbo': '-1141.8088', 'x_atac_nll': '7292.9139', 'x_atac_kl': '211.4671', 'x_atac_elbo': '7303.4873', 'triplet_loss': '0.0078', 'ot_loss': '16.8785', 'total_loss': '3169.1275'}, Val={'x_rna_nll': '-1171.5327', 'x_rna_kl': '167.2865', 'x_rna_elbo': '-1163.1684', 'x_atac_nll': '8526.7271', 'x_atac_kl': '199.3271', 'x_atac_elbo': '8536.6934', 'triplet_loss': '1.4991', 'ot_loss': '9.8466', 'total_loss': '4485.5593'}\n",
      "[INFO] CGLUESOE_OT_Trainer: [Epoch 370] Train={'x_rna_nll': '-1181.6449', 'x_rna_kl': '176.3738', 'x_rna_elbo': '-1172.8262', 'x_atac_nll': '7282.8948', 'x_atac_kl': '212.8028', 'x_atac_elbo': '7293.5351', 'triplet_loss': '0.0083', 'ot_loss': '15.6243', 'total_loss': '3142.6479'}, Val={'x_rna_nll': '-1215.1988', 'x_rna_kl': '168.6503', 'x_rna_elbo': '-1206.7663', 'x_atac_nll': '8542.0117', 'x_atac_kl': '195.9883', 'x_atac_elbo': '8551.8110', 'triplet_loss': '1.2107', 'ot_loss': '8.6064', 'total_loss': '4320.9272'}\n",
      "[INFO] CGLUESOE_OT_Trainer: [Epoch 380] Train={'x_rna_nll': '-1232.9266', 'x_rna_kl': '177.0048', 'x_rna_elbo': '-1224.0763', 'x_atac_nll': '7234.0980', 'x_atac_kl': '213.0195', 'x_atac_elbo': '7244.7489', 'triplet_loss': '0.0060', 'ot_loss': '14.3994', 'total_loss': '3085.3404'}, Val={'x_rna_nll': '-1257.5474', 'x_rna_kl': '170.4023', 'x_rna_elbo': '-1249.0272', 'x_atac_nll': '8487.9834', 'x_atac_kl': '200.6455', 'x_atac_elbo': '8498.0156', 'triplet_loss': '1.4110', 'ot_loss': '10.0492', 'total_loss': '4380.2397'}\n",
      "[INFO] CGLUESOE_OT_Trainer: [Epoch 390] Train={'x_rna_nll': '-1270.0209', 'x_rna_kl': '178.7613', 'x_rna_elbo': '-1261.0828', 'x_atac_nll': '7279.9332', 'x_atac_kl': '215.0338', 'x_atac_elbo': '7290.6848', 'triplet_loss': '0.0178', 'ot_loss': '14.8257', 'total_loss': '3097.8113'}, Val={'x_rna_nll': '-1296.0798', 'x_rna_kl': '174.2042', 'x_rna_elbo': '-1287.3696', 'x_atac_nll': '8506.1318', 'x_atac_kl': '202.0095', 'x_atac_elbo': '8516.2324', 'triplet_loss': '1.3074', 'ot_loss': '15.1526', 'total_loss': '4343.8835'}\n",
      "[INFO] CGLUESOE_OT_Trainer: [Epoch 400] Train={'x_rna_nll': '-1309.8003', 'x_rna_kl': '179.0326', 'x_rna_elbo': '-1300.8487', 'x_atac_nll': '7254.7109', 'x_atac_kl': '218.6883', 'x_atac_elbo': '7265.6452', 'triplet_loss': '0.0253', 'ot_loss': '13.3348', 'total_loss': '3061.7360'}, Val={'x_rna_nll': '-1333.8616', 'x_rna_kl': '174.3118', 'x_rna_elbo': '-1325.1460', 'x_atac_nll': '8544.1934', 'x_atac_kl': '204.2372', 'x_atac_elbo': '8554.4053', 'triplet_loss': '1.5839', 'ot_loss': '9.8253', 'total_loss': '4455.6892'}\n",
      "[INFO] CGLUESOE_OT_Trainer: [Epoch 410] Train={'x_rna_nll': '-1347.7833', 'x_rna_kl': '184.3172', 'x_rna_elbo': '-1338.5675', 'x_atac_nll': '7246.3624', 'x_atac_kl': '220.8027', 'x_atac_elbo': '7257.4025', 'triplet_loss': '0.0056', 'ot_loss': '15.6287', 'total_loss': '3040.3805'}, Val={'x_rna_nll': '-1369.6016', 'x_rna_kl': '176.0366', 'x_rna_elbo': '-1360.7998', 'x_atac_nll': '8626.6729', 'x_atac_kl': '209.6946', 'x_atac_elbo': '8637.1577', 'triplet_loss': '1.1942', 'ot_loss': '10.1773', 'total_loss': '4286.1488'}\n",
      "[INFO] CGLUESOE_OT_Trainer: [Epoch 420] Train={'x_rna_nll': '-1374.8221', 'x_rna_kl': '182.2516', 'x_rna_elbo': '-1365.7095', 'x_atac_nll': '7266.7851', 'x_atac_kl': '221.7197', 'x_atac_elbo': '7277.8711', 'triplet_loss': '0.0119', 'ot_loss': '13.4160', 'total_loss': '3029.0872'}, Val={'x_rna_nll': '-1405.0004', 'x_rna_kl': '176.8946', 'x_rna_elbo': '-1396.1556', 'x_atac_nll': '8507.3657', 'x_atac_kl': '205.5823', 'x_atac_elbo': '8517.6445', 'triplet_loss': '1.5303', 'ot_loss': '9.4202', 'total_loss': '4372.9711'}\n",
      "[INFO] CGLUESOE_OT_Trainer: [Epoch 430] Train={'x_rna_nll': '-1409.4500', 'x_rna_kl': '186.1394', 'x_rna_elbo': '-1400.1430', 'x_atac_nll': '7239.6780', 'x_atac_kl': '220.4467', 'x_atac_elbo': '7250.7004', 'triplet_loss': '0.0016', 'ot_loss': '12.8624', 'total_loss': '2990.4143'}, Val={'x_rna_nll': '-1436.1893', 'x_rna_kl': '178.0605', 'x_rna_elbo': '-1427.2862', 'x_atac_nll': '8581.7896', 'x_atac_kl': '208.0437', 'x_atac_elbo': '8592.1914', 'triplet_loss': '1.3980', 'ot_loss': '10.1168', 'total_loss': '4332.0258'}\n",
      "[INFO] CGLUESOE_OT_Trainer: [Epoch 440] Train={'x_rna_nll': '-1460.8136', 'x_rna_kl': '186.9177', 'x_rna_elbo': '-1451.4677', 'x_atac_nll': '7219.6775', 'x_atac_kl': '222.9915', 'x_atac_elbo': '7230.8271', 'triplet_loss': '0.0156', 'ot_loss': '11.9748', 'total_loss': '2957.3739'}, Val={'x_rna_nll': '-1465.7214', 'x_rna_kl': '180.0067', 'x_rna_elbo': '-1456.7211', 'x_atac_nll': '8524.0063', 'x_atac_kl': '209.0185', 'x_atac_elbo': '8534.4575', 'triplet_loss': '1.2149', 'ot_loss': '12.9124', 'total_loss': '4210.8605'}\n",
      "[INFO] CGLUESOE_OT_Trainer: [Epoch 450] Train={'x_rna_nll': '-1470.2403', 'x_rna_kl': '188.2168', 'x_rna_elbo': '-1460.8294', 'x_atac_nll': '7246.5240', 'x_atac_kl': '224.3529', 'x_atac_elbo': '7257.7417', 'triplet_loss': '0.0541', 'ot_loss': '10.6346', 'total_loss': '2978.6789'}, Val={'x_rna_nll': '-1493.4674', 'x_rna_kl': '181.8573', 'x_rna_elbo': '-1484.3746', 'x_atac_nll': '8547.2500', 'x_atac_kl': '206.0012', 'x_atac_elbo': '8557.5498', 'triplet_loss': '1.3759', 'ot_loss': '11.6298', 'total_loss': '4282.6864'}\n",
      "[INFO] CGLUESOE_OT_Trainer: [Epoch 460] Train={'x_rna_nll': '-1476.4734', 'x_rna_kl': '190.6060', 'x_rna_elbo': '-1466.9431', 'x_atac_nll': '7232.2213', 'x_atac_kl': '224.0749', 'x_atac_elbo': '7243.4251', 'triplet_loss': '0.0116', 'ot_loss': '11.5231', 'total_loss': '2951.6613'}, Val={'x_rna_nll': '-1518.1625', 'x_rna_kl': '181.2838', 'x_rna_elbo': '-1509.0983', 'x_atac_nll': '8531.3623', 'x_atac_kl': '205.3806', 'x_atac_elbo': '8541.6313', 'triplet_loss': '1.3098', 'ot_loss': '11.1857', 'total_loss': '4227.1051'}\n",
      "[INFO] LRScheduler: Learning rate reduction: step 1\n",
      "[INFO] CGLUESOE_OT_Trainer: [Epoch 470] Train={'x_rna_nll': '-1512.6919', 'x_rna_kl': '190.4829', 'x_rna_elbo': '-1503.1677', 'x_atac_nll': '7205.7633', 'x_atac_kl': '224.2859', 'x_atac_elbo': '7216.9776', 'triplet_loss': '0.0037', 'ot_loss': '11.0646', 'total_loss': '2914.0731'}, Val={'x_rna_nll': '-1533.3643', 'x_rna_kl': '182.4012', 'x_rna_elbo': '-1524.2442', 'x_atac_nll': '8548.8057', 'x_atac_kl': '207.3630', 'x_atac_elbo': '8559.1738', 'triplet_loss': '1.2944', 'ot_loss': '9.8618', 'total_loss': '4213.9656'}\n",
      "[INFO] CGLUESOE_OT_Trainer: [Epoch 480] Train={'x_rna_nll': '-1522.4796', 'x_rna_kl': '191.2342', 'x_rna_elbo': '-1512.9178', 'x_atac_nll': '7213.0177', 'x_atac_kl': '223.5080', 'x_atac_elbo': '7224.1931', 'triplet_loss': '0.0097', 'ot_loss': '10.4243', 'total_loss': '2912.6022'}, Val={'x_rna_nll': '-1536.3721', 'x_rna_kl': '182.4559', 'x_rna_elbo': '-1527.2493', 'x_atac_nll': '8547.0820', 'x_atac_kl': '207.5724', 'x_atac_elbo': '8557.4604', 'triplet_loss': '1.2645', 'ot_loss': '9.8958', 'total_loss': '4196.8103'}\n",
      "[INFO] LRScheduler: Learning rate reduction: step 2\n",
      "[INFO] CGLUESOE_OT_Trainer: [Epoch 490] Train={'x_rna_nll': '-1516.2282', 'x_rna_kl': '190.2901', 'x_rna_elbo': '-1506.7137', 'x_atac_nll': '7185.7896', 'x_atac_kl': '223.8957', 'x_atac_elbo': '7196.9845', 'triplet_loss': '0.0046', 'ot_loss': '10.2565', 'total_loss': '2898.7426'}, Val={'x_rna_nll': '-1537.7454', 'x_rna_kl': '182.1528', 'x_rna_elbo': '-1528.6378', 'x_atac_nll': '8547.0786', 'x_atac_kl': '208.0149', 'x_atac_elbo': '8557.4795', 'triplet_loss': '1.2824', 'ot_loss': '9.7883', 'total_loss': '4204.5836'}\n"
     ]
    },
    {
     "name": "stdout",
     "output_type": "stream",
     "text": [
      "[INFO] CGLUESOE_OT_Trainer: [Epoch 500] Train={'x_rna_nll': '-1512.3905', 'x_rna_kl': '190.2935', 'x_rna_elbo': '-1502.8759', 'x_atac_nll': '7178.8120', 'x_atac_kl': '223.7767', 'x_atac_elbo': '7190.0008', 'triplet_loss': '0.0043', 'ot_loss': '9.9574', 'total_loss': '2895.5134'}, Val={'x_rna_nll': '-1537.9074', 'x_rna_kl': '182.3521', 'x_rna_elbo': '-1528.7898', 'x_atac_nll': '8545.1743', 'x_atac_kl': '208.2588', 'x_atac_elbo': '8555.5874', 'triplet_loss': '1.2653', 'ot_loss': '9.9801', 'total_loss': '4195.9703'}\n",
      "Model fitting finished.\n"
     ]
    }
   ],
   "source": [
    "\n",
    "\n",
    "# --- 5. Initialize CGLUE-SOE-OT Model ---\n",
    "print(\"Initializing CGLUE-SOE-OT model...\")\n",
    "try:\n",
    "    model = CGLUESOE_OT_Model(\n",
    "        adatas=adatas,\n",
    "        x2u_h_depth=2, \n",
    "        x2u_h_dim=256,                 \n",
    "        u2x_h_depth=2, \n",
    "        u2x_h_dim=256, \n",
    "        dropout=0.2,\n",
    "        vertices=vertices.tolist(), # Pass the combined feature list\n",
    "        latent_dim=50, # Example latent dimension, adjust as needed\n",
    "        random_seed=SEED\n",
    "    )\n",
    "    print(\"Model initialized.\")\n",
    "except Exception as e:\n",
    "    print(f\"Error initializing model: {e}\")\n",
    "    sys.exit(1)\n",
    "\n",
    "# --- 6. Compile Model ---\n",
    "print(\"Compiling model...\")\n",
    "Times = '3'\n",
    "lam_kl=0.05           # Weight for KL divergence regularization 调低有利于聚类更紧密\n",
    "lam_data=0.5         # Weight for data reconstruction loss 调高有利于聚类更紧密\n",
    "lam_triplet=500      # Weight for triplet loss (NEEDS TUNING)\n",
    "lam_ot=5.0           # Weight for Optimal Transport loss (NEEDS TUNING)\n",
    "triplet_margin=3   # Margin for triplet loss (NEEDS TUNING)有可能数据本身就是按照时间序列排序的\n",
    "ot_epsilon=0.1       # OT Sinkhorn regularization (NEEDS TUNING) 较小的值 (如当前的 0.1) 匹配更精确，但也可能对噪声更敏感\n",
    "ot_tau=1.0          # OT Sinkhorn unbalancedness (NEEDS TUNING)\n",
    "ot_max_iter=100\n",
    "\n",
    "max_epochs=500\n",
    "# ** Tune hyperparameters, especially loss weights **\n",
    "try:\n",
    "    model.compile(\n",
    "        lr=1e-3,              # Learning rate for the single optimizer\n",
    "        # lam_graph removed\n",
    "        # lam_align removed\n",
    "        # dsc_lr removed\n",
    "        # train_ratio removed\n",
    "        lam_kl=lam_kl,           # Weight for KL divergence regularization 调低有利于聚类更紧密\n",
    "        lam_data=lam_data,         # Weight for data reconstruction loss 调高有利于聚类更紧密\n",
    "        lam_triplet=lam_triplet,      # Weight for triplet loss (NEEDS TUNING)\n",
    "        lam_ot=lam_ot,           # Weight for Optimal Transport loss (NEEDS TUNING)\n",
    "        triplet_margin=triplet_margin,   # Margin for triplet loss (NEEDS TUNING)有可能数据本身就是按照时间序列排序的\n",
    "        ot_epsilon=ot_epsilon,       # OT Sinkhorn regularization (NEEDS TUNING) 较小的值 (如当前的 0.1) 匹配更精确，但也可能对噪声更敏感\n",
    "        ot_tau=ot_tau,           # OT Sinkhorn unbalancedness (NEEDS TUNING)\n",
    "        ot_max_iter=ot_max_iter,      # OT Sinkhorn iterations\n",
    "         #weight_decay=1e-5   # Example: Add optimizer args directly\n",
    "    )\n",
    "    print(\"Model compiled.\")\n",
    "except Exception as e:\n",
    "    print(f\"Error compiling model: {e}\")\n",
    "    sys.exit(1)\n",
    "\n",
    "# --- 7. Train Model ---\n",
    "print(\"Fitting model...\")\n",
    "# Fit the model (No GraphDataset needed)\n",
    "# Adjust training parameters as needed\n",
    "try:\n",
    "    model.fit(\n",
    "        adatas=adatas,            # Pass adatas dictionary\n",
    "        # graph removed\n",
    "        val_split=0.2,            # Use 10% of data for validation\n",
    "        data_batch_size=256,      # Adjust based on memory\n",
    "        # graph_batch_size removed\n",
    "        max_epochs=max_epochs,           # Set a reasonable number of epochs\n",
    "        patience=35,              # Early stopping patience\n",
    "        reduce_lr_patience=20,    # LR scheduling patience\n",
    "        wait_n_lrs=3,             # Wait for LR reductions before stopping\n",
    "        num_workers=0,            # Set > 0 for parallel data loading if needed\n",
    "        directory=SAVE_DIR        # Directory for logs and checkpoints\n",
    "    )\n",
    "    print(\"Model fitting finished.\")\n",
    "except Exception as e:\n",
    "    print(f\"An error occurred during model fitting: {e}\")\n",
    "    import traceback\n",
    "    traceback.print_exc()\n",
    "    sys.exit(1)\n",
    "\n",
    "\n"
   ]
  },
  {
   "cell_type": "code",
   "execution_count": 17,
   "id": "552197ba",
   "metadata": {
    "ExecuteTime": {
     "end_time": "2025-05-08T13:16:52.547483Z",
     "start_time": "2025-05-08T13:16:40.884483Z"
    }
   },
   "outputs": [
    {
     "name": "stdout",
     "output_type": "stream",
     "text": [
      "Extracting embeddings...\n",
      "RNA embeddings shape: (1107, 50)\n",
      "ATAC embeddings shape: (613, 50)\n",
      "Feature embeddings shape: (17712, 50)\n",
      "Saving final model to cglue_soe_ot_adult_human_kidney_renal_alpha_intercalated_output/cglue_soe_ot_final_model.dill\n",
      "[INFO] CGLUESOE_OT_Model: Model state saved to cglue_soe_ot_adult_human_kidney_renal_alpha_intercalated_output/cglue_soe_ot_final_model.dill\n",
      "Generating UMAP visualization...\n",
      "Running neighbors and UMAP...\n"
     ]
    },
    {
     "name": "stderr",
     "output_type": "stream",
     "text": [
      " FutureWarning:/home/sccancer/anaconda3/envs/CGLUE-SOE/lib/python3.9/site-packages/anndata/_core/anndata.py:402: The dtype argument is deprecated and will be removed in late 2024.\n"
     ]
    },
    {
     "name": "stdout",
     "output_type": "stream",
     "text": [
      "Plotting UMAP...\n",
      "WARNING: saving figure to file figures/umap_cglue_soe_ot_adult_human_kidney_renal_alpha_intercalated_results_3.png\n",
      "UMAP plots saved to figures/ directory (_cglue_soe_ot_adult_human_kidney_renal_alpha_intercalated_results_3.png).\n",
      "Script finished.\n"
     ]
    }
   ],
   "source": [
    "# --- 8. Post-Training Analysis ---\n",
    "print(\"Extracting embeddings...\")\n",
    "try:\n",
    "    # Use a different key for the new model's embeddings\n",
    "    embedding_key = \"X_cgluesoe_ot\"\n",
    "    rna_adata.obsm[embedding_key] = model.encode_data(\"rna\", rna_adata)\n",
    "    atac_adata.obsm[embedding_key] = model.encode_data(\"atac\", atac_adata)\n",
    "\n",
    "    # Get feature embeddings from the nn.Embedding layer\n",
    "    feature_embeddings = model.get_feature_embeddings()\n",
    "    feature_embeddings_df = pd.DataFrame(feature_embeddings, index=model.vertices)\n",
    "\n",
    "    print(\"RNA embeddings shape:\", rna_adata.obsm[embedding_key].shape)\n",
    "    print(\"ATAC embeddings shape:\", atac_adata.obsm[embedding_key].shape)\n",
    "    print(\"Feature embeddings shape:\", feature_embeddings_df.shape)\n",
    "\n",
    "    # --- Optional: Save model and embeddings ---\n",
    "    final_model_path = os.path.join(SAVE_DIR, \"cglue_soe_ot_final_model.dill\")\n",
    "    print(f\"Saving final model to {final_model_path}\")\n",
    "    model.save(final_model_path)\n",
    "\n",
    "    rna_save_path = os.path.join(SAVE_DIR, \"rna_adata_with_embeddings.h5ad\")\n",
    "    atac_save_path = os.path.join(SAVE_DIR, \"atac_adata_with_embeddings.h5ad\")\n",
    "    feat_save_path = os.path.join(SAVE_DIR, \"feature_embeddings.csv\")\n",
    "\n",
    "    # print(f\"Saving RNA AnnData to {rna_save_path}\")\n",
    "    # rna_adata.write_h5ad(rna_save_path)\n",
    "    # print(f\"Saving ATAC AnnData to {atac_save_path}\")\n",
    "    # atac_adata.write_h5ad(atac_save_path)\n",
    "    # print(f\"Saving feature embeddings to {feat_save_path}\")\n",
    "    # feature_embeddings_df.to_csv(feat_save_path)\n",
    "\n",
    "\n",
    "    # --- Optional: Visualization (UMAP) ---\n",
    "    print(\"Generating UMAP visualization...\")\n",
    "    # Combine embeddings and obs for visualization\n",
    "    all_embeddings = np.concatenate([rna_adata.obsm[embedding_key], atac_adata.obsm[embedding_key]], axis=0)\n",
    "    all_obs = pd.concat([\n",
    "        rna_adata.obs[[label_col]].assign(modality='rna'), # Use label_col\n",
    "        atac_adata.obs[[label_col]].assign(modality='atac') # Use label_col\n",
    "    ], axis=0)\n",
    "    # Create combined obs_names for the visualization AnnData\n",
    "    vis_obs_names = rna_adata.obs_names.tolist() + atac_adata.obs_names.tolist()\n",
    "    if len(vis_obs_names) != len(all_obs): # Basic check\n",
    "         print(f\"Warning: Length mismatch between obs_names ({len(vis_obs_names)}) and combined obs ({len(all_obs)}). Using default index.\")\n",
    "         vis_obs_names = pd.RangeIndex(start=0, stop=len(all_obs), step=1)\n",
    "\n",
    "\n",
    "    vis_adata = ad.AnnData(all_embeddings, dtype=all_embeddings.dtype) # Ensure dtype is set\n",
    "    vis_adata.obs = all_obs\n",
    "    vis_adata.obs_names = vis_obs_names # Assign combined names\n",
    "    vis_adata.obsm['X_cgluesoe_ot'] = all_embeddings # Store for scanpy functions\n",
    "\n",
    "    print(\"Running neighbors and UMAP...\")\n",
    "    sc.pp.neighbors(vis_adata, use_rep='X_cgluesoe_ot', n_neighbors=15, random_state=SEED)\n",
    "    sc.tl.umap(vis_adata, min_dist=0.3, random_state=SEED) # Adjust min_dist for spread\n",
    "\n",
    "    print(\"Plotting UMAP...\")\n",
    "    umap_save_path = f'_cglue_soe_ot_adult_human_kidney_renal_alpha_intercalated_results_{Times}.png' # Updated filename\n",
    "    sc.pl.umap(\n",
    "        vis_adata,\n",
    "        color=['modality', label_col], # Color by label_col\n",
    "        title=['UMAP by Modality', f'UMAP by {label_col.capitalize()}'],\n",
    "        save=umap_save_path,\n",
    "        show=False # Set to True to display interactively if possible\n",
    "    )\n",
    "    print(f\"UMAP plots saved to figures/ directory ({umap_save_path}).\")\n",
    "\n",
    "except Exception as e:\n",
    "    print(f\"An error occurred during post-training analysis: {e}\")\n",
    "    import traceback\n",
    "    traceback.print_exc()\n",
    "\n",
    "print(\"Script finished.\")"
   ]
  },
  {
   "cell_type": "code",
   "execution_count": 18,
   "id": "682d65e9",
   "metadata": {
    "ExecuteTime": {
     "end_time": "2025-05-08T13:16:53.262044Z",
     "start_time": "2025-05-08T13:16:52.549768Z"
    }
   },
   "outputs": [
    {
     "name": "stdout",
     "output_type": "stream",
     "text": [
      "Plotting loss curves...\n",
      "[INFO] CGLUESOE_OT_Model: Loss curves saved to cglue_soe_ot_adult_human_kidney_renal_alpha_intercalated_output/cglue_soe_ot_loss_curves_adult_human_kidney_renal_alpha_intercalated_3.png\n",
      "Loss curves saved to cglue_soe_ot_adult_human_kidney_renal_alpha_intercalated_output/cglue_soe_ot_loss_curves_adult_human_kidney_renal_alpha_intercalated_3.png\n"
     ]
    }
   ],
   "source": [
    "print(\"Plotting loss curves...\")\n",
    "try:\n",
    "    # Define where to save the plot\n",
    "    loss_plot_path = os.path.join(SAVE_DIR, f\"cglue_soe_ot_loss_curves_adult_human_kidney_renal_alpha_intercalated_{Times}.png\")\n",
    "    # Call the plotting method\n",
    "    model.plot_loss_curves(save_path=loss_plot_path)\n",
    "    print(f\"Loss curves saved to {loss_plot_path}\")\n",
    "except Exception as e:\n",
    "    print(f\"An error occurred during loss plotting: {e}\")\n",
    "    import traceback\n",
    "    traceback.print_exc()\n"
   ]
  },
  {
   "cell_type": "code",
   "execution_count": 19,
   "id": "cbfe6c5c",
   "metadata": {
    "ExecuteTime": {
     "end_time": "2025-05-08T13:16:53.272200Z",
     "start_time": "2025-05-08T13:16:53.264579Z"
    }
   },
   "outputs": [
    {
     "name": "stdout",
     "output_type": "stream",
     "text": [
      "超参数已成功保存到 cglue_soe_ot_adult_human_kidney_renal_alpha_intercalated_output/hyperparameters_renal_alpha_intercalated.csv\n"
     ]
    }
   ],
   "source": [
    "import csv\n",
    "import pickle\n",
    "# 定义你的超参数 (与上面相同)\n",
    "hyperparameters = {\n",
    "    \"lam_kl\": lam_kl,\n",
    "    \"lam_data\": lam_data,\n",
    "    \"lam_triplet\": lam_triplet,\n",
    "    \"lam_ot\": lam_ot,\n",
    "    \"triplet_margin\": triplet_margin,\n",
    "    \"ot_epsilon\": ot_epsilon,\n",
    "    \"ot_tau\": ot_tau,\n",
    "    \"ot_max_iter\": ot_max_iter,\n",
    "    \"max_epochs\": max_epochs\n",
    "}\n",
    "\n",
    "# 定义要保存的PKL文件名\n",
    "csv_filename = os.path.join(SAVE_DIR, \"hyperparameters_renal_alpha_intercalated.csv\")\n",
    "\n",
    "# 写入CSV文件\n",
    "try:\n",
    "    with open(csv_filename, 'a', newline='') as csvfile:\n",
    "        # 定义CSV写入器\n",
    "        writer = csv.writer(csvfile)\n",
    "\n",
    "        # 写入表头 (可选，但推荐)\n",
    "        writer.writerow([f'ParameterName_{Times}', 'Value'])\n",
    "\n",
    "        # 遍历字典并写入每一行\n",
    "        for name, value in hyperparameters.items():\n",
    "            writer.writerow([name, value])\n",
    "    print(f\"超参数已成功保存到 {csv_filename}\")\n",
    "except IOError:\n",
    "    print(f\"错误：无法写入文件 {csv_filename}\")"
   ]
  },
  {
   "cell_type": "code",
   "execution_count": null,
   "id": "3ff3261d",
   "metadata": {},
   "outputs": [],
   "source": []
  },
  {
   "cell_type": "code",
   "execution_count": null,
   "id": "254fdfaf",
   "metadata": {},
   "outputs": [],
   "source": []
  },
  {
   "cell_type": "code",
   "execution_count": null,
   "id": "a2aa5bca",
   "metadata": {},
   "outputs": [],
   "source": []
  },
  {
   "cell_type": "code",
   "execution_count": null,
   "id": "6be8798d",
   "metadata": {},
   "outputs": [],
   "source": []
  },
  {
   "cell_type": "code",
   "execution_count": null,
   "id": "9bd5978f",
   "metadata": {},
   "outputs": [],
   "source": []
  },
  {
   "cell_type": "code",
   "execution_count": null,
   "id": "ab67784c",
   "metadata": {},
   "outputs": [],
   "source": []
  },
  {
   "cell_type": "code",
   "execution_count": null,
   "id": "8981b5e1",
   "metadata": {},
   "outputs": [],
   "source": []
  },
  {
   "cell_type": "code",
   "execution_count": null,
   "id": "17e19fc5",
   "metadata": {},
   "outputs": [],
   "source": []
  }
 ],
 "metadata": {
  "kernelspec": {
   "display_name": "Python [conda env:CGLUE-SOE]",
   "language": "python",
   "name": "conda-env-CGLUE-SOE-py"
  },
  "language_info": {
   "codemirror_mode": {
    "name": "ipython",
    "version": 3
   },
   "file_extension": ".py",
   "mimetype": "text/x-python",
   "name": "python",
   "nbconvert_exporter": "python",
   "pygments_lexer": "ipython3",
   "version": "3.9.22"
  },
  "toc": {
   "base_numbering": 1,
   "nav_menu": {},
   "number_sections": true,
   "sideBar": true,
   "skip_h1_title": false,
   "title_cell": "Table of Contents",
   "title_sidebar": "Contents",
   "toc_cell": false,
   "toc_position": {},
   "toc_section_display": true,
   "toc_window_display": false
  }
 },
 "nbformat": 4,
 "nbformat_minor": 5
}
