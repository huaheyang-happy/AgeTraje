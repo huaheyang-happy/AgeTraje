{
 "cells": [
  {
   "cell_type": "code",
   "execution_count": 1,
   "id": "026883a4",
   "metadata": {
    "ExecuteTime": {
     "end_time": "2025-05-08T00:35:50.758363Z",
     "start_time": "2025-05-08T00:35:17.223689Z"
    },
    "scrolled": false
   },
   "outputs": [],
   "source": [
    "\n",
    "import scanpy as sc\n",
    "import matplotlib.pyplot as plt\n",
    "import sys\n",
    "import os\n",
    "import numpy as np\n",
    "import pandas as pd\n",
    "import anndata as ad\n",
    "import scanpy as sc\n",
    "import networkx as nx\n",
    "import torch\n",
    "import sklearn.preprocessing\n",
    "import episcanpy as epi\n",
    "import sys\n",
    "import os\n",
    "import numpy as np\n",
    "import pandas as pd\n",
    "import anndata as ad\n",
    "import scanpy as sc\n",
    "# import networkx as nx # No longer needed for training script itself\n",
    "import torch\n",
    "\n",
    "\n",
    "adata_ATAC=sc.read(\"/data/cabins/sccancer/hhy/TI/Fallopian_tube_ATAC.h5ad\")\n",
    "adata_RNA= sc.read(\"/data/cabins/sccancer/hhy/TI/Fallopian_tube_RNA.h5ad\")"
   ]
  },
  {
   "cell_type": "code",
   "execution_count": 2,
   "id": "b50a8514",
   "metadata": {
    "ExecuteTime": {
     "end_time": "2025-05-08T00:35:50.779632Z",
     "start_time": "2025-05-08T00:35:50.763066Z"
    }
   },
   "outputs": [
    {
     "data": {
      "text/plain": [
       "AnnData object with n_obs × n_vars = 40803 × 19281\n",
       "    obs: 'mapped_reference_assembly', 'alignment_software', 'donor_id', 'self_reported_ethnicity_ontology_term_id', 'donor_living_at_sample_collection', 'donor_menopausal_status', 'organism_ontology_term_id', 'sample_uuid', 'sample_preservation_method', 'tissue_ontology_term_id', 'development_stage_ontology_term_id', 'sample_derivation_process', 'sample_source', 'suspension_derivation_process', 'suspension_uuid', 'suspension_type', 'library_uuid', 'assay_ontology_term_id', 'library_starting_quantity', 'is_primary_data', 'cell_type_ontology_term_id', 'author_cell_type', 'disease_ontology_term_id', 'sex_ontology_term_id', 'nCount_ATAC', 'nFeature_ATAC', 'sample', 'tissue_type', 'cell_type', 'assay', 'disease', 'organism', 'sex', 'tissue', 'self_reported_ethnicity', 'development_stage', 'observation_joinid'\n",
       "    var: 'feature_is_filtered', 'feature_name', 'feature_reference', 'feature_biotype', 'feature_length', 'feature_type'\n",
       "    uns: 'citation', 'default_embedding', 'schema_reference', 'schema_version', 'title'\n",
       "    obsm: 'X_harmony', 'X_lsi', 'X_umap'"
      ]
     },
     "execution_count": 2,
     "metadata": {},
     "output_type": "execute_result"
    }
   ],
   "source": [
    "adata_ATAC"
   ]
  },
  {
   "cell_type": "code",
   "execution_count": 3,
   "id": "7da929ac",
   "metadata": {
    "ExecuteTime": {
     "end_time": "2025-05-08T00:35:50.817390Z",
     "start_time": "2025-05-08T00:35:50.781093Z"
    }
   },
   "outputs": [
    {
     "data": {
      "text/plain": [
       "AnnData object with n_obs × n_vars = 40803 × 19281\n",
       "    obs: 'mapped_reference_assembly', 'alignment_software', 'donor_id', 'self_reported_ethnicity_ontology_term_id', 'donor_living_at_sample_collection', 'donor_menopausal_status', 'organism_ontology_term_id', 'sample_uuid', 'sample_preservation_method', 'tissue_ontology_term_id', 'development_stage_ontology_term_id', 'sample_derivation_process', 'sample_source', 'suspension_derivation_process', 'suspension_uuid', 'suspension_type', 'library_uuid', 'assay_ontology_term_id', 'library_starting_quantity', 'is_primary_data', 'cell_type_ontology_term_id', 'author_cell_type', 'disease_ontology_term_id', 'sex_ontology_term_id', 'nCount_ATAC', 'nFeature_ATAC', 'sample', 'tissue_type', 'cell_type', 'assay', 'disease', 'organism', 'sex', 'tissue', 'self_reported_ethnicity', 'development_stage', 'observation_joinid'\n",
       "    var: 'feature_is_filtered', 'feature_name', 'feature_reference', 'feature_biotype', 'feature_length', 'feature_type'\n",
       "    uns: 'citation', 'default_embedding', 'schema_reference', 'schema_version', 'title'\n",
       "    obsm: 'X_harmony', 'X_lsi', 'X_umap'"
      ]
     },
     "execution_count": 3,
     "metadata": {},
     "output_type": "execute_result"
    }
   ],
   "source": [
    "adata_ATAC"
   ]
  },
  {
   "cell_type": "code",
   "execution_count": 4,
   "id": "e8ba2faf",
   "metadata": {
    "ExecuteTime": {
     "end_time": "2025-05-08T00:35:50.846694Z",
     "start_time": "2025-05-08T00:35:50.819042Z"
    }
   },
   "outputs": [
    {
     "data": {
      "text/plain": [
       "AnnData object with n_obs × n_vars = 40803 × 19281\n",
       "    obs: 'mapped_reference_assembly', 'alignment_software', 'donor_id', 'self_reported_ethnicity_ontology_term_id', 'donor_living_at_sample_collection', 'donor_menopausal_status', 'organism_ontology_term_id', 'sample_uuid', 'sample_preservation_method', 'tissue_ontology_term_id', 'development_stage_ontology_term_id', 'sample_derivation_process', 'sample_source', 'suspension_derivation_process', 'suspension_uuid', 'suspension_type', 'library_uuid', 'assay_ontology_term_id', 'library_starting_quantity', 'is_primary_data', 'cell_type_ontology_term_id', 'author_cell_type', 'disease_ontology_term_id', 'sex_ontology_term_id', 'nCount_ATAC', 'nFeature_ATAC', 'sample', 'tissue_type', 'cell_type', 'assay', 'disease', 'organism', 'sex', 'tissue', 'self_reported_ethnicity', 'development_stage', 'observation_joinid'\n",
       "    var: 'feature_is_filtered', 'feature_name', 'feature_reference', 'feature_biotype', 'feature_length', 'feature_type'\n",
       "    uns: 'citation', 'default_embedding', 'schema_reference', 'schema_version', 'title'\n",
       "    obsm: 'X_harmony', 'X_lsi', 'X_umap'"
      ]
     },
     "execution_count": 4,
     "metadata": {},
     "output_type": "execute_result"
    }
   ],
   "source": [
    "adata_ATAC"
   ]
  },
  {
   "cell_type": "code",
   "execution_count": 5,
   "id": "b1e5b529",
   "metadata": {
    "ExecuteTime": {
     "end_time": "2025-05-08T00:35:50.881730Z",
     "start_time": "2025-05-08T00:35:50.850162Z"
    }
   },
   "outputs": [
    {
     "data": {
      "text/plain": [
       "P3203A_AAACGAAAGCGTCTGC-1    62-year-old stage\n",
       "P3203A_AAACGAAAGCGTCTGC-2    62-year-old stage\n",
       "P3203A_AAACGAAAGTCATACC-1    62-year-old stage\n",
       "P3203A_AAACGAAAGTCATACC-2    62-year-old stage\n",
       "P3203A_AAACGAAAGTTCAAGA-1    62-year-old stage\n",
       "                                   ...        \n",
       "P3369I_TTTGGTTTCCGGACTG-1    61-year-old stage\n",
       "P3369I_TTTGGTTTCTTCTTCC-1    61-year-old stage\n",
       "P3369I_TTTGTGTAGATGTTGA-1    61-year-old stage\n",
       "P3369I_TTTGTGTCACGGTTAT-1    61-year-old stage\n",
       "P3369I_TTTGTGTTCACTAGGT-1    61-year-old stage\n",
       "Name: development_stage, Length: 40803, dtype: category\n",
       "Categories (4, object): ['55-year-old stage', '61-year-old stage', '62-year-old stage', '65-year-old stage']"
      ]
     },
     "execution_count": 5,
     "metadata": {},
     "output_type": "execute_result"
    }
   ],
   "source": [
    "adata_ATAC.obs['development_stage']"
   ]
  },
  {
   "cell_type": "code",
   "execution_count": 6,
   "id": "07721ae3",
   "metadata": {
    "ExecuteTime": {
     "end_time": "2025-05-08T00:35:50.906695Z",
     "start_time": "2025-05-08T00:35:50.889973Z"
    }
   },
   "outputs": [
    {
     "data": {
      "text/plain": [
       "cell_type\n",
       "stromal cell                            19096\n",
       "pericyte                                 6658\n",
       "endothelial cell                         4063\n",
       "secretory cell                           3841\n",
       "smooth muscle cell                       2035\n",
       "natural killer cell                      1874\n",
       "macrophage                               1725\n",
       "endothelial cell of lymphatic vessel      557\n",
       "B cell                                    411\n",
       "ciliated epithelial cell                  370\n",
       "mast cell                                 173\n",
       "Name: count, dtype: int64"
      ]
     },
     "execution_count": 6,
     "metadata": {},
     "output_type": "execute_result"
    }
   ],
   "source": [
    "adata_ATAC.obs[\"cell_type\"].value_counts()"
   ]
  },
  {
   "cell_type": "code",
   "execution_count": 7,
   "id": "a1a4bdc3",
   "metadata": {
    "ExecuteTime": {
     "end_time": "2025-05-08T00:35:50.931288Z",
     "start_time": "2025-05-08T00:35:50.908574Z"
    }
   },
   "outputs": [
    {
     "data": {
      "text/plain": [
       "AnnData object with n_obs × n_vars = 60574 × 60054\n",
       "    obs: 'donor_id', 'self_reported_ethnicity_ontology_term_id', 'organism_ontology_term_id', 'sample_uuid', 'sample_preservation_method', 'tissue_ontology_term_id', 'development_stage_ontology_term_id', 'suspension_uuid', 'suspension_type', 'library_uuid', 'assay_ontology_term_id', 'mapped_reference_annotation', 'is_primary_data', 'cell_type_ontology_term_id', 'author_cell_type', 'disease_ontology_term_id', 'sex_ontology_term_id', 'expCond', 'nCount_RNA', 'nFeature_RNA', 'percent.mt', 'tissue_type', 'cell_type', 'assay', 'disease', 'organism', 'sex', 'tissue', 'self_reported_ethnicity', 'development_stage', 'observation_joinid'\n",
       "    var: 'feature_is_filtered', 'feature_name', 'feature_reference', 'feature_biotype', 'feature_length', 'feature_type'\n",
       "    uns: 'citation', 'default_embedding', 'schema_reference', 'schema_version', 'title'\n",
       "    obsm: 'X_pca', 'X_tsne', 'X_umap'"
      ]
     },
     "execution_count": 7,
     "metadata": {},
     "output_type": "execute_result"
    }
   ],
   "source": [
    "adata_RNA"
   ]
  },
  {
   "cell_type": "code",
   "execution_count": 8,
   "id": "89984f9a",
   "metadata": {
    "ExecuteTime": {
     "end_time": "2025-05-08T00:35:50.960544Z",
     "start_time": "2025-05-08T00:35:50.933061Z"
    }
   },
   "outputs": [
    {
     "data": {
      "text/plain": [
       "AAACCACCCCAA_1           70-year-old stage\n",
       "AAACGATAAGCA_1           70-year-old stage\n",
       "AAAGACATCTTC_1           70-year-old stage\n",
       "AAAGCCCGAATA_1           70-year-old stage\n",
       "AAAGCCCGAATC_1           70-year-old stage\n",
       "                               ...        \n",
       "TTTGGTTTCTTGGCTC-1_18    62-year-old stage\n",
       "TTTGTTGAGCATCAGG-1_18    62-year-old stage\n",
       "TTTGTTGAGCCAGAGT-1_18    62-year-old stage\n",
       "TTTGTTGGTACTGTTG-1_18    62-year-old stage\n",
       "TTTGTTGGTATATGGA-1_18    62-year-old stage\n",
       "Name: development_stage, Length: 60574, dtype: category\n",
       "Categories (6, object): ['55-year-old stage', '61-year-old stage', '62-year-old stage', '65-year-old stage', '70-year-old stage', '72-year-old stage']"
      ]
     },
     "execution_count": 8,
     "metadata": {},
     "output_type": "execute_result"
    }
   ],
   "source": [
    "adata_RNA.obs['development_stage']"
   ]
  },
  {
   "cell_type": "code",
   "execution_count": 9,
   "id": "03f6a393",
   "metadata": {
    "ExecuteTime": {
     "end_time": "2025-05-08T00:35:50.991365Z",
     "start_time": "2025-05-08T00:35:50.962215Z"
    }
   },
   "outputs": [
    {
     "data": {
      "text/plain": [
       "cell_type\n",
       "stromal cell                            27695\n",
       "pericyte                                 9449\n",
       "endothelial cell                         5927\n",
       "natural killer cell                      4811\n",
       "secretory cell                           3614\n",
       "smooth muscle cell                       2987\n",
       "macrophage                               2213\n",
       "endothelial cell of lymphatic vessel     1523\n",
       "ciliated epithelial cell                 1127\n",
       "B cell                                    800\n",
       "mast cell                                 428\n",
       "Name: count, dtype: int64"
      ]
     },
     "execution_count": 9,
     "metadata": {},
     "output_type": "execute_result"
    }
   ],
   "source": [
    "adata_RNA.obs[\"cell_type\"].value_counts()"
   ]
  },
  {
   "cell_type": "code",
   "execution_count": 10,
   "id": "643c8218",
   "metadata": {
    "ExecuteTime": {
     "end_time": "2025-05-08T00:35:51.397922Z",
     "start_time": "2025-05-08T00:35:50.992604Z"
    }
   },
   "outputs": [],
   "source": [
    "adata_ATAC_NK = adata_ATAC[adata_ATAC.obs[\"cell_type\"] == 'natural killer cell',:]\n",
    "samples_to_keep = ['55-year-old stage', '61-year-old stage', '62-year-old stage', '65-year-old stage']\n",
    "mask = adata_ATAC_NK.obs['development_stage'].isin(samples_to_keep)\n",
    "adata_ATAC_NK_Age = adata_ATAC_NK[mask].copy()"
   ]
  },
  {
   "cell_type": "code",
   "execution_count": 11,
   "id": "e69ab73d",
   "metadata": {
    "ExecuteTime": {
     "end_time": "2025-05-08T00:35:51.423899Z",
     "start_time": "2025-05-08T00:35:51.404338Z"
    }
   },
   "outputs": [
    {
     "data": {
      "text/plain": [
       "development_stage\n",
       "55-year-old stage    749\n",
       "62-year-old stage    661\n",
       "65-year-old stage    328\n",
       "61-year-old stage    136\n",
       "Name: count, dtype: int64"
      ]
     },
     "execution_count": 11,
     "metadata": {},
     "output_type": "execute_result"
    }
   ],
   "source": [
    "adata_ATAC_NK_Age.obs['development_stage'].value_counts()"
   ]
  },
  {
   "cell_type": "code",
   "execution_count": 12,
   "id": "0de34c2c",
   "metadata": {
    "ExecuteTime": {
     "end_time": "2025-05-08T00:35:51.718092Z",
     "start_time": "2025-05-08T00:35:51.425576Z"
    }
   },
   "outputs": [],
   "source": [
    "adata_RNA_NK = adata_RNA[adata_RNA.obs[\"cell_type\"] == 'natural killer cell',:]\n",
    "samples_to_keep = ['55-year-old stage', '61-year-old stage', '62-year-old stage', '65-year-old stage']\n",
    "mask = adata_RNA_NK.obs['development_stage'].isin(samples_to_keep)\n",
    "adata_RNA_NK_Age = adata_RNA_NK[mask].copy()"
   ]
  },
  {
   "cell_type": "code",
   "execution_count": 13,
   "id": "f4c9234a",
   "metadata": {
    "ExecuteTime": {
     "end_time": "2025-05-08T00:35:51.750470Z",
     "start_time": "2025-05-08T00:35:51.733375Z"
    }
   },
   "outputs": [
    {
     "data": {
      "text/plain": [
       "development_stage\n",
       "62-year-old stage    2082\n",
       "61-year-old stage    1082\n",
       "65-year-old stage     828\n",
       "55-year-old stage     561\n",
       "Name: count, dtype: int64"
      ]
     },
     "execution_count": 13,
     "metadata": {},
     "output_type": "execute_result"
    }
   ],
   "source": [
    "adata_RNA_NK_Age.obs['development_stage'].value_counts()"
   ]
  },
  {
   "cell_type": "code",
   "execution_count": 14,
   "id": "ceacf4fe",
   "metadata": {
    "ExecuteTime": {
     "end_time": "2025-05-08T00:35:51.787962Z",
     "start_time": "2025-05-08T00:35:51.761860Z"
    }
   },
   "outputs": [
    {
     "name": "stderr",
     "output_type": "stream",
     "text": [
      " FutureWarning:/tmp/ipykernel_3212746/732861383.py:7: The behavior of Series.replace (and DataFrame.replace) with CategoricalDtype is deprecated. In a future version, replace will only be used for cases that preserve the categories. To change the categories, use ser.cat.rename_categories instead.\n",
      " FutureWarning:/tmp/ipykernel_3212746/732861383.py:8: The behavior of Series.replace (and DataFrame.replace) with CategoricalDtype is deprecated. In a future version, replace will only be used for cases that preserve the categories. To change the categories, use ser.cat.rename_categories instead.\n"
     ]
    }
   ],
   "source": [
    "replacement_map = {\n",
    "    '55-year-old stage': '55',\n",
    "    '61-year-old stage': '61',\n",
    "    '62-year-old stage': '62',\n",
    "    '65-year-old stage': '65'\n",
    "}\n",
    "adata_ATAC_NK_Age.obs['age'] = adata_ATAC_NK_Age.obs['development_stage'].replace(replacement_map)\n",
    "adata_RNA_NK_Age.obs['age'] = adata_RNA_NK_Age.obs['development_stage'].replace(replacement_map)"
   ]
  },
  {
   "cell_type": "code",
   "execution_count": 15,
   "id": "e12c43ca",
   "metadata": {
    "ExecuteTime": {
     "end_time": "2025-05-08T00:35:54.099095Z",
     "start_time": "2025-05-08T00:35:51.794064Z"
    }
   },
   "outputs": [
    {
     "name": "stderr",
     "output_type": "stream",
     "text": [
      " FutureWarning:/home/sccancer/anaconda3/envs/CGLUE-SOE/lib/python3.9/site-packages/episcanpy/preprocessing/_scanpy_fct.py:145: The specified parameters ('min_counts', 'min_cells', 'max_counts', 'max_cells', 'inplace', 'copy') are no longer positional. Please specify them like `min_counts=None`\n"
     ]
    }
   ],
   "source": [
    "sc.pp.filter_cells(adata_RNA_NK_Age, min_genes=100)\n",
    "sc.pp.filter_genes(adata_RNA_NK_Age, min_cells=3)\n",
    "# Saving count data\n",
    "adata_RNA_NK_Age.layers[\"counts\"] = adata_RNA_NK_Age.X.copy()\n",
    "# Normalizing to median total counts\n",
    "sc.pp.normalize_total(adata_RNA_NK_Age)\n",
    "# Logarithmize the data\n",
    "sc.pp.log1p(adata_RNA_NK_Age)\n",
    "sc.pp.highly_variable_genes(adata_RNA_NK_Age, n_top_genes=2000)\n",
    "adata_RNA_NK_Age = adata_RNA_NK_Age[:,adata_RNA_NK_Age.var['highly_variable'] ==True]\n",
    "fpeak=0.03\n",
    "epi.pp.binarize(adata_ATAC_NK_Age)\n",
    "epi.pp.filter_features(adata_ATAC_NK_Age, min_cells=np.ceil(adata_ATAC_NK_Age.shape[0])*fpeak)"
   ]
  },
  {
   "cell_type": "code",
   "execution_count": 16,
   "id": "81951136",
   "metadata": {
    "ExecuteTime": {
     "end_time": "2025-05-08T00:35:54.110513Z",
     "start_time": "2025-05-08T00:35:54.102968Z"
    }
   },
   "outputs": [
    {
     "data": {
      "text/plain": [
       "AnnData object with n_obs × n_vars = 1874 × 16276\n",
       "    obs: 'mapped_reference_assembly', 'alignment_software', 'donor_id', 'self_reported_ethnicity_ontology_term_id', 'donor_living_at_sample_collection', 'donor_menopausal_status', 'organism_ontology_term_id', 'sample_uuid', 'sample_preservation_method', 'tissue_ontology_term_id', 'development_stage_ontology_term_id', 'sample_derivation_process', 'sample_source', 'suspension_derivation_process', 'suspension_uuid', 'suspension_type', 'library_uuid', 'assay_ontology_term_id', 'library_starting_quantity', 'is_primary_data', 'cell_type_ontology_term_id', 'author_cell_type', 'disease_ontology_term_id', 'sex_ontology_term_id', 'nCount_ATAC', 'nFeature_ATAC', 'sample', 'tissue_type', 'cell_type', 'assay', 'disease', 'organism', 'sex', 'tissue', 'self_reported_ethnicity', 'development_stage', 'observation_joinid', 'age'\n",
       "    var: 'feature_is_filtered', 'feature_name', 'feature_reference', 'feature_biotype', 'feature_length', 'feature_type', 'n_cells'\n",
       "    uns: 'citation', 'default_embedding', 'schema_reference', 'schema_version', 'title'\n",
       "    obsm: 'X_harmony', 'X_lsi', 'X_umap'"
      ]
     },
     "execution_count": 16,
     "metadata": {},
     "output_type": "execute_result"
    }
   ],
   "source": [
    "adata_ATAC_NK_Age"
   ]
  },
  {
   "cell_type": "code",
   "execution_count": null,
   "id": "e6fc4855",
   "metadata": {},
   "outputs": [],
   "source": []
  },
  {
   "cell_type": "code",
   "execution_count": null,
   "id": "5eacb747",
   "metadata": {},
   "outputs": [],
   "source": []
  },
  {
   "cell_type": "code",
   "execution_count": null,
   "id": "e6a1872d",
   "metadata": {},
   "outputs": [],
   "source": []
  },
  {
   "cell_type": "code",
   "execution_count": 17,
   "id": "aeaebde1",
   "metadata": {
    "ExecuteTime": {
     "end_time": "2025-05-08T00:36:21.760215Z",
     "start_time": "2025-05-08T00:35:54.112455Z"
    }
   },
   "outputs": [
    {
     "name": "stderr",
     "output_type": "stream",
     "text": [
      " TqdmWarning:/home/sccancer/anaconda3/envs/CGLUE-SOE/lib/python3.9/site-packages/tqdm/auto.py:21: IProgress not found. Please update jupyter and ipywidgets. See https://ipywidgets.readthedocs.io/en/stable/user_install.html\n"
     ]
    }
   ],
   "source": [
    "# -*- coding: utf-8 -*-\n",
    "\"\"\"\n",
    "Training script for CGLUE-SOE-OT model using real (preprocessed)\n",
    "scRNA-seq and scATAC-seq data with ordered age labels.\n",
    "\n",
    "This script assumes the modified CGLUE-SOE-OT model files\n",
    "(e.g., cglue_soe_ot.py, cglue_soe_components_ot.py) are\n",
    "accessible within the scglue package structure or Python path.\n",
    "\"\"\"\n",
    "\n",
    "import sys\n",
    "import os\n",
    "import numpy as np\n",
    "import pandas as pd\n",
    "import anndata as ad\n",
    "import scanpy as sc\n",
    "# import networkx as nx # No longer needed for training script itself\n",
    "import torch\n",
    "\n",
    "# --- Add project root to path if necessary ---\n",
    "# Adjust this path if your script is located elsewhere relative to the scglue package\n",
    "# project_root = os.path.abspath(os.path.join(os.path.dirname(__file__), '..'))\n",
    "# if project_root not in sys.path:\n",
    "#     sys.path.insert(0, project_root)\n",
    "\n",
    "try:\n",
    "    # Import the modified model and config function\n",
    "    import scglue\n",
    "    from scglue.models.cglue_soe_ot import CGLUESOE_OT_Model, configure_dataset_cglue_soe\n",
    "    # AnnDatasetWithLabels is still needed, GraphDataset is not\n",
    "    from scglue.models.data import AnnDatasetWithLabels\n",
    "    # from scglue.utils import config as scglue_config # Optional config import\n",
    "except ImportError as e:\n",
    "    print(f\"Error importing modified scglue components: {e}\")\n",
    "    print(\"Please ensure the modified scglue package (with CGLUE-SOE-OT) is installed or accessible.\")\n",
    "    sys.exit(1)\n",
    "except AttributeError as e:\n",
    "    print(f\"Error importing specific components (check file/class names): {e}\")\n",
    "    print(\"Ensure 'CGLUESOE_OT_Model' and 'configure_dataset_cglue_soe' exist in 'scglue.models.cglue_soe_ot'.\")\n",
    "    sys.exit(1)\n",
    "\n",
    "\n",
    "# --- Configuration ---\n",
    "SEED = 0\n",
    "\n",
    "torch.manual_seed(SEED)\n",
    "np.random.seed(SEED)\n",
    "SAVE_DIR = \"cglue_soe_ot_Fallopian_tube_output\" # Changed save directory name\n",
    "os.makedirs(SAVE_DIR, exist_ok=True)"
   ]
  },
  {
   "cell_type": "code",
   "execution_count": 18,
   "id": "0cadb266",
   "metadata": {
    "ExecuteTime": {
     "end_time": "2025-05-08T00:36:21.844326Z",
     "start_time": "2025-05-08T00:36:21.763999Z"
    }
   },
   "outputs": [
    {
     "name": "stdout",
     "output_type": "stream",
     "text": [
      "Loading real data...\n",
      "Preprocessing data...\n"
     ]
    },
    {
     "name": "stderr",
     "output_type": "stream",
     "text": [
      " ImplicitModificationWarning:/tmp/ipykernel_3212746/2428429756.py:19: Trying to modify attribute `.obs` of view, initializing view as actual.\n"
     ]
    }
   ],
   "source": [
    "# --- 1. Load Your Real Data ---\n",
    "print(\"Loading real data...\")\n",
    "\n",
    "atac_adata= adata_ATAC_NK_Age\n",
    "rna_adata = adata_RNA_NK_Age\n",
    "adatas = {\"rna\": rna_adata, \"atac\": atac_adata}\n",
    "\n",
    "# --- 2. Preprocessing Steps ---\n",
    "print(\"Preprocessing data...\")\n",
    "\n",
    "# ** Crucial: Ensure 'age' column is ordered categorical **\n",
    "# Define the correct order\n",
    "age_order = ['55', '61', '62','65']\n",
    "label_col = 'age' # MODIFY AS NEEDED\n",
    "try:\n",
    "    for k in adatas:\n",
    "        if 'age' not in adatas[k].obs:\n",
    "            raise ValueError(f\"'age' column not found in adata '{k}'.\")\n",
    "        adatas[k].obs['age'] = pd.Categorical(\n",
    "            adatas[k].obs['age'], categories=age_order, ordered=True\n",
    "        )\n",
    "        # Check if any values became NaN after conversion (means original values didn't match categories)\n",
    "        if adatas[k].obs['age'].isnull().any():\n",
    "             print(f\"Warning: Some 'age' values in adata '{k}' did not match the expected categories {age_order} and resulted in NaNs.\")\n",
    "             # Optional: Handle NaNs, e.g., remove cells or raise error\n",
    "             # adatas[k] = adatas[k][adatas[k].obs['age'].notna()].copy()\n",
    "except Exception as e:\n",
    "    print(f\"Error processing 'age' column: {e}\")\n",
    "    sys.exit(1)\n"
   ]
  },
  {
   "cell_type": "code",
   "execution_count": 19,
   "id": "8af0c09c",
   "metadata": {
    "ExecuteTime": {
     "end_time": "2025-05-08T00:36:21.858038Z",
     "start_time": "2025-05-08T00:36:21.846439Z"
    }
   },
   "outputs": [],
   "source": [
    "atac_adata.var['highly_variable'] = True"
   ]
  },
  {
   "cell_type": "code",
   "execution_count": 20,
   "id": "89653d5d",
   "metadata": {
    "ExecuteTime": {
     "end_time": "2025-05-08T00:36:21.899642Z",
     "start_time": "2025-05-08T00:36:21.862378Z"
    }
   },
   "outputs": [
    {
     "name": "stdout",
     "output_type": "stream",
     "text": [
      "Defining feature vertices...\n",
      "Total unique features (vertices): 17045\n"
     ]
    }
   ],
   "source": [
    "\n",
    "# --- 3. Define Vertices (No Graph Construction Needed) ---\n",
    "# The model still needs the list of all unique features across datasets\n",
    "# for the feature embedding layer.\n",
    "print(\"Defining feature vertices...\")\n",
    "vertices = pd.Index(rna_adata.var_names.tolist() + atac_adata.var_names.tolist()).unique()\n",
    "print(f\"Total unique features (vertices): {len(vertices)}\")\n"
   ]
  },
  {
   "cell_type": "code",
   "execution_count": 21,
   "id": "4491d681",
   "metadata": {
    "ExecuteTime": {
     "end_time": "2025-05-08T00:36:21.922583Z",
     "start_time": "2025-05-08T00:36:21.901245Z"
    }
   },
   "outputs": [
    {
     "name": "stdout",
     "output_type": "stream",
     "text": [
      "Configuring datasets for CGLUE-SOE-OT...\n",
      "[INFO] CGLUESOE_OT_Model: Dataset configured for CGLUE-SOE-OT using label 'age'.\n",
      "[INFO] CGLUESOE_OT_Model: Dataset configured for CGLUE-SOE-OT using label 'age'.\n",
      "Datasets configured.\n"
     ]
    }
   ],
   "source": [
    "\n",
    "# --- 4. Configure Datasets for CGLUE-SOE-OT ---\n",
    "print(\"Configuring datasets for CGLUE-SOE-OT...\")\n",
    "# ** Choose appropriate prob_model based on your preprocessing **\n",
    "# 'Normal' or 'ZILN' for log-normalized RNA.\n",
    "# 'Normal', 'ZILN', or 'Bernoulli' for ATAC depending on preprocessing.\n",
    "try:\n",
    "    configure_dataset_cglue_soe( # Use the same config function name\n",
    "        adatas[\"rna\"],\n",
    "        prob_model=\"Normal\", # Adjust if needed (e.g., \"NB\" if using raw counts)\n",
    "        use_highly_variable=True, # Use selected HVGs\n",
    "        use_label=label_col, # Use the ordered label column\n",
    "        use_layer=None, # Assuming preprocessed data is in .X\n",
    "        use_rep=None,   # Or specify a representation like 'X_pca' if desired\n",
    "        use_obs_names=False # Data is unpaired\n",
    "    )\n",
    "    configure_dataset_cglue_soe( # Use the same config function name\n",
    "        adatas[\"atac\"],\n",
    "        prob_model=\"Bernoulli\", # Adjust based on ATAC preprocessing\n",
    "        use_highly_variable=True, # Use selected HVGs\n",
    "        use_label=label_col, # Use the ordered label column\n",
    "        use_layer=None, # Assuming preprocessed data is in .X\n",
    "        use_rep=None,   # Or specify a representation like 'X_lsi' if desired\n",
    "        use_obs_names=False # Data is unpaired\n",
    "    )\n",
    "    print(\"Datasets configured.\")\n",
    "except Exception as e:\n",
    "    print(f\"Error configuring datasets: {e}\")\n",
    "    sys.exit(1)\n"
   ]
  },
  {
   "cell_type": "code",
   "execution_count": 22,
   "id": "98d21146",
   "metadata": {
    "ExecuteTime": {
     "end_time": "2025-05-08T01:18:03.041736Z",
     "start_time": "2025-05-08T00:36:21.924364Z"
    }
   },
   "outputs": [
    {
     "name": "stdout",
     "output_type": "stream",
     "text": [
      "Initializing CGLUE-SOE-OT model...\n",
      "[INFO] autodevice: Using GPU 3 as computation device.\n",
      "Model initialized.\n",
      "Compiling model...\n",
      "Model compiled.\n",
      "Fitting model...\n"
     ]
    },
    {
     "name": "stderr",
     "output_type": "stream",
     "text": [
      " UserWarning:/home/sccancer/anaconda3/envs/CGLUE-SOE/lib/python3.9/site-packages/torch/optim/lr_scheduler.py:62: The verbose parameter is deprecated. Please use get_last_lr() to access the learning rate.\n",
      " FutureWarning:/home/sccancer/anaconda3/envs/CGLUE-SOE/lib/python3.9/abc.py:119: SparseDataset is deprecated and will be removed in late 2024. It has been replaced by the public classes CSRDataset and CSCDataset.\n",
      "\n",
      "For instance checks, use `isinstance(X, (anndata.experimental.CSRDataset, anndata.experimental.CSCDataset))` instead.\n",
      "\n",
      "For creation, use `anndata.experimental.sparse_dataset(X)` instead.\n",
      "\n"
     ]
    },
    {
     "name": "stdout",
     "output_type": "stream",
     "text": [
      "[INFO] CGLUESOE_OT_Trainer: [Epoch 10] Train={'x_rna_nll': '977.3746', 'x_rna_kl': '26.8259', 'x_rna_elbo': '980.0571', 'x_atac_nll': '10640.5913', 'x_atac_kl': '39.5122', 'x_atac_elbo': '10644.5425', 'triplet_loss': '0.0633', 'ot_loss': '80.5382', 'total_loss': '12058.9562'}, Val={'x_rna_nll': '958.1508', 'x_rna_kl': '26.6927', 'x_rna_elbo': '960.8201', 'x_atac_nll': '10512.7327', 'x_atac_kl': '30.0055', 'x_atac_elbo': '10515.7334', 'triplet_loss': '2.7025', 'ot_loss': '61.0337', 'total_loss': '13132.9632'}\n",
      "[INFO] CGLUESOE_OT_Trainer: [Epoch 20] Train={'x_rna_nll': '680.2906', 'x_rna_kl': '43.7104', 'x_rna_elbo': '684.6616', 'x_atac_nll': '9474.0501', 'x_atac_kl': '60.2666', 'x_atac_elbo': '9480.0767', 'triplet_loss': '0.0289', 'ot_loss': '63.0514', 'total_loss': '10494.4253'}, Val={'x_rna_nll': '660.0170', 'x_rna_kl': '43.9504', 'x_rna_elbo': '664.4120', 'x_atac_nll': '9417.2189', 'x_atac_kl': '51.0064', 'x_atac_elbo': '9422.3197', 'triplet_loss': '3.2761', 'ot_loss': '42.6506', 'total_loss': '11938.0190'}\n",
      "[INFO] CGLUESOE_OT_Trainer: [Epoch 30] Train={'x_rna_nll': '403.1055', 'x_rna_kl': '70.1721', 'x_rna_elbo': '410.1227', 'x_atac_nll': '8705.5732', 'x_atac_kl': '89.8649', 'x_atac_elbo': '8714.5597', 'triplet_loss': '0.0202', 'ot_loss': '58.2114', 'total_loss': '9425.8289'}, Val={'x_rna_nll': '383.6365', 'x_rna_kl': '71.3993', 'x_rna_elbo': '390.7764', 'x_atac_nll': '8735.3755', 'x_atac_kl': '79.4980', 'x_atac_elbo': '8743.3254', 'triplet_loss': '4.3335', 'ot_loss': '38.4939', 'total_loss': '11493.3066'}\n",
      "[INFO] CGLUESOE_OT_Trainer: [Epoch 40] Train={'x_rna_nll': '133.1727', 'x_rna_kl': '88.1565', 'x_rna_elbo': '141.9884', 'x_atac_nll': '8202.0099', 'x_atac_kl': '115.3222', 'x_atac_elbo': '8213.5421', 'triplet_loss': '0.0405', 'ot_loss': '57.2361', 'total_loss': '8661.9858'}, Val={'x_rna_nll': '110.9319', 'x_rna_kl': '87.6890', 'x_rna_elbo': '119.7008', 'x_atac_nll': '8294.8566', 'x_atac_kl': '107.6982', 'x_atac_elbo': '8305.6265', 'triplet_loss': '2.8985', 'ot_loss': '38.8076', 'total_loss': '10068.6198'}\n",
      "[INFO] CGLUESOE_OT_Trainer: [Epoch 50] Train={'x_rna_nll': '-133.6220', 'x_rna_kl': '98.7634', 'x_rna_elbo': '-123.7457', 'x_atac_nll': '7819.5425', 'x_atac_kl': '137.7595', 'x_atac_elbo': '7833.3184', 'triplet_loss': '0.0332', 'ot_loss': '57.8857', 'total_loss': '8015.5909'}, Val={'x_rna_nll': '-153.8852', 'x_rna_kl': '101.0128', 'x_rna_elbo': '-143.7839', 'x_atac_nll': '8004.9250', 'x_atac_kl': '125.8182', 'x_atac_elbo': '8017.5068', 'triplet_loss': '3.1408', 'ot_loss': '40.7955', 'total_loss': '9648.0946'}\n",
      "[INFO] CGLUESOE_OT_Trainer: [Epoch 60] Train={'x_rna_nll': '-386.6873', 'x_rna_kl': '107.9332', 'x_rna_elbo': '-375.8940', 'x_atac_nll': '7562.3734', 'x_atac_kl': '152.9529', 'x_atac_elbo': '7577.6687', 'triplet_loss': '0.0266', 'ot_loss': '57.5901', 'total_loss': '7503.0388'}, Val={'x_rna_nll': '-408.5440', 'x_rna_kl': '109.2981', 'x_rna_elbo': '-397.6142', 'x_atac_nll': '7841.7306', 'x_atac_kl': '139.8496', 'x_atac_elbo': '7855.7156', 'triplet_loss': '2.9417', 'ot_loss': '39.1717', 'total_loss': '9124.7922'}\n",
      "[INFO] CGLUESOE_OT_Trainer: [Epoch 70] Train={'x_rna_nll': '-633.5040', 'x_rna_kl': '113.9948', 'x_rna_elbo': '-622.1045', 'x_atac_nll': '7398.4078', 'x_atac_kl': '163.5213', 'x_atac_elbo': '7414.7599', 'triplet_loss': '0.0220', 'ot_loss': '56.4448', 'total_loss': '7085.8814'}, Val={'x_rna_nll': '-652.7397', 'x_rna_kl': '116.6668', 'x_rna_elbo': '-641.0730', 'x_atac_nll': '7761.6431', 'x_atac_kl': '149.6553', 'x_atac_elbo': '7776.6086', 'triplet_loss': '2.7337', 'ot_loss': '42.9158', 'total_loss': '8716.9780'}\n",
      "[INFO] CGLUESOE_OT_Trainer: [Epoch 80] Train={'x_rna_nll': '-861.6957', 'x_rna_kl': '117.5160', 'x_rna_elbo': '-849.9441', 'x_atac_nll': '7309.5148', 'x_atac_kl': '170.9928', 'x_atac_elbo': '7326.6141', 'triplet_loss': '0.0178', 'ot_loss': '52.3486', 'total_loss': '6747.3038'}, Val={'x_rna_nll': '-882.1265', 'x_rna_kl': '117.6153', 'x_rna_elbo': '-870.3650', 'x_atac_nll': '7715.2995', 'x_atac_kl': '156.4787', 'x_atac_elbo': '7730.9473', 'triplet_loss': '3.7771', 'ot_loss': '32.4345', 'total_loss': '8911.3211'}\n",
      "[INFO] CGLUESOE_OT_Trainer: [Epoch 90] Train={'x_rna_nll': '-1073.0089', 'x_rna_kl': '122.5400', 'x_rna_elbo': '-1060.7548', 'x_atac_nll': '7268.2690', 'x_atac_kl': '176.9656', 'x_atac_elbo': '7285.9656', 'triplet_loss': '0.0264', 'ot_loss': '52.0566', 'total_loss': '6498.6918'}, Val={'x_rna_nll': '-1093.9482', 'x_rna_kl': '122.6817', 'x_rna_elbo': '-1081.6801', 'x_atac_nll': '7711.6991', 'x_atac_kl': '161.6911', 'x_atac_elbo': '7727.8682', 'triplet_loss': '2.9249', 'ot_loss': '33.3402', 'total_loss': '8275.3513'}\n",
      "[INFO] CGLUESOE_OT_Trainer: [Epoch 100] Train={'x_rna_nll': '-1269.8721', 'x_rna_kl': '126.9916', 'x_rna_elbo': '-1257.1729', 'x_atac_nll': '7226.9699', 'x_atac_kl': '180.9199', 'x_atac_elbo': '7245.0619', 'triplet_loss': '0.0164', 'ot_loss': '51.7995', 'total_loss': '6255.1056'}, Val={'x_rna_nll': '-1283.2176', 'x_rna_kl': '128.8330', 'x_rna_elbo': '-1270.3343', 'x_atac_nll': '7690.6481', 'x_atac_kl': '165.8765', 'x_atac_elbo': '7707.2357', 'triplet_loss': '3.6874', 'ot_loss': '32.0125', 'total_loss': '8440.6549'}\n",
      "[INFO] CGLUESOE_OT_Trainer: [Epoch 110] Train={'x_rna_nll': '-1438.4031', 'x_rna_kl': '132.9267', 'x_rna_elbo': '-1425.1105', 'x_atac_nll': '7216.8437', 'x_atac_kl': '184.8810', 'x_atac_elbo': '7235.3318', 'triplet_loss': '0.0233', 'ot_loss': '50.9682', 'total_loss': '6076.7209'}, Val={'x_rna_nll': '-1446.0787', 'x_rna_kl': '135.1079', 'x_rna_elbo': '-1432.5679', 'x_atac_nll': '7717.6906', 'x_atac_kl': '166.6988', 'x_atac_elbo': '7734.3606', 'triplet_loss': '3.1423', 'ot_loss': '31.6524', 'total_loss': '8031.2058'}\n",
      "[INFO] CGLUESOE_OT_Trainer: [Epoch 120] Train={'x_rna_nll': '-1565.0429', 'x_rna_kl': '145.8716', 'x_rna_elbo': '-1550.4558', 'x_atac_nll': '7228.0305', 'x_atac_kl': '184.7188', 'x_atac_elbo': '7246.5023', 'triplet_loss': '0.0161', 'ot_loss': '43.9699', 'total_loss': '5923.9692'}, Val={'x_rna_nll': '-1576.3478', 'x_rna_kl': '147.7214', 'x_rna_elbo': '-1561.5756', 'x_atac_nll': '7711.5614', 'x_atac_kl': '169.9843', 'x_atac_elbo': '7728.5599', 'triplet_loss': '3.3635', 'ot_loss': '28.8184', 'total_loss': '7992.8494'}\n",
      "[INFO] CGLUESOE_OT_Trainer: [Epoch 130] Train={'x_rna_nll': '-1675.8783', 'x_rna_kl': '151.8732', 'x_rna_elbo': '-1660.6910', 'x_atac_nll': '7223.9172', 'x_atac_kl': '190.5122', 'x_atac_elbo': '7242.9684', 'triplet_loss': '0.0174', 'ot_loss': '35.4788', 'total_loss': '5768.3761'}, Val={'x_rna_nll': '-1677.4783', 'x_rna_kl': '154.4551', 'x_rna_elbo': '-1662.0328', 'x_atac_nll': '7715.7384', 'x_atac_kl': '180.7162', 'x_atac_elbo': '7733.8100', 'triplet_loss': '5.5808', 'ot_loss': '26.0450', 'total_loss': '8992.3927'}\n",
      "[INFO] CGLUESOE_OT_Trainer: [Epoch 140] Train={'x_rna_nll': '-1761.2303', 'x_rna_kl': '159.8826', 'x_rna_elbo': '-1745.2421', 'x_atac_nll': '7208.2450', 'x_atac_kl': '195.1308', 'x_atac_elbo': '7227.7581', 'triplet_loss': '0.0096', 'ot_loss': '30.4141', 'total_loss': '5639.3994'}, Val={'x_rna_nll': '-1748.2523', 'x_rna_kl': '161.1301', 'x_rna_elbo': '-1732.1393', 'x_atac_nll': '7713.4998', 'x_atac_kl': '180.3781', 'x_atac_elbo': '7731.5376', 'triplet_loss': '4.2458', 'ot_loss': '27.8654', 'total_loss': '8261.6318'}\n",
      "[INFO] CGLUESOE_OT_Trainer: [Epoch 150] Train={'x_rna_nll': '-1817.3230', 'x_rna_kl': '163.3792', 'x_rna_elbo': '-1800.9851', 'x_atac_nll': '7230.9397', 'x_atac_kl': '201.7072', 'x_atac_elbo': '7251.1104', 'triplet_loss': '0.0144', 'ot_loss': '27.5667', 'total_loss': '5595.1792'}, Val={'x_rna_nll': '-1790.2998', 'x_rna_kl': '169.8442', 'x_rna_elbo': '-1773.3154', 'x_atac_nll': '7728.1402', 'x_atac_kl': '185.7984', 'x_atac_elbo': '7746.7200', 'triplet_loss': '2.5660', 'ot_loss': '30.2832', 'total_loss': '7407.8140'}\n",
      "[INFO] CGLUESOE_OT_Trainer: [Epoch 160] Train={'x_rna_nll': '-1864.1619', 'x_rna_kl': '170.0164', 'x_rna_elbo': '-1847.1603', 'x_atac_nll': '7229.7534', 'x_atac_kl': '203.6118', 'x_atac_elbo': '7250.1146', 'triplet_loss': '0.0225', 'ot_loss': '25.0227', 'total_loss': '5539.3009'}, Val={'x_rna_nll': '-1812.6326', 'x_rna_kl': '173.7909', 'x_rna_elbo': '-1795.2535', 'x_atac_nll': '7743.2533', 'x_atac_kl': '188.8401', 'x_atac_elbo': '7762.1373', 'triplet_loss': '2.2144', 'ot_loss': '23.2133', 'total_loss': '7190.1628'}\n"
     ]
    },
    {
     "name": "stdout",
     "output_type": "stream",
     "text": [
      "[INFO] LRScheduler: Learning rate reduction: step 1\n",
      "[INFO] CGLUESOE_OT_Trainer: [Epoch 170] Train={'x_rna_nll': '-1871.3227', 'x_rna_kl': '168.0042', 'x_rna_elbo': '-1854.5223', 'x_atac_nll': '7201.4080', 'x_atac_kl': '204.8021', 'x_atac_elbo': '7221.8882', 'triplet_loss': '0.0137', 'ot_loss': '19.8198', 'total_loss': '5473.3075'}, Val={'x_rna_nll': '-1819.0757', 'x_rna_kl': '173.1334', 'x_rna_elbo': '-1801.7623', 'x_atac_nll': '7716.5530', 'x_atac_kl': '187.3117', 'x_atac_elbo': '7735.2842', 'triplet_loss': '3.3063', 'ot_loss': '32.3569', 'total_loss': '7748.4626'}\n",
      "[INFO] CGLUESOE_OT_Trainer: [Epoch 180] Train={'x_rna_nll': '-1869.4216', 'x_rna_kl': '168.4019', 'x_rna_elbo': '-1852.5814', 'x_atac_nll': '7202.7793', 'x_atac_kl': '205.8579', 'x_atac_elbo': '7223.3652', 'triplet_loss': '0.0112', 'ot_loss': '18.3470', 'total_loss': '5468.1337'}, Val={'x_rna_nll': '-1820.2228', 'x_rna_kl': '173.2899', 'x_rna_elbo': '-1802.8938', 'x_atac_nll': '7718.6269', 'x_atac_kl': '187.7403', 'x_atac_elbo': '7737.4008', 'triplet_loss': '3.8845', 'ot_loss': '27.1626', 'total_loss': '8012.5845'}\n",
      "[INFO] LRScheduler: Learning rate reduction: step 2\n",
      "[INFO] CGLUESOE_OT_Trainer: [Epoch 190] Train={'x_rna_nll': '-1879.5216', 'x_rna_kl': '168.6696', 'x_rna_elbo': '-1862.6547', 'x_atac_nll': '7237.0223', 'x_atac_kl': '206.1808', 'x_atac_elbo': '7257.6404', 'triplet_loss': '0.0119', 'ot_loss': '18.5068', 'total_loss': '5493.4936'}, Val={'x_rna_nll': '-1820.7455', 'x_rna_kl': '173.8642', 'x_rna_elbo': '-1803.3590', 'x_atac_nll': '7718.5478', 'x_atac_kl': '187.9773', 'x_atac_elbo': '7737.3455', 'triplet_loss': '3.3701', 'ot_loss': '28.1732', 'total_loss': '7759.9009'}\n",
      "[INFO] CGLUESOE_OT_Trainer: [Epoch 200] Train={'x_rna_nll': '-1884.2906', 'x_rna_kl': '168.3602', 'x_rna_elbo': '-1867.4546', 'x_atac_nll': '7191.2944', 'x_atac_kl': '205.3434', 'x_atac_elbo': '7211.8288', 'triplet_loss': '0.0098', 'ot_loss': '18.5967', 'total_loss': '5442.2512'}, Val={'x_rna_nll': '-1820.9009', 'x_rna_kl': '173.3457', 'x_rna_elbo': '-1803.5664', 'x_atac_nll': '7715.7466', 'x_atac_kl': '188.4883', 'x_atac_elbo': '7734.5954', 'triplet_loss': '3.7351', 'ot_loss': '27.1998', 'total_loss': '7934.5958'}\n",
      "[INFO] LRScheduler: Learning rate reduction: step 3\n",
      "[INFO] CGLUESOE_OT_Trainer: [Epoch 210] Train={'x_rna_nll': '-1879.3368', 'x_rna_kl': '168.8680', 'x_rna_elbo': '-1862.4500', 'x_atac_nll': '7202.3489', 'x_atac_kl': '205.1807', 'x_atac_elbo': '7222.8670', 'triplet_loss': '0.0054', 'ot_loss': '17.6973', 'total_loss': '5451.5998'}, Val={'x_rna_nll': '-1821.0627', 'x_rna_kl': '172.9133', 'x_rna_elbo': '-1803.7713', 'x_atac_nll': '7716.8372', 'x_atac_kl': '188.2122', 'x_atac_elbo': '7735.6584', 'triplet_loss': '3.6818', 'ot_loss': '26.7328', 'total_loss': '7906.4591'}\n",
      "[INFO] CGLUESOE_OT_Trainer: [Epoch 220] Train={'x_rna_nll': '-1880.5119', 'x_rna_kl': '168.3637', 'x_rna_elbo': '-1863.6756', 'x_atac_nll': '7196.9459', 'x_atac_kl': '205.8151', 'x_atac_elbo': '7217.5273', 'triplet_loss': '0.0088', 'ot_loss': '18.6339', 'total_loss': '5451.4408'}, Val={'x_rna_nll': '-1820.5941', 'x_rna_kl': '173.3906', 'x_rna_elbo': '-1803.2551', 'x_atac_nll': '7710.3568', 'x_atac_kl': '188.4709', 'x_atac_elbo': '7729.2039', 'triplet_loss': '3.6501', 'ot_loss': '27.6314', 'total_loss': '7889.1373'}\n",
      "[INFO] LRScheduler: Learning rate reduction: step 4\n",
      "[INFO] CGLUESOE_OT_Trainer: [Epoch 230] Train={'x_rna_nll': '-1873.9556', 'x_rna_kl': '168.9033', 'x_rna_elbo': '-1857.0653', 'x_atac_nll': '7202.2351', 'x_atac_kl': '206.0602', 'x_atac_elbo': '7222.8412', 'triplet_loss': '0.0054', 'ot_loss': '18.0561', 'total_loss': '5458.7589'}, Val={'x_rna_nll': '-1820.7204', 'x_rna_kl': '173.5435', 'x_rna_elbo': '-1803.3660', 'x_atac_nll': '7716.4001', 'x_atac_kl': '188.4264', 'x_atac_elbo': '7735.2428', 'triplet_loss': '3.6452', 'ot_loss': '27.5053', 'total_loss': '7891.9922'}\n",
      "[INFO] CGLUESOE_OT_Trainer: [Epoch 240] Train={'x_rna_nll': '-1875.1105', 'x_rna_kl': '168.7731', 'x_rna_elbo': '-1858.2332', 'x_atac_nll': '7191.6969', 'x_atac_kl': '206.3497', 'x_atac_elbo': '7212.3319', 'triplet_loss': '0.0012', 'ot_loss': '17.9433', 'total_loss': '5444.4044'}, Val={'x_rna_nll': '-1820.6137', 'x_rna_kl': '173.2054', 'x_rna_elbo': '-1803.2932', 'x_atac_nll': '7717.8397', 'x_atac_kl': '187.9414', 'x_atac_elbo': '7736.6339', 'triplet_loss': '3.7754', 'ot_loss': '27.2439', 'total_loss': '7957.2568'}\n",
      "[INFO] LRScheduler: Learning rate reduction: step 5\n",
      "[INFO] CGLUESOE_OT_Trainer: [Epoch 250] Train={'x_rna_nll': '-1876.5848', 'x_rna_kl': '168.9116', 'x_rna_elbo': '-1859.6936', 'x_atac_nll': '7188.2806', 'x_atac_kl': '205.9355', 'x_atac_elbo': '7208.8741', 'triplet_loss': '0.0126', 'ot_loss': '18.2225', 'total_loss': '5446.5849'}, Val={'x_rna_nll': '-1820.5472', 'x_rna_kl': '173.5889', 'x_rna_elbo': '-1803.1883', 'x_atac_nll': '7712.9944', 'x_atac_kl': '188.1969', 'x_atac_elbo': '7731.8140', 'triplet_loss': '3.5743', 'ot_loss': '28.0987', 'total_loss': '7856.2642'}\n",
      "[INFO] CGLUESOE_OT_Trainer: [Epoch 260] Train={'x_rna_nll': '-1883.3601', 'x_rna_kl': '168.6992', 'x_rna_elbo': '-1866.4902', 'x_atac_nll': '7198.7078', 'x_atac_kl': '206.0735', 'x_atac_elbo': '7219.3152', 'triplet_loss': '0.0075', 'ot_loss': '17.6759', 'total_loss': '5444.9439'}, Val={'x_rna_nll': '-1820.7332', 'x_rna_kl': '172.7851', 'x_rna_elbo': '-1803.4547', 'x_atac_nll': '7718.7937', 'x_atac_kl': '188.0418', 'x_atac_elbo': '7737.5979', 'triplet_loss': '3.7685', 'ot_loss': '26.8954', 'total_loss': '7952.8712'}\n",
      "[INFO] CGLUESOE_OT_Trainer: [Epoch 270] Train={'x_rna_nll': '-1877.5297', 'x_rna_kl': '168.5341', 'x_rna_elbo': '-1860.6763', 'x_atac_nll': '7193.6767', 'x_atac_kl': '206.1215', 'x_atac_elbo': '7214.2888', 'triplet_loss': '0.0146', 'ot_loss': '17.6982', 'total_loss': '5449.4267'}, Val={'x_rna_nll': '-1821.0148', 'x_rna_kl': '173.4383', 'x_rna_elbo': '-1803.6709', 'x_atac_nll': '7715.2056', 'x_atac_kl': '188.3694', 'x_atac_elbo': '7734.0427', 'triplet_loss': '3.5607', 'ot_loss': '27.4976', 'total_loss': '7848.1962'}\n",
      "[INFO] CGLUESOE_OT_Trainer: [Epoch 280] Train={'x_rna_nll': '-1879.0658', 'x_rna_kl': '168.6516', 'x_rna_elbo': '-1862.2007', 'x_atac_nll': '7181.0320', 'x_atac_kl': '205.8325', 'x_atac_elbo': '7201.6153', 'triplet_loss': '0.0042', 'ot_loss': '17.6989', 'total_loss': '5430.0219'}, Val={'x_rna_nll': '-1820.7695', 'x_rna_kl': '173.4872', 'x_rna_elbo': '-1803.4208', 'x_atac_nll': '7714.7141', 'x_atac_kl': '188.3467', 'x_atac_elbo': '7733.5487', 'triplet_loss': '3.6320', 'ot_loss': '27.6706', 'total_loss': '7884.4926'}\n",
      "[INFO] CGLUESOE_OT_Trainer: [Epoch 290] Train={'x_rna_nll': '-1877.2423', 'x_rna_kl': '168.5194', 'x_rna_elbo': '-1860.3904', 'x_atac_nll': '7171.2662', 'x_atac_kl': '206.3933', 'x_atac_elbo': '7191.9055', 'triplet_loss': '0.0127', 'ot_loss': '17.2459', 'total_loss': '5424.0841'}, Val={'x_rna_nll': '-1820.7829', 'x_rna_kl': '173.9331', 'x_rna_elbo': '-1803.3896', 'x_atac_nll': '7712.0986', 'x_atac_kl': '188.2271', 'x_atac_elbo': '7730.9212', 'triplet_loss': '3.5568', 'ot_loss': '28.7511', 'total_loss': '7849.7069'}\n",
      "[INFO] CGLUESOE_OT_Trainer: [Epoch 300] Train={'x_rna_nll': '-1876.9219', 'x_rna_kl': '168.9361', 'x_rna_elbo': '-1860.0283', 'x_atac_nll': '7209.6666', 'x_atac_kl': '206.1060', 'x_atac_elbo': '7230.2772', 'triplet_loss': '0.0080', 'ot_loss': '17.0914', 'total_loss': '5459.7240'}, Val={'x_rna_nll': '-1820.6062', 'x_rna_kl': '173.1492', 'x_rna_elbo': '-1803.2913', 'x_atac_nll': '7714.1334', 'x_atac_kl': '188.5023', 'x_atac_elbo': '7732.9836', 'triplet_loss': '3.8518', 'ot_loss': '27.0613', 'total_loss': '7990.8953'}\n",
      "[INFO] CGLUESOE_OT_Trainer: [Epoch 310] Train={'x_rna_nll': '-1873.1890', 'x_rna_kl': '168.5106', 'x_rna_elbo': '-1856.3379', 'x_atac_nll': '7190.5476', 'x_atac_kl': '206.0405', 'x_atac_elbo': '7211.1517', 'triplet_loss': '0.0110', 'ot_loss': '17.7427', 'total_loss': '5449.0354'}, Val={'x_rna_nll': '-1820.5558', 'x_rna_kl': '173.2669', 'x_rna_elbo': '-1803.2291', 'x_atac_nll': '7713.9413', 'x_atac_kl': '188.2291', 'x_atac_elbo': '7732.7642', 'triplet_loss': '3.6805', 'ot_loss': '27.3562', 'total_loss': '7906.5677'}\n",
      "[INFO] CGLUESOE_OT_Trainer: [Epoch 320] Train={'x_rna_nll': '-1882.5686', 'x_rna_kl': '168.4228', 'x_rna_elbo': '-1865.7263', 'x_atac_nll': '7204.2322', 'x_atac_kl': '205.4783', 'x_atac_elbo': '7224.7800', 'triplet_loss': '0.0091', 'ot_loss': '17.9606', 'total_loss': '5453.3899'}, Val={'x_rna_nll': '-1820.6343', 'x_rna_kl': '173.6084', 'x_rna_elbo': '-1803.2735', 'x_atac_nll': '7716.9467', 'x_atac_kl': '188.2447', 'x_atac_elbo': '7735.7712', 'triplet_loss': '3.6128', 'ot_loss': '27.4446', 'total_loss': '7876.1440'}\n"
     ]
    },
    {
     "name": "stdout",
     "output_type": "stream",
     "text": [
      "[INFO] CGLUESOE_OT_Trainer: [Epoch 330] Train={'x_rna_nll': '-1877.6861', 'x_rna_kl': '168.9802', 'x_rna_elbo': '-1860.7881', 'x_atac_nll': '7180.2607', 'x_atac_kl': '205.9551', 'x_atac_elbo': '7200.8562', 'triplet_loss': '0.0037', 'ot_loss': '18.3030', 'total_loss': '5433.4197'}, Val={'x_rna_nll': '-1820.7399', 'x_rna_kl': '173.0594', 'x_rna_elbo': '-1803.4340', 'x_atac_nll': '7711.8325', 'x_atac_kl': '188.3617', 'x_atac_elbo': '7730.6686', 'triplet_loss': '3.8465', 'ot_loss': '27.0838', 'total_loss': '7985.9198'}\n",
      "[INFO] CGLUESOE_OT_Trainer: [Epoch 340] Train={'x_rna_nll': '-1879.4664', 'x_rna_kl': '168.8309', 'x_rna_elbo': '-1862.5833', 'x_atac_nll': '7183.0640', 'x_atac_kl': '206.4773', 'x_atac_elbo': '7203.7117', 'triplet_loss': '0.0120', 'ot_loss': '17.8988', 'total_loss': '5436.6179'}, Val={'x_rna_nll': '-1820.8899', 'x_rna_kl': '172.9415', 'x_rna_elbo': '-1803.5957', 'x_atac_nll': '7713.7835', 'x_atac_kl': '188.1434', 'x_atac_elbo': '7732.5979', 'triplet_loss': '3.8598', 'ot_loss': '27.0904', 'total_loss': '7994.3491'}\n",
      "[INFO] CGLUESOE_OT_Trainer: [Epoch 350] Train={'x_rna_nll': '-1884.2653', 'x_rna_kl': '169.1685', 'x_rna_elbo': '-1867.3485', 'x_atac_nll': '7204.0864', 'x_atac_kl': '205.9318', 'x_atac_elbo': '7224.6797', 'triplet_loss': '0.0066', 'ot_loss': '18.1866', 'total_loss': '5451.5531'}, Val={'x_rna_nll': '-1820.9793', 'x_rna_kl': '172.6005', 'x_rna_elbo': '-1803.7193', 'x_atac_nll': '7714.1536', 'x_atac_kl': '188.3556', 'x_atac_elbo': '7732.9893', 'triplet_loss': '3.6563', 'ot_loss': '26.3293', 'total_loss': '7889.0442'}\n",
      "[INFO] CGLUESOE_OT_Trainer: [Epoch 360] Train={'x_rna_nll': '-1867.7662', 'x_rna_kl': '168.7155', 'x_rna_elbo': '-1850.8947', 'x_atac_nll': '7173.6271', 'x_atac_kl': '205.7500', 'x_atac_elbo': '7194.2020', 'triplet_loss': '0.0062', 'ot_loss': '17.8423', 'total_loss': '5435.6104'}, Val={'x_rna_nll': '-1820.6998', 'x_rna_kl': '173.8685', 'x_rna_elbo': '-1803.3130', 'x_atac_nll': '7715.5990', 'x_atac_kl': '188.1986', 'x_atac_elbo': '7734.4188', 'triplet_loss': '3.5047', 'ot_loss': '28.0750', 'total_loss': '7823.8415'}\n",
      "[INFO] CGLUESOE_OT_Trainer: [Epoch 370] Train={'x_rna_nll': '-1880.4858', 'x_rna_kl': '168.9403', 'x_rna_elbo': '-1863.5917', 'x_atac_nll': '7205.0839', 'x_atac_kl': '206.0504', 'x_atac_elbo': '7225.6890', 'triplet_loss': '0.0085', 'ot_loss': '18.1389', 'total_loss': '5457.0545'}, Val={'x_rna_nll': '-1820.7003', 'x_rna_kl': '173.3614', 'x_rna_elbo': '-1803.3641', 'x_atac_nll': '7717.1435', 'x_atac_kl': '188.2786', 'x_atac_elbo': '7735.9714', 'triplet_loss': '3.7880', 'ot_loss': '27.4487', 'total_loss': '7963.8526'}\n",
      "[INFO] CGLUESOE_OT_Trainer: [Epoch 380] Train={'x_rna_nll': '-1879.6624', 'x_rna_kl': '168.7025', 'x_rna_elbo': '-1862.7922', 'x_atac_nll': '7174.7477', 'x_atac_kl': '206.1928', 'x_atac_elbo': '7195.3670', 'triplet_loss': '0.0070', 'ot_loss': '17.8797', 'total_loss': '5425.4860'}, Val={'x_rna_nll': '-1820.7377', 'x_rna_kl': '173.5843', 'x_rna_elbo': '-1803.3793', 'x_atac_nll': '7711.3451', 'x_atac_kl': '188.3840', 'x_atac_elbo': '7730.1834', 'triplet_loss': '3.7984', 'ot_loss': '28.0201', 'total_loss': '7966.1070'}\n",
      "[INFO] CGLUESOE_OT_Trainer: [Epoch 390] Train={'x_rna_nll': '-1880.4571', 'x_rna_kl': '169.1269', 'x_rna_elbo': '-1863.5445', 'x_atac_nll': '7190.0439', 'x_atac_kl': '205.5488', 'x_atac_elbo': '7210.5987', 'triplet_loss': '0.0081', 'ot_loss': '18.7209', 'total_loss': '5444.6876'}, Val={'x_rna_nll': '-1820.7400', 'x_rna_kl': '173.3438', 'x_rna_elbo': '-1803.4056', 'x_atac_nll': '7715.8014', 'x_atac_kl': '188.2630', 'x_atac_elbo': '7734.6277', 'triplet_loss': '3.6518', 'ot_loss': '27.1279', 'total_loss': '7892.7507'}\n",
      "[INFO] CGLUESOE_OT_Trainer: [Epoch 400] Train={'x_rna_nll': '-1876.3516', 'x_rna_kl': '168.5027', 'x_rna_elbo': '-1859.5014', 'x_atac_nll': '7187.3007', 'x_atac_kl': '206.4458', 'x_atac_elbo': '7207.9453', 'triplet_loss': '0.0065', 'ot_loss': '17.9455', 'total_loss': '5441.4364'}, Val={'x_rna_nll': '-1820.5333', 'x_rna_kl': '174.5251', 'x_rna_elbo': '-1803.0808', 'x_atac_nll': '7712.8747', 'x_atac_kl': '188.4494', 'x_atac_elbo': '7731.7196', 'triplet_loss': '3.5645', 'ot_loss': '29.0310', 'total_loss': '7856.0401'}\n",
      "[INFO] CGLUESOE_OT_Trainer: [Epoch 410] Train={'x_rna_nll': '-1889.3268', 'x_rna_kl': '168.8502', 'x_rna_elbo': '-1872.4418', 'x_atac_nll': '7188.9183', 'x_atac_kl': '205.9409', 'x_atac_elbo': '7209.5124', 'triplet_loss': '0.0126', 'ot_loss': '17.6464', 'total_loss': '5431.6000'}, Val={'x_rna_nll': '-1820.9027', 'x_rna_kl': '172.9805', 'x_rna_elbo': '-1803.6046', 'x_atac_nll': '7714.8051', 'x_atac_kl': '188.1527', 'x_atac_elbo': '7733.6204', 'triplet_loss': '3.6579', 'ot_loss': '26.8369', 'total_loss': '7893.1296'}\n",
      "[INFO] CGLUESOE_OT_Trainer: [Epoch 420] Train={'x_rna_nll': '-1887.7993', 'x_rna_kl': '169.0781', 'x_rna_elbo': '-1870.8915', 'x_atac_nll': '7164.0853', 'x_atac_kl': '205.5400', 'x_atac_elbo': '7184.6393', 'triplet_loss': '0.0098', 'ot_loss': '17.6369', 'total_loss': '5406.8553'}, Val={'x_rna_nll': '-1820.9978', 'x_rna_kl': '174.0323', 'x_rna_elbo': '-1803.5946', 'x_atac_nll': '7713.3009', 'x_atac_kl': '188.3198', 'x_atac_elbo': '7732.1328', 'triplet_loss': '3.4623', 'ot_loss': '28.2953', 'total_loss': '7801.1410'}\n",
      "[INFO] CGLUESOE_OT_Trainer: [Epoch 430] Train={'x_rna_nll': '-1886.0954', 'x_rna_kl': '168.6378', 'x_rna_elbo': '-1869.2317', 'x_atac_nll': '7184.7390', 'x_atac_kl': '206.0292', 'x_atac_elbo': '7205.3418', 'triplet_loss': '0.0088', 'ot_loss': '18.2082', 'total_loss': '5431.5573'}, Val={'x_rna_nll': '-1820.5325', 'x_rna_kl': '173.6655', 'x_rna_elbo': '-1803.1660', 'x_atac_nll': '7716.5838', 'x_atac_kl': '188.2141', 'x_atac_elbo': '7735.4053', 'triplet_loss': '3.6939', 'ot_loss': '27.6414', 'total_loss': '7917.4101'}\n",
      "[INFO] CGLUESOE_OT_Trainer: [Epoch 440] Train={'x_rna_nll': '-1864.2785', 'x_rna_kl': '168.5044', 'x_rna_elbo': '-1847.4280', 'x_atac_nll': '7213.1061', 'x_atac_kl': '205.7179', 'x_atac_elbo': '7233.6779', 'triplet_loss': '0.0139', 'ot_loss': '18.6959', 'total_loss': '5486.6639'}, Val={'x_rna_nll': '-1820.6333', 'x_rna_kl': '172.9479', 'x_rna_elbo': '-1803.3385', 'x_atac_nll': '7713.5117', 'x_atac_kl': '188.1907', 'x_atac_elbo': '7732.3307', 'triplet_loss': '3.5310', 'ot_loss': '27.0008', 'total_loss': '7829.4954'}\n",
      "[INFO] CGLUESOE_OT_Trainer: [Epoch 450] Train={'x_rna_nll': '-1875.4652', 'x_rna_kl': '169.0696', 'x_rna_elbo': '-1858.5583', 'x_atac_nll': '7231.8907', 'x_atac_kl': '206.1530', 'x_atac_elbo': '7252.5061', 'triplet_loss': '0.0152', 'ot_loss': '18.6926', 'total_loss': '5495.0254'}, Val={'x_rna_nll': '-1820.7546', 'x_rna_kl': '173.0545', 'x_rna_elbo': '-1803.4492', 'x_atac_nll': '7717.8989', 'x_atac_kl': '188.1476', 'x_atac_elbo': '7736.7138', 'triplet_loss': '3.6921', 'ot_loss': '26.9290', 'total_loss': '7913.9708'}\n",
      "[INFO] CGLUESOE_OT_Trainer: [Epoch 460] Train={'x_rna_nll': '-1883.8730', 'x_rna_kl': '169.0152', 'x_rna_elbo': '-1866.9715', 'x_atac_nll': '7214.1176', 'x_atac_kl': '206.3915', 'x_atac_elbo': '7234.7568', 'triplet_loss': '0.0023', 'ot_loss': '18.1024', 'total_loss': '5459.4678'}, Val={'x_rna_nll': '-1820.5277', 'x_rna_kl': '173.4948', 'x_rna_elbo': '-1803.1782', 'x_atac_nll': '7717.7782', 'x_atac_kl': '188.1210', 'x_atac_elbo': '7736.5903', 'triplet_loss': '3.6835', 'ot_loss': '27.7131', 'total_loss': '7913.7384'}\n",
      "[INFO] CGLUESOE_OT_Trainer: [Epoch 470] Train={'x_rna_nll': '-1876.6432', 'x_rna_kl': '168.4782', 'x_rna_elbo': '-1859.7954', 'x_atac_nll': '7216.6458', 'x_atac_kl': '206.1165', 'x_atac_elbo': '7237.2575', 'triplet_loss': '0.0109', 'ot_loss': '17.8557', 'total_loss': '5472.2022'}, Val={'x_rna_nll': '-1820.7376', 'x_rna_kl': '173.0851', 'x_rna_elbo': '-1803.4291', 'x_atac_nll': '7714.6647', 'x_atac_kl': '188.1778', 'x_atac_elbo': '7733.4825', 'triplet_loss': '3.6677', 'ot_loss': '27.3000', 'total_loss': '7900.4033'}\n",
      "[INFO] CGLUESOE_OT_Trainer: [Epoch 480] Train={'x_rna_nll': '-1870.3846', 'x_rna_kl': '168.6685', 'x_rna_elbo': '-1853.5177', 'x_atac_nll': '7185.3987', 'x_atac_kl': '205.9951', 'x_atac_elbo': '7205.9982', 'triplet_loss': '0.0046', 'ot_loss': '17.0784', 'total_loss': '5440.1880'}, Val={'x_rna_nll': '-1820.6570', 'x_rna_kl': '173.0581', 'x_rna_elbo': '-1803.3511', 'x_atac_nll': '7713.0276', 'x_atac_kl': '188.3338', 'x_atac_elbo': '7731.8609', 'triplet_loss': '3.6958', 'ot_loss': '27.1092', 'total_loss': '7911.9551'}\n"
     ]
    },
    {
     "name": "stdout",
     "output_type": "stream",
     "text": [
      "[INFO] CGLUESOE_OT_Trainer: [Epoch 490] Train={'x_rna_nll': '-1874.3432', 'x_rna_kl': '168.9249', 'x_rna_elbo': '-1857.4508', 'x_atac_nll': '7213.6892', 'x_atac_kl': '205.8440', 'x_atac_elbo': '7234.2736', 'triplet_loss': '0.0063', 'ot_loss': '18.5229', 'total_loss': '5472.5628'}, Val={'x_rna_nll': '-1820.8093', 'x_rna_kl': '173.1876', 'x_rna_elbo': '-1803.4905', 'x_atac_nll': '7714.7899', 'x_atac_kl': '188.3396', 'x_atac_elbo': '7733.6238', 'triplet_loss': '3.6924', 'ot_loss': '26.9996', 'total_loss': '7911.3501'}\n",
      "[INFO] CGLUESOE_OT_Trainer: [Epoch 500] Train={'x_rna_nll': '-1872.1138', 'x_rna_kl': '169.0698', 'x_rna_elbo': '-1855.2068', 'x_atac_nll': '7167.0627', 'x_atac_kl': '206.2995', 'x_atac_elbo': '7187.6926', 'triplet_loss': '0.0126', 'ot_loss': '18.6438', 'total_loss': '5432.0045'}, Val={'x_rna_nll': '-1820.7455', 'x_rna_kl': '173.2171', 'x_rna_elbo': '-1803.4237', 'x_atac_nll': '7713.8394', 'x_atac_kl': '188.1717', 'x_atac_elbo': '7732.6566', 'triplet_loss': '3.6905', 'ot_loss': '27.6129', 'total_loss': '7912.5286'}\n",
      "Model fitting finished.\n"
     ]
    }
   ],
   "source": [
    "\n",
    "\n",
    "# --- 5. Initialize CGLUE-SOE-OT Model ---\n",
    "print(\"Initializing CGLUE-SOE-OT model...\")\n",
    "try:\n",
    "    model = CGLUESOE_OT_Model(\n",
    "        adatas=adatas,\n",
    "        x2u_h_depth=2, \n",
    "        x2u_h_dim=256,                 \n",
    "        u2x_h_depth=2, \n",
    "        u2x_h_dim=256, \n",
    "        dropout=0.2,\n",
    "        vertices=vertices.tolist(), # Pass the combined feature list\n",
    "        latent_dim=50, # Example latent dimension, adjust as needed\n",
    "        random_seed=SEED\n",
    "    )\n",
    "    print(\"Model initialized.\")\n",
    "except Exception as e:\n",
    "    print(f\"Error initializing model: {e}\")\n",
    "    sys.exit(1)\n",
    "\n",
    "# --- 6. Compile Model ---\n",
    "print(\"Compiling model...\")\n",
    "Times = '6'\n",
    "lam_kl=0.1           # Weight for KL divergence regularization 调低有利于聚类更紧密\n",
    "lam_data=1.0         # Weight for data reconstruction loss 调高有利于聚类更紧密\n",
    "lam_triplet=500      # Weight for triplet loss (NEEDS TUNING)\n",
    "lam_ot=5.0           # Weight for Optimal Transport loss (NEEDS TUNING)\n",
    "triplet_margin=6   # Margin for triplet loss (NEEDS TUNING)有可能数据本身就是按照时间序列排序的\n",
    "ot_epsilon=0.1       # OT Sinkhorn regularization (NEEDS TUNING) 较小的值 (如当前的 0.1) 匹配更精确，但也可能对噪声更敏感\n",
    "ot_tau=1.0          # OT Sinkhorn unbalancedness (NEEDS TUNING)\n",
    "ot_max_iter=100\n",
    "\n",
    "max_epochs=500\n",
    "# ** Tune hyperparameters, especially loss weights **\n",
    "try:\n",
    "    model.compile(\n",
    "        lr=1e-3,              # Learning rate for the single optimizer\n",
    "        # lam_graph removed\n",
    "        # lam_align removed\n",
    "        # dsc_lr removed\n",
    "        # train_ratio removed\n",
    "        lam_kl=lam_kl,           # Weight for KL divergence regularization 调低有利于聚类更紧密\n",
    "        lam_data=lam_data,         # Weight for data reconstruction loss 调高有利于聚类更紧密\n",
    "        lam_triplet=lam_triplet,      # Weight for triplet loss (NEEDS TUNING)\n",
    "        lam_ot=lam_ot,           # Weight for Optimal Transport loss (NEEDS TUNING)\n",
    "        triplet_margin=triplet_margin,   # Margin for triplet loss (NEEDS TUNING)有可能数据本身就是按照时间序列排序的\n",
    "        ot_epsilon=ot_epsilon,       # OT Sinkhorn regularization (NEEDS TUNING) 较小的值 (如当前的 0.1) 匹配更精确，但也可能对噪声更敏感\n",
    "        ot_tau=ot_tau,           # OT Sinkhorn unbalancedness (NEEDS TUNING)\n",
    "        ot_max_iter=ot_max_iter,      # OT Sinkhorn iterations\n",
    "         #weight_decay=1e-5   # Example: Add optimizer args directly\n",
    "    )\n",
    "    print(\"Model compiled.\")\n",
    "except Exception as e:\n",
    "    print(f\"Error compiling model: {e}\")\n",
    "    sys.exit(1)\n",
    "\n",
    "# --- 7. Train Model ---\n",
    "print(\"Fitting model...\")\n",
    "# Fit the model (No GraphDataset needed)\n",
    "# Adjust training parameters as needed\n",
    "try:\n",
    "    model.fit(\n",
    "        adatas=adatas,            # Pass adatas dictionary\n",
    "        # graph removed\n",
    "        val_split=0.2,            # Use 10% of data for validation\n",
    "        data_batch_size=256,      # Adjust based on memory\n",
    "        # graph_batch_size removed\n",
    "        max_epochs=max_epochs,           # Set a reasonable number of epochs\n",
    "        patience=35,              # Early stopping patience\n",
    "        reduce_lr_patience=20,    # LR scheduling patience\n",
    "        wait_n_lrs=3,             # Wait for LR reductions before stopping\n",
    "        num_workers=0,            # Set > 0 for parallel data loading if needed\n",
    "        directory=SAVE_DIR        # Directory for logs and checkpoints\n",
    "    )\n",
    "    print(\"Model fitting finished.\")\n",
    "except Exception as e:\n",
    "    print(f\"An error occurred during model fitting: {e}\")\n",
    "    import traceback\n",
    "    traceback.print_exc()\n",
    "    sys.exit(1)\n",
    "\n",
    "\n"
   ]
  },
  {
   "cell_type": "code",
   "execution_count": 23,
   "id": "46f6fdfd",
   "metadata": {
    "ExecuteTime": {
     "end_time": "2025-05-08T01:18:23.598542Z",
     "start_time": "2025-05-08T01:18:03.045587Z"
    }
   },
   "outputs": [
    {
     "name": "stdout",
     "output_type": "stream",
     "text": [
      "Extracting embeddings...\n",
      "RNA embeddings shape: (4553, 50)\n",
      "ATAC embeddings shape: (1874, 50)\n",
      "Feature embeddings shape: (17045, 50)\n",
      "Saving final model to cglue_soe_ot_Fallopian_tube_output/cglue_soe_ot_final_model.dill\n",
      "[INFO] CGLUESOE_OT_Model: Model state saved to cglue_soe_ot_Fallopian_tube_output/cglue_soe_ot_final_model.dill\n",
      "Generating UMAP visualization...\n",
      "Running neighbors and UMAP...\n"
     ]
    },
    {
     "name": "stderr",
     "output_type": "stream",
     "text": [
      " FutureWarning:/home/sccancer/anaconda3/envs/CGLUE-SOE/lib/python3.9/site-packages/anndata/_core/anndata.py:402: The dtype argument is deprecated and will be removed in late 2024.\n"
     ]
    },
    {
     "name": "stdout",
     "output_type": "stream",
     "text": [
      "Plotting UMAP...\n",
      "WARNING: saving figure to file figures/umap_cglue_soe_ot_Fallopian_natural_killer_cell_6_results.png\n",
      "UMAP plots saved to figures/ directory (_cglue_soe_ot_Fallopian_natural_killer_cell_6_results.png).\n",
      "Script finished.\n"
     ]
    }
   ],
   "source": [
    "# --- 8. Post-Training Analysis ---\n",
    "print(\"Extracting embeddings...\")\n",
    "try:\n",
    "    # Use a different key for the new model's embeddings\n",
    "    embedding_key = \"X_cgluesoe_ot\"\n",
    "    rna_adata.obsm[embedding_key] = model.encode_data(\"rna\", rna_adata)\n",
    "    atac_adata.obsm[embedding_key] = model.encode_data(\"atac\", atac_adata)\n",
    "\n",
    "    # Get feature embeddings from the nn.Embedding layer\n",
    "    feature_embeddings = model.get_feature_embeddings()\n",
    "    feature_embeddings_df = pd.DataFrame(feature_embeddings, index=model.vertices)\n",
    "\n",
    "    print(\"RNA embeddings shape:\", rna_adata.obsm[embedding_key].shape)\n",
    "    print(\"ATAC embeddings shape:\", atac_adata.obsm[embedding_key].shape)\n",
    "    print(\"Feature embeddings shape:\", feature_embeddings_df.shape)\n",
    "\n",
    "    # --- Optional: Save model and embeddings ---\n",
    "    final_model_path = os.path.join(SAVE_DIR, \"cglue_soe_ot_final_model.dill\")\n",
    "    print(f\"Saving final model to {final_model_path}\")\n",
    "    model.save(final_model_path)\n",
    "\n",
    "    rna_save_path = os.path.join(SAVE_DIR, \"rna_adata_with_embeddings.h5ad\")\n",
    "    atac_save_path = os.path.join(SAVE_DIR, \"atac_adata_with_embeddings.h5ad\")\n",
    "    feat_save_path = os.path.join(SAVE_DIR, \"feature_embeddings.csv\")\n",
    "\n",
    "    # print(f\"Saving RNA AnnData to {rna_save_path}\")\n",
    "    # rna_adata.write_h5ad(rna_save_path)\n",
    "    # print(f\"Saving ATAC AnnData to {atac_save_path}\")\n",
    "    # atac_adata.write_h5ad(atac_save_path)\n",
    "    # print(f\"Saving feature embeddings to {feat_save_path}\")\n",
    "    # feature_embeddings_df.to_csv(feat_save_path)\n",
    "\n",
    "\n",
    "    # --- Optional: Visualization (UMAP) ---\n",
    "    print(\"Generating UMAP visualization...\")\n",
    "    # Combine embeddings and obs for visualization\n",
    "    all_embeddings = np.concatenate([rna_adata.obsm[embedding_key], atac_adata.obsm[embedding_key]], axis=0)\n",
    "    all_obs = pd.concat([\n",
    "        rna_adata.obs[[label_col]].assign(modality='rna'), # Use label_col\n",
    "        atac_adata.obs[[label_col]].assign(modality='atac') # Use label_col\n",
    "    ], axis=0)\n",
    "    # Create combined obs_names for the visualization AnnData\n",
    "    vis_obs_names = rna_adata.obs_names.tolist() + atac_adata.obs_names.tolist()\n",
    "    if len(vis_obs_names) != len(all_obs): # Basic check\n",
    "         print(f\"Warning: Length mismatch between obs_names ({len(vis_obs_names)}) and combined obs ({len(all_obs)}). Using default index.\")\n",
    "         vis_obs_names = pd.RangeIndex(start=0, stop=len(all_obs), step=1)\n",
    "\n",
    "\n",
    "    vis_adata = ad.AnnData(all_embeddings, dtype=all_embeddings.dtype) # Ensure dtype is set\n",
    "    vis_adata.obs = all_obs\n",
    "    vis_adata.obs_names = vis_obs_names # Assign combined names\n",
    "    vis_adata.obsm['X_cgluesoe_ot'] = all_embeddings # Store for scanpy functions\n",
    "\n",
    "    print(\"Running neighbors and UMAP...\")\n",
    "    sc.pp.neighbors(vis_adata, use_rep='X_cgluesoe_ot', n_neighbors=15, random_state=SEED)\n",
    "    sc.tl.umap(vis_adata, min_dist=0.3, random_state=SEED) # Adjust min_dist for spread\n",
    "\n",
    "    print(\"Plotting UMAP...\")\n",
    "    umap_save_path = f'_cglue_soe_ot_Fallopian_natural_killer_cell_{Times}_results.png' # Updated filename\n",
    "    sc.pl.umap(\n",
    "        vis_adata,\n",
    "        color=['modality', label_col], # Color by label_col\n",
    "        title=['UMAP by Modality', f'UMAP by {label_col.capitalize()}'],\n",
    "        save=umap_save_path,\n",
    "        show=False # Set to True to display interactively if possible\n",
    "    )\n",
    "    print(f\"UMAP plots saved to figures/ directory ({umap_save_path}).\")\n",
    "\n",
    "except Exception as e:\n",
    "    print(f\"An error occurred during post-training analysis: {e}\")\n",
    "    import traceback\n",
    "    traceback.print_exc()\n",
    "\n",
    "print(\"Script finished.\")"
   ]
  },
  {
   "cell_type": "code",
   "execution_count": 24,
   "id": "35ce8ce2",
   "metadata": {
    "ExecuteTime": {
     "end_time": "2025-05-08T01:18:24.428162Z",
     "start_time": "2025-05-08T01:18:23.607140Z"
    }
   },
   "outputs": [
    {
     "name": "stdout",
     "output_type": "stream",
     "text": [
      "Plotting loss curves...\n",
      "[INFO] CGLUESOE_OT_Model: Loss curves saved to cglue_soe_ot_Fallopian_tube_output/cglue_soe_ot_loss_curves_Fallopian_natural_killer_cell_6.png\n",
      "Loss curves saved to cglue_soe_ot_Fallopian_tube_output/cglue_soe_ot_loss_curves_Fallopian_natural_killer_cell_6.png\n"
     ]
    }
   ],
   "source": [
    "print(\"Plotting loss curves...\")\n",
    "try:\n",
    "    # Define where to save the plot\n",
    "    loss_plot_path = os.path.join(SAVE_DIR, f\"cglue_soe_ot_loss_curves_Fallopian_natural_killer_cell_{Times}.png\")\n",
    "    # Call the plotting method\n",
    "    model.plot_loss_curves(save_path=loss_plot_path)\n",
    "    print(f\"Loss curves saved to {loss_plot_path}\")\n",
    "except Exception as e:\n",
    "    print(f\"An error occurred during loss plotting: {e}\")\n",
    "    import traceback\n",
    "    traceback.print_exc()\n"
   ]
  },
  {
   "cell_type": "code",
   "execution_count": 25,
   "id": "7a2a4adb",
   "metadata": {
    "ExecuteTime": {
     "end_time": "2025-05-08T01:18:24.440496Z",
     "start_time": "2025-05-08T01:18:24.431531Z"
    }
   },
   "outputs": [
    {
     "name": "stdout",
     "output_type": "stream",
     "text": [
      "超参数已成功保存到 cglue_soe_ot_Fallopian_tube_output/hyperparameters_natural_killer_cell.csv\n"
     ]
    }
   ],
   "source": [
    "import csv\n",
    "import pickle\n",
    "# 定义你的超参数 (与上面相同)\n",
    "hyperparameters = {\n",
    "    \"lam_kl\": lam_kl,\n",
    "    \"lam_data\": lam_data,\n",
    "    \"lam_triplet\": lam_triplet,\n",
    "    \"lam_ot\": lam_ot,\n",
    "    \"triplet_margin\": triplet_margin,\n",
    "    \"ot_epsilon\": ot_epsilon,\n",
    "    \"ot_tau\": ot_tau,\n",
    "    \"ot_max_iter\": ot_max_iter,\n",
    "    \"max_epochs\": max_epochs\n",
    "}\n",
    "\n",
    "# 定义要保存的PKL文件名\n",
    "csv_filename = os.path.join(SAVE_DIR, \"hyperparameters_natural_killer_cell.csv\")\n",
    "\n",
    "# 写入CSV文件\n",
    "try:\n",
    "    with open(csv_filename, 'a', newline='') as csvfile:\n",
    "        # 定义CSV写入器\n",
    "        writer = csv.writer(csvfile)\n",
    "\n",
    "        # 写入表头 (可选，但推荐)\n",
    "        writer.writerow([f'ParameterName_{Times}', 'Value'])\n",
    "\n",
    "        # 遍历字典并写入每一行\n",
    "        for name, value in hyperparameters.items():\n",
    "            writer.writerow([name, value])\n",
    "    print(f\"超参数已成功保存到 {csv_filename}\")\n",
    "except IOError:\n",
    "    print(f\"错误：无法写入文件 {csv_filename}\")"
   ]
  },
  {
   "cell_type": "code",
   "execution_count": null,
   "id": "253b61a3",
   "metadata": {},
   "outputs": [],
   "source": []
  },
  {
   "cell_type": "code",
   "execution_count": null,
   "id": "8783f2bf",
   "metadata": {},
   "outputs": [],
   "source": []
  }
 ],
 "metadata": {
  "kernelspec": {
   "display_name": "Python [conda env:CGLUE-SOE]",
   "language": "python",
   "name": "conda-env-CGLUE-SOE-py"
  },
  "language_info": {
   "codemirror_mode": {
    "name": "ipython",
    "version": 3
   },
   "file_extension": ".py",
   "mimetype": "text/x-python",
   "name": "python",
   "nbconvert_exporter": "python",
   "pygments_lexer": "ipython3",
   "version": "3.9.22"
  },
  "toc": {
   "base_numbering": 1,
   "nav_menu": {},
   "number_sections": true,
   "sideBar": true,
   "skip_h1_title": false,
   "title_cell": "Table of Contents",
   "title_sidebar": "Contents",
   "toc_cell": false,
   "toc_position": {},
   "toc_section_display": true,
   "toc_window_display": false
  }
 },
 "nbformat": 4,
 "nbformat_minor": 5
}
