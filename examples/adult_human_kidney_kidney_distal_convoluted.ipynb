{
 "cells": [
  {
   "cell_type": "code",
   "execution_count": 10,
   "id": "ad0aac55",
   "metadata": {
    "ExecuteTime": {
     "end_time": "2025-05-08T00:05:37.893701Z",
     "start_time": "2025-05-08T00:05:23.028159Z"
    }
   },
   "outputs": [],
   "source": [
    "\n",
    "import scanpy as sc\n",
    "import matplotlib.pyplot as plt\n",
    "import sys\n",
    "import os\n",
    "import numpy as np\n",
    "import pandas as pd\n",
    "import anndata as ad\n",
    "import scanpy as sc\n",
    "import networkx as nx\n",
    "import torch\n",
    "import sklearn.preprocessing\n",
    "import episcanpy as epi\n",
    "import sys\n",
    "import os\n",
    "import numpy as np\n",
    "import pandas as pd\n",
    "import anndata as ad\n",
    "import scanpy as sc\n",
    "# import networkx as nx # No longer needed for training script itself\n",
    "import torch\n",
    "\n",
    "\n",
    "adata_ATAC=sc.read(\"/data/cabins/sccancer/hhy/TI/adult_human_kidney_ATAC.h5ad\")\n",
    "adata_RNA= sc.read(\"/data/cabins/sccancer/hhy/TI/adult_human_kidney_RNA.h5ad\")"
   ]
  },
  {
   "cell_type": "code",
   "execution_count": 11,
   "id": "99a7090a",
   "metadata": {
    "ExecuteTime": {
     "end_time": "2025-05-08T00:05:40.353730Z",
     "start_time": "2025-05-08T00:05:37.899906Z"
    }
   },
   "outputs": [],
   "source": [
    "adata_ATAC_copy = adata_ATAC.copy()\n",
    "adata_RNA_copy = adata_RNA.copy()"
   ]
  },
  {
   "cell_type": "code",
   "execution_count": 12,
   "id": "c86984d9",
   "metadata": {
    "ExecuteTime": {
     "end_time": "2025-05-08T00:05:40.359534Z",
     "start_time": "2025-05-08T00:05:40.355868Z"
    }
   },
   "outputs": [],
   "source": [
    "adata_ATAC = adata_ATAC_copy \n",
    "adata_RNA = adata_RNA_copy"
   ]
  },
  {
   "cell_type": "code",
   "execution_count": 13,
   "id": "97af0dbe",
   "metadata": {
    "ExecuteTime": {
     "end_time": "2025-05-08T00:05:40.424215Z",
     "start_time": "2025-05-08T00:05:40.361342Z"
    }
   },
   "outputs": [
    {
     "data": {
      "text/plain": [
       "cell_type\n",
       "kidney loop of Henle thick ascending limb epithelial cell    7775\n",
       "kidney proximal convoluted tubule epithelial cell            6384\n",
       "kidney proximal straight tubule epithelial cell              4146\n",
       "kidney distal convoluted tubule epithelial cell              2781\n",
       "renal principal cell                                         1291\n",
       "kidney connecting tubule epithelial cell                      884\n",
       "kidney capillary endothelial cell                             759\n",
       "epithelial cell of proximal tubule                            690\n",
       "renal beta-intercalated cell                                  620\n",
       "renal alpha-intercalated cell                                 613\n",
       "parietal epithelial cell                                      402\n",
       "connective tissue cell                                        363\n",
       "leukocyte                                                     193\n",
       "podocyte                                                      133\n",
       "Name: count, dtype: int64"
      ]
     },
     "execution_count": 13,
     "metadata": {},
     "output_type": "execute_result"
    }
   ],
   "source": [
    "adata_ATAC.obs[\"cell_type\"].value_counts()"
   ]
  },
  {
   "cell_type": "code",
   "execution_count": 14,
   "id": "6e039ef2",
   "metadata": {
    "ExecuteTime": {
     "end_time": "2025-05-08T00:05:40.438268Z",
     "start_time": "2025-05-08T00:05:40.432059Z"
    }
   },
   "outputs": [
    {
     "data": {
      "text/plain": [
       "cell_type\n",
       "epithelial cell of proximal tubule                           5485\n",
       "kidney loop of Henle thick ascending limb epithelial cell    4435\n",
       "kidney distal convoluted tubule epithelial cell              3250\n",
       "kidney connecting tubule epithelial cell                     1805\n",
       "renal alpha-intercalated cell                                1107\n",
       "renal principal cell                                         1022\n",
       "kidney capillary endothelial cell                            1008\n",
       "parietal epithelial cell                                      552\n",
       "podocyte                                                      463\n",
       "renal beta-intercalated cell                                  349\n",
       "mesangial cell                                                239\n",
       "fibroblast                                                    207\n",
       "leukocyte                                                      63\n",
       "Name: count, dtype: int64"
      ]
     },
     "execution_count": 14,
     "metadata": {},
     "output_type": "execute_result"
    }
   ],
   "source": [
    "adata_RNA.obs[\"cell_type\"].value_counts()"
   ]
  },
  {
   "cell_type": "code",
   "execution_count": 15,
   "id": "d675a632",
   "metadata": {
    "ExecuteTime": {
     "end_time": "2025-05-08T00:05:40.779204Z",
     "start_time": "2025-05-08T00:05:40.439528Z"
    }
   },
   "outputs": [],
   "source": [
    "adata_ATAC = adata_ATAC[adata_ATAC.obs[\"cell_type\"] == 'kidney distal convoluted tubule epithelial cell',:]\n",
    "samples_to_keep = ['50-year-old stage', '52-year-old stage', '54-year-old stage', '61-year-old stage','62-year-old stage']\n",
    "mask = adata_ATAC.obs['development_stage'].isin(samples_to_keep)\n",
    "adata_ATAC = adata_ATAC[mask].copy()"
   ]
  },
  {
   "cell_type": "code",
   "execution_count": 16,
   "id": "18e0db8a",
   "metadata": {
    "ExecuteTime": {
     "end_time": "2025-05-08T00:05:40.788836Z",
     "start_time": "2025-05-08T00:05:40.780731Z"
    }
   },
   "outputs": [
    {
     "data": {
      "text/plain": [
       "development_stage\n",
       "62-year-old stage    832\n",
       "61-year-old stage    638\n",
       "54-year-old stage    500\n",
       "52-year-old stage    439\n",
       "50-year-old stage    372\n",
       "Name: count, dtype: int64"
      ]
     },
     "execution_count": 16,
     "metadata": {},
     "output_type": "execute_result"
    }
   ],
   "source": [
    "adata_ATAC.obs['development_stage'].value_counts()"
   ]
  },
  {
   "cell_type": "code",
   "execution_count": 17,
   "id": "a34c960d",
   "metadata": {
    "ExecuteTime": {
     "end_time": "2025-05-08T00:05:41.331056Z",
     "start_time": "2025-05-08T00:05:40.790205Z"
    }
   },
   "outputs": [],
   "source": [
    "adata_RNA = adata_RNA[adata_RNA.obs[\"cell_type\"] == 'kidney distal convoluted tubule epithelial cell',:]\n",
    "samples_to_keep = ['50-year-old stage', '52-year-old stage', '54-year-old stage', '61-year-old stage','62-year-old stage']\n",
    "mask = adata_RNA.obs['development_stage'].isin(samples_to_keep)\n",
    "adata_RNA = adata_RNA[mask].copy()"
   ]
  },
  {
   "cell_type": "code",
   "execution_count": 18,
   "id": "16d39279",
   "metadata": {
    "ExecuteTime": {
     "end_time": "2025-05-08T00:05:41.342035Z",
     "start_time": "2025-05-08T00:05:41.332989Z"
    }
   },
   "outputs": [
    {
     "name": "stderr",
     "output_type": "stream",
     "text": [
      " FutureWarning:/tmp/ipykernel_3208696/887913303.py:8: The behavior of Series.replace (and DataFrame.replace) with CategoricalDtype is deprecated. In a future version, replace will only be used for cases that preserve the categories. To change the categories, use ser.cat.rename_categories instead.\n",
      " FutureWarning:/tmp/ipykernel_3208696/887913303.py:9: The behavior of Series.replace (and DataFrame.replace) with CategoricalDtype is deprecated. In a future version, replace will only be used for cases that preserve the categories. To change the categories, use ser.cat.rename_categories instead.\n"
     ]
    }
   ],
   "source": [
    "replacement_map = {\n",
    "    '50-year-old stage': '50',\n",
    "    '52-year-old stage': '52',\n",
    "    '54-year-old stage': '54',\n",
    "    '61-year-old stage': '61',\n",
    "    '62-year-old stage': '62',   \n",
    "}\n",
    "adata_ATAC.obs['age'] = adata_ATAC.obs['development_stage'].replace(replacement_map)\n",
    "adata_RNA.obs['age'] = adata_RNA.obs['development_stage'].replace(replacement_map)"
   ]
  },
  {
   "cell_type": "code",
   "execution_count": 19,
   "id": "6282c199",
   "metadata": {
    "ExecuteTime": {
     "end_time": "2025-05-08T00:05:44.140369Z",
     "start_time": "2025-05-08T00:05:41.344314Z"
    }
   },
   "outputs": [
    {
     "name": "stderr",
     "output_type": "stream",
     "text": [
      " FutureWarning:/home/sccancer/anaconda3/envs/CGLUE-SOE/lib/python3.9/site-packages/episcanpy/preprocessing/_scanpy_fct.py:145: The specified parameters ('min_counts', 'min_cells', 'max_counts', 'max_cells', 'inplace', 'copy') are no longer positional. Please specify them like `min_counts=None`\n"
     ]
    }
   ],
   "source": [
    "sc.pp.filter_cells(adata_RNA, min_genes=100)\n",
    "sc.pp.filter_genes(adata_RNA, min_cells=3)\n",
    "# Saving count data\n",
    "adata_RNA.layers[\"counts\"] = adata_RNA.X.copy()\n",
    "# Normalizing to median total counts\n",
    "sc.pp.normalize_total(adata_RNA)\n",
    "# Logarithmize the data\n",
    "sc.pp.log1p(adata_RNA)\n",
    "sc.pp.highly_variable_genes(adata_RNA, n_top_genes=2000)\n",
    "adata_RNA = adata_RNA[:,adata_RNA.var['highly_variable'] ==True]\n",
    "fpeak=0.03\n",
    "epi.pp.binarize(adata_ATAC)\n",
    "epi.pp.filter_features(adata_ATAC, min_cells=np.ceil(adata_ATAC.shape[0])*fpeak)"
   ]
  },
  {
   "cell_type": "code",
   "execution_count": 20,
   "id": "4cc57236",
   "metadata": {
    "ExecuteTime": {
     "end_time": "2025-05-08T00:05:48.541179Z",
     "start_time": "2025-05-08T00:05:44.143834Z"
    }
   },
   "outputs": [
    {
     "name": "stderr",
     "output_type": "stream",
     "text": [
      " TqdmWarning:/home/sccancer/anaconda3/envs/CGLUE-SOE/lib/python3.9/site-packages/tqdm/auto.py:21: IProgress not found. Please update jupyter and ipywidgets. See https://ipywidgets.readthedocs.io/en/stable/user_install.html\n"
     ]
    }
   ],
   "source": [
    "# -*- coding: utf-8 -*-\n",
    "\"\"\"\n",
    "Training script for CGLUE-SOE-OT model using real (preprocessed)\n",
    "scRNA-seq and scATAC-seq data with ordered age labels.\n",
    "\n",
    "This script assumes the modified CGLUE-SOE-OT model files\n",
    "(e.g., cglue_soe_ot.py, cglue_soe_components_ot.py) are\n",
    "accessible within the scglue package structure or Python path.\n",
    "\"\"\"\n",
    "\n",
    "import sys\n",
    "import os\n",
    "import numpy as np\n",
    "import pandas as pd\n",
    "import anndata as ad\n",
    "import scanpy as sc\n",
    "# import networkx as nx # No longer needed for training script itself\n",
    "import torch\n",
    "\n",
    "# --- Add project root to path if necessary ---\n",
    "# Adjust this path if your script is located elsewhere relative to the scglue package\n",
    "# project_root = os.path.abspath(os.path.join(os.path.dirname(__file__), '..'))\n",
    "# if project_root not in sys.path:\n",
    "#     sys.path.insert(0, project_root)\n",
    "\n",
    "try:\n",
    "    # Import the modified model and config function\n",
    "    import scglue\n",
    "    from scglue.models.cglue_soe_ot import CGLUESOE_OT_Model, configure_dataset_cglue_soe\n",
    "    # AnnDatasetWithLabels is still needed, GraphDataset is not\n",
    "    from scglue.models.data import AnnDatasetWithLabels\n",
    "    # from scglue.utils import config as scglue_config # Optional config import\n",
    "except ImportError as e:\n",
    "    print(f\"Error importing modified scglue components: {e}\")\n",
    "    print(\"Please ensure the modified scglue package (with CGLUE-SOE-OT) is installed or accessible.\")\n",
    "    sys.exit(1)\n",
    "except AttributeError as e:\n",
    "    print(f\"Error importing specific components (check file/class names): {e}\")\n",
    "    print(\"Ensure 'CGLUESOE_OT_Model' and 'configure_dataset_cglue_soe' exist in 'scglue.models.cglue_soe_ot'.\")\n",
    "    sys.exit(1)\n",
    "\n",
    "\n",
    "# --- Configuration ---\n",
    "SEED = 0\n",
    "torch.manual_seed(SEED)\n",
    "np.random.seed(SEED)\n",
    "SAVE_DIR = \"cglue_soe_ot_adult_human_kidney_kidney_distal_convoluted_output\" # Changed save directory name\n",
    "os.makedirs(SAVE_DIR, exist_ok=True)"
   ]
  },
  {
   "cell_type": "code",
   "execution_count": 21,
   "id": "072a1822",
   "metadata": {
    "ExecuteTime": {
     "end_time": "2025-05-08T00:05:48.634489Z",
     "start_time": "2025-05-08T00:05:48.545717Z"
    }
   },
   "outputs": [
    {
     "name": "stdout",
     "output_type": "stream",
     "text": [
      "Loading real data...\n",
      "Preprocessing data...\n"
     ]
    },
    {
     "name": "stderr",
     "output_type": "stream",
     "text": [
      " ImplicitModificationWarning:/tmp/ipykernel_3208696/840349884.py:19: Trying to modify attribute `.obs` of view, initializing view as actual.\n"
     ]
    }
   ],
   "source": [
    "# --- 1. Load Your Real Data ---\n",
    "print(\"Loading real data...\")\n",
    "\n",
    "atac_adata= adata_ATAC\n",
    "rna_adata = adata_RNA\n",
    "adatas = {\"rna\": rna_adata, \"atac\": atac_adata}\n",
    "\n",
    "# --- 2. Preprocessing Steps ---\n",
    "print(\"Preprocessing data...\")\n",
    "\n",
    "# ** Crucial: Ensure 'age' column is ordered categorical **\n",
    "# Define the correct order\n",
    "age_order = ['50', '52', '54','61','62']\n",
    "label_col = 'age' # MODIFY AS NEEDED\n",
    "try:\n",
    "    for k in adatas:\n",
    "        if 'age' not in adatas[k].obs:\n",
    "            raise ValueError(f\"'age' column not found in adata '{k}'.\")\n",
    "        adatas[k].obs['age'] = pd.Categorical(\n",
    "            adatas[k].obs['age'], categories=age_order, ordered=True\n",
    "        )\n",
    "        # Check if any values became NaN after conversion (means original values didn't match categories)\n",
    "        if adatas[k].obs['age'].isnull().any():\n",
    "             print(f\"Warning: Some 'age' values in adata '{k}' did not match the expected categories {age_order} and resulted in NaNs.\")\n",
    "             # Optional: Handle NaNs, e.g., remove cells or raise error\n",
    "             # adatas[k] = adatas[k][adatas[k].obs['age'].notna()].copy()\n",
    "except Exception as e:\n",
    "    print(f\"Error processing 'age' column: {e}\")\n",
    "    sys.exit(1)\n"
   ]
  },
  {
   "cell_type": "code",
   "execution_count": 22,
   "id": "68c79d9f",
   "metadata": {
    "ExecuteTime": {
     "end_time": "2025-05-08T00:05:48.645885Z",
     "start_time": "2025-05-08T00:05:48.638182Z"
    }
   },
   "outputs": [],
   "source": [
    "atac_adata.var['highly_variable'] = True"
   ]
  },
  {
   "cell_type": "code",
   "execution_count": 23,
   "id": "79e80bb3",
   "metadata": {
    "ExecuteTime": {
     "end_time": "2025-05-08T00:05:48.684218Z",
     "start_time": "2025-05-08T00:05:48.648978Z"
    }
   },
   "outputs": [
    {
     "name": "stdout",
     "output_type": "stream",
     "text": [
      "Defining feature vertices...\n",
      "Total unique features (vertices): 17597\n"
     ]
    }
   ],
   "source": [
    "\n",
    "# --- 3. Define Vertices (No Graph Construction Needed) ---\n",
    "# The model still needs the list of all unique features across datasets\n",
    "# for the feature embedding layer.\n",
    "print(\"Defining feature vertices...\")\n",
    "vertices = pd.Index(rna_adata.var_names.tolist() + atac_adata.var_names.tolist()).unique()\n",
    "print(f\"Total unique features (vertices): {len(vertices)}\")\n"
   ]
  },
  {
   "cell_type": "code",
   "execution_count": 24,
   "id": "bba4c82a",
   "metadata": {
    "ExecuteTime": {
     "end_time": "2025-05-08T00:05:48.721323Z",
     "start_time": "2025-05-08T00:05:48.686261Z"
    }
   },
   "outputs": [
    {
     "name": "stdout",
     "output_type": "stream",
     "text": [
      "Configuring datasets for CGLUE-SOE-OT...\n",
      "[INFO] CGLUESOE_OT_Model: Dataset configured for CGLUE-SOE-OT using label 'age'.\n",
      "[INFO] CGLUESOE_OT_Model: Dataset configured for CGLUE-SOE-OT using label 'age'.\n",
      "Datasets configured.\n"
     ]
    }
   ],
   "source": [
    "\n",
    "# --- 4. Configure Datasets for CGLUE-SOE-OT ---\n",
    "print(\"Configuring datasets for CGLUE-SOE-OT...\")\n",
    "# ** Choose appropriate prob_model based on your preprocessing **\n",
    "# 'Normal' or 'ZILN' for log-normalized RNA.\n",
    "# 'Normal', 'ZILN', or 'Bernoulli' for ATAC depending on preprocessing.\n",
    "try:\n",
    "    configure_dataset_cglue_soe( # Use the same config function name\n",
    "        adatas[\"rna\"],\n",
    "        prob_model=\"Normal\", # Adjust if needed (e.g., \"NB\" if using raw counts)\n",
    "        use_highly_variable=True, # Use selected HVGs\n",
    "        use_label=label_col, # Use the ordered label column\n",
    "        use_layer=None, # Assuming preprocessed data is in .X\n",
    "        use_rep=None,   # Or specify a representation like 'X_pca' if desired\n",
    "        use_obs_names=False # Data is unpaired\n",
    "    )\n",
    "    configure_dataset_cglue_soe( # Use the same config function name\n",
    "        adatas[\"atac\"],\n",
    "        prob_model=\"Bernoulli\", # Adjust based on ATAC preprocessing\n",
    "        use_highly_variable=True, # Use selected HVGs\n",
    "        use_label=label_col, # Use the ordered label column\n",
    "        use_layer=None, # Assuming preprocessed data is in .X\n",
    "        use_rep=None,   # Or specify a representation like 'X_lsi' if desired\n",
    "        use_obs_names=False # Data is unpaired\n",
    "    )\n",
    "    print(\"Datasets configured.\")\n",
    "except Exception as e:\n",
    "    print(f\"Error configuring datasets: {e}\")\n",
    "    sys.exit(1)\n"
   ]
  },
  {
   "cell_type": "code",
   "execution_count": 25,
   "id": "89c1cb1e",
   "metadata": {
    "ExecuteTime": {
     "end_time": "2025-05-08T00:51:49.448323Z",
     "start_time": "2025-05-08T00:05:48.724552Z"
    }
   },
   "outputs": [
    {
     "name": "stdout",
     "output_type": "stream",
     "text": [
      "Initializing CGLUE-SOE-OT model...\n",
      "[INFO] autodevice: Using GPU 3 as computation device.\n",
      "Model initialized.\n",
      "Compiling model...\n",
      "Model compiled.\n",
      "Fitting model...\n"
     ]
    },
    {
     "name": "stderr",
     "output_type": "stream",
     "text": [
      " UserWarning:/home/sccancer/anaconda3/envs/CGLUE-SOE/lib/python3.9/site-packages/torch/optim/lr_scheduler.py:62: The verbose parameter is deprecated. Please use get_last_lr() to access the learning rate.\n",
      " FutureWarning:/home/sccancer/anaconda3/envs/CGLUE-SOE/lib/python3.9/abc.py:119: SparseDataset is deprecated and will be removed in late 2024. It has been replaced by the public classes CSRDataset and CSCDataset.\n",
      "\n",
      "For instance checks, use `isinstance(X, (anndata.experimental.CSRDataset, anndata.experimental.CSCDataset))` instead.\n",
      "\n",
      "For creation, use `anndata.experimental.sparse_dataset(X)` instead.\n",
      "\n"
     ]
    },
    {
     "name": "stdout",
     "output_type": "stream",
     "text": [
      "[INFO] CGLUESOE_OT_Trainer: [Epoch 10] Train={'x_rna_nll': '912.7477', 'x_rna_kl': '29.6547', 'x_rna_elbo': '915.7131', 'x_atac_nll': '11306.1778', 'x_atac_kl': '41.4817', 'x_atac_elbo': '11310.3259', 'triplet_loss': '0.0786', 'ot_loss': '88.9253', 'total_loss': '12709.9476'}, Val={'x_rna_nll': '899.6790', 'x_rna_kl': '25.9097', 'x_rna_elbo': '902.2699', 'x_atac_nll': '11122.6225', 'x_atac_kl': '30.2716', 'x_atac_elbo': '11125.6496', 'triplet_loss': '2.0794', 'ot_loss': '56.9927', 'total_loss': '13352.5732'}\n",
      "[INFO] CGLUESOE_OT_Trainer: [Epoch 20] Train={'x_rna_nll': '630.4472', 'x_rna_kl': '50.1784', 'x_rna_elbo': '635.4651', 'x_atac_nll': '10095.9717', 'x_atac_kl': '62.4095', 'x_atac_elbo': '10102.2128', 'triplet_loss': '0.0754', 'ot_loss': '73.5744', 'total_loss': '11143.2308'}, Val={'x_rna_nll': '617.4564', 'x_rna_kl': '47.5299', 'x_rna_elbo': '622.2094', 'x_atac_nll': '10015.3717', 'x_atac_kl': '53.9541', 'x_atac_elbo': '10020.7668', 'triplet_loss': '1.7757', 'ot_loss': '45.7257', 'total_loss': '11759.4361'}\n",
      "[INFO] CGLUESOE_OT_Trainer: [Epoch 30] Train={'x_rna_nll': '350.7389', 'x_rna_kl': '71.5644', 'x_rna_elbo': '357.8954', 'x_atac_nll': '9339.9907', 'x_atac_kl': '88.8932', 'x_atac_elbo': '9348.8801', 'triplet_loss': '0.0635', 'ot_loss': '68.4574', 'total_loss': '10080.7977'}, Val={'x_rna_nll': '337.8495', 'x_rna_kl': '68.5432', 'x_rna_elbo': '344.7038', 'x_atac_nll': '9310.8215', 'x_atac_kl': '78.5476', 'x_atac_elbo': '9318.6764', 'triplet_loss': '2.2872', 'ot_loss': '34.7503', 'total_loss': '10980.7500'}\n",
      "[INFO] CGLUESOE_OT_Trainer: [Epoch 40] Train={'x_rna_nll': '67.6284', 'x_rna_kl': '86.1893', 'x_rna_elbo': '76.2473', 'x_atac_nll': '8825.2704', 'x_atac_kl': '109.6783', 'x_atac_elbo': '8836.2382', 'triplet_loss': '0.0505', 'ot_loss': '66.1014', 'total_loss': '9268.2220'}, Val={'x_rna_nll': '57.7184', 'x_rna_kl': '83.8779', 'x_rna_elbo': '66.1062', 'x_atac_nll': '8857.0176', 'x_atac_kl': '100.0922', 'x_atac_elbo': '8867.0268', 'triplet_loss': '2.5746', 'ot_loss': '37.0270', 'total_loss': '10405.5775'}\n",
      "[INFO] CGLUESOE_OT_Trainer: [Epoch 50] Train={'x_rna_nll': '-212.0765', 'x_rna_kl': '95.6110', 'x_rna_elbo': '-202.5154', 'x_atac_nll': '8483.6511', 'x_atac_kl': '128.7586', 'x_atac_elbo': '8496.5269', 'triplet_loss': '0.0495', 'ot_loss': '66.3828', 'total_loss': '8650.6714'}, Val={'x_rna_nll': '-220.6347', 'x_rna_kl': '92.3976', 'x_rna_elbo': '-211.3950', 'x_atac_nll': '8568.5574', 'x_atac_kl': '119.7937', 'x_atac_elbo': '8580.5369', 'triplet_loss': '2.1211', 'ot_loss': '37.3002', 'total_loss': '9616.2016'}\n",
      "[INFO] CGLUESOE_OT_Trainer: [Epoch 60] Train={'x_rna_nll': '-487.3244', 'x_rna_kl': '103.9609', 'x_rna_elbo': '-476.9283', 'x_atac_nll': '8248.3012', 'x_atac_kl': '144.3701', 'x_atac_elbo': '8262.7381', 'triplet_loss': '0.0666', 'ot_loss': '67.8581', 'total_loss': '8158.4133'}, Val={'x_rna_nll': '-492.2466', 'x_rna_kl': '102.5908', 'x_rna_elbo': '-481.9875', 'x_atac_nll': '8377.7676', 'x_atac_kl': '130.6033', 'x_atac_elbo': '8390.8279', 'triplet_loss': '2.3391', 'ot_loss': '40.9906', 'total_loss': '9283.3537'}\n",
      "[INFO] CGLUESOE_OT_Trainer: [Epoch 70] Train={'x_rna_nll': '-751.7156', 'x_rna_kl': '110.6026', 'x_rna_elbo': '-740.6553', 'x_atac_nll': '8050.8580', 'x_atac_kl': '156.5062', 'x_atac_elbo': '8066.5086', 'triplet_loss': '0.0473', 'ot_loss': '67.2678', 'total_loss': '7685.8534'}, Val={'x_rna_nll': '-753.3971', 'x_rna_kl': '107.7836', 'x_rna_elbo': '-742.6187', 'x_atac_nll': '8257.5951', 'x_atac_kl': '146.4521', 'x_atac_elbo': '8272.2402', 'triplet_loss': '1.8903', 'ot_loss': '39.2495', 'total_loss': '8671.0213'}\n",
      "[INFO] CGLUESOE_OT_Trainer: [Epoch 80] Train={'x_rna_nll': '-1005.0439', 'x_rna_kl': '116.0446', 'x_rna_elbo': '-993.4394', 'x_atac_nll': '7966.0414', 'x_atac_kl': '166.3698', 'x_atac_elbo': '7982.6784', 'triplet_loss': '0.0636', 'ot_loss': '66.4252', 'total_loss': '7353.1769'}, Val={'x_rna_nll': '-1001.6652', 'x_rna_kl': '114.7388', 'x_rna_elbo': '-990.1914', 'x_atac_nll': '8194.3854', 'x_atac_kl': '155.0425', 'x_atac_elbo': '8209.8894', 'triplet_loss': '1.3821', 'ot_loss': '42.0078', 'total_loss': '8120.8111'}\n",
      "[INFO] CGLUESOE_OT_Trainer: [Epoch 90] Train={'x_rna_nll': '-1239.5002', 'x_rna_kl': '121.2026', 'x_rna_elbo': '-1227.3799', 'x_atac_nll': '7927.0962', 'x_atac_kl': '172.2889', 'x_atac_elbo': '7944.3251', 'triplet_loss': '0.0519', 'ot_loss': '65.2299', 'total_loss': '7069.0670'}, Val={'x_rna_nll': '-1234.6884', 'x_rna_kl': '117.8498', 'x_rna_elbo': '-1222.9034', 'x_atac_nll': '8174.0197', 'x_atac_kl': '162.3729', 'x_atac_elbo': '8190.2570', 'triplet_loss': '2.5498', 'ot_loss': '35.1316', 'total_loss': '8417.9086'}\n",
      "[INFO] CGLUESOE_OT_Trainer: [Epoch 100] Train={'x_rna_nll': '-1462.6876', 'x_rna_kl': '124.8687', 'x_rna_elbo': '-1450.2007', 'x_atac_nll': '7881.3864', 'x_atac_kl': '178.2085', 'x_atac_elbo': '7899.2072', 'triplet_loss': '0.0492', 'ot_loss': '64.5861', 'total_loss': '6796.5439'}, Val={'x_rna_nll': '-1448.6967', 'x_rna_kl': '123.1401', 'x_rna_elbo': '-1436.3827', 'x_atac_nll': '8149.5454', 'x_atac_kl': '162.9279', 'x_atac_elbo': '8165.8382', 'triplet_loss': '1.9565', 'ot_loss': '36.7021', 'total_loss': '7891.2331'}\n",
      "[INFO] CGLUESOE_OT_Trainer: [Epoch 110] Train={'x_rna_nll': '-1661.8190', 'x_rna_kl': '129.5071', 'x_rna_elbo': '-1648.8683', 'x_atac_nll': '7866.9364', 'x_atac_kl': '181.3215', 'x_atac_elbo': '7885.0686', 'triplet_loss': '0.0535', 'ot_loss': '63.7009', 'total_loss': '6581.4423'}, Val={'x_rna_nll': '-1642.0622', 'x_rna_kl': '126.2236', 'x_rna_elbo': '-1629.4399', 'x_atac_nll': '8152.2403', 'x_atac_kl': '170.2764', 'x_atac_elbo': '8169.2681', 'triplet_loss': '1.7476', 'ot_loss': '40.0797', 'total_loss': '7614.0037'}\n",
      "[INFO] CGLUESOE_OT_Trainer: [Epoch 120] Train={'x_rna_nll': '-1842.7997', 'x_rna_kl': '133.6793', 'x_rna_elbo': '-1829.4318', 'x_atac_nll': '7859.7409', 'x_atac_kl': '184.1309', 'x_atac_elbo': '7878.1539', 'triplet_loss': '0.0619', 'ot_loss': '64.6773', 'total_loss': '6403.0630'}, Val={'x_rna_nll': '-1813.0075', 'x_rna_kl': '130.7908', 'x_rna_elbo': '-1799.9284', 'x_atac_nll': '8147.1666', 'x_atac_kl': '172.9160', 'x_atac_elbo': '8164.4582', 'triplet_loss': '1.6140', 'ot_loss': '42.8473', 'total_loss': '7385.7658'}\n",
      "[INFO] CGLUESOE_OT_Trainer: [Epoch 130] Train={'x_rna_nll': '-1997.5344', 'x_rna_kl': '136.1566', 'x_rna_elbo': '-1983.9188', 'x_atac_nll': '7844.7018', 'x_atac_kl': '186.2199', 'x_atac_elbo': '7863.3238', 'triplet_loss': '0.0471', 'ot_loss': '61.9588', 'total_loss': '6212.7572'}, Val={'x_rna_nll': '-1959.0928', 'x_rna_kl': '134.3169', 'x_rna_elbo': '-1945.6611', 'x_atac_nll': '8139.9356', 'x_atac_kl': '175.2472', 'x_atac_elbo': '8157.4604', 'triplet_loss': '2.0302', 'ot_loss': '40.0334', 'total_loss': '7427.0603'}\n",
      "[INFO] CGLUESOE_OT_Trainer: [Epoch 140] Train={'x_rna_nll': '-2123.1964', 'x_rna_kl': '141.5977', 'x_rna_elbo': '-2109.0366', 'x_atac_nll': '7840.5959', 'x_atac_kl': '188.1193', 'x_atac_elbo': '7859.4078', 'triplet_loss': '0.0447', 'ot_loss': '61.4987', 'total_loss': '6080.1942'}, Val={'x_rna_nll': '-2077.1180', 'x_rna_kl': '138.7391', 'x_rna_elbo': '-2063.2441', 'x_atac_nll': '8163.3670', 'x_atac_kl': '175.6099', 'x_atac_elbo': '8180.9279', 'triplet_loss': '1.7413', 'ot_loss': '34.1849', 'total_loss': '7159.2714'}\n",
      "[INFO] CGLUESOE_OT_Trainer: [Epoch 150] Train={'x_rna_nll': '-2236.6653', 'x_rna_kl': '150.1380', 'x_rna_elbo': '-2221.6515', 'x_atac_nll': '7839.7356', 'x_atac_kl': '189.9381', 'x_atac_elbo': '7858.7295', 'triplet_loss': '0.0569', 'ot_loss': '57.4805', 'total_loss': '5952.9201'}, Val={'x_rna_nll': '-2164.8757', 'x_rna_kl': '149.5859', 'x_rna_elbo': '-2149.9171', 'x_atac_nll': '8155.8868', 'x_atac_kl': '180.2130', 'x_atac_elbo': '8173.9081', 'triplet_loss': '1.6636', 'ot_loss': '35.1924', 'total_loss': '7031.7736'}\n",
      "[INFO] CGLUESOE_OT_Trainer: [Epoch 160] Train={'x_rna_nll': '-2301.5199', 'x_rna_kl': '161.4103', 'x_rna_elbo': '-2285.3789', 'x_atac_nll': '7865.1797', 'x_atac_kl': '194.0411', 'x_atac_elbo': '7884.5838', 'triplet_loss': '0.0461', 'ot_loss': '48.2057', 'total_loss': '5863.2797'}, Val={'x_rna_nll': '-2221.3814', 'x_rna_kl': '159.4562', 'x_rna_elbo': '-2205.4358', 'x_atac_nll': '8160.7993', 'x_atac_kl': '186.1801', 'x_atac_elbo': '8179.4174', 'triplet_loss': '1.3063', 'ot_loss': '33.8679', 'total_loss': '6796.4637'}\n"
     ]
    },
    {
     "name": "stdout",
     "output_type": "stream",
     "text": [
      "[INFO] CGLUESOE_OT_Trainer: [Epoch 170] Train={'x_rna_nll': '-2362.9896', 'x_rna_kl': '167.4712', 'x_rna_elbo': '-2346.2425', 'x_atac_nll': '7869.6458', 'x_atac_kl': '197.3500', 'x_atac_elbo': '7889.3808', 'triplet_loss': '0.0500', 'ot_loss': '40.1987', 'total_loss': '5769.1461'}, Val={'x_rna_nll': '-2255.8357', 'x_rna_kl': '165.7830', 'x_rna_elbo': '-2239.2575', 'x_atac_nll': '8181.2389', 'x_atac_kl': '188.8479', 'x_atac_elbo': '8200.1236', 'triplet_loss': '1.0436', 'ot_loss': '31.5252', 'total_loss': '6640.2864'}\n",
      "[INFO] CGLUESOE_OT_Trainer: [Epoch 180] Train={'x_rna_nll': '-2412.0849', 'x_rna_kl': '169.9269', 'x_rna_elbo': '-2395.0922', 'x_atac_nll': '7863.3895', 'x_atac_kl': '202.9946', 'x_atac_elbo': '7883.6890', 'triplet_loss': '0.0360', 'ot_loss': '34.1826', 'total_loss': '5677.5217'}, Val={'x_rna_nll': '-2267.1829', 'x_rna_kl': '167.8907', 'x_rna_elbo': '-2250.3938', 'x_atac_nll': '8186.2073', 'x_atac_kl': '191.7486', 'x_atac_elbo': '8205.3821', 'triplet_loss': '0.9539', 'ot_loss': '33.5033', 'total_loss': '6599.4351'}\n",
      "[INFO] CGLUESOE_OT_Trainer: [Epoch 190] Train={'x_rna_nll': '-2435.8443', 'x_rna_kl': '173.6617', 'x_rna_elbo': '-2418.4782', 'x_atac_nll': '7855.9266', 'x_atac_kl': '207.5347', 'x_atac_elbo': '7876.6801', 'triplet_loss': '0.0184', 'ot_loss': '30.1356', 'total_loss': '5618.0694'}, Val={'x_rna_nll': '-2259.0552', 'x_rna_kl': '171.4893', 'x_rna_elbo': '-2241.9062', 'x_atac_nll': '8160.6354', 'x_atac_kl': '192.5591', 'x_atac_elbo': '8179.8912', 'triplet_loss': '1.0671', 'ot_loss': '29.9610', 'total_loss': '6621.3544'}\n",
      "[INFO] CGLUESOE_OT_Trainer: [Epoch 200] Train={'x_rna_nll': '-2459.9764', 'x_rna_kl': '175.1605', 'x_rna_elbo': '-2442.4604', 'x_atac_nll': '7842.7489', 'x_atac_kl': '211.6210', 'x_atac_elbo': '7863.9110', 'triplet_loss': '0.0251', 'ot_loss': '25.2764', 'total_loss': '5560.3980'}, Val={'x_rna_nll': '-2237.2833', 'x_rna_kl': '174.2238', 'x_rna_elbo': '-2219.8608', 'x_atac_nll': '8160.1786', 'x_atac_kl': '195.6184', 'x_atac_elbo': '8179.7404', 'triplet_loss': '1.2418', 'ot_loss': '27.7274', 'total_loss': '6719.3995'}\n",
      "[INFO] CGLUESOE_OT_Trainer: [Epoch 210] Train={'x_rna_nll': '-2477.0493', 'x_rna_kl': '179.5356', 'x_rna_elbo': '-2459.0957', 'x_atac_nll': '7852.7513', 'x_atac_kl': '212.9101', 'x_atac_elbo': '7874.0423', 'triplet_loss': '0.0200', 'ot_loss': '26.5505', 'total_loss': '5557.7028'}, Val={'x_rna_nll': '-2208.9906', 'x_rna_kl': '177.8135', 'x_rna_elbo': '-2191.2092', 'x_atac_nll': '8166.9400', 'x_atac_kl': '196.5689', 'x_atac_elbo': '8186.5969', 'triplet_loss': '1.0269', 'ot_loss': '44.4264', 'total_loss': '6730.9688'}\n",
      "[INFO] LRScheduler: Learning rate reduction: step 1\n",
      "[INFO] CGLUESOE_OT_Trainer: [Epoch 220] Train={'x_rna_nll': '-2471.5289', 'x_rna_kl': '179.2007', 'x_rna_elbo': '-2453.6089', 'x_atac_nll': '7838.0605', 'x_atac_kl': '213.4305', 'x_atac_elbo': '7859.4036', 'triplet_loss': '0.0170', 'ot_loss': '21.3085', 'total_loss': '5520.8542'}, Val={'x_rna_nll': '-2208.8538', 'x_rna_kl': '174.5185', 'x_rna_elbo': '-2191.4020', 'x_atac_nll': '8159.6323', 'x_atac_kl': '196.2333', 'x_atac_elbo': '8179.2557', 'triplet_loss': '1.1613', 'ot_loss': '23.5333', 'total_loss': '6686.1733'}\n",
      "[INFO] CGLUESOE_OT_Trainer: [Epoch 230] Train={'x_rna_nll': '-2464.2058', 'x_rna_kl': '179.1131', 'x_rna_elbo': '-2446.2944', 'x_atac_nll': '7842.8492', 'x_atac_kl': '214.5329', 'x_atac_elbo': '7864.3025', 'triplet_loss': '0.0117', 'ot_loss': '21.4855', 'total_loss': '5531.2933'}, Val={'x_rna_nll': '-2206.0824', 'x_rna_kl': '175.6963', 'x_rna_elbo': '-2188.5128', 'x_atac_nll': '8159.2243', 'x_atac_kl': '196.7225', 'x_atac_elbo': '8178.8965', 'triplet_loss': '1.0961', 'ot_loss': '25.6846', 'total_loss': '6666.8450'}\n",
      "[INFO] LRScheduler: Learning rate reduction: step 2\n",
      "[INFO] CGLUESOE_OT_Trainer: [Epoch 240] Train={'x_rna_nll': '-2471.5238', 'x_rna_kl': '179.2845', 'x_rna_elbo': '-2453.5954', 'x_atac_nll': '7835.3105', 'x_atac_kl': '214.8384', 'x_atac_elbo': '7856.7944', 'triplet_loss': '0.0245', 'ot_loss': '18.9605', 'total_loss': '5510.2621'}, Val={'x_rna_nll': '-2205.2197', 'x_rna_kl': '175.2918', 'x_rna_elbo': '-2187.6905', 'x_atac_nll': '8156.8387', 'x_atac_kl': '196.8628', 'x_atac_elbo': '8176.5250', 'triplet_loss': '1.0960', 'ot_loss': '26.6302', 'total_loss': '6669.9835'}\n",
      "[INFO] CGLUESOE_OT_Trainer: [Epoch 250] Train={'x_rna_nll': '-2472.8779', 'x_rna_kl': '178.9782', 'x_rna_elbo': '-2454.9800', 'x_atac_nll': '7823.1035', 'x_atac_kl': '214.3589', 'x_atac_elbo': '7844.5394', 'triplet_loss': '0.0134', 'ot_loss': '19.5068', 'total_loss': '5493.7730'}, Val={'x_rna_nll': '-2205.2668', 'x_rna_kl': '175.1094', 'x_rna_elbo': '-2187.7559', 'x_atac_nll': '8156.0104', 'x_atac_kl': '197.1584', 'x_atac_elbo': '8175.7263', 'triplet_loss': '1.1430', 'ot_loss': '24.4086', 'total_loss': '6681.4957'}\n",
      "[INFO] LRScheduler: Learning rate reduction: step 3\n",
      "[INFO] CGLUESOE_OT_Trainer: [Epoch 260] Train={'x_rna_nll': '-2467.7372', 'x_rna_kl': '179.6513', 'x_rna_elbo': '-2449.7720', 'x_atac_nll': '7814.0275', 'x_atac_kl': '214.7897', 'x_atac_elbo': '7835.5065', 'triplet_loss': '0.0163', 'ot_loss': '19.9322', 'total_loss': '5493.5408'}, Val={'x_rna_nll': '-2205.0441', 'x_rna_kl': '175.8370', 'x_rna_elbo': '-2187.4604', 'x_atac_nll': '8152.7510', 'x_atac_kl': '197.0361', 'x_atac_elbo': '8172.4546', 'triplet_loss': '1.1256', 'ot_loss': '26.1239', 'total_loss': '6678.4042'}\n",
      "[INFO] CGLUESOE_OT_Trainer: [Epoch 270] Train={'x_rna_nll': '-2474.1985', 'x_rna_kl': '179.2124', 'x_rna_elbo': '-2456.2773', 'x_atac_nll': '7825.1827', 'x_atac_kl': '215.0934', 'x_atac_elbo': '7846.6920', 'triplet_loss': '0.0139', 'ot_loss': '18.5491', 'total_loss': '5490.0949'}, Val={'x_rna_nll': '-2205.2958', 'x_rna_kl': '175.4599', 'x_rna_elbo': '-2187.7498', 'x_atac_nll': '8158.0033', 'x_atac_kl': '197.0773', 'x_atac_elbo': '8177.7109', 'triplet_loss': '1.0867', 'ot_loss': '25.4426', 'total_loss': '6660.5416'}\n",
      "[INFO] LRScheduler: Learning rate reduction: step 4\n",
      "[INFO] CGLUESOE_OT_Trainer: [Epoch 280] Train={'x_rna_nll': '-2454.9594', 'x_rna_kl': '179.3305', 'x_rna_elbo': '-2437.0263', 'x_atac_nll': '7834.7956', 'x_atac_kl': '214.9294', 'x_atac_elbo': '7856.2885', 'triplet_loss': '0.0215', 'ot_loss': '19.1223', 'total_loss': '5525.6216'}, Val={'x_rna_nll': '-2205.0382', 'x_rna_kl': '175.2094', 'x_rna_elbo': '-2187.5173', 'x_atac_nll': '8154.7782', 'x_atac_kl': '196.7789', 'x_atac_elbo': '8174.4561', 'triplet_loss': '1.1426', 'ot_loss': '25.9889', 'total_loss': '6688.1642'}\n",
      "[INFO] CGLUESOE_OT_Trainer: [Epoch 290] Train={'x_rna_nll': '-2467.3171', 'x_rna_kl': '179.7471', 'x_rna_elbo': '-2449.3424', 'x_atac_nll': '7832.4975', 'x_atac_kl': '214.6080', 'x_atac_elbo': '7853.9583', 'triplet_loss': '0.0152', 'ot_loss': '18.6795', 'total_loss': '5505.6291'}, Val={'x_rna_nll': '-2205.2666', 'x_rna_kl': '175.3067', 'x_rna_elbo': '-2187.7359', 'x_atac_nll': '8158.7809', 'x_atac_kl': '196.8920', 'x_atac_elbo': '8178.4700', 'triplet_loss': '1.1058', 'ot_loss': '26.2108', 'total_loss': '6674.6639'}\n",
      "[INFO] LRScheduler: Learning rate reduction: step 5\n",
      "[INFO] CGLUESOE_OT_Trainer: [Epoch 300] Train={'x_rna_nll': '-2478.3351', 'x_rna_kl': '179.5543', 'x_rna_elbo': '-2460.3796', 'x_atac_nll': '7827.8275', 'x_atac_kl': '214.3778', 'x_atac_elbo': '7849.2654', 'triplet_loss': '0.0130', 'ot_loss': '20.1621', 'total_loss': '5496.2144'}, Val={'x_rna_nll': '-2205.2835', 'x_rna_kl': '175.6628', 'x_rna_elbo': '-2187.7172', 'x_atac_nll': '8155.5432', 'x_atac_kl': '196.7267', 'x_atac_elbo': '8175.2159', 'triplet_loss': '1.1353', 'ot_loss': '26.1294', 'total_loss': '6685.7786'}\n",
      "[INFO] CGLUESOE_OT_Trainer: [Epoch 310] Train={'x_rna_nll': '-2485.9408', 'x_rna_kl': '179.3729', 'x_rna_elbo': '-2468.0036', 'x_atac_nll': '7836.6213', 'x_atac_kl': '214.7423', 'x_atac_elbo': '7858.0955', 'triplet_loss': '0.0184', 'ot_loss': '19.5074', 'total_loss': '5496.8333'}, Val={'x_rna_nll': '-2205.0150', 'x_rna_kl': '175.2227', 'x_rna_elbo': '-2187.4928', 'x_atac_nll': '8158.2699', 'x_atac_kl': '197.0373', 'x_atac_elbo': '8177.9735', 'triplet_loss': '1.1235', 'ot_loss': '25.0812', 'total_loss': '6677.6156'}\n",
      "[INFO] CGLUESOE_OT_Trainer: [Epoch 320] Train={'x_rna_nll': '-2459.3769', 'x_rna_kl': '179.0722', 'x_rna_elbo': '-2441.4696', 'x_atac_nll': '7822.9380', 'x_atac_kl': '214.2218', 'x_atac_elbo': '7844.3602', 'triplet_loss': '0.0162', 'ot_loss': '18.2283', 'total_loss': '5502.1385'}, Val={'x_rna_nll': '-2204.7396', 'x_rna_kl': '175.5671', 'x_rna_elbo': '-2187.1829', 'x_atac_nll': '8154.0230', 'x_atac_kl': '196.8106', 'x_atac_elbo': '8173.7042', 'triplet_loss': '1.1470', 'ot_loss': '26.4756', 'total_loss': '6692.4025'}\n"
     ]
    },
    {
     "name": "stdout",
     "output_type": "stream",
     "text": [
      "[INFO] CGLUESOE_OT_Trainer: [Epoch 330] Train={'x_rna_nll': '-2476.4241', 'x_rna_kl': '179.4231', 'x_rna_elbo': '-2458.4818', 'x_atac_nll': '7828.6879', 'x_atac_kl': '215.3463', 'x_atac_elbo': '7850.2225', 'triplet_loss': '0.0125', 'ot_loss': '19.0368', 'total_loss': '5493.1841'}, Val={'x_rna_nll': '-2204.9949', 'x_rna_kl': '175.5585', 'x_rna_elbo': '-2187.4391', 'x_atac_nll': '8156.0335', 'x_atac_kl': '196.9120', 'x_atac_elbo': '8175.7247', 'triplet_loss': '1.1062', 'ot_loss': '26.3865', 'total_loss': '6673.3131'}\n",
      "[INFO] CGLUESOE_OT_Trainer: [Epoch 340] Train={'x_rna_nll': '-2465.3886', 'x_rna_kl': '179.3639', 'x_rna_elbo': '-2447.4523', 'x_atac_nll': '7827.0288', 'x_atac_kl': '214.6743', 'x_atac_elbo': '7848.4963', 'triplet_loss': '0.0117', 'ot_loss': '18.1313', 'total_loss': '5497.5422'}, Val={'x_rna_nll': '-2204.8723', 'x_rna_kl': '175.9009', 'x_rna_elbo': '-2187.2822', 'x_atac_nll': '8157.1352', 'x_atac_kl': '196.9176', 'x_atac_elbo': '8176.8270', 'triplet_loss': '1.1037', 'ot_loss': '26.4143', 'total_loss': '6673.4670'}\n",
      "[INFO] CGLUESOE_OT_Trainer: [Epoch 350] Train={'x_rna_nll': '-2481.8186', 'x_rna_kl': '179.1629', 'x_rna_elbo': '-2463.9023', 'x_atac_nll': '7823.3456', 'x_atac_kl': '214.9290', 'x_atac_elbo': '7844.8385', 'triplet_loss': '0.0166', 'ot_loss': '20.8604', 'total_loss': '5493.5212'}, Val={'x_rna_nll': '-2205.4357', 'x_rna_kl': '175.5473', 'x_rna_elbo': '-2187.8810', 'x_atac_nll': '8155.1261', 'x_atac_kl': '197.0240', 'x_atac_elbo': '8174.8283', 'triplet_loss': '1.1485', 'ot_loss': '24.3574', 'total_loss': '6682.9895'}\n",
      "[INFO] CGLUESOE_OT_Trainer: [Epoch 360] Train={'x_rna_nll': '-2492.4200', 'x_rna_kl': '178.5834', 'x_rna_elbo': '-2474.5616', 'x_atac_nll': '7814.7436', 'x_atac_kl': '214.7667', 'x_atac_elbo': '7836.2202', 'triplet_loss': '0.0134', 'ot_loss': '20.1230', 'total_loss': '5468.9812'}, Val={'x_rna_nll': '-2205.4069', 'x_rna_kl': '175.5906', 'x_rna_elbo': '-2187.8479', 'x_atac_nll': '8155.9547', 'x_atac_kl': '196.8813', 'x_atac_elbo': '8175.6428', 'triplet_loss': '1.1077', 'ot_loss': '26.4433', 'total_loss': '6673.8493'}\n",
      "[INFO] CGLUESOE_OT_Trainer: [Epoch 370] Train={'x_rna_nll': '-2478.0811', 'x_rna_kl': '179.3201', 'x_rna_elbo': '-2460.1491', 'x_atac_nll': '7825.1139', 'x_atac_kl': '214.6036', 'x_atac_elbo': '7846.5743', 'triplet_loss': '0.0143', 'ot_loss': '18.2747', 'total_loss': '5484.9577'}, Val={'x_rna_nll': '-2205.1492', 'x_rna_kl': '175.3711', 'x_rna_elbo': '-2187.6120', 'x_atac_nll': '8156.6453', 'x_atac_kl': '196.9487', 'x_atac_elbo': '8176.3401', 'triplet_loss': '1.0730', 'ot_loss': '26.9726', 'total_loss': '6660.0726'}\n",
      "[INFO] CGLUESOE_OT_Trainer: [Epoch 380] Train={'x_rna_nll': '-2468.9704', 'x_rna_kl': '179.1227', 'x_rna_elbo': '-2451.0581', 'x_atac_nll': '7840.6371', 'x_atac_kl': '214.9993', 'x_atac_elbo': '7862.1370', 'triplet_loss': '0.0122', 'ot_loss': '20.8905', 'total_loss': '5521.6281'}, Val={'x_rna_nll': '-2205.2777', 'x_rna_kl': '175.7109', 'x_rna_elbo': '-2187.7066', 'x_atac_nll': '8158.6506', 'x_atac_kl': '196.8492', 'x_atac_elbo': '8178.3355', 'triplet_loss': '1.0807', 'ot_loss': '26.9013', 'total_loss': '6665.4888'}\n",
      "[INFO] CGLUESOE_OT_Trainer: [Epoch 390] Train={'x_rna_nll': '-2487.1430', 'x_rna_kl': '179.1863', 'x_rna_elbo': '-2469.2244', 'x_atac_nll': '7827.6622', 'x_atac_kl': '214.8902', 'x_atac_elbo': '7849.1512', 'triplet_loss': '0.0139', 'ot_loss': '19.3172', 'total_loss': '5483.4800'}, Val={'x_rna_nll': '-2205.4673', 'x_rna_kl': '175.1937', 'x_rna_elbo': '-2187.9479', 'x_atac_nll': '8156.0316', 'x_atac_kl': '196.7166', 'x_atac_elbo': '8175.7034', 'triplet_loss': '1.1399', 'ot_loss': '26.3973', 'total_loss': '6689.6957'}\n",
      "[INFO] CGLUESOE_OT_Trainer: [Epoch 400] Train={'x_rna_nll': '-2483.6224', 'x_rna_kl': '179.6583', 'x_rna_elbo': '-2465.6566', 'x_atac_nll': '7825.7816', 'x_atac_kl': '214.6554', 'x_atac_elbo': '7847.2471', 'triplet_loss': '0.0132', 'ot_loss': '19.9073', 'total_loss': '5487.7207'}, Val={'x_rna_nll': '-2205.4299', 'x_rna_kl': '175.3958', 'x_rna_elbo': '-2187.8904', 'x_atac_nll': '8154.7741', 'x_atac_kl': '196.9937', 'x_atac_elbo': '8174.4735', 'triplet_loss': '1.1435', 'ot_loss': '26.1974', 'total_loss': '6689.3162'}\n",
      "[INFO] CGLUESOE_OT_Trainer: [Epoch 410] Train={'x_rna_nll': '-2485.2829', 'x_rna_kl': '179.1657', 'x_rna_elbo': '-2467.3664', 'x_atac_nll': '7822.4113', 'x_atac_kl': '215.2355', 'x_atac_elbo': '7843.9348', 'triplet_loss': '0.0109', 'ot_loss': '19.0213', 'total_loss': '5477.1492'}, Val={'x_rna_nll': '-2205.1825', 'x_rna_kl': '175.6697', 'x_rna_elbo': '-2187.6155', 'x_atac_nll': '8155.2382', 'x_atac_kl': '197.0427', 'x_atac_elbo': '8174.9425', 'triplet_loss': '1.1100', 'ot_loss': '26.3542', 'total_loss': '6674.1064'}\n",
      "[INFO] CGLUESOE_OT_Trainer: [Epoch 420] Train={'x_rna_nll': '-2478.1187', 'x_rna_kl': '179.0355', 'x_rna_elbo': '-2460.2152', 'x_atac_nll': '7831.6535', 'x_atac_kl': '215.1847', 'x_atac_elbo': '7853.1720', 'triplet_loss': '0.0115', 'ot_loss': '19.3194', 'total_loss': '5495.2876'}, Val={'x_rna_nll': '-2205.0731', 'x_rna_kl': '175.2435', 'x_rna_elbo': '-2187.5487', 'x_atac_nll': '8154.6850', 'x_atac_kl': '196.7217', 'x_atac_elbo': '8174.3572', 'triplet_loss': '1.1055', 'ot_loss': '26.9292', 'total_loss': '6674.2071'}\n",
      "[INFO] CGLUESOE_OT_Trainer: [Epoch 430] Train={'x_rna_nll': '-2476.1285', 'x_rna_kl': '179.3829', 'x_rna_elbo': '-2458.1902', 'x_atac_nll': '7842.1742', 'x_atac_kl': '215.0282', 'x_atac_elbo': '7863.6770', 'triplet_loss': '0.0112', 'ot_loss': '19.9904', 'total_loss': '5511.0351'}, Val={'x_rna_nll': '-2205.1713', 'x_rna_kl': '175.3679', 'x_rna_elbo': '-2187.6346', 'x_atac_nll': '8157.1030', 'x_atac_kl': '196.9378', 'x_atac_elbo': '8176.7968', 'triplet_loss': '1.0945', 'ot_loss': '25.7583', 'total_loss': '6665.2034'}\n",
      "[INFO] CGLUESOE_OT_Trainer: [Epoch 440] Train={'x_rna_nll': '-2484.5152', 'x_rna_kl': '179.6639', 'x_rna_elbo': '-2466.5488', 'x_atac_nll': '7835.8052', 'x_atac_kl': '214.3665', 'x_atac_elbo': '7857.2418', 'triplet_loss': '0.0115', 'ot_loss': '20.2186', 'total_loss': '5497.5517'}, Val={'x_rna_nll': '-2205.1156', 'x_rna_kl': '175.6651', 'x_rna_elbo': '-2187.5491', 'x_atac_nll': '8156.5758', 'x_atac_kl': '197.0607', 'x_atac_elbo': '8176.2818', 'triplet_loss': '1.1068', 'ot_loss': '26.9284', 'total_loss': '6676.7661'}\n",
      "[INFO] CGLUESOE_OT_Trainer: [Epoch 450] Train={'x_rna_nll': '-2479.2191', 'x_rna_kl': '179.5044', 'x_rna_elbo': '-2461.2686', 'x_atac_nll': '7840.3128', 'x_atac_kl': '214.8738', 'x_atac_elbo': '7861.8001', 'triplet_loss': '0.0131', 'ot_loss': '20.2457', 'total_loss': '5508.2983'}, Val={'x_rna_nll': '-2205.4206', 'x_rna_kl': '175.7475', 'x_rna_elbo': '-2187.8458', 'x_atac_nll': '8157.3777', 'x_atac_kl': '196.9929', 'x_atac_elbo': '8177.0771', 'triplet_loss': '1.1021', 'ot_loss': '25.5084', 'total_loss': '6667.8367'}\n",
      "[INFO] CGLUESOE_OT_Trainer: [Epoch 460] Train={'x_rna_nll': '-2472.6366', 'x_rna_kl': '179.5337', 'x_rna_elbo': '-2454.6832', 'x_atac_nll': '7841.2290', 'x_atac_kl': '215.0511', 'x_atac_elbo': '7862.7341', 'triplet_loss': '0.0118', 'ot_loss': '20.1765', 'total_loss': '5514.8384'}, Val={'x_rna_nll': '-2204.8147', 'x_rna_kl': '175.5014', 'x_rna_elbo': '-2187.2646', 'x_atac_nll': '8157.5804', 'x_atac_kl': '197.1725', 'x_atac_elbo': '8177.2977', 'triplet_loss': '1.1014', 'ot_loss': '26.0081', 'total_loss': '6670.7660'}\n",
      "[INFO] CGLUESOE_OT_Trainer: [Epoch 470] Train={'x_rna_nll': '-2472.0611', 'x_rna_kl': '179.3446', 'x_rna_elbo': '-2454.1266', 'x_atac_nll': '7840.2162', 'x_atac_kl': '214.3379', 'x_atac_elbo': '7861.6500', 'triplet_loss': '0.0088', 'ot_loss': '19.3360', 'total_loss': '5508.6231'}, Val={'x_rna_nll': '-2204.9067', 'x_rna_kl': '175.8088', 'x_rna_elbo': '-2187.3258', 'x_atac_nll': '8158.6391', 'x_atac_kl': '197.2067', 'x_atac_elbo': '8178.3597', 'triplet_loss': '1.0677', 'ot_loss': '26.2432', 'total_loss': '6656.1095'}\n",
      "[INFO] CGLUESOE_OT_Trainer: [Epoch 480] Train={'x_rna_nll': '-2470.7208', 'x_rna_kl': '179.0046', 'x_rna_elbo': '-2452.8204', 'x_atac_nll': '7843.3283', 'x_atac_kl': '214.3186', 'x_atac_elbo': '7864.7602', 'triplet_loss': '0.0112', 'ot_loss': '20.6837', 'total_loss': '5520.9450'}, Val={'x_rna_nll': '-2205.0163', 'x_rna_kl': '175.3438', 'x_rna_elbo': '-2187.4819', 'x_atac_nll': '8162.5302', 'x_atac_kl': '197.2285', 'x_atac_elbo': '8182.2531', 'triplet_loss': '1.0956', 'ot_loss': '25.0779', 'total_loss': '6667.9502'}\n"
     ]
    },
    {
     "name": "stdout",
     "output_type": "stream",
     "text": [
      "[INFO] CGLUESOE_OT_Trainer: [Epoch 490] Train={'x_rna_nll': '-2475.1983', 'x_rna_kl': '179.5318', 'x_rna_elbo': '-2457.2451', 'x_atac_nll': '7819.2638', 'x_atac_kl': '214.8716', 'x_atac_elbo': '7840.7510', 'triplet_loss': '0.0137', 'ot_loss': '19.2404', 'total_loss': '5486.5557'}, Val={'x_rna_nll': '-2205.2152', 'x_rna_kl': '175.0436', 'x_rna_elbo': '-2187.7109', 'x_atac_nll': '8154.1398', 'x_atac_kl': '197.0510', 'x_atac_elbo': '8173.8450', 'triplet_loss': '1.1740', 'ot_loss': '24.5978', 'total_loss': '6696.1333'}\n",
      "[INFO] CGLUESOE_OT_Trainer: [Epoch 500] Train={'x_rna_nll': '-2483.0421', 'x_rna_kl': '179.3724', 'x_rna_elbo': '-2465.1049', 'x_atac_nll': '7840.1760', 'x_atac_kl': '214.4420', 'x_atac_elbo': '7861.6203', 'triplet_loss': '0.0182', 'ot_loss': '19.5919', 'total_loss': '5503.5728'}, Val={'x_rna_nll': '-2205.1379', 'x_rna_kl': '175.5510', 'x_rna_elbo': '-2187.5828', 'x_atac_nll': '8158.0220', 'x_atac_kl': '196.9274', 'x_atac_elbo': '8177.7147', 'triplet_loss': '1.0951', 'ot_loss': '26.4875', 'total_loss': '6670.1039'}\n",
      "Model fitting finished.\n"
     ]
    }
   ],
   "source": [
    "\n",
    "\n",
    "# --- 5. Initialize CGLUE-SOE-OT Model ---\n",
    "print(\"Initializing CGLUE-SOE-OT model...\")\n",
    "try:\n",
    "    model = CGLUESOE_OT_Model(\n",
    "        adatas=adatas,\n",
    "        x2u_h_depth=2, \n",
    "        x2u_h_dim=256,                 \n",
    "        u2x_h_depth=2, \n",
    "        u2x_h_dim=256, \n",
    "        dropout=0.2,\n",
    "        vertices=vertices.tolist(), # Pass the combined feature list\n",
    "        latent_dim=50, # Example latent dimension, adjust as needed\n",
    "        random_seed=SEED\n",
    "    )\n",
    "    print(\"Model initialized.\")\n",
    "except Exception as e:\n",
    "    print(f\"Error initializing model: {e}\")\n",
    "    sys.exit(1)\n",
    "\n",
    "# --- 6. Compile Model ---\n",
    "print(\"Compiling model...\")\n",
    "Times = '1'\n",
    "lam_kl=0.1           # Weight for KL divergence regularization 调低有利于聚类更紧密\n",
    "lam_data=1.0         # Weight for data reconstruction loss 调高有利于聚类更紧密\n",
    "lam_triplet=500      # Weight for triplet loss (NEEDS TUNING)\n",
    "lam_ot=5.0           # Weight for Optimal Transport loss (NEEDS TUNING)\n",
    "triplet_margin=5   # Margin for triplet loss (NEEDS TUNING)有可能数据本身就是按照时间序列排序的\n",
    "ot_epsilon=0.1       # OT Sinkhorn regularization (NEEDS TUNING) 较小的值 (如当前的 0.1) 匹配更精确，但也可能对噪声更敏感\n",
    "ot_tau=1.0          # OT Sinkhorn unbalancedness (NEEDS TUNING)\n",
    "ot_max_iter=100\n",
    "\n",
    "max_epochs=500\n",
    "# ** Tune hyperparameters, especially loss weights **\n",
    "try:\n",
    "    model.compile(\n",
    "        lr=1e-3,              # Learning rate for the single optimizer\n",
    "        # lam_graph removed\n",
    "        # lam_align removed\n",
    "        # dsc_lr removed\n",
    "        # train_ratio removed\n",
    "        lam_kl=lam_kl,           # Weight for KL divergence regularization 调低有利于聚类更紧密\n",
    "        lam_data=lam_data,         # Weight for data reconstruction loss 调高有利于聚类更紧密\n",
    "        lam_triplet=lam_triplet,      # Weight for triplet loss (NEEDS TUNING)\n",
    "        lam_ot=lam_ot,           # Weight for Optimal Transport loss (NEEDS TUNING)\n",
    "        triplet_margin=triplet_margin,   # Margin for triplet loss (NEEDS TUNING)有可能数据本身就是按照时间序列排序的\n",
    "        ot_epsilon=ot_epsilon,       # OT Sinkhorn regularization (NEEDS TUNING) 较小的值 (如当前的 0.1) 匹配更精确，但也可能对噪声更敏感\n",
    "        ot_tau=ot_tau,           # OT Sinkhorn unbalancedness (NEEDS TUNING)\n",
    "        ot_max_iter=ot_max_iter,      # OT Sinkhorn iterations\n",
    "         #weight_decay=1e-5   # Example: Add optimizer args directly\n",
    "    )\n",
    "    print(\"Model compiled.\")\n",
    "except Exception as e:\n",
    "    print(f\"Error compiling model: {e}\")\n",
    "    sys.exit(1)\n",
    "\n",
    "# --- 7. Train Model ---\n",
    "print(\"Fitting model...\")\n",
    "# Fit the model (No GraphDataset needed)\n",
    "# Adjust training parameters as needed\n",
    "try:\n",
    "    model.fit(\n",
    "        adatas=adatas,            # Pass adatas dictionary\n",
    "        # graph removed\n",
    "        val_split=0.2,            # Use 10% of data for validation\n",
    "        data_batch_size=256,      # Adjust based on memory\n",
    "        # graph_batch_size removed\n",
    "        max_epochs=max_epochs,           # Set a reasonable number of epochs\n",
    "        patience=35,              # Early stopping patience\n",
    "        reduce_lr_patience=20,    # LR scheduling patience\n",
    "        wait_n_lrs=3,             # Wait for LR reductions before stopping\n",
    "        num_workers=0,            # Set > 0 for parallel data loading if needed\n",
    "        directory=SAVE_DIR        # Directory for logs and checkpoints\n",
    "    )\n",
    "    print(\"Model fitting finished.\")\n",
    "except Exception as e:\n",
    "    print(f\"An error occurred during model fitting: {e}\")\n",
    "    import traceback\n",
    "    traceback.print_exc()\n",
    "    sys.exit(1)\n",
    "\n",
    "\n"
   ]
  },
  {
   "cell_type": "code",
   "execution_count": 26,
   "id": "c8f9f331",
   "metadata": {
    "ExecuteTime": {
     "end_time": "2025-05-08T00:52:11.123641Z",
     "start_time": "2025-05-08T00:51:49.453686Z"
    }
   },
   "outputs": [
    {
     "name": "stdout",
     "output_type": "stream",
     "text": [
      "Extracting embeddings...\n",
      "RNA embeddings shape: (3250, 50)\n",
      "ATAC embeddings shape: (2781, 50)\n",
      "Feature embeddings shape: (17597, 50)\n",
      "Saving final model to cglue_soe_ot_adult_human_kidney_kidney_distal_convoluted_output/cglue_soe_ot_final_model.dill\n",
      "[INFO] CGLUESOE_OT_Model: Model state saved to cglue_soe_ot_adult_human_kidney_kidney_distal_convoluted_output/cglue_soe_ot_final_model.dill\n",
      "Generating UMAP visualization...\n",
      "Running neighbors and UMAP...\n"
     ]
    },
    {
     "name": "stderr",
     "output_type": "stream",
     "text": [
      " FutureWarning:/home/sccancer/anaconda3/envs/CGLUE-SOE/lib/python3.9/site-packages/anndata/_core/anndata.py:402: The dtype argument is deprecated and will be removed in late 2024.\n"
     ]
    },
    {
     "name": "stdout",
     "output_type": "stream",
     "text": [
      "Plotting UMAP...\n",
      "WARNING: saving figure to file figures/umap_cglue_soe_ot_adult_human_kidney_kidney_distal_convoluted_results_1.png\n",
      "UMAP plots saved to figures/ directory (_cglue_soe_ot_adult_human_kidney_kidney_distal_convoluted_results_1.png).\n",
      "Script finished.\n"
     ]
    }
   ],
   "source": [
    "# --- 8. Post-Training Analysis ---\n",
    "print(\"Extracting embeddings...\")\n",
    "try:\n",
    "    # Use a different key for the new model's embeddings\n",
    "    embedding_key = \"X_cgluesoe_ot\"\n",
    "    rna_adata.obsm[embedding_key] = model.encode_data(\"rna\", rna_adata)\n",
    "    atac_adata.obsm[embedding_key] = model.encode_data(\"atac\", atac_adata)\n",
    "\n",
    "    # Get feature embeddings from the nn.Embedding layer\n",
    "    feature_embeddings = model.get_feature_embeddings()\n",
    "    feature_embeddings_df = pd.DataFrame(feature_embeddings, index=model.vertices)\n",
    "\n",
    "    print(\"RNA embeddings shape:\", rna_adata.obsm[embedding_key].shape)\n",
    "    print(\"ATAC embeddings shape:\", atac_adata.obsm[embedding_key].shape)\n",
    "    print(\"Feature embeddings shape:\", feature_embeddings_df.shape)\n",
    "\n",
    "    # --- Optional: Save model and embeddings ---\n",
    "    final_model_path = os.path.join(SAVE_DIR, \"cglue_soe_ot_final_model.dill\")\n",
    "    print(f\"Saving final model to {final_model_path}\")\n",
    "    model.save(final_model_path)\n",
    "\n",
    "    rna_save_path = os.path.join(SAVE_DIR, \"rna_adata_with_embeddings.h5ad\")\n",
    "    atac_save_path = os.path.join(SAVE_DIR, \"atac_adata_with_embeddings.h5ad\")\n",
    "    feat_save_path = os.path.join(SAVE_DIR, \"feature_embeddings.csv\")\n",
    "\n",
    "    # print(f\"Saving RNA AnnData to {rna_save_path}\")\n",
    "    # rna_adata.write_h5ad(rna_save_path)\n",
    "    # print(f\"Saving ATAC AnnData to {atac_save_path}\")\n",
    "    # atac_adata.write_h5ad(atac_save_path)\n",
    "    # print(f\"Saving feature embeddings to {feat_save_path}\")\n",
    "    # feature_embeddings_df.to_csv(feat_save_path)\n",
    "\n",
    "\n",
    "    # --- Optional: Visualization (UMAP) ---\n",
    "    print(\"Generating UMAP visualization...\")\n",
    "    # Combine embeddings and obs for visualization\n",
    "    all_embeddings = np.concatenate([rna_adata.obsm[embedding_key], atac_adata.obsm[embedding_key]], axis=0)\n",
    "    all_obs = pd.concat([\n",
    "        rna_adata.obs[[label_col]].assign(modality='rna'), # Use label_col\n",
    "        atac_adata.obs[[label_col]].assign(modality='atac') # Use label_col\n",
    "    ], axis=0)\n",
    "    # Create combined obs_names for the visualization AnnData\n",
    "    vis_obs_names = rna_adata.obs_names.tolist() + atac_adata.obs_names.tolist()\n",
    "    if len(vis_obs_names) != len(all_obs): # Basic check\n",
    "         print(f\"Warning: Length mismatch between obs_names ({len(vis_obs_names)}) and combined obs ({len(all_obs)}). Using default index.\")\n",
    "         vis_obs_names = pd.RangeIndex(start=0, stop=len(all_obs), step=1)\n",
    "\n",
    "\n",
    "    vis_adata = ad.AnnData(all_embeddings, dtype=all_embeddings.dtype) # Ensure dtype is set\n",
    "    vis_adata.obs = all_obs\n",
    "    vis_adata.obs_names = vis_obs_names # Assign combined names\n",
    "    vis_adata.obsm['X_cgluesoe_ot'] = all_embeddings # Store for scanpy functions\n",
    "\n",
    "    print(\"Running neighbors and UMAP...\")\n",
    "    sc.pp.neighbors(vis_adata, use_rep='X_cgluesoe_ot', n_neighbors=15, random_state=SEED)\n",
    "    sc.tl.umap(vis_adata, min_dist=0.3, random_state=SEED) # Adjust min_dist for spread\n",
    "\n",
    "    print(\"Plotting UMAP...\")\n",
    "    umap_save_path = f'_cglue_soe_ot_adult_human_kidney_kidney_distal_convoluted_results_{Times}.png' # Updated filename\n",
    "    sc.pl.umap(\n",
    "        vis_adata,\n",
    "        color=['modality', label_col], # Color by label_col\n",
    "        title=['UMAP by Modality', f'UMAP by {label_col.capitalize()}'],\n",
    "        save=umap_save_path,\n",
    "        show=False # Set to True to display interactively if possible\n",
    "    )\n",
    "    print(f\"UMAP plots saved to figures/ directory ({umap_save_path}).\")\n",
    "\n",
    "except Exception as e:\n",
    "    print(f\"An error occurred during post-training analysis: {e}\")\n",
    "    import traceback\n",
    "    traceback.print_exc()\n",
    "\n",
    "print(\"Script finished.\")"
   ]
  },
  {
   "cell_type": "code",
   "execution_count": 27,
   "id": "dd3ef1c0",
   "metadata": {
    "ExecuteTime": {
     "end_time": "2025-05-08T00:52:11.961502Z",
     "start_time": "2025-05-08T00:52:11.137549Z"
    }
   },
   "outputs": [
    {
     "name": "stdout",
     "output_type": "stream",
     "text": [
      "Plotting loss curves...\n",
      "[INFO] CGLUESOE_OT_Model: Loss curves saved to cglue_soe_ot_adult_human_kidney_kidney_distal_convoluted_output/cglue_soe_ot_loss_curves_adult_human_kidney_kidney_distal_convoluted_1.png\n",
      "Loss curves saved to cglue_soe_ot_adult_human_kidney_kidney_distal_convoluted_output/cglue_soe_ot_loss_curves_adult_human_kidney_kidney_distal_convoluted_1.png\n"
     ]
    }
   ],
   "source": [
    "print(\"Plotting loss curves...\")\n",
    "try:\n",
    "    # Define where to save the plot\n",
    "    loss_plot_path = os.path.join(SAVE_DIR, f\"cglue_soe_ot_loss_curves_adult_human_kidney_kidney_distal_convoluted_{Times}.png\")\n",
    "    # Call the plotting method\n",
    "    model.plot_loss_curves(save_path=loss_plot_path)\n",
    "    print(f\"Loss curves saved to {loss_plot_path}\")\n",
    "except Exception as e:\n",
    "    print(f\"An error occurred during loss plotting: {e}\")\n",
    "    import traceback\n",
    "    traceback.print_exc()\n"
   ]
  },
  {
   "cell_type": "code",
   "execution_count": 28,
   "id": "28aa3ca5",
   "metadata": {
    "ExecuteTime": {
     "end_time": "2025-05-08T00:52:11.973966Z",
     "start_time": "2025-05-08T00:52:11.964742Z"
    }
   },
   "outputs": [
    {
     "name": "stdout",
     "output_type": "stream",
     "text": [
      "超参数已成功保存到 cglue_soe_ot_adult_human_kidney_kidney_distal_convoluted_output/hyperparameters_kidney_distal_convoluted.csv\n"
     ]
    }
   ],
   "source": [
    "import csv\n",
    "import pickle\n",
    "# 定义你的超参数 (与上面相同)\n",
    "hyperparameters = {\n",
    "    \"lam_kl\": lam_kl,\n",
    "    \"lam_data\": lam_data,\n",
    "    \"lam_triplet\": lam_triplet,\n",
    "    \"lam_ot\": lam_ot,\n",
    "    \"triplet_margin\": triplet_margin,\n",
    "    \"ot_epsilon\": ot_epsilon,\n",
    "    \"ot_tau\": ot_tau,\n",
    "    \"ot_max_iter\": ot_max_iter,\n",
    "    \"max_epochs\": max_epochs\n",
    "}\n",
    "\n",
    "# 定义要保存的PKL文件名\n",
    "csv_filename = os.path.join(SAVE_DIR, \"hyperparameters_kidney_distal_convoluted.csv\")\n",
    "\n",
    "# 写入CSV文件\n",
    "try:\n",
    "    with open(csv_filename, 'a', newline='') as csvfile:\n",
    "        # 定义CSV写入器\n",
    "        writer = csv.writer(csvfile)\n",
    "\n",
    "        # 写入表头 (可选，但推荐)\n",
    "        writer.writerow([f'ParameterName_{Times}', 'Value'])\n",
    "\n",
    "        # 遍历字典并写入每一行\n",
    "        for name, value in hyperparameters.items():\n",
    "            writer.writerow([name, value])\n",
    "    print(f\"超参数已成功保存到 {csv_filename}\")\n",
    "except IOError:\n",
    "    print(f\"错误：无法写入文件 {csv_filename}\")"
   ]
  },
  {
   "cell_type": "code",
   "execution_count": null,
   "id": "02462a3d",
   "metadata": {},
   "outputs": [],
   "source": []
  },
  {
   "cell_type": "code",
   "execution_count": null,
   "id": "56c0f08f",
   "metadata": {},
   "outputs": [],
   "source": []
  },
  {
   "cell_type": "code",
   "execution_count": null,
   "id": "a9b52541",
   "metadata": {},
   "outputs": [],
   "source": []
  },
  {
   "cell_type": "code",
   "execution_count": null,
   "id": "d04b8beb",
   "metadata": {},
   "outputs": [],
   "source": []
  },
  {
   "cell_type": "code",
   "execution_count": null,
   "id": "84bfccc9",
   "metadata": {},
   "outputs": [],
   "source": []
  },
  {
   "cell_type": "code",
   "execution_count": null,
   "id": "5d96d025",
   "metadata": {},
   "outputs": [],
   "source": []
  },
  {
   "cell_type": "code",
   "execution_count": null,
   "id": "493931e9",
   "metadata": {},
   "outputs": [],
   "source": []
  },
  {
   "cell_type": "code",
   "execution_count": null,
   "id": "f7dfd757",
   "metadata": {},
   "outputs": [],
   "source": []
  }
 ],
 "metadata": {
  "kernelspec": {
   "display_name": "Python [conda env:CGLUE-SOE]",
   "language": "python",
   "name": "conda-env-CGLUE-SOE-py"
  },
  "language_info": {
   "codemirror_mode": {
    "name": "ipython",
    "version": 3
   },
   "file_extension": ".py",
   "mimetype": "text/x-python",
   "name": "python",
   "nbconvert_exporter": "python",
   "pygments_lexer": "ipython3",
   "version": "3.9.22"
  },
  "toc": {
   "base_numbering": 1,
   "nav_menu": {},
   "number_sections": true,
   "sideBar": true,
   "skip_h1_title": false,
   "title_cell": "Table of Contents",
   "title_sidebar": "Contents",
   "toc_cell": false,
   "toc_position": {},
   "toc_section_display": true,
   "toc_window_display": false
  }
 },
 "nbformat": 4,
 "nbformat_minor": 5
}
