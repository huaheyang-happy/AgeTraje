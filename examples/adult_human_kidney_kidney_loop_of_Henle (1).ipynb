{
 "cells": [
  {
   "cell_type": "code",
   "execution_count": 1,
   "id": "ff13588f",
   "metadata": {
    "ExecuteTime": {
     "end_time": "2025-05-08T14:36:12.546616Z",
     "start_time": "2025-05-08T14:35:55.479559Z"
    }
   },
   "outputs": [],
   "source": [
    "\n",
    "import scanpy as sc\n",
    "import matplotlib.pyplot as plt\n",
    "import sys\n",
    "import os\n",
    "import numpy as np\n",
    "import pandas as pd\n",
    "import anndata as ad\n",
    "import scanpy as sc\n",
    "import networkx as nx\n",
    "import torch\n",
    "import sklearn.preprocessing\n",
    "import episcanpy as epi\n",
    "import sys\n",
    "import os\n",
    "import numpy as np\n",
    "import pandas as pd\n",
    "import anndata as ad\n",
    "import scanpy as sc\n",
    "# import networkx as nx # No longer needed for training script itself\n",
    "import torch\n",
    "\n",
    "\n",
    "adata_ATAC=sc.read(\"/data/cabins/sccancer/hhy/TI/adult_human_kidney_ATAC.h5ad\")\n",
    "adata_RNA= sc.read(\"/data/cabins/sccancer/hhy/TI/adult_human_kidney_RNA.h5ad\")"
   ]
  },
  {
   "cell_type": "code",
   "execution_count": 2,
   "id": "76e6d22c",
   "metadata": {
    "ExecuteTime": {
     "end_time": "2025-05-08T14:36:14.880246Z",
     "start_time": "2025-05-08T14:36:12.550611Z"
    }
   },
   "outputs": [],
   "source": [
    "adata_ATAC_copy = adata_ATAC.copy()\n",
    "adata_RNA_copy = adata_RNA.copy()"
   ]
  },
  {
   "cell_type": "code",
   "execution_count": 3,
   "id": "84b91fce",
   "metadata": {
    "ExecuteTime": {
     "end_time": "2025-05-08T14:36:14.889924Z",
     "start_time": "2025-05-08T14:36:14.882444Z"
    }
   },
   "outputs": [],
   "source": [
    "adata_ATAC = adata_ATAC_copy \n",
    "adata_RNA = adata_RNA_copy"
   ]
  },
  {
   "cell_type": "code",
   "execution_count": 4,
   "id": "81b01645",
   "metadata": {
    "ExecuteTime": {
     "end_time": "2025-05-08T14:36:14.929910Z",
     "start_time": "2025-05-08T14:36:14.892383Z"
    }
   },
   "outputs": [
    {
     "data": {
      "text/plain": [
       "AnnData object with n_obs × n_vars = 27034 × 19520\n",
       "    obs: 'mapped_reference_assembly', 'alignment_software', 'donor_id', 'self_reported_ethnicity_ontology_term_id', 'donor_living_at_sample_collection', 'organism_ontology_term_id', 'sample_uuid', 'sample_preservation_method', 'tissue_ontology_term_id', 'development_stage_ontology_term_id', 'sample_derivation_process', 'sample_source', 'suspension_derivation_process', 'suspension_dissociation_reagent', 'suspension_uuid', 'suspension_type', 'library_uuid', 'assay_ontology_term_id', 'sequencing_platform', 'is_primary_data', 'cell_type_ontology_term_id', 'author_cell_type', 'disease_ontology_term_id', 'reported_diseases', 'sex_ontology_term_id', 'seurat_clusters', 'nCount_RNA', 'nFeature_RNA', 'tissue_type', 'cell_type', 'assay', 'disease', 'organism', 'sex', 'tissue', 'self_reported_ethnicity', 'development_stage', 'observation_joinid'\n",
       "    var: 'feature_is_filtered', 'feature_name', 'feature_reference', 'feature_biotype', 'feature_length', 'feature_type'\n",
       "    uns: 'citation', 'default_embedding', 'schema_reference', 'schema_version', 'title'\n",
       "    obsm: 'X_harmony', 'X_pca', 'X_umap'"
      ]
     },
     "execution_count": 4,
     "metadata": {},
     "output_type": "execute_result"
    }
   ],
   "source": [
    "adata_ATAC"
   ]
  },
  {
   "cell_type": "code",
   "execution_count": 5,
   "id": "b0a86c6a",
   "metadata": {
    "ExecuteTime": {
     "end_time": "2025-05-08T14:36:16.491233Z",
     "start_time": "2025-05-08T14:36:14.933248Z"
    }
   },
   "outputs": [
    {
     "data": {
      "text/plain": [
       "array([[0., 0., 0., ..., 0., 0., 0.],\n",
       "       [0., 0., 0., ..., 0., 0., 0.],\n",
       "       [0., 0., 0., ..., 0., 0., 0.],\n",
       "       ...,\n",
       "       [0., 0., 0., ..., 0., 0., 0.],\n",
       "       [0., 0., 0., ..., 0., 0., 0.],\n",
       "       [0., 0., 0., ..., 0., 0., 0.]], dtype=float32)"
      ]
     },
     "execution_count": 5,
     "metadata": {},
     "output_type": "execute_result"
    }
   ],
   "source": [
    "adata_ATAC.X.A"
   ]
  },
  {
   "cell_type": "code",
   "execution_count": 6,
   "id": "91cc90e9",
   "metadata": {
    "ExecuteTime": {
     "end_time": "2025-05-08T14:36:16.498893Z",
     "start_time": "2025-05-08T14:36:16.493756Z"
    }
   },
   "outputs": [
    {
     "data": {
      "text/plain": [
       "AnnData object with n_obs × n_vars = 19985 × 33145\n",
       "    obs: 'donor_id', 'self_reported_ethnicity_ontology_term_id', 'organism_ontology_term_id', 'sample_uuid', 'sample_preservation_method', 'tissue_ontology_term_id', 'development_stage_ontology_term_id', 'suspension_uuid', 'suspension_type', 'library_uuid', 'assay_ontology_term_id', 'mapped_reference_annotation', 'is_primary_data', 'cell_type_ontology_term_id', 'author_cell_type', 'disease_ontology_term_id', 'reported_diseases', 'sex_ontology_term_id', 'nCount_SCT', 'nFeature_SCT', 'percent.mt', 'percent.rpl', 'percent.rps', 'seurat_clusters', 'tissue_type', 'cell_type', 'assay', 'disease', 'organism', 'sex', 'tissue', 'self_reported_ethnicity', 'development_stage', 'observation_joinid'\n",
       "    var: 'feature_is_filtered', 'feature_name', 'feature_reference', 'feature_biotype', 'feature_length', 'feature_type'\n",
       "    uns: 'citation', 'default_embedding', 'schema_reference', 'schema_version', 'title'\n",
       "    obsm: 'X_harmony', 'X_pca', 'X_umap'"
      ]
     },
     "execution_count": 6,
     "metadata": {},
     "output_type": "execute_result"
    }
   ],
   "source": [
    "adata_RNA"
   ]
  },
  {
   "cell_type": "code",
   "execution_count": 7,
   "id": "4eac2f76",
   "metadata": {
    "ExecuteTime": {
     "end_time": "2025-05-08T14:36:17.902600Z",
     "start_time": "2025-05-08T14:36:16.500607Z"
    }
   },
   "outputs": [
    {
     "data": {
      "text/plain": [
       "array([[0.       , 0.       , 0.       , ..., 0.       , 0.       ,\n",
       "        0.       ],\n",
       "       [0.       , 0.       , 0.       , ..., 0.6931472, 0.       ,\n",
       "        0.       ],\n",
       "       [0.       , 0.       , 0.       , ..., 0.       , 0.       ,\n",
       "        0.       ],\n",
       "       ...,\n",
       "       [0.       , 0.       , 0.       , ..., 0.       , 0.       ,\n",
       "        0.       ],\n",
       "       [0.       , 0.       , 0.       , ..., 1.0986123, 0.       ,\n",
       "        0.       ],\n",
       "       [0.       , 0.       , 0.       , ..., 0.       , 0.       ,\n",
       "        0.       ]], dtype=float32)"
      ]
     },
     "execution_count": 7,
     "metadata": {},
     "output_type": "execute_result"
    }
   ],
   "source": [
    "adata_RNA.X.A"
   ]
  },
  {
   "cell_type": "code",
   "execution_count": 8,
   "id": "904da1b1",
   "metadata": {
    "ExecuteTime": {
     "end_time": "2025-05-08T14:36:17.912135Z",
     "start_time": "2025-05-08T14:36:17.904203Z"
    }
   },
   "outputs": [
    {
     "data": {
      "text/plain": [
       "cell_type\n",
       "kidney loop of Henle thick ascending limb epithelial cell    7775\n",
       "kidney proximal convoluted tubule epithelial cell            6384\n",
       "kidney proximal straight tubule epithelial cell              4146\n",
       "kidney distal convoluted tubule epithelial cell              2781\n",
       "renal principal cell                                         1291\n",
       "kidney connecting tubule epithelial cell                      884\n",
       "kidney capillary endothelial cell                             759\n",
       "epithelial cell of proximal tubule                            690\n",
       "renal beta-intercalated cell                                  620\n",
       "renal alpha-intercalated cell                                 613\n",
       "parietal epithelial cell                                      402\n",
       "connective tissue cell                                        363\n",
       "leukocyte                                                     193\n",
       "podocyte                                                      133\n",
       "Name: count, dtype: int64"
      ]
     },
     "execution_count": 8,
     "metadata": {},
     "output_type": "execute_result"
    }
   ],
   "source": [
    "adata_ATAC.obs[\"cell_type\"].value_counts()"
   ]
  },
  {
   "cell_type": "code",
   "execution_count": 9,
   "id": "6eb47ae2",
   "metadata": {
    "ExecuteTime": {
     "end_time": "2025-05-08T14:36:17.954895Z",
     "start_time": "2025-05-08T14:36:17.913818Z"
    }
   },
   "outputs": [
    {
     "data": {
      "text/plain": [
       "development_stage\n",
       "61-year-old stage    7381\n",
       "52-year-old stage    6135\n",
       "50-year-old stage    5280\n",
       "54-year-old stage    4166\n",
       "62-year-old stage    4072\n",
       "Name: count, dtype: int64"
      ]
     },
     "execution_count": 9,
     "metadata": {},
     "output_type": "execute_result"
    }
   ],
   "source": [
    "adata_ATAC.obs[\"development_stage\"].value_counts()"
   ]
  },
  {
   "cell_type": "code",
   "execution_count": 10,
   "id": "221ae47f",
   "metadata": {
    "ExecuteTime": {
     "end_time": "2025-05-08T14:36:17.987624Z",
     "start_time": "2025-05-08T14:36:17.957647Z"
    }
   },
   "outputs": [
    {
     "data": {
      "text/plain": [
       "cell_type\n",
       "epithelial cell of proximal tubule                           5485\n",
       "kidney loop of Henle thick ascending limb epithelial cell    4435\n",
       "kidney distal convoluted tubule epithelial cell              3250\n",
       "kidney connecting tubule epithelial cell                     1805\n",
       "renal alpha-intercalated cell                                1107\n",
       "renal principal cell                                         1022\n",
       "kidney capillary endothelial cell                            1008\n",
       "parietal epithelial cell                                      552\n",
       "podocyte                                                      463\n",
       "renal beta-intercalated cell                                  349\n",
       "mesangial cell                                                239\n",
       "fibroblast                                                    207\n",
       "leukocyte                                                      63\n",
       "Name: count, dtype: int64"
      ]
     },
     "execution_count": 10,
     "metadata": {},
     "output_type": "execute_result"
    }
   ],
   "source": [
    "adata_RNA.obs[\"cell_type\"].value_counts()"
   ]
  },
  {
   "cell_type": "code",
   "execution_count": 11,
   "id": "702c04a5",
   "metadata": {
    "ExecuteTime": {
     "end_time": "2025-05-08T14:36:18.019651Z",
     "start_time": "2025-05-08T14:36:17.990633Z"
    }
   },
   "outputs": [
    {
     "data": {
      "text/plain": [
       "development_stage\n",
       "61-year-old stage    5464\n",
       "54-year-old stage    4114\n",
       "52-year-old stage    3804\n",
       "50-year-old stage    3683\n",
       "62-year-old stage    2920\n",
       "Name: count, dtype: int64"
      ]
     },
     "execution_count": 11,
     "metadata": {},
     "output_type": "execute_result"
    }
   ],
   "source": [
    "adata_RNA.obs[\"development_stage\"].value_counts()"
   ]
  },
  {
   "cell_type": "code",
   "execution_count": 12,
   "id": "e1c3602a",
   "metadata": {
    "ExecuteTime": {
     "end_time": "2025-05-08T14:36:18.914953Z",
     "start_time": "2025-05-08T14:36:18.023650Z"
    }
   },
   "outputs": [],
   "source": [
    "adata_ATAC = adata_ATAC[adata_ATAC.obs[\"cell_type\"] == 'kidney loop of Henle thick ascending limb epithelial cell',:]\n",
    "samples_to_keep = ['50-year-old stage', '52-year-old stage', '54-year-old stage', '61-year-old stage','62-year-old stage']\n",
    "mask = adata_ATAC.obs['development_stage'].isin(samples_to_keep)\n",
    "adata_ATAC = adata_ATAC[mask].copy()"
   ]
  },
  {
   "cell_type": "code",
   "execution_count": 13,
   "id": "2b12c868",
   "metadata": {
    "ExecuteTime": {
     "end_time": "2025-05-08T14:36:19.200651Z",
     "start_time": "2025-05-08T14:36:18.918330Z"
    }
   },
   "outputs": [],
   "source": [
    "adata_RNA = adata_RNA[adata_RNA.obs[\"cell_type\"] == 'kidney loop of Henle thick ascending limb epithelial cell',:]\n",
    "samples_to_keep = ['50-year-old stage', '52-year-old stage', '54-year-old stage', '61-year-old stage','62-year-old stage']\n",
    "mask = adata_RNA.obs['development_stage'].isin(samples_to_keep)\n",
    "adata_RNA = adata_RNA[mask].copy()"
   ]
  },
  {
   "cell_type": "code",
   "execution_count": 29,
   "id": "30cd1b2b",
   "metadata": {
    "ExecuteTime": {
     "end_time": "2025-05-09T01:02:22.214731Z",
     "start_time": "2025-05-09T01:02:22.199791Z"
    }
   },
   "outputs": [
    {
     "data": {
      "text/plain": [
       "AAACCTGCAAGCGCTC-1    kidney loop of Henle thick ascending limb epit...\n",
       "AAACCTGCACCAGATT-1    kidney loop of Henle thick ascending limb epit...\n",
       "AAACCTGTCCCATTAT-1    kidney loop of Henle thick ascending limb epit...\n",
       "AAACCTGTCGCCTGAG-1    kidney loop of Henle thick ascending limb epit...\n",
       "AAACGGGAGCCCAATT-1    kidney loop of Henle thick ascending limb epit...\n",
       "                                            ...                        \n",
       "TTGCCGTGTACTCAAC-5    kidney loop of Henle thick ascending limb epit...\n",
       "TTGCCGTTCGTGGGAA-5    kidney loop of Henle thick ascending limb epit...\n",
       "TTTATGCTCCAACCAA-5    kidney loop of Henle thick ascending limb epit...\n",
       "TTTCCTCAGAGGTTGC-5    kidney loop of Henle thick ascending limb epit...\n",
       "TTTGCGCAGATGTGGC-5    kidney loop of Henle thick ascending limb epit...\n",
       "Name: cell_type, Length: 4435, dtype: category\n",
       "Categories (1, object): ['kidney loop of Henle thick ascending limb epi...]"
      ]
     },
     "execution_count": 29,
     "metadata": {},
     "output_type": "execute_result"
    }
   ],
   "source": [
    "adata_RNA.obs[\"cell_type\"]"
   ]
  },
  {
   "cell_type": "code",
   "execution_count": 14,
   "id": "f255d248",
   "metadata": {
    "ExecuteTime": {
     "end_time": "2025-05-08T14:36:19.215202Z",
     "start_time": "2025-05-08T14:36:19.204945Z"
    }
   },
   "outputs": [
    {
     "data": {
      "text/plain": [
       "development_stage\n",
       "52-year-old stage    2287\n",
       "50-year-old stage    1966\n",
       "61-year-old stage    1855\n",
       "54-year-old stage    1214\n",
       "62-year-old stage     453\n",
       "Name: count, dtype: int64"
      ]
     },
     "execution_count": 14,
     "metadata": {},
     "output_type": "execute_result"
    }
   ],
   "source": [
    "adata_ATAC.obs['development_stage'].value_counts()"
   ]
  },
  {
   "cell_type": "code",
   "execution_count": 15,
   "id": "0bd05b10",
   "metadata": {
    "ExecuteTime": {
     "end_time": "2025-05-08T14:36:19.257740Z",
     "start_time": "2025-05-08T14:36:19.217783Z"
    }
   },
   "outputs": [
    {
     "data": {
      "text/plain": [
       "development_stage\n",
       "50-year-old stage    1995\n",
       "54-year-old stage    1017\n",
       "61-year-old stage     628\n",
       "52-year-old stage     402\n",
       "62-year-old stage     393\n",
       "Name: count, dtype: int64"
      ]
     },
     "execution_count": 15,
     "metadata": {},
     "output_type": "execute_result"
    }
   ],
   "source": [
    "adata_RNA.obs['development_stage'].value_counts()"
   ]
  },
  {
   "cell_type": "code",
   "execution_count": 16,
   "id": "4a34d583",
   "metadata": {
    "ExecuteTime": {
     "end_time": "2025-05-08T14:36:19.295828Z",
     "start_time": "2025-05-08T14:36:19.261023Z"
    }
   },
   "outputs": [
    {
     "name": "stderr",
     "output_type": "stream",
     "text": [
      " FutureWarning:/tmp/ipykernel_1161844/887913303.py:8: The behavior of Series.replace (and DataFrame.replace) with CategoricalDtype is deprecated. In a future version, replace will only be used for cases that preserve the categories. To change the categories, use ser.cat.rename_categories instead.\n",
      " FutureWarning:/tmp/ipykernel_1161844/887913303.py:9: The behavior of Series.replace (and DataFrame.replace) with CategoricalDtype is deprecated. In a future version, replace will only be used for cases that preserve the categories. To change the categories, use ser.cat.rename_categories instead.\n"
     ]
    }
   ],
   "source": [
    "replacement_map = {\n",
    "    '50-year-old stage': '50',\n",
    "    '52-year-old stage': '52',\n",
    "    '54-year-old stage': '54',\n",
    "    '61-year-old stage': '61',\n",
    "    '62-year-old stage': '62',   \n",
    "}\n",
    "adata_ATAC.obs['age'] = adata_ATAC.obs['development_stage'].replace(replacement_map)\n",
    "adata_RNA.obs['age'] = adata_RNA.obs['development_stage'].replace(replacement_map)"
   ]
  },
  {
   "cell_type": "code",
   "execution_count": 17,
   "id": "6429a273",
   "metadata": {
    "ExecuteTime": {
     "end_time": "2025-05-08T14:36:24.991408Z",
     "start_time": "2025-05-08T14:36:19.299240Z"
    }
   },
   "outputs": [
    {
     "name": "stderr",
     "output_type": "stream",
     "text": [
      " FutureWarning:/home/sccancer/anaconda3/envs/CGLUE-SOE/lib/python3.9/site-packages/episcanpy/preprocessing/_scanpy_fct.py:145: The specified parameters ('min_counts', 'min_cells', 'max_counts', 'max_cells', 'inplace', 'copy') are no longer positional. Please specify them like `min_counts=None`\n"
     ]
    }
   ],
   "source": [
    "sc.pp.filter_cells(adata_RNA, min_genes=100)\n",
    "sc.pp.filter_genes(adata_RNA, min_cells=3)\n",
    "# Saving count data\n",
    "adata_RNA.layers[\"counts\"] = adata_RNA.X.copy()\n",
    "# Normalizing to median total counts\n",
    "sc.pp.normalize_total(adata_RNA)\n",
    "# Logarithmize the data\n",
    "sc.pp.log1p(adata_RNA)\n",
    "sc.pp.highly_variable_genes(adata_RNA, n_top_genes=2000)\n",
    "adata_RNA = adata_RNA[:,adata_RNA.var['highly_variable'] ==True]\n",
    "fpeak=0.03\n",
    "epi.pp.binarize(adata_ATAC)\n",
    "epi.pp.filter_features(adata_ATAC, min_cells=np.ceil(adata_ATAC.shape[0])*fpeak)"
   ]
  },
  {
   "cell_type": "code",
   "execution_count": 18,
   "id": "50920f59",
   "metadata": {
    "ExecuteTime": {
     "end_time": "2025-05-08T14:36:25.000717Z",
     "start_time": "2025-05-08T14:36:24.993959Z"
    }
   },
   "outputs": [
    {
     "data": {
      "text/plain": [
       "View of AnnData object with n_obs × n_vars = 4435 × 2000\n",
       "    obs: 'donor_id', 'self_reported_ethnicity_ontology_term_id', 'organism_ontology_term_id', 'sample_uuid', 'sample_preservation_method', 'tissue_ontology_term_id', 'development_stage_ontology_term_id', 'suspension_uuid', 'suspension_type', 'library_uuid', 'assay_ontology_term_id', 'mapped_reference_annotation', 'is_primary_data', 'cell_type_ontology_term_id', 'author_cell_type', 'disease_ontology_term_id', 'reported_diseases', 'sex_ontology_term_id', 'nCount_SCT', 'nFeature_SCT', 'percent.mt', 'percent.rpl', 'percent.rps', 'seurat_clusters', 'tissue_type', 'cell_type', 'assay', 'disease', 'organism', 'sex', 'tissue', 'self_reported_ethnicity', 'development_stage', 'observation_joinid', 'age', 'n_genes'\n",
       "    var: 'feature_is_filtered', 'feature_name', 'feature_reference', 'feature_biotype', 'feature_length', 'feature_type', 'n_cells', 'highly_variable', 'means', 'dispersions', 'dispersions_norm'\n",
       "    uns: 'citation', 'default_embedding', 'schema_reference', 'schema_version', 'title', 'log1p', 'hvg'\n",
       "    obsm: 'X_harmony', 'X_pca', 'X_umap'\n",
       "    layers: 'counts'"
      ]
     },
     "execution_count": 18,
     "metadata": {},
     "output_type": "execute_result"
    }
   ],
   "source": [
    "adata_RNA"
   ]
  },
  {
   "cell_type": "code",
   "execution_count": null,
   "id": "9853cfb5",
   "metadata": {},
   "outputs": [],
   "source": []
  },
  {
   "cell_type": "code",
   "execution_count": 19,
   "id": "69163458",
   "metadata": {
    "ExecuteTime": {
     "end_time": "2025-05-08T14:36:39.243582Z",
     "start_time": "2025-05-08T14:36:25.002285Z"
    }
   },
   "outputs": [
    {
     "name": "stderr",
     "output_type": "stream",
     "text": [
      " TqdmWarning:/home/sccancer/anaconda3/envs/CGLUE-SOE/lib/python3.9/site-packages/tqdm/auto.py:21: IProgress not found. Please update jupyter and ipywidgets. See https://ipywidgets.readthedocs.io/en/stable/user_install.html\n"
     ]
    }
   ],
   "source": [
    "# -*- coding: utf-8 -*-\n",
    "\"\"\"\n",
    "Training script for CGLUE-SOE-OT model using real (preprocessed)\n",
    "scRNA-seq and scATAC-seq data with ordered age labels.\n",
    "\n",
    "This script assumes the modified CGLUE-SOE-OT model files\n",
    "(e.g., cglue_soe_ot.py, cglue_soe_components_ot.py) are\n",
    "accessible within the scglue package structure or Python path.\n",
    "\"\"\"\n",
    "\n",
    "import sys\n",
    "import os\n",
    "import numpy as np\n",
    "import pandas as pd\n",
    "import anndata as ad\n",
    "import scanpy as sc\n",
    "# import networkx as nx # No longer needed for training script itself\n",
    "import torch\n",
    "\n",
    "# --- Add project root to path if necessary ---\n",
    "# Adjust this path if your script is located elsewhere relative to the scglue package\n",
    "# project_root = os.path.abspath(os.path.join(os.path.dirname(__file__), '..'))\n",
    "# if project_root not in sys.path:\n",
    "#     sys.path.insert(0, project_root)\n",
    "\n",
    "try:\n",
    "    # Import the modified model and config function\n",
    "    import scglue\n",
    "    from scglue.models.cglue_soe_ot import CGLUESOE_OT_Model, configure_dataset_cglue_soe\n",
    "    # AnnDatasetWithLabels is still needed, GraphDataset is not\n",
    "    from scglue.models.data import AnnDatasetWithLabels\n",
    "    # from scglue.utils import config as scglue_config # Optional config import\n",
    "except ImportError as e:\n",
    "    print(f\"Error importing modified scglue components: {e}\")\n",
    "    print(\"Please ensure the modified scglue package (with CGLUE-SOE-OT) is installed or accessible.\")\n",
    "    sys.exit(1)\n",
    "except AttributeError as e:\n",
    "    print(f\"Error importing specific components (check file/class names): {e}\")\n",
    "    print(\"Ensure 'CGLUESOE_OT_Model' and 'configure_dataset_cglue_soe' exist in 'scglue.models.cglue_soe_ot'.\")\n",
    "    sys.exit(1)\n",
    "\n",
    "\n",
    "# --- Configuration ---\n",
    "SEED = 0\n",
    "torch.manual_seed(SEED)\n",
    "np.random.seed(SEED)\n",
    "SAVE_DIR = \"cglue_soe_ot_adult_human_kidney_output\" # Changed save directory name\n",
    "os.makedirs(SAVE_DIR, exist_ok=True)"
   ]
  },
  {
   "cell_type": "code",
   "execution_count": 20,
   "id": "9cb09f59",
   "metadata": {
    "ExecuteTime": {
     "end_time": "2025-05-08T14:36:39.358026Z",
     "start_time": "2025-05-08T14:36:39.247463Z"
    },
    "scrolled": false
   },
   "outputs": [
    {
     "name": "stdout",
     "output_type": "stream",
     "text": [
      "Loading real data...\n",
      "Preprocessing data...\n"
     ]
    },
    {
     "name": "stderr",
     "output_type": "stream",
     "text": [
      " ImplicitModificationWarning:/tmp/ipykernel_1161844/840349884.py:19: Trying to modify attribute `.obs` of view, initializing view as actual.\n"
     ]
    }
   ],
   "source": [
    "# --- 1. Load Your Real Data ---\n",
    "print(\"Loading real data...\")\n",
    "\n",
    "atac_adata= adata_ATAC\n",
    "rna_adata = adata_RNA\n",
    "adatas = {\"rna\": rna_adata, \"atac\": atac_adata}\n",
    "\n",
    "# --- 2. Preprocessing Steps ---\n",
    "print(\"Preprocessing data...\")\n",
    "\n",
    "# ** Crucial: Ensure 'age' column is ordered categorical **\n",
    "# Define the correct order\n",
    "age_order = ['50', '52', '54','61','62']\n",
    "label_col = 'age' # MODIFY AS NEEDED\n",
    "try:\n",
    "    for k in adatas:\n",
    "        if 'age' not in adatas[k].obs:\n",
    "            raise ValueError(f\"'age' column not found in adata '{k}'.\")\n",
    "        adatas[k].obs['age'] = pd.Categorical(\n",
    "            adatas[k].obs['age'], categories=age_order, ordered=True\n",
    "        )\n",
    "        # Check if any values became NaN after conversion (means original values didn't match categories)\n",
    "        if adatas[k].obs['age'].isnull().any():\n",
    "             print(f\"Warning: Some 'age' values in adata '{k}' did not match the expected categories {age_order} and resulted in NaNs.\")\n",
    "             # Optional: Handle NaNs, e.g., remove cells or raise error\n",
    "             # adatas[k] = adatas[k][adatas[k].obs['age'].notna()].copy()\n",
    "except Exception as e:\n",
    "    print(f\"Error processing 'age' column: {e}\")\n",
    "    sys.exit(1)\n"
   ]
  },
  {
   "cell_type": "code",
   "execution_count": 21,
   "id": "8cd850a1",
   "metadata": {
    "ExecuteTime": {
     "end_time": "2025-05-08T14:36:39.365716Z",
     "start_time": "2025-05-08T14:36:39.360744Z"
    }
   },
   "outputs": [],
   "source": [
    "atac_adata.var['highly_variable'] = True"
   ]
  },
  {
   "cell_type": "code",
   "execution_count": 22,
   "id": "f8bfceca",
   "metadata": {
    "ExecuteTime": {
     "end_time": "2025-05-08T14:36:39.402507Z",
     "start_time": "2025-05-08T14:36:39.367497Z"
    }
   },
   "outputs": [
    {
     "name": "stdout",
     "output_type": "stream",
     "text": [
      "Defining feature vertices...\n",
      "Total unique features (vertices): 17241\n"
     ]
    }
   ],
   "source": [
    "\n",
    "# --- 3. Define Vertices (No Graph Construction Needed) ---\n",
    "# The model still needs the list of all unique features across datasets\n",
    "# for the feature embedding layer.\n",
    "print(\"Defining feature vertices...\")\n",
    "vertices = pd.Index(rna_adata.var_names.tolist() + atac_adata.var_names.tolist()).unique()\n",
    "print(f\"Total unique features (vertices): {len(vertices)}\")\n"
   ]
  },
  {
   "cell_type": "code",
   "execution_count": 23,
   "id": "25fdc9a1",
   "metadata": {
    "ExecuteTime": {
     "end_time": "2025-05-08T14:36:39.440208Z",
     "start_time": "2025-05-08T14:36:39.405720Z"
    }
   },
   "outputs": [
    {
     "name": "stdout",
     "output_type": "stream",
     "text": [
      "Configuring datasets for CGLUE-SOE-OT...\n",
      "[INFO] CGLUESOE_OT_Model: Dataset configured for CGLUE-SOE-OT using label 'age'.\n",
      "[INFO] CGLUESOE_OT_Model: Dataset configured for CGLUE-SOE-OT using label 'age'.\n",
      "Datasets configured.\n"
     ]
    }
   ],
   "source": [
    "\n",
    "# --- 4. Configure Datasets for CGLUE-SOE-OT ---\n",
    "print(\"Configuring datasets for CGLUE-SOE-OT...\")\n",
    "# ** Choose appropriate prob_model based on your preprocessing **\n",
    "# 'Normal' or 'ZILN' for log-normalized RNA.\n",
    "# 'Normal', 'ZILN', or 'Bernoulli' for ATAC depending on preprocessing.\n",
    "try:\n",
    "    configure_dataset_cglue_soe( # Use the same config function name\n",
    "        adatas[\"rna\"],\n",
    "        prob_model=\"Normal\", # Adjust if needed (e.g., \"NB\" if using raw counts)\n",
    "        use_highly_variable=True, # Use selected HVGs\n",
    "        use_label=label_col, # Use the ordered label column\n",
    "        use_layer=None, # Assuming preprocessed data is in .X\n",
    "        use_rep=None,   # Or specify a representation like 'X_pca' if desired\n",
    "        use_obs_names=False # Data is unpaired\n",
    "    )\n",
    "    configure_dataset_cglue_soe( # Use the same config function name\n",
    "        adatas[\"atac\"],\n",
    "        prob_model=\"Bernoulli\", # Adjust based on ATAC preprocessing\n",
    "        use_highly_variable=True, # Use selected HVGs\n",
    "        use_label=label_col, # Use the ordered label column\n",
    "        use_layer=None, # Assuming preprocessed data is in .X\n",
    "        use_rep=None,   # Or specify a representation like 'X_lsi' if desired\n",
    "        use_obs_names=False # Data is unpaired\n",
    "    )\n",
    "    print(\"Datasets configured.\")\n",
    "except Exception as e:\n",
    "    print(f\"Error configuring datasets: {e}\")\n",
    "    sys.exit(1)\n"
   ]
  },
  {
   "cell_type": "code",
   "execution_count": 24,
   "id": "d46d6bd0",
   "metadata": {
    "ExecuteTime": {
     "end_time": "2025-05-08T15:42:41.535023Z",
     "start_time": "2025-05-08T14:36:39.443215Z"
    }
   },
   "outputs": [
    {
     "name": "stdout",
     "output_type": "stream",
     "text": [
      "Initializing CGLUE-SOE-OT model...\n",
      "[INFO] autodevice: Using GPU 3 as computation device.\n",
      "Model initialized.\n",
      "Compiling model...\n",
      "Model compiled.\n",
      "Fitting model...\n"
     ]
    },
    {
     "name": "stderr",
     "output_type": "stream",
     "text": [
      " UserWarning:/home/sccancer/anaconda3/envs/CGLUE-SOE/lib/python3.9/site-packages/torch/optim/lr_scheduler.py:62: The verbose parameter is deprecated. Please use get_last_lr() to access the learning rate.\n",
      " FutureWarning:/home/sccancer/anaconda3/envs/CGLUE-SOE/lib/python3.9/abc.py:119: SparseDataset is deprecated and will be removed in late 2024. It has been replaced by the public classes CSRDataset and CSCDataset.\n",
      "\n",
      "For instance checks, use `isinstance(X, (anndata.experimental.CSRDataset, anndata.experimental.CSCDataset))` instead.\n",
      "\n",
      "For creation, use `anndata.experimental.sparse_dataset(X)` instead.\n",
      "\n"
     ]
    },
    {
     "name": "stdout",
     "output_type": "stream",
     "text": [
      "[INFO] CGLUESOE_OT_Trainer: [Epoch 10] Train={'x_rna_nll': '642.8979', 'x_rna_kl': '41.3605', 'x_rna_elbo': '647.0339', 'x_atac_nll': '9790.0729', 'x_atac_kl': '46.3728', 'x_atac_elbo': '9794.7102', 'triplet_loss': '0.0431', 'ot_loss': '21.7233', 'total_loss': '10680.5436'}, Val={'x_rna_nll': '612.4531', 'x_rna_kl': '41.9420', 'x_rna_elbo': '616.6473', 'x_atac_nll': '9683.2565', 'x_atac_kl': '46.5366', 'x_atac_elbo': '9687.9104', 'triplet_loss': '0.3592', 'ot_loss': '9.0364', 'total_loss': '10574.5036'}\n",
      "[INFO] CGLUESOE_OT_Trainer: [Epoch 20] Train={'x_rna_nll': '81.4763', 'x_rna_kl': '80.4943', 'x_rna_elbo': '89.5257', 'x_atac_nll': '8533.9380', 'x_atac_kl': '85.2072', 'x_atac_elbo': '8542.4588', 'triplet_loss': '0.0307', 'ot_loss': '10.4924', 'total_loss': '8752.2472'}, Val={'x_rna_nll': '51.8669', 'x_rna_kl': '81.2970', 'x_rna_elbo': '59.9966', 'x_atac_nll': '8532.3712', 'x_atac_kl': '85.2515', 'x_atac_elbo': '8540.8964', 'triplet_loss': '0.2840', 'ot_loss': '5.0905', 'total_loss': '8793.7743'}\n",
      "[INFO] CGLUESOE_OT_Trainer: [Epoch 30] Train={'x_rna_nll': '-469.2983', 'x_rna_kl': '102.8440', 'x_rna_elbo': '-459.0139', 'x_atac_nll': '8041.8670', 'x_atac_kl': '108.9373', 'x_atac_elbo': '8052.7607', 'triplet_loss': '0.0138', 'ot_loss': '5.8963', 'total_loss': '7659.6124'}, Val={'x_rna_nll': '-498.8174', 'x_rna_kl': '102.7266', 'x_rna_elbo': '-488.5448', 'x_atac_nll': '8077.2964', 'x_atac_kl': '106.5043', 'x_atac_elbo': '8087.9468', 'triplet_loss': '0.3346', 'ot_loss': '3.0005', 'total_loss': '7796.7260'}\n",
      "[INFO] CGLUESOE_OT_Trainer: [Epoch 40] Train={'x_rna_nll': '-992.7042', 'x_rna_kl': '113.7536', 'x_rna_elbo': '-981.3289', 'x_atac_nll': '7851.2541', 'x_atac_kl': '123.2209', 'x_atac_elbo': '7863.5762', 'triplet_loss': '0.0083', 'ot_loss': '3.1205', 'total_loss': '6917.5990'}, Val={'x_rna_nll': '-1016.6246', 'x_rna_kl': '111.8192', 'x_rna_elbo': '-1005.4427', 'x_atac_nll': '7913.0564', 'x_atac_kl': '120.4225', 'x_atac_elbo': '7925.0986', 'triplet_loss': '0.2090', 'ot_loss': '2.3484', 'total_loss': '7047.6631'}\n",
      "[INFO] CGLUESOE_OT_Trainer: [Epoch 50] Train={'x_rna_nll': '-1462.2090', 'x_rna_kl': '118.3288', 'x_rna_elbo': '-1450.3761', 'x_atac_nll': '7783.8092', 'x_atac_kl': '130.5709', 'x_atac_elbo': '7796.8663', 'triplet_loss': '0.0084', 'ot_loss': '2.5274', 'total_loss': '6375.9843'}, Val={'x_rna_nll': '-1480.9193', 'x_rna_kl': '116.7633', 'x_rna_elbo': '-1469.2430', 'x_atac_nll': '7868.1202', 'x_atac_kl': '128.6203', 'x_atac_elbo': '7880.9822', 'triplet_loss': '0.2299', 'ot_loss': '2.4643', 'total_loss': '6551.3104'}\n",
      "[INFO] CGLUESOE_OT_Trainer: [Epoch 60] Train={'x_rna_nll': '-1861.8433', 'x_rna_kl': '123.3349', 'x_rna_elbo': '-1849.5098', 'x_atac_nll': '7768.3596', 'x_atac_kl': '137.5417', 'x_atac_elbo': '7782.1138', 'triplet_loss': '0.0047', 'ot_loss': '2.0749', 'total_loss': '5955.6833'}, Val={'x_rna_nll': '-1871.5634', 'x_rna_kl': '121.5636', 'x_rna_elbo': '-1859.4070', 'x_atac_nll': '7854.0933', 'x_atac_kl': '134.0210', 'x_atac_elbo': '7867.4954', 'triplet_loss': '0.1499', 'ot_loss': '3.6659', 'total_loss': '6119.6900'}\n",
      "[INFO] CGLUESOE_OT_Trainer: [Epoch 70] Train={'x_rna_nll': '-2174.1250', 'x_rna_kl': '128.0681', 'x_rna_elbo': '-2161.3181', 'x_atac_nll': '7740.8818', 'x_atac_kl': '143.1221', 'x_atac_elbo': '7755.1941', 'triplet_loss': '0.0065', 'ot_loss': '2.2134', 'total_loss': '5619.2744'}, Val={'x_rna_nll': '-2168.4288', 'x_rna_kl': '126.1528', 'x_rna_elbo': '-2155.8135', 'x_atac_nll': '7839.0693', 'x_atac_kl': '139.7701', 'x_atac_elbo': '7853.0463', 'triplet_loss': '0.1629', 'ot_loss': '3.1465', 'total_loss': '5810.1417'}\n",
      "[INFO] CGLUESOE_OT_Trainer: [Epoch 80] Train={'x_rna_nll': '-2385.6687', 'x_rna_kl': '129.9402', 'x_rna_elbo': '-2372.6747', 'x_atac_nll': '7734.6322', 'x_atac_kl': '147.5479', 'x_atac_elbo': '7749.3869', 'triplet_loss': '0.0046', 'ot_loss': '1.8846', 'total_loss': '5397.8824'}, Val={'x_rna_nll': '-2361.6166', 'x_rna_kl': '127.1878', 'x_rna_elbo': '-2348.8978', 'x_atac_nll': '7829.6049', 'x_atac_kl': '144.5921', 'x_atac_elbo': '7844.0641', 'triplet_loss': '0.2302', 'ot_loss': '2.1903', 'total_loss': '5632.1543'}\n",
      "[INFO] CGLUESOE_OT_Trainer: [Epoch 90] Train={'x_rna_nll': '-2509.2113', 'x_rna_kl': '132.5852', 'x_rna_elbo': '-2495.9528', 'x_atac_nll': '7718.2218', 'x_atac_kl': '151.0912', 'x_atac_elbo': '7733.3310', 'triplet_loss': '0.0043', 'ot_loss': '1.9997', 'total_loss': '5259.5048'}, Val={'x_rna_nll': '-2447.1148', 'x_rna_kl': '130.7465', 'x_rna_elbo': '-2434.0401', 'x_atac_nll': '7819.1532', 'x_atac_kl': '146.9888', 'x_atac_elbo': '7833.8521', 'triplet_loss': '0.2533', 'ot_loss': '6.6383', 'total_loss': '5592.8434'}\n",
      "[INFO] CGLUESOE_OT_Trainer: [Epoch 100] Train={'x_rna_nll': '-2575.5201', 'x_rna_kl': '135.1125', 'x_rna_elbo': '-2562.0089', 'x_atac_nll': '7715.0788', 'x_atac_kl': '154.4362', 'x_atac_elbo': '7730.5224', 'triplet_loss': '0.0042', 'ot_loss': '1.7589', 'total_loss': '5188.2131'}, Val={'x_rna_nll': '-2451.0204', 'x_rna_kl': '133.3869', 'x_rna_elbo': '-2437.6817', 'x_atac_nll': '7808.5133', 'x_atac_kl': '152.6794', 'x_atac_elbo': '7823.7813', 'triplet_loss': '0.2119', 'ot_loss': '1.9374', 'total_loss': '5511.4454'}\n",
      "[INFO] CGLUESOE_OT_Trainer: [Epoch 110] Train={'x_rna_nll': '-2602.6525', 'x_rna_kl': '137.7111', 'x_rna_elbo': '-2588.8814', 'x_atac_nll': '7708.2465', 'x_atac_kl': '157.1040', 'x_atac_elbo': '7723.9570', 'triplet_loss': '0.0024', 'ot_loss': '1.6798', 'total_loss': '5153.0896'}, Val={'x_rna_nll': '-2407.1503', 'x_rna_kl': '135.4052', 'x_rna_elbo': '-2393.6098', 'x_atac_nll': '7806.7744', 'x_atac_kl': '154.5870', 'x_atac_elbo': '7822.2332', 'triplet_loss': '0.2043', 'ot_loss': '1.5716', 'total_loss': '5546.4902'}\n",
      "[INFO] CGLUESOE_OT_Trainer: [Epoch 160] Train={'x_rna_nll': '-2620.2677', 'x_rna_kl': '137.3663', 'x_rna_elbo': '-2606.5311', 'x_atac_nll': '7682.5124', 'x_atac_kl': '158.4788', 'x_atac_elbo': '7698.3603', 'triplet_loss': '0.0017', 'ot_loss': '1.4187', 'total_loss': '5106.8437'}, Val={'x_rna_nll': '-2358.7762', 'x_rna_kl': '135.3146', 'x_rna_elbo': '-2345.2448', 'x_atac_nll': '7794.9523', 'x_atac_kl': '155.9110', 'x_atac_elbo': '7810.5435', 'triplet_loss': '0.1629', 'ot_loss': '1.8024', 'total_loss': '5564.7577'}\n",
      "[INFO] CGLUESOE_OT_Trainer: [Epoch 170] Train={'x_rna_nll': '-2627.0387', 'x_rna_kl': '137.3523', 'x_rna_elbo': '-2613.3034', 'x_atac_nll': '7688.7004', 'x_atac_kl': '158.4776', 'x_atac_elbo': '7704.5482', 'triplet_loss': '0.0023', 'ot_loss': '1.3321', 'total_loss': '5105.7241'}, Val={'x_rna_nll': '-2358.6066', 'x_rna_kl': '135.0273', 'x_rna_elbo': '-2345.1039', 'x_atac_nll': '7795.6505', 'x_atac_kl': '155.7343', 'x_atac_elbo': '7811.2239', 'triplet_loss': '0.1642', 'ot_loss': '1.5606', 'total_loss': '5563.8240'}\n",
      "[INFO] CGLUESOE_OT_Trainer: [Epoch 180] Train={'x_rna_nll': '-2621.3007', 'x_rna_kl': '137.0292', 'x_rna_elbo': '-2607.5977', 'x_atac_nll': '7684.1399', 'x_atac_kl': '158.5054', 'x_atac_elbo': '7699.9904', 'triplet_loss': '0.0013', 'ot_loss': '1.3501', 'total_loss': '5106.5488'}, Val={'x_rna_nll': '-2358.7005', 'x_rna_kl': '135.3080', 'x_rna_elbo': '-2345.1697', 'x_atac_nll': '7794.8022', 'x_atac_kl': '155.7873', 'x_atac_elbo': '7810.3809', 'triplet_loss': '0.1615', 'ot_loss': '1.7803', 'total_loss': '5563.7811'}\n",
      "[INFO] LRScheduler: Learning rate reduction: step 4\n",
      "[INFO] CGLUESOE_OT_Trainer: [Epoch 190] Train={'x_rna_nll': '-2620.0459', 'x_rna_kl': '137.1652', 'x_rna_elbo': '-2606.3294', 'x_atac_nll': '7672.9066', 'x_atac_kl': '158.1960', 'x_atac_elbo': '7688.7262', 'triplet_loss': '0.0015', 'ot_loss': '1.4962', 'total_loss': '5098.1072'}, Val={'x_rna_nll': '-2358.5594', 'x_rna_kl': '135.1768', 'x_rna_elbo': '-2345.0417', 'x_atac_nll': '7795.1484', 'x_atac_kl': '155.9099', 'x_atac_elbo': '7810.7394', 'triplet_loss': '0.1621', 'ot_loss': '1.6951', 'total_loss': '5563.6914'}\n",
      "[INFO] CGLUESOE_OT_Trainer: [Epoch 200] Train={'x_rna_nll': '-2620.4204', 'x_rna_kl': '137.1495', 'x_rna_elbo': '-2606.7055', 'x_atac_nll': '7675.6519', 'x_atac_kl': '158.4051', 'x_atac_elbo': '7691.4924', 'triplet_loss': '0.0011', 'ot_loss': '1.3159', 'total_loss': '5098.4800'}, Val={'x_rna_nll': '-2358.5892', 'x_rna_kl': '135.0472', 'x_rna_elbo': '-2345.0845', 'x_atac_nll': '7795.7078', 'x_atac_kl': '155.6166', 'x_atac_elbo': '7811.2695', 'triplet_loss': '0.1749', 'ot_loss': '1.6437', 'total_loss': '5570.0892'}\n"
     ]
    },
    {
     "name": "stdout",
     "output_type": "stream",
     "text": [
      "[INFO] LRScheduler: Learning rate reduction: step 5\n",
      "[INFO] CGLUESOE_OT_Trainer: [Epoch 210] Train={'x_rna_nll': '-2610.2561', 'x_rna_kl': '137.1647', 'x_rna_elbo': '-2596.5396', 'x_atac_nll': '7691.0436', 'x_atac_kl': '158.3074', 'x_atac_elbo': '7706.8744', 'triplet_loss': '0.0021', 'ot_loss': '1.4177', 'total_loss': '5125.5606'}, Val={'x_rna_nll': '-2358.3988', 'x_rna_kl': '135.1153', 'x_rna_elbo': '-2344.8872', 'x_atac_nll': '7795.1758', 'x_atac_kl': '155.7877', 'x_atac_elbo': '7810.7546', 'triplet_loss': '0.1595', 'ot_loss': '1.7452', 'total_loss': '5563.0871'}\n",
      "[INFO] CGLUESOE_OT_Trainer: [Epoch 220] Train={'x_rna_nll': '-2611.7916', 'x_rna_kl': '137.2496', 'x_rna_elbo': '-2598.0666', 'x_atac_nll': '7688.7067', 'x_atac_kl': '158.6958', 'x_atac_elbo': '7704.5763', 'triplet_loss': '0.0015', 'ot_loss': '1.3681', 'total_loss': '5120.9211'}, Val={'x_rna_nll': '-2358.7906', 'x_rna_kl': '135.2065', 'x_rna_elbo': '-2345.2699', 'x_atac_nll': '7795.1821', 'x_atac_kl': '155.4252', 'x_atac_elbo': '7810.7246', 'triplet_loss': '0.1744', 'ot_loss': '1.7758', 'total_loss': '5570.4220'}\n",
      "[INFO] CGLUESOE_OT_Trainer: [Epoch 230] Train={'x_rna_nll': '-2620.2597', 'x_rna_kl': '137.1558', 'x_rna_elbo': '-2606.5441', 'x_atac_nll': '7688.8347', 'x_atac_kl': '158.3684', 'x_atac_elbo': '7704.6715', 'triplet_loss': '0.0015', 'ot_loss': '1.3883', 'total_loss': '5112.7397'}, Val={'x_rna_nll': '-2358.6203', 'x_rna_kl': '135.2428', 'x_rna_elbo': '-2345.0960', 'x_atac_nll': '7794.9735', 'x_atac_kl': '155.7130', 'x_atac_elbo': '7810.5448', 'triplet_loss': '0.1736', 'ot_loss': '1.7875', 'total_loss': '5570.1350'}\n",
      "[INFO] CGLUESOE_OT_Trainer: [Epoch 240] Train={'x_rna_nll': '-2612.0637', 'x_rna_kl': '137.1507', 'x_rna_elbo': '-2598.3487', 'x_atac_nll': '7692.7490', 'x_atac_kl': '157.9148', 'x_atac_elbo': '7708.5405', 'triplet_loss': '0.0018', 'ot_loss': '1.4371', 'total_loss': '5125.4638'}, Val={'x_rna_nll': '-2358.5902', 'x_rna_kl': '134.9741', 'x_rna_elbo': '-2345.0928', 'x_atac_nll': '7795.0572', 'x_atac_kl': '155.6725', 'x_atac_elbo': '7810.6245', 'triplet_loss': '0.1774', 'ot_loss': '1.5306', 'total_loss': '5569.5188'}\n",
      "[INFO] CGLUESOE_OT_Trainer: [Epoch 250] Train={'x_rna_nll': '-2621.2767', 'x_rna_kl': '137.2855', 'x_rna_elbo': '-2607.5482', 'x_atac_nll': '7686.5245', 'x_atac_kl': '158.3949', 'x_atac_elbo': '7702.3639', 'triplet_loss': '0.0012', 'ot_loss': '1.4841', 'total_loss': '5110.2490'}, Val={'x_rna_nll': '-2358.5506', 'x_rna_kl': '135.1644', 'x_rna_elbo': '-2345.0341', 'x_atac_nll': '7795.0993', 'x_atac_kl': '155.6787', 'x_atac_elbo': '7810.6671', 'triplet_loss': '0.1700', 'ot_loss': '1.7157', 'total_loss': '5567.7696'}\n",
      "[INFO] CGLUESOE_OT_Trainer: [Epoch 260] Train={'x_rna_nll': '-2636.2633', 'x_rna_kl': '137.2438', 'x_rna_elbo': '-2622.5389', 'x_atac_nll': '7678.6160', 'x_atac_kl': '158.1796', 'x_atac_elbo': '7694.4339', 'triplet_loss': '0.0029', 'ot_loss': '1.3332', 'total_loss': '5086.6860'}, Val={'x_rna_nll': '-2358.6954', 'x_rna_kl': '134.9981', 'x_rna_elbo': '-2345.1956', 'x_atac_nll': '7795.2409', 'x_atac_kl': '155.7665', 'x_atac_elbo': '7810.8175', 'triplet_loss': '0.1697', 'ot_loss': '1.5454', 'total_loss': '5565.9125'}\n",
      "[INFO] CGLUESOE_OT_Trainer: [Epoch 270] Train={'x_rna_nll': '-2613.0655', 'x_rna_kl': '137.1832', 'x_rna_elbo': '-2599.3472', 'x_atac_nll': '7680.0722', 'x_atac_kl': '157.9938', 'x_atac_elbo': '7695.8716', 'triplet_loss': '0.0016', 'ot_loss': '1.2372', 'total_loss': '5109.7035'}, Val={'x_rna_nll': '-2358.5447', 'x_rna_kl': '135.2664', 'x_rna_elbo': '-2345.0180', 'x_atac_nll': '7795.0120', 'x_atac_kl': '155.7969', 'x_atac_elbo': '7810.5917', 'triplet_loss': '0.1622', 'ot_loss': '1.7423', 'total_loss': '5564.1039'}\n",
      "[INFO] CGLUESOE_OT_Trainer: [Epoch 280] Train={'x_rna_nll': '-2626.8537', 'x_rna_kl': '137.2363', 'x_rna_elbo': '-2613.1301', 'x_atac_nll': '7690.6090', 'x_atac_kl': '158.3520', 'x_atac_elbo': '7706.4442', 'triplet_loss': '0.0023', 'ot_loss': '1.3836', 'total_loss': '5108.2855'}, Val={'x_rna_nll': '-2358.4218', 'x_rna_kl': '135.0254', 'x_rna_elbo': '-2344.9193', 'x_atac_nll': '7796.0499', 'x_atac_kl': '155.6744', 'x_atac_elbo': '7811.6174', 'triplet_loss': '0.1676', 'ot_loss': '1.6193', 'total_loss': '5566.6914'}\n",
      "[INFO] CGLUESOE_OT_Trainer: [Epoch 290] Train={'x_rna_nll': '-2624.2103', 'x_rna_kl': '137.1402', 'x_rna_elbo': '-2610.4962', 'x_atac_nll': '7684.0536', 'x_atac_kl': '158.1192', 'x_atac_elbo': '7699.8655', 'triplet_loss': '0.0028', 'ot_loss': '1.3794', 'total_loss': '5104.5724'}, Val={'x_rna_nll': '-2358.6517', 'x_rna_kl': '135.4059', 'x_rna_elbo': '-2345.1111', 'x_atac_nll': '7795.4957', 'x_atac_kl': '155.6299', 'x_atac_elbo': '7811.0586', 'triplet_loss': '0.1543', 'ot_loss': '1.8718', 'total_loss': '5561.7919'}\n",
      "[INFO] CGLUESOE_OT_Trainer: [Epoch 300] Train={'x_rna_nll': '-2621.0030', 'x_rna_kl': '137.1517', 'x_rna_elbo': '-2607.2879', 'x_atac_nll': '7689.0924', 'x_atac_kl': '158.0081', 'x_atac_elbo': '7704.8932', 'triplet_loss': '0.0017', 'ot_loss': '1.3648', 'total_loss': '5112.1152'}, Val={'x_rna_nll': '-2358.7156', 'x_rna_kl': '135.2039', 'x_rna_elbo': '-2345.1953', 'x_atac_nll': '7795.4203', 'x_atac_kl': '155.7014', 'x_atac_elbo': '7810.9903', 'triplet_loss': '0.1684', 'ot_loss': '1.7337', 'total_loss': '5567.3519'}\n",
      "[INFO] CGLUESOE_OT_Trainer: [Epoch 310] Train={'x_rna_nll': '-2627.2918', 'x_rna_kl': '137.4031', 'x_rna_elbo': '-2613.5515', 'x_atac_nll': '7695.8649', 'x_atac_kl': '158.3323', 'x_atac_elbo': '7711.6981', 'triplet_loss': '0.0019', 'ot_loss': '1.3694', 'total_loss': '5112.7840'}, Val={'x_rna_nll': '-2358.5090', 'x_rna_kl': '135.2142', 'x_rna_elbo': '-2344.9876', 'x_atac_nll': '7795.4455', 'x_atac_kl': '155.8177', 'x_atac_elbo': '7811.0272', 'triplet_loss': '0.1599', 'ot_loss': '1.6708', 'total_loss': '5562.6838'}\n",
      "[INFO] CGLUESOE_OT_Trainer: [Epoch 320] Train={'x_rna_nll': '-2614.7039', 'x_rna_kl': '137.3371', 'x_rna_elbo': '-2600.9702', 'x_atac_nll': '7680.9643', 'x_atac_kl': '158.3054', 'x_atac_elbo': '7696.7949', 'triplet_loss': '0.0027', 'ot_loss': '1.3955', 'total_loss': '5111.1493'}, Val={'x_rna_nll': '-2358.5071', 'x_rna_kl': '135.1273', 'x_rna_elbo': '-2344.9943', 'x_atac_nll': '7795.3121', 'x_atac_kl': '155.4951', 'x_atac_elbo': '7810.8616', 'triplet_loss': '0.1751', 'ot_loss': '1.7452', 'total_loss': '5570.8539'}\n",
      "[INFO] CGLUESOE_OT_Trainer: [Epoch 330] Train={'x_rna_nll': '-2618.6121', 'x_rna_kl': '137.1037', 'x_rna_elbo': '-2604.9018', 'x_atac_nll': '7683.0331', 'x_atac_kl': '158.6921', 'x_atac_elbo': '7698.9023', 'triplet_loss': '0.0020', 'ot_loss': '1.3358', 'total_loss': '5108.3469'}, Val={'x_rna_nll': '-2358.6179', 'x_rna_kl': '135.0698', 'x_rna_elbo': '-2345.1110', 'x_atac_nll': '7795.0983', 'x_atac_kl': '155.7440', 'x_atac_elbo': '7810.6727', 'triplet_loss': '0.1617', 'ot_loss': '1.6743', 'total_loss': '5563.1319'}\n",
      "[INFO] CGLUESOE_OT_Trainer: [Epoch 340] Train={'x_rna_nll': '-2615.2180', 'x_rna_kl': '137.1247', 'x_rna_elbo': '-2601.5056', 'x_atac_nll': '7674.1170', 'x_atac_kl': '158.2959', 'x_atac_elbo': '7689.9466', 'triplet_loss': '0.0015', 'ot_loss': '1.3412', 'total_loss': '5102.6091'}, Val={'x_rna_nll': '-2358.4504', 'x_rna_kl': '135.1619', 'x_rna_elbo': '-2344.9342', 'x_atac_nll': '7795.0597', 'x_atac_kl': '155.8178', 'x_atac_elbo': '7810.6414', 'triplet_loss': '0.1641', 'ot_loss': '1.6725', 'total_loss': '5564.4987'}\n",
      "[INFO] CGLUESOE_OT_Trainer: [Epoch 350] Train={'x_rna_nll': '-2607.1442', 'x_rna_kl': '137.1882', 'x_rna_elbo': '-2593.4254', 'x_atac_nll': '7683.3018', 'x_atac_kl': '158.2444', 'x_atac_elbo': '7699.1263', 'triplet_loss': '0.0018', 'ot_loss': '1.4153', 'total_loss': '5120.7539'}, Val={'x_rna_nll': '-2358.4232', 'x_rna_kl': '135.1265', 'x_rna_elbo': '-2344.9105', 'x_atac_nll': '7795.3806', 'x_atac_kl': '155.8214', 'x_atac_elbo': '7810.9627', 'triplet_loss': '0.1641', 'ot_loss': '1.6399', 'total_loss': '5564.4951'}\n",
      "[INFO] CGLUESOE_OT_Trainer: [Epoch 360] Train={'x_rna_nll': '-2630.6299', 'x_rna_kl': '137.0239', 'x_rna_elbo': '-2616.9275', 'x_atac_nll': '7685.7839', 'x_atac_kl': '158.2192', 'x_atac_elbo': '7701.6058', 'triplet_loss': '0.0018', 'ot_loss': '1.4151', 'total_loss': '5099.7395'}, Val={'x_rna_nll': '-2358.5676', 'x_rna_kl': '135.1167', 'x_rna_elbo': '-2345.0559', 'x_atac_nll': '7795.1728', 'x_atac_kl': '155.6197', 'x_atac_elbo': '7810.7348', 'triplet_loss': '0.1679', 'ot_loss': '1.7150', 'total_loss': '5566.7912'}\n"
     ]
    },
    {
     "name": "stdout",
     "output_type": "stream",
     "text": [
      "[INFO] CGLUESOE_OT_Trainer: [Epoch 370] Train={'x_rna_nll': '-2625.1822', 'x_rna_kl': '137.1432', 'x_rna_elbo': '-2611.4679', 'x_atac_nll': '7674.3845', 'x_atac_kl': '158.3904', 'x_atac_elbo': '7690.2235', 'triplet_loss': '0.0007', 'ot_loss': '1.3968', 'total_loss': '5093.0864'}, Val={'x_rna_nll': '-2358.4152', 'x_rna_kl': '135.1757', 'x_rna_elbo': '-2344.8976', 'x_atac_nll': '7795.1216', 'x_atac_kl': '155.6963', 'x_atac_elbo': '7810.6913', 'triplet_loss': '0.1603', 'ot_loss': '1.7743', 'total_loss': '5563.6749'}\n",
      "[INFO] CGLUESOE_OT_Trainer: [Epoch 380] Train={'x_rna_nll': '-2614.4993', 'x_rna_kl': '137.1267', 'x_rna_elbo': '-2600.7866', 'x_atac_nll': '7687.7285', 'x_atac_kl': '158.3073', 'x_atac_elbo': '7703.5593', 'triplet_loss': '0.0028', 'ot_loss': '1.4240', 'total_loss': '5118.4279'}, Val={'x_rna_nll': '-2358.4345', 'x_rna_kl': '134.9345', 'x_rna_elbo': '-2344.9411', 'x_atac_nll': '7795.4269', 'x_atac_kl': '155.9225', 'x_atac_elbo': '7811.0191', 'triplet_loss': '0.1630', 'ot_loss': '1.5533', 'total_loss': '5563.0972'}\n",
      "[INFO] CGLUESOE_OT_Trainer: [Epoch 390] Train={'x_rna_nll': '-2621.9890', 'x_rna_kl': '137.3139', 'x_rna_elbo': '-2608.2576', 'x_atac_nll': '7687.6646', 'x_atac_kl': '158.4214', 'x_atac_elbo': '7703.5068', 'triplet_loss': '0.0038', 'ot_loss': '1.3572', 'total_loss': '5110.6976'}, Val={'x_rna_nll': '-2358.4973', 'x_rna_kl': '135.2130', 'x_rna_elbo': '-2344.9760', 'x_atac_nll': '7795.2067', 'x_atac_kl': '155.5695', 'x_atac_elbo': '7810.7637', 'triplet_loss': '0.1652', 'ot_loss': '1.7901', 'total_loss': '5566.2746'}\n",
      "[INFO] CGLUESOE_OT_Trainer: [Epoch 400] Train={'x_rna_nll': '-2623.7704', 'x_rna_kl': '137.0779', 'x_rna_elbo': '-2610.0626', 'x_atac_nll': '7678.7189', 'x_atac_kl': '158.5209', 'x_atac_elbo': '7694.5710', 'triplet_loss': '0.0006', 'ot_loss': '1.3847', 'total_loss': '5098.6694'}, Val={'x_rna_nll': '-2358.4767', 'x_rna_kl': '135.3033', 'x_rna_elbo': '-2344.9464', 'x_atac_nll': '7795.0251', 'x_atac_kl': '155.6024', 'x_atac_elbo': '7810.5854', 'triplet_loss': '0.1679', 'ot_loss': '1.8869', 'total_loss': '5568.4794'}\n",
      "[INFO] CGLUESOE_OT_Trainer: [Epoch 410] Train={'x_rna_nll': '-2628.9616', 'x_rna_kl': '137.0559', 'x_rna_elbo': '-2615.2560', 'x_atac_nll': '7694.2612', 'x_atac_kl': '158.3326', 'x_atac_elbo': '7710.0944', 'triplet_loss': '0.0014', 'ot_loss': '1.3751', 'total_loss': '5109.3108'}, Val={'x_rna_nll': '-2358.4829', 'x_rna_kl': '135.1390', 'x_rna_elbo': '-2344.9690', 'x_atac_nll': '7795.4927', 'x_atac_kl': '155.3981', 'x_atac_elbo': '7811.0325', 'triplet_loss': '0.1689', 'ot_loss': '1.7941', 'total_loss': '5568.4496'}\n",
      "[INFO] CGLUESOE_OT_Trainer: [Epoch 420] Train={'x_rna_nll': '-2616.8400', 'x_rna_kl': '137.2461', 'x_rna_elbo': '-2603.1154', 'x_atac_nll': '7691.2413', 'x_atac_kl': '158.5325', 'x_atac_elbo': '7707.0945', 'triplet_loss': '0.0018', 'ot_loss': '1.4155', 'total_loss': '5119.0509'}, Val={'x_rna_nll': '-2358.6225', 'x_rna_kl': '135.1852', 'x_rna_elbo': '-2345.1040', 'x_atac_nll': '7795.0005', 'x_atac_kl': '155.6132', 'x_atac_elbo': '7810.5619', 'triplet_loss': '0.1679', 'ot_loss': '1.6900', 'total_loss': '5566.3137'}\n",
      "[INFO] CGLUESOE_OT_Trainer: [Epoch 430] Train={'x_rna_nll': '-2617.8347', 'x_rna_kl': '137.1365', 'x_rna_elbo': '-2604.1210', 'x_atac_nll': '7695.2413', 'x_atac_kl': '158.4216', 'x_atac_elbo': '7711.0835', 'triplet_loss': '0.0033', 'ot_loss': '1.2921', 'total_loss': '5121.5236'}, Val={'x_rna_nll': '-2358.3740', 'x_rna_kl': '135.2165', 'x_rna_elbo': '-2344.8524', 'x_atac_nll': '7795.2027', 'x_atac_kl': '155.7359', 'x_atac_elbo': '7810.7763', 'triplet_loss': '0.1595', 'ot_loss': '1.7153', 'total_loss': '5562.8119'}\n",
      "[INFO] CGLUESOE_OT_Trainer: [Epoch 440] Train={'x_rna_nll': '-2623.8722', 'x_rna_kl': '137.2318', 'x_rna_elbo': '-2610.1490', 'x_atac_nll': '7693.9501', 'x_atac_kl': '158.3446', 'x_atac_elbo': '7709.7846', 'triplet_loss': '0.0015', 'ot_loss': '1.3271', 'total_loss': '5113.6692'}, Val={'x_rna_nll': '-2358.7190', 'x_rna_kl': '135.1470', 'x_rna_elbo': '-2345.2043', 'x_atac_nll': '7795.7873', 'x_atac_kl': '155.6370', 'x_atac_elbo': '7811.3509', 'triplet_loss': '0.1782', 'ot_loss': '1.6406', 'total_loss': '5571.6553'}\n",
      "[INFO] CGLUESOE_OT_Trainer: [Epoch 450] Train={'x_rna_nll': '-2609.1646', 'x_rna_kl': '137.1097', 'x_rna_elbo': '-2595.4536', 'x_atac_nll': '7690.7545', 'x_atac_kl': '158.5240', 'x_atac_elbo': '7706.6068', 'triplet_loss': '0.0035', 'ot_loss': '1.4064', 'total_loss': '5126.9491'}, Val={'x_rna_nll': '-2358.6011', 'x_rna_kl': '135.1340', 'x_rna_elbo': '-2345.0877', 'x_atac_nll': '7795.9461', 'x_atac_kl': '155.5416', 'x_atac_elbo': '7811.5003', 'triplet_loss': '0.1695', 'ot_loss': '1.6423', 'total_loss': '5567.5950'}\n",
      "[INFO] CGLUESOE_OT_Trainer: [Epoch 460] Train={'x_rna_nll': '-2625.4251', 'x_rna_kl': '137.1044', 'x_rna_elbo': '-2611.7147', 'x_atac_nll': '7683.1851', 'x_atac_kl': '158.2999', 'x_atac_elbo': '7699.0150', 'triplet_loss': '0.0023', 'ot_loss': '1.3469', 'total_loss': '5101.9244'}, Val={'x_rna_nll': '-2358.7739', 'x_rna_kl': '135.2704', 'x_rna_elbo': '-2345.2468', 'x_atac_nll': '7794.9247', 'x_atac_kl': '155.8495', 'x_atac_elbo': '7810.5096', 'triplet_loss': '0.1595', 'ot_loss': '1.6375', 'total_loss': '5561.3868'}\n",
      "[INFO] CGLUESOE_OT_Trainer: [Epoch 470] Train={'x_rna_nll': '-2627.1025', 'x_rna_kl': '137.1923', 'x_rna_elbo': '-2613.3833', 'x_atac_nll': '7685.1856', 'x_atac_kl': '158.4741', 'x_atac_elbo': '7701.0330', 'triplet_loss': '0.0028', 'ot_loss': '1.3678', 'total_loss': '5102.7260'}, Val={'x_rna_nll': '-2358.6083', 'x_rna_kl': '135.3354', 'x_rna_elbo': '-2345.0747', 'x_atac_nll': '7794.8057', 'x_atac_kl': '155.7092', 'x_atac_elbo': '7810.3767', 'triplet_loss': '0.1613', 'ot_loss': '1.8054', 'total_loss': '5564.0053'}\n",
      "[INFO] CGLUESOE_OT_Trainer: [Epoch 480] Train={'x_rna_nll': '-2615.5557', 'x_rna_kl': '137.1452', 'x_rna_elbo': '-2601.8412', 'x_atac_nll': '7678.1457', 'x_atac_kl': '158.2481', 'x_atac_elbo': '7693.9706', 'triplet_loss': '0.0034', 'ot_loss': '1.2931', 'total_loss': '5106.7505'}, Val={'x_rna_nll': '-2358.3695', 'x_rna_kl': '135.0474', 'x_rna_elbo': '-2344.8647', 'x_atac_nll': '7794.8437', 'x_atac_kl': '155.7432', 'x_atac_elbo': '7810.4180', 'triplet_loss': '0.1667', 'ot_loss': '1.7294', 'total_loss': '5566.2180'}\n",
      "[INFO] CGLUESOE_OT_Trainer: [Epoch 490] Train={'x_rna_nll': '-2621.8031', 'x_rna_kl': '137.2158', 'x_rna_elbo': '-2608.0815', 'x_atac_nll': '7689.1168', 'x_atac_kl': '158.3285', 'x_atac_elbo': '7704.9497', 'triplet_loss': '0.0029', 'ot_loss': '1.3605', 'total_loss': '5111.9177'}, Val={'x_rna_nll': '-2358.6275', 'x_rna_kl': '135.3586', 'x_rna_elbo': '-2345.0917', 'x_atac_nll': '7795.2053', 'x_atac_kl': '155.5720', 'x_atac_elbo': '7810.7624', 'triplet_loss': '0.1588', 'ot_loss': '1.8751', 'total_loss': '5563.8466'}\n",
      "[INFO] CGLUESOE_OT_Trainer: [Epoch 500] Train={'x_rna_nll': '-2603.7859', 'x_rna_kl': '137.3366', 'x_rna_elbo': '-2590.0522', 'x_atac_nll': '7690.5616', 'x_atac_kl': '158.3377', 'x_atac_elbo': '7706.3954', 'triplet_loss': '0.0015', 'ot_loss': '1.4418', 'total_loss': '5131.5186'}, Val={'x_rna_nll': '-2358.1087', 'x_rna_kl': '135.0900', 'x_rna_elbo': '-2344.5997', 'x_atac_nll': '7795.0227', 'x_atac_kl': '155.9172', 'x_atac_elbo': '7810.6144', 'triplet_loss': '0.1517', 'ot_loss': '1.8057', 'total_loss': '5559.9078'}\n",
      "Model fitting finished.\n"
     ]
    }
   ],
   "source": [
    "\n",
    "\n",
    "# --- 5. Initialize CGLUE-SOE-OT Model ---\n",
    "print(\"Initializing CGLUE-SOE-OT model...\")\n",
    "try:\n",
    "    model = CGLUESOE_OT_Model(\n",
    "        adatas=adatas,\n",
    "        x2u_h_depth=2, \n",
    "        x2u_h_dim=256,                 \n",
    "        u2x_h_depth=2, \n",
    "        u2x_h_dim=256, \n",
    "        dropout=0.2,\n",
    "        vertices=vertices.tolist(), # Pass the combined feature list\n",
    "        latent_dim=50, # Example latent dimension, adjust as needed\n",
    "        random_seed=SEED\n",
    "    )\n",
    "    print(\"Model initialized.\")\n",
    "except Exception as e:\n",
    "    print(f\"Error initializing model: {e}\")\n",
    "    sys.exit(1)\n",
    "\n",
    "# --- 6. Compile Model ---\n",
    "print(\"Compiling model...\")\n",
    "Times = '8'\n",
    "lam_kl=0.1           # Weight for KL divergence regularization 调低有利于聚类更紧密\n",
    "lam_data=1.0         # Weight for data reconstruction loss 调高有利于聚类更紧密\n",
    "lam_triplet=500      # Weight for triplet loss (NEEDS TUNING)\n",
    "lam_ot=10.0           # Weight for Optimal Transport loss (NEEDS TUNING)\n",
    "triplet_margin=3   # Margin for triplet loss (NEEDS TUNING)有可能数据本身就是按照时间序列排序的\n",
    "ot_epsilon=0.1       # OT Sinkhorn regularization (NEEDS TUNING) 较小的值 (如当前的 0.1) 匹配更精确，但也可能对噪声更敏感\n",
    "ot_tau=1.0          # OT Sinkhorn unbalancedness (NEEDS TUNING)\n",
    "ot_max_iter=150\n",
    "\n",
    "max_epochs=500\n",
    "# ** Tune hyperparameters, especially loss weights **\n",
    "try:\n",
    "    model.compile(\n",
    "        lr=1e-3,              # Learning rate for the single optimizer\n",
    "        # lam_graph removed\n",
    "        # lam_align removed\n",
    "        # dsc_lr removed\n",
    "        # train_ratio removed\n",
    "        lam_kl=lam_kl,           # Weight for KL divergence regularization 调低有利于聚类更紧密\n",
    "        lam_data=lam_data,         # Weight for data reconstruction loss 调高有利于聚类更紧密,也不能太高，不然就会有不连续的问题\n",
    "        lam_triplet=lam_triplet,      # Weight for triplet loss (NEEDS TUNING)\n",
    "        lam_ot=lam_ot,           # Weight for Optimal Transport loss (NEEDS TUNING)\n",
    "        triplet_margin=triplet_margin,   # Margin for triplet loss (NEEDS TUNING)有可能数据本身就是按照时间序列排序的\n",
    "        ot_epsilon=ot_epsilon,       # OT Sinkhorn regularization (NEEDS TUNING) 较小的值 (如当前的 0.1) 匹配更精确，但也可能对噪声更敏感\n",
    "        ot_tau=ot_tau,           # OT Sinkhorn unbalancedness (NEEDS TUNING)\n",
    "        ot_max_iter=ot_max_iter,      # OT Sinkhorn iterations\n",
    "         #weight_decay=1e-5   # Example: Add optimizer args directly\n",
    "    )\n",
    "    print(\"Model compiled.\")\n",
    "except Exception as e:\n",
    "    print(f\"Error compiling model: {e}\")\n",
    "    sys.exit(1)\n",
    "\n",
    "# --- 7. Train Model ---\n",
    "print(\"Fitting model...\")\n",
    "# Fit the model (No GraphDataset needed)\n",
    "# Adjust training parameters as needed\n",
    "try:\n",
    "    model.fit(\n",
    "        adatas=adatas,            # Pass adatas dictionary\n",
    "        # graph removed\n",
    "        val_split=0.2,            # Use 10% of data for validation\n",
    "        data_batch_size=256,      # Adjust based on memory\n",
    "        # graph_batch_size removed\n",
    "        max_epochs=max_epochs,           # Set a reasonable number of epochs\n",
    "        patience=35,              # Early stopping patience\n",
    "        reduce_lr_patience=20,    # LR scheduling patience\n",
    "        wait_n_lrs=3,             # Wait for LR reductions before stopping\n",
    "        num_workers=0,            # Set > 0 for parallel data loading if needed\n",
    "        directory=SAVE_DIR        # Directory for logs and checkpoints\n",
    "    )\n",
    "    print(\"Model fitting finished.\")\n",
    "except Exception as e:\n",
    "    print(f\"An error occurred during model fitting: {e}\")\n",
    "    import traceback\n",
    "    traceback.print_exc()\n",
    "    sys.exit(1)\n",
    "\n",
    "\n"
   ]
  },
  {
   "cell_type": "code",
   "execution_count": 25,
   "id": "dc618382",
   "metadata": {
    "ExecuteTime": {
     "end_time": "2025-05-08T15:43:14.993144Z",
     "start_time": "2025-05-08T15:42:41.537463Z"
    }
   },
   "outputs": [
    {
     "name": "stdout",
     "output_type": "stream",
     "text": [
      "Extracting embeddings...\n",
      "RNA embeddings shape: (4435, 50)\n",
      "ATAC embeddings shape: (7775, 50)\n",
      "Feature embeddings shape: (17241, 50)\n",
      "Saving final model to cglue_soe_ot_adult_human_kidney_output/cglue_soe_ot_final_model.dill\n",
      "[INFO] CGLUESOE_OT_Model: Model state saved to cglue_soe_ot_adult_human_kidney_output/cglue_soe_ot_final_model.dill\n",
      "Generating UMAP visualization...\n",
      "Running neighbors and UMAP...\n"
     ]
    },
    {
     "name": "stderr",
     "output_type": "stream",
     "text": [
      " FutureWarning:/home/sccancer/anaconda3/envs/CGLUE-SOE/lib/python3.9/site-packages/anndata/_core/anndata.py:402: The dtype argument is deprecated and will be removed in late 2024.\n"
     ]
    },
    {
     "name": "stdout",
     "output_type": "stream",
     "text": [
      "Plotting UMAP...\n",
      "WARNING: saving figure to file figures/umap_cglue_soe_ot_adult_human_kidney_kidney_loop_of_Henle_results_8.png\n",
      "UMAP plots saved to figures/ directory (_cglue_soe_ot_adult_human_kidney_kidney_loop_of_Henle_results_8.png).\n",
      "Script finished.\n"
     ]
    }
   ],
   "source": [
    "# --- 8. Post-Training Analysis ---\n",
    "print(\"Extracting embeddings...\")\n",
    "try:\n",
    "    # Use a different key for the new model's embeddings\n",
    "    embedding_key = \"X_cgluesoe_ot\"\n",
    "    rna_adata.obsm[embedding_key] = model.encode_data(\"rna\", rna_adata)\n",
    "    atac_adata.obsm[embedding_key] = model.encode_data(\"atac\", atac_adata)\n",
    "\n",
    "    # Get feature embeddings from the nn.Embedding layer\n",
    "    feature_embeddings = model.get_feature_embeddings()\n",
    "    feature_embeddings_df = pd.DataFrame(feature_embeddings, index=model.vertices)\n",
    "\n",
    "    print(\"RNA embeddings shape:\", rna_adata.obsm[embedding_key].shape)\n",
    "    print(\"ATAC embeddings shape:\", atac_adata.obsm[embedding_key].shape)\n",
    "    print(\"Feature embeddings shape:\", feature_embeddings_df.shape)\n",
    "\n",
    "    # --- Optional: Save model and embeddings ---\n",
    "    final_model_path = os.path.join(SAVE_DIR, \"cglue_soe_ot_final_model.dill\")\n",
    "    print(f\"Saving final model to {final_model_path}\")\n",
    "    model.save(final_model_path)\n",
    "\n",
    "    rna_save_path = os.path.join(SAVE_DIR, \"rna_adata_with_embeddings.h5ad\")\n",
    "    atac_save_path = os.path.join(SAVE_DIR, \"atac_adata_with_embeddings.h5ad\")\n",
    "    feat_save_path = os.path.join(SAVE_DIR, \"feature_embeddings.csv\")\n",
    "\n",
    "    # print(f\"Saving RNA AnnData to {rna_save_path}\")\n",
    "    # rna_adata.write_h5ad(rna_save_path)\n",
    "    # print(f\"Saving ATAC AnnData to {atac_save_path}\")\n",
    "    # atac_adata.write_h5ad(atac_save_path)\n",
    "    # print(f\"Saving feature embeddings to {feat_save_path}\")\n",
    "    # feature_embeddings_df.to_csv(feat_save_path)\n",
    "\n",
    "\n",
    "    # --- Optional: Visualization (UMAP) ---\n",
    "    print(\"Generating UMAP visualization...\")\n",
    "    # Combine embeddings and obs for visualization\n",
    "    all_embeddings = np.concatenate([rna_adata.obsm[embedding_key], atac_adata.obsm[embedding_key]], axis=0)\n",
    "    all_obs = pd.concat([\n",
    "        rna_adata.obs[[label_col]].assign(modality='rna'), # Use label_col\n",
    "        atac_adata.obs[[label_col]].assign(modality='atac') # Use label_col\n",
    "    ], axis=0)\n",
    "    # Create combined obs_names for the visualization AnnData\n",
    "    vis_obs_names = rna_adata.obs_names.tolist() + atac_adata.obs_names.tolist()\n",
    "    if len(vis_obs_names) != len(all_obs): # Basic check\n",
    "         print(f\"Warning: Length mismatch between obs_names ({len(vis_obs_names)}) and combined obs ({len(all_obs)}). Using default index.\")\n",
    "         vis_obs_names = pd.RangeIndex(start=0, stop=len(all_obs), step=1)\n",
    "\n",
    "\n",
    "    vis_adata = ad.AnnData(all_embeddings, dtype=all_embeddings.dtype) # Ensure dtype is set\n",
    "    vis_adata.obs = all_obs\n",
    "    vis_adata.obs_names = vis_obs_names # Assign combined names\n",
    "    vis_adata.obsm['X_cgluesoe_ot'] = all_embeddings # Store for scanpy functions\n",
    "\n",
    "    print(\"Running neighbors and UMAP...\")\n",
    "    sc.pp.neighbors(vis_adata, use_rep='X_cgluesoe_ot', n_neighbors=15, random_state=SEED)\n",
    "    sc.tl.umap(vis_adata, min_dist=0.3, random_state=SEED) # Adjust min_dist for spread\n",
    "\n",
    "    print(\"Plotting UMAP...\")\n",
    "    umap_save_path = f'_cglue_soe_ot_adult_human_kidney_kidney_loop_of_Henle_results_{Times}.png' # Updated filename\n",
    "    sc.pl.umap(\n",
    "        vis_adata,\n",
    "        color=['modality', label_col], # Color by label_col\n",
    "        title=['UMAP by Modality', f'UMAP by {label_col.capitalize()}'],\n",
    "        save=umap_save_path,\n",
    "        show=False # Set to True to display interactively if possible\n",
    "    )\n",
    "    print(f\"UMAP plots saved to figures/ directory ({umap_save_path}).\")\n",
    "\n",
    "except Exception as e:\n",
    "    print(f\"An error occurred during post-training analysis: {e}\")\n",
    "    import traceback\n",
    "    traceback.print_exc()\n",
    "\n",
    "print(\"Script finished.\")"
   ]
  },
  {
   "cell_type": "code",
   "execution_count": 26,
   "id": "5a888548",
   "metadata": {
    "ExecuteTime": {
     "end_time": "2025-05-08T15:43:15.563237Z",
     "start_time": "2025-05-08T15:43:14.995030Z"
    }
   },
   "outputs": [
    {
     "name": "stdout",
     "output_type": "stream",
     "text": [
      "Plotting loss curves...\n",
      "[INFO] CGLUESOE_OT_Model: Loss curves saved to cglue_soe_ot_adult_human_kidney_output/cglue_soe_ot_loss_curves_adult_human_kidney_kidney_loop_of_Henle_8.png\n",
      "Loss curves saved to cglue_soe_ot_adult_human_kidney_output/cglue_soe_ot_loss_curves_adult_human_kidney_kidney_loop_of_Henle_8.png\n"
     ]
    }
   ],
   "source": [
    "print(\"Plotting loss curves...\")\n",
    "try:\n",
    "    # Define where to save the plot\n",
    "    loss_plot_path = os.path.join(SAVE_DIR, f\"cglue_soe_ot_loss_curves_adult_human_kidney_kidney_loop_of_Henle_{Times}.png\")\n",
    "    # Call the plotting method\n",
    "    model.plot_loss_curves(save_path=loss_plot_path)\n",
    "    print(f\"Loss curves saved to {loss_plot_path}\")\n",
    "except Exception as e:\n",
    "    print(f\"An error occurred during loss plotting: {e}\")\n",
    "    import traceback\n",
    "    traceback.print_exc()\n"
   ]
  },
  {
   "cell_type": "code",
   "execution_count": 27,
   "id": "5417fb49",
   "metadata": {
    "ExecuteTime": {
     "end_time": "2025-05-08T15:43:15.570525Z",
     "start_time": "2025-05-08T15:43:15.564832Z"
    }
   },
   "outputs": [
    {
     "name": "stdout",
     "output_type": "stream",
     "text": [
      "超参数已成功保存到 cglue_soe_ot_adult_human_kidney_output/hyperparameters_kidney_loop_of_Henle.csv\n"
     ]
    }
   ],
   "source": [
    "import csv\n",
    "import pickle\n",
    "hyperparameters = {\n",
    "    \"lam_kl\": lam_kl,\n",
    "    \"lam_data\": lam_data,\n",
    "    \"lam_triplet\": lam_triplet,\n",
    "    \"lam_ot\": lam_ot,\n",
    "    \"triplet_margin\": triplet_margin,\n",
    "    \"ot_epsilon\": ot_epsilon,\n",
    "    \"ot_tau\": ot_tau,\n",
    "    \"ot_max_iter\": ot_max_iter,\n",
    "    \"max_epochs\": max_epochs\n",
    "}\n",
    "\n",
    "csv_filename = os.path.join(SAVE_DIR, \"hyperparameters_kidney_loop_of_Henle.csv\")\n",
    "\n",
    "try:\n",
    "    with open(csv_filename, 'a', newline='') as csvfile:\n",
    "        writer = csv.writer(csvfile)\n",
    "        writer.writerow([f'ParameterName_{Times}', 'Value'])\n",
    "        for name, value in hyperparameters.items():\n",
    "            writer.writerow([name, value])\n",
    "    print(f\"超参数已成功保存到 {csv_filename}\")\n"
   ]
  },
  {
   "cell_type": "code",
   "execution_count": null,
   "id": "1919c144",
   "metadata": {},
   "outputs": [],
   "source": []
  },
  {
   "cell_type": "code",
   "execution_count": null,
   "id": "6041da45",
   "metadata": {},
   "outputs": [],
   "source": []
  },
  {
   "cell_type": "code",
   "execution_count": null,
   "id": "304cfade",
   "metadata": {},
   "outputs": [],
   "source": []
  }
 ],
 "metadata": {
  "kernelspec": {
   "display_name": "Python [conda env:CGLUE-SOE]",
   "language": "python",
   "name": "conda-env-CGLUE-SOE-py"
  },
  "language_info": {
   "codemirror_mode": {
    "name": "ipython",
    "version": 3
   },
   "file_extension": ".py",
   "mimetype": "text/x-python",
   "name": "python",
   "nbconvert_exporter": "python",
   "pygments_lexer": "ipython3",
   "version": "3.9.22"
  },
  "toc": {
   "base_numbering": 1,
   "nav_menu": {},
   "number_sections": true,
   "sideBar": true,
   "skip_h1_title": false,
   "title_cell": "Table of Contents",
   "title_sidebar": "Contents",
   "toc_cell": false,
   "toc_position": {},
   "toc_section_display": true,
   "toc_window_display": false
  }
 },
 "nbformat": 4,
 "nbformat_minor": 5
}
