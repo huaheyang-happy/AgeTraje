{
 "cells": [
  {
   "cell_type": "code",
   "execution_count": 1,
   "id": "5152b545",
   "metadata": {
    "ExecuteTime": {
     "end_time": "2025-05-07T23:48:40.433715Z",
     "start_time": "2025-05-07T23:48:13.558055Z"
    }
   },
   "outputs": [],
   "source": [
    "\n",
    "import scanpy as sc\n",
    "import matplotlib.pyplot as plt\n",
    "import sys\n",
    "import os\n",
    "import numpy as np\n",
    "import pandas as pd\n",
    "import anndata as ad\n",
    "import scanpy as sc\n",
    "import networkx as nx\n",
    "import torch\n",
    "import sklearn.preprocessing\n",
    "import episcanpy as epi\n",
    "import sys\n",
    "import os\n",
    "import numpy as np\n",
    "import pandas as pd\n",
    "import anndata as ad\n",
    "import scanpy as sc\n",
    "# import networkx as nx # No longer needed for training script itself\n",
    "import torch\n",
    "\n",
    "\n",
    "adata_ATAC=sc.read(\"/data/cabins/sccancer/hhy/TI/Fallopian_tube_ATAC.h5ad\")\n",
    "adata_RNA= sc.read(\"/data/cabins/sccancer/hhy/TI/Fallopian_tube_RNA.h5ad\")"
   ]
  },
  {
   "cell_type": "code",
   "execution_count": 2,
   "id": "c43ee86c",
   "metadata": {
    "ExecuteTime": {
     "end_time": "2025-05-07T23:49:06.399055Z",
     "start_time": "2025-05-07T23:49:05.506961Z"
    }
   },
   "outputs": [],
   "source": [
    "adata_ATAC_NK = adata_ATAC[adata_ATAC.obs[\"cell_type\"] == 'pericyte',:]\n",
    "samples_to_keep = ['55-year-old stage', '61-year-old stage', '62-year-old stage', '65-year-old stage']\n",
    "mask = adata_ATAC_NK.obs['development_stage'].isin(samples_to_keep)\n",
    "adata_ATAC_NK_Age = adata_ATAC_NK[mask].copy()"
   ]
  },
  {
   "cell_type": "code",
   "execution_count": 3,
   "id": "9c1180ed",
   "metadata": {
    "ExecuteTime": {
     "end_time": "2025-05-07T23:49:23.030156Z",
     "start_time": "2025-05-07T23:49:22.468849Z"
    }
   },
   "outputs": [],
   "source": [
    "adata_RNA_NK = adata_RNA[adata_RNA.obs[\"cell_type\"] == 'pericyte',:]\n",
    "samples_to_keep = ['55-year-old stage', '61-year-old stage', '62-year-old stage', '65-year-old stage']\n",
    "mask = adata_RNA_NK.obs['development_stage'].isin(samples_to_keep)\n",
    "adata_RNA_NK_Age = adata_RNA_NK[mask].copy()"
   ]
  },
  {
   "cell_type": "code",
   "execution_count": 19,
   "id": "213d1e1e",
   "metadata": {
    "ExecuteTime": {
     "end_time": "2025-05-09T00:24:58.450632Z",
     "start_time": "2025-05-09T00:24:58.435780Z"
    }
   },
   "outputs": [
    {
     "data": {
      "text/plain": [
       "P3203A_AAACGAAAGTTCAAGA-1    pericyte\n",
       "P3203A_AAACGAAAGTTCAAGA-2    pericyte\n",
       "P3203A_AAACTCGGTAACGGCA-1    pericyte\n",
       "P3203A_AAACTCGGTAACGGCA-2    pericyte\n",
       "P3203A_AAACTGCGTATATGGA-1    pericyte\n",
       "                               ...   \n",
       "P3369I_TGCTCACCACACATGT-1    pericyte\n",
       "P3369I_TGGCAATGTGAGTAAT-1    pericyte\n",
       "P3369I_TGGCCTTCACATATCG-1    pericyte\n",
       "P3369I_TTAGGTGCACACTAGT-1    pericyte\n",
       "P3369I_TTCTGTAAGATTGACA-1    pericyte\n",
       "Name: cell_type, Length: 6658, dtype: category\n",
       "Categories (1, object): ['pericyte']"
      ]
     },
     "execution_count": 19,
     "metadata": {},
     "output_type": "execute_result"
    }
   ],
   "source": [
    "adata_ATAC_NK.obs[\"cell_type\"]"
   ]
  },
  {
   "cell_type": "code",
   "execution_count": 4,
   "id": "06f9edc4",
   "metadata": {
    "ExecuteTime": {
     "end_time": "2025-05-07T23:50:10.296317Z",
     "start_time": "2025-05-07T23:50:10.282823Z"
    }
   },
   "outputs": [
    {
     "name": "stderr",
     "output_type": "stream",
     "text": [
      " FutureWarning:/tmp/ipykernel_3207648/732861383.py:7: The behavior of Series.replace (and DataFrame.replace) with CategoricalDtype is deprecated. In a future version, replace will only be used for cases that preserve the categories. To change the categories, use ser.cat.rename_categories instead.\n",
      " FutureWarning:/tmp/ipykernel_3207648/732861383.py:8: The behavior of Series.replace (and DataFrame.replace) with CategoricalDtype is deprecated. In a future version, replace will only be used for cases that preserve the categories. To change the categories, use ser.cat.rename_categories instead.\n"
     ]
    }
   ],
   "source": [
    "replacement_map = {\n",
    "    '55-year-old stage': '55',\n",
    "    '61-year-old stage': '61',\n",
    "    '62-year-old stage': '62',\n",
    "    '65-year-old stage': '65'\n",
    "}\n",
    "adata_ATAC_NK_Age.obs['age'] = adata_ATAC_NK_Age.obs['development_stage'].replace(replacement_map)\n",
    "adata_RNA_NK_Age.obs['age'] = adata_RNA_NK_Age.obs['development_stage'].replace(replacement_map)"
   ]
  },
  {
   "cell_type": "code",
   "execution_count": 5,
   "id": "ff014738",
   "metadata": {
    "ExecuteTime": {
     "end_time": "2025-05-07T23:50:23.233238Z",
     "start_time": "2025-05-07T23:50:17.405034Z"
    }
   },
   "outputs": [
    {
     "name": "stderr",
     "output_type": "stream",
     "text": [
      " FutureWarning:/home/sccancer/anaconda3/envs/CGLUE-SOE/lib/python3.9/site-packages/episcanpy/preprocessing/_scanpy_fct.py:145: The specified parameters ('min_counts', 'min_cells', 'max_counts', 'max_cells', 'inplace', 'copy') are no longer positional. Please specify them like `min_counts=None`\n"
     ]
    }
   ],
   "source": [
    "sc.pp.filter_cells(adata_RNA_NK_Age, min_genes=100)\n",
    "sc.pp.filter_genes(adata_RNA_NK_Age, min_cells=3)\n",
    "# Saving count data\n",
    "adata_RNA_NK_Age.layers[\"counts\"] = adata_RNA_NK_Age.X.copy()\n",
    "# Normalizing to median total counts\n",
    "sc.pp.normalize_total(adata_RNA_NK_Age)\n",
    "# Logarithmize the data\n",
    "sc.pp.log1p(adata_RNA_NK_Age)\n",
    "sc.pp.highly_variable_genes(adata_RNA_NK_Age, n_top_genes=2000)\n",
    "adata_RNA_NK_Age = adata_RNA_NK_Age[:,adata_RNA_NK_Age.var['highly_variable'] ==True]\n",
    "fpeak=0.03\n",
    "epi.pp.binarize(adata_ATAC_NK_Age)\n",
    "epi.pp.filter_features(adata_ATAC_NK_Age, min_cells=np.ceil(adata_ATAC_NK_Age.shape[0])*fpeak)"
   ]
  },
  {
   "cell_type": "code",
   "execution_count": 6,
   "id": "d889f88d",
   "metadata": {
    "ExecuteTime": {
     "end_time": "2025-05-07T23:50:54.877132Z",
     "start_time": "2025-05-07T23:50:39.914849Z"
    }
   },
   "outputs": [
    {
     "name": "stderr",
     "output_type": "stream",
     "text": [
      " TqdmWarning:/home/sccancer/anaconda3/envs/CGLUE-SOE/lib/python3.9/site-packages/tqdm/auto.py:21: IProgress not found. Please update jupyter and ipywidgets. See https://ipywidgets.readthedocs.io/en/stable/user_install.html\n"
     ]
    }
   ],
   "source": [
    "# -*- coding: utf-8 -*-\n",
    "\"\"\"\n",
    "Training script for CGLUE-SOE-OT model using real (preprocessed)\n",
    "scRNA-seq and scATAC-seq data with ordered age labels.\n",
    "\n",
    "This script assumes the modified CGLUE-SOE-OT model files\n",
    "(e.g., cglue_soe_ot.py, cglue_soe_components_ot.py) are\n",
    "accessible within the scglue package structure or Python path.\n",
    "\"\"\"\n",
    "\n",
    "import sys\n",
    "import os\n",
    "import numpy as np\n",
    "import pandas as pd\n",
    "import anndata as ad\n",
    "import scanpy as sc\n",
    "# import networkx as nx # No longer needed for training script itself\n",
    "import torch\n",
    "\n",
    "# --- Add project root to path if necessary ---\n",
    "# Adjust this path if your script is located elsewhere relative to the scglue package\n",
    "# project_root = os.path.abspath(os.path.join(os.path.dirname(__file__), '..'))\n",
    "# if project_root not in sys.path:\n",
    "#     sys.path.insert(0, project_root)\n",
    "\n",
    "try:\n",
    "    # Import the modified model and config function\n",
    "    import scglue\n",
    "    from scglue.models.cglue_soe_ot import CGLUESOE_OT_Model, configure_dataset_cglue_soe\n",
    "    # AnnDatasetWithLabels is still needed, GraphDataset is not\n",
    "    from scglue.models.data import AnnDatasetWithLabels\n",
    "    # from scglue.utils import config as scglue_config # Optional config import\n",
    "except ImportError as e:\n",
    "    print(f\"Error importing modified scglue components: {e}\")\n",
    "    print(\"Please ensure the modified scglue package (with CGLUE-SOE-OT) is installed or accessible.\")\n",
    "    sys.exit(1)\n",
    "except AttributeError as e:\n",
    "    print(f\"Error importing specific components (check file/class names): {e}\")\n",
    "    print(\"Ensure 'CGLUESOE_OT_Model' and 'configure_dataset_cglue_soe' exist in 'scglue.models.cglue_soe_ot'.\")\n",
    "    sys.exit(1)\n",
    "\n",
    "\n",
    "# --- Configuration ---\n",
    "SEED = 0\n",
    "\n",
    "torch.manual_seed(SEED)\n",
    "np.random.seed(SEED)\n",
    "SAVE_DIR = \"cglue_soe_ot_Fallopian_tube_pericyte_output\" # Changed save directory name\n",
    "os.makedirs(SAVE_DIR, exist_ok=True)"
   ]
  },
  {
   "cell_type": "code",
   "execution_count": 7,
   "id": "1272486e",
   "metadata": {
    "ExecuteTime": {
     "end_time": "2025-05-07T23:50:55.120746Z",
     "start_time": "2025-05-07T23:50:54.881700Z"
    }
   },
   "outputs": [
    {
     "name": "stdout",
     "output_type": "stream",
     "text": [
      "Loading real data...\n",
      "Preprocessing data...\n"
     ]
    },
    {
     "name": "stderr",
     "output_type": "stream",
     "text": [
      " ImplicitModificationWarning:/tmp/ipykernel_3207648/2428429756.py:19: Trying to modify attribute `.obs` of view, initializing view as actual.\n"
     ]
    }
   ],
   "source": [
    "# --- 1. Load Your Real Data ---\n",
    "print(\"Loading real data...\")\n",
    "\n",
    "atac_adata= adata_ATAC_NK_Age\n",
    "rna_adata = adata_RNA_NK_Age\n",
    "adatas = {\"rna\": rna_adata, \"atac\": atac_adata}\n",
    "\n",
    "# --- 2. Preprocessing Steps ---\n",
    "print(\"Preprocessing data...\")\n",
    "\n",
    "# ** Crucial: Ensure 'age' column is ordered categorical **\n",
    "# Define the correct order\n",
    "age_order = ['55', '61', '62','65']\n",
    "label_col = 'age' # MODIFY AS NEEDED\n",
    "try:\n",
    "    for k in adatas:\n",
    "        if 'age' not in adatas[k].obs:\n",
    "            raise ValueError(f\"'age' column not found in adata '{k}'.\")\n",
    "        adatas[k].obs['age'] = pd.Categorical(\n",
    "            adatas[k].obs['age'], categories=age_order, ordered=True\n",
    "        )\n",
    "        # Check if any values became NaN after conversion (means original values didn't match categories)\n",
    "        if adatas[k].obs['age'].isnull().any():\n",
    "             print(f\"Warning: Some 'age' values in adata '{k}' did not match the expected categories {age_order} and resulted in NaNs.\")\n",
    "             # Optional: Handle NaNs, e.g., remove cells or raise error\n",
    "             # adatas[k] = adatas[k][adatas[k].obs['age'].notna()].copy()\n",
    "except Exception as e:\n",
    "    print(f\"Error processing 'age' column: {e}\")\n",
    "    sys.exit(1)\n"
   ]
  },
  {
   "cell_type": "code",
   "execution_count": 8,
   "id": "c2f2e4dd",
   "metadata": {
    "ExecuteTime": {
     "end_time": "2025-05-07T23:50:57.592475Z",
     "start_time": "2025-05-07T23:50:57.585115Z"
    }
   },
   "outputs": [],
   "source": [
    "atac_adata.var['highly_variable'] = True"
   ]
  },
  {
   "cell_type": "code",
   "execution_count": 9,
   "id": "b6fadb9f",
   "metadata": {
    "ExecuteTime": {
     "end_time": "2025-05-07T23:51:04.459017Z",
     "start_time": "2025-05-07T23:51:04.434103Z"
    }
   },
   "outputs": [
    {
     "name": "stdout",
     "output_type": "stream",
     "text": [
      "Defining feature vertices...\n",
      "Total unique features (vertices): 17207\n"
     ]
    }
   ],
   "source": [
    "\n",
    "# --- 3. Define Vertices (No Graph Construction Needed) ---\n",
    "# The model still needs the list of all unique features across datasets\n",
    "# for the feature embedding layer.\n",
    "print(\"Defining feature vertices...\")\n",
    "vertices = pd.Index(rna_adata.var_names.tolist() + atac_adata.var_names.tolist()).unique()\n",
    "print(f\"Total unique features (vertices): {len(vertices)}\")\n"
   ]
  },
  {
   "cell_type": "code",
   "execution_count": 13,
   "id": "68fecb26",
   "metadata": {
    "ExecuteTime": {
     "end_time": "2025-05-07T23:52:48.542603Z",
     "start_time": "2025-05-07T23:52:48.518703Z"
    }
   },
   "outputs": [
    {
     "name": "stderr",
     "output_type": "stream",
     "text": [
      "[WARNING] CGLUESOE_OT_Model: `configure_dataset` already called. Overwriting!\n"
     ]
    },
    {
     "name": "stdout",
     "output_type": "stream",
     "text": [
      "Configuring datasets for CGLUE-SOE-OT...\n",
      "[INFO] CGLUESOE_OT_Model: Dataset configured for CGLUE-SOE-OT using label 'age'.\n"
     ]
    },
    {
     "name": "stderr",
     "output_type": "stream",
     "text": [
      "[WARNING] CGLUESOE_OT_Model: `configure_dataset` already called. Overwriting!\n"
     ]
    },
    {
     "name": "stdout",
     "output_type": "stream",
     "text": [
      "[INFO] CGLUESOE_OT_Model: Dataset configured for CGLUE-SOE-OT using label 'age'.\n",
      "Datasets configured.\n"
     ]
    }
   ],
   "source": [
    "\n",
    "# --- 4. Configure Datasets for CGLUE-SOE-OT ---\n",
    "print(\"Configuring datasets for CGLUE-SOE-OT...\")\n",
    "# ** Choose appropriate prob_model based on your preprocessing **\n",
    "# 'Normal' or 'ZILN' for log-normalized RNA.\n",
    "# 'Normal', 'ZILN', or 'Bernoulli' for ATAC depending on preprocessing.\n",
    "try:\n",
    "    configure_dataset_cglue_soe( # Use the same config function name\n",
    "        adatas[\"rna\"],\n",
    "        prob_model=\"Normal\", # Adjust if needed (e.g., \"NB\" if using raw counts)\n",
    "        use_highly_variable=True, # Use selected HVGs\n",
    "        use_label=label_col, # Use the ordered label column\n",
    "        use_layer=None, # Assuming preprocessed data is in .X\n",
    "        use_rep=None,   # Or specify a representation like 'X_pca' if desired\n",
    "        use_obs_names=False # Data is unpaired\n",
    "    )\n",
    "    configure_dataset_cglue_soe( # Use the same config function name\n",
    "        adatas[\"atac\"],\n",
    "        prob_model=\"Bernoulli\", # Adjust based on ATAC preprocessing\n",
    "        use_highly_variable=True, # Use selected HVGs\n",
    "        use_label=label_col, # Use the ordered label column\n",
    "        use_layer=None, # Assuming preprocessed data is in .X\n",
    "        use_rep=None,   # Or specify a representation like 'X_lsi' if desired\n",
    "        use_obs_names=False # Data is unpaired\n",
    "    )\n",
    "    print(\"Datasets configured.\")\n",
    "except Exception as e:\n",
    "    print(f\"Error configuring datasets: {e}\")\n",
    "    sys.exit(1)\n"
   ]
  },
  {
   "cell_type": "code",
   "execution_count": 14,
   "id": "15f6a7bc",
   "metadata": {
    "ExecuteTime": {
     "end_time": "2025-05-08T01:31:36.083119Z",
     "start_time": "2025-05-07T23:52:48.767339Z"
    }
   },
   "outputs": [
    {
     "name": "stdout",
     "output_type": "stream",
     "text": [
      "Initializing CGLUE-SOE-OT model...\n",
      "Model initialized.\n",
      "Compiling model...\n",
      "Model compiled.\n",
      "Fitting model...\n"
     ]
    },
    {
     "name": "stderr",
     "output_type": "stream",
     "text": [
      " UserWarning:/home/sccancer/anaconda3/envs/CGLUE-SOE/lib/python3.9/site-packages/torch/optim/lr_scheduler.py:62: The verbose parameter is deprecated. Please use get_last_lr() to access the learning rate.\n"
     ]
    },
    {
     "name": "stdout",
     "output_type": "stream",
     "text": [
      "[INFO] CGLUESOE_OT_Trainer: [Epoch 10] Train={'x_rna_nll': '539.5952', 'x_rna_kl': '54.5226', 'x_rna_elbo': '545.0474', 'x_atac_nll': '9080.1427', 'x_atac_kl': '65.4728', 'x_atac_elbo': '9086.6900', 'triplet_loss': '0.0380', 'ot_loss': '53.6907', 'total_loss': '9919.2143'}, Val={'x_rna_nll': '500.4149', 'x_rna_kl': '54.8820', 'x_rna_elbo': '505.9031', 'x_atac_nll': '8951.0394', 'x_atac_kl': '60.3912', 'x_atac_elbo': '8957.0784', 'triplet_loss': '2.3547', 'ot_loss': '32.5359', 'total_loss': '10803.0322'}\n",
      "[INFO] CGLUESOE_OT_Trainer: [Epoch 20] Train={'x_rna_nll': '-162.2330', 'x_rna_kl': '86.6351', 'x_rna_elbo': '-153.5695', 'x_atac_nll': '7971.5126', 'x_atac_kl': '106.1100', 'x_atac_elbo': '7982.1236', 'triplet_loss': '0.0246', 'ot_loss': '44.6486', 'total_loss': '8064.1136'}, Val={'x_rna_nll': '-200.3537', 'x_rna_kl': '84.1604', 'x_rna_elbo': '-191.9376', 'x_atac_nll': '7920.2801', 'x_atac_kl': '101.1894', 'x_atac_elbo': '7930.3991', 'triplet_loss': '1.4768', 'ot_loss': '25.6769', 'total_loss': '8605.2404'}\n",
      "[INFO] CGLUESOE_OT_Trainer: [Epoch 30] Train={'x_rna_nll': '-837.4098', 'x_rna_kl': '102.1025', 'x_rna_elbo': '-827.1995', 'x_atac_nll': '7632.0114', 'x_atac_kl': '128.9731', 'x_atac_elbo': '7644.9087', 'triplet_loss': '0.0240', 'ot_loss': '39.9784', 'total_loss': '7029.6178'}, Val={'x_rna_nll': '-873.1320', 'x_rna_kl': '100.4850', 'x_rna_elbo': '-863.0835', 'x_atac_nll': '7623.5171', 'x_atac_kl': '124.9922', 'x_atac_elbo': '7636.0163', 'triplet_loss': '0.8377', 'ot_loss': '30.8064', 'total_loss': '7345.8102'}\n",
      "[INFO] CGLUESOE_OT_Trainer: [Epoch 40] Train={'x_rna_nll': '-1456.3339', 'x_rna_kl': '114.4474', 'x_rna_elbo': '-1444.8892', 'x_atac_nll': '7550.7477', 'x_atac_kl': '145.5140', 'x_atac_elbo': '7565.2991', 'triplet_loss': '0.0219', 'ot_loss': '37.6363', 'total_loss': '6319.5661'}, Val={'x_rna_nll': '-1489.5215', 'x_rna_kl': '113.5745', 'x_rna_elbo': '-1478.1641', 'x_atac_nll': '7575.6209', 'x_atac_kl': '138.5512', 'x_atac_elbo': '7589.4760', 'triplet_loss': '1.4176', 'ot_loss': '26.2251', 'total_loss': '6951.2324'}\n",
      "[INFO] CGLUESOE_OT_Trainer: [Epoch 50] Train={'x_rna_nll': '-1967.2220', 'x_rna_kl': '125.1033', 'x_rna_elbo': '-1954.7116', 'x_atac_nll': '7515.5780', 'x_atac_kl': '156.1832', 'x_atac_elbo': '7531.1963', 'triplet_loss': '0.0157', 'ot_loss': '34.8591', 'total_loss': '5758.6470'}, Val={'x_rna_nll': '-1997.5935', 'x_rna_kl': '124.4457', 'x_rna_elbo': '-1985.1489', 'x_atac_nll': '7558.9493', 'x_atac_kl': '151.0285', 'x_atac_elbo': '7574.0521', 'triplet_loss': '1.0744', 'ot_loss': '25.3450', 'total_loss': '6252.8317'}\n",
      "[INFO] CGLUESOE_OT_Trainer: [Epoch 60] Train={'x_rna_nll': '-2337.4501', 'x_rna_kl': '149.3861', 'x_rna_elbo': '-2322.5115', 'x_atac_nll': '7509.4202', 'x_atac_kl': '169.9987', 'x_atac_elbo': '7526.4201', 'triplet_loss': '0.0142', 'ot_loss': '16.5639', 'total_loss': '5293.8516'}, Val={'x_rna_nll': '-2347.5303', 'x_rna_kl': '149.0056', 'x_rna_elbo': '-2332.6298', 'x_atac_nll': '7576.8084', 'x_atac_kl': '163.5267', 'x_atac_elbo': '7593.1611', 'triplet_loss': '2.3443', 'ot_loss': '13.9974', 'total_loss': '6502.6608'}\n",
      "[INFO] CGLUESOE_OT_Trainer: [Epoch 70] Train={'x_rna_nll': '-2543.2079', 'x_rna_kl': '161.4029', 'x_rna_elbo': '-2527.0676', 'x_atac_nll': '7520.0703', 'x_atac_kl': '183.3076', 'x_atac_elbo': '7538.4010', 'triplet_loss': '0.0176', 'ot_loss': '12.4499', 'total_loss': '5082.3911'}, Val={'x_rna_nll': '-2527.6832', 'x_rna_kl': '159.3065', 'x_rna_elbo': '-2511.7526', 'x_atac_nll': '7569.3460', 'x_atac_kl': '183.6356', 'x_atac_elbo': '7587.7095', 'triplet_loss': '0.3321', 'ot_loss': '20.5393', 'total_loss': '5344.6933'}\n",
      "[INFO] CGLUESOE_OT_Trainer: [Epoch 80] Train={'x_rna_nll': '-2635.8723', 'x_rna_kl': '165.6996', 'x_rna_elbo': '-2619.3023', 'x_atac_nll': '7484.7806', 'x_atac_kl': '190.9380', 'x_atac_elbo': '7503.8743', 'triplet_loss': '0.0065', 'ot_loss': '8.9480', 'total_loss': '4932.5749'}, Val={'x_rna_nll': '-2580.5514', 'x_rna_kl': '166.5912', 'x_rna_elbo': '-2563.8923', 'x_atac_nll': '7553.4896', 'x_atac_kl': '182.7094', 'x_atac_elbo': '7571.7605', 'triplet_loss': '1.7326', 'ot_loss': '13.4066', 'total_loss': '5941.1893'}\n",
      "[INFO] CGLUESOE_OT_Trainer: [Epoch 90] Train={'x_rna_nll': '-2664.8065', 'x_rna_kl': '170.9435', 'x_rna_elbo': '-2647.7121', 'x_atac_nll': '7487.6330', 'x_atac_kl': '197.3512', 'x_atac_elbo': '7507.3682', 'triplet_loss': '0.0048', 'ot_loss': '8.4772', 'total_loss': '4904.4485'}, Val={'x_rna_nll': '-2564.7336', 'x_rna_kl': '168.1282', 'x_rna_elbo': '-2547.9208', 'x_atac_nll': '7545.9568', 'x_atac_kl': '186.3056', 'x_atac_elbo': '7564.5874', 'triplet_loss': '1.0322', 'ot_loss': '7.4081', 'total_loss': '5569.8106'}\n",
      "[INFO] CGLUESOE_OT_Trainer: [Epoch 100] Train={'x_rna_nll': '-2673.5569', 'x_rna_kl': '174.2137', 'x_rna_elbo': '-2656.1355', 'x_atac_nll': '7458.5904', 'x_atac_kl': '204.8900', 'x_atac_elbo': '7479.0795', 'triplet_loss': '0.0190', 'ot_loss': '9.6823', 'total_loss': '4880.8626'}, Val={'x_rna_nll': '-2516.0037', 'x_rna_kl': '175.3552', 'x_rna_elbo': '-2498.4681', 'x_atac_nll': '7548.0906', 'x_atac_kl': '197.4092', 'x_atac_elbo': '7567.8315', 'triplet_loss': '1.2600', 'ot_loss': '11.9774', 'total_loss': '5759.2610'}\n",
      "[INFO] LRScheduler: Learning rate reduction: step 1\n",
      "[INFO] CGLUESOE_OT_Trainer: [Epoch 110] Train={'x_rna_nll': '-2683.9281', 'x_rna_kl': '174.9473', 'x_rna_elbo': '-2666.4334', 'x_atac_nll': '7438.9577', 'x_atac_kl': '203.9178', 'x_atac_elbo': '7459.3495', 'triplet_loss': '0.0017', 'ot_loss': '6.2669', 'total_loss': '4825.0942'}, Val={'x_rna_nll': '-2472.7901', 'x_rna_kl': '172.9167', 'x_rna_elbo': '-2455.4984', 'x_atac_nll': '7536.1638', 'x_atac_kl': '190.3387', 'x_atac_elbo': '7555.1976', 'triplet_loss': '1.1140', 'ot_loss': '8.5847', 'total_loss': '5699.6254'}\n",
      "[INFO] CGLUESOE_OT_Trainer: [Epoch 120] Train={'x_rna_nll': '-2688.0231', 'x_rna_kl': '175.4342', 'x_rna_elbo': '-2670.4797', 'x_atac_nll': '7445.8020', 'x_atac_kl': '205.8959', 'x_atac_elbo': '7466.3916', 'triplet_loss': '0.0021', 'ot_loss': '5.5307', 'total_loss': '4824.5969'}, Val={'x_rna_nll': '-2463.0654', 'x_rna_kl': '173.6279', 'x_rna_elbo': '-2445.7026', 'x_atac_nll': '7536.3313', 'x_atac_kl': '192.2703', 'x_atac_elbo': '7555.5583', 'triplet_loss': '1.0110', 'ot_loss': '8.1737', 'total_loss': '5656.2090'}\n",
      "[INFO] LRScheduler: Learning rate reduction: step 2\n",
      "[INFO] CGLUESOE_OT_Trainer: [Epoch 130] Train={'x_rna_nll': '-2696.6237', 'x_rna_kl': '176.2595', 'x_rna_elbo': '-2678.9977', 'x_atac_nll': '7450.5440', 'x_atac_kl': '206.6062', 'x_atac_elbo': '7471.2046', 'triplet_loss': '0.0030', 'ot_loss': '5.7205', 'total_loss': '4822.2847'}, Val={'x_rna_nll': '-2456.6857', 'x_rna_kl': '174.4731', 'x_rna_elbo': '-2439.2383', 'x_atac_nll': '7535.4793', 'x_atac_kl': '193.4799', 'x_atac_elbo': '7554.8273', 'triplet_loss': '0.9769', 'ot_loss': '8.5429', 'total_loss': '5646.7419'}\n",
      "[INFO] CGLUESOE_OT_Trainer: [Epoch 140] Train={'x_rna_nll': '-2692.3790', 'x_rna_kl': '175.9626', 'x_rna_elbo': '-2674.7828', 'x_atac_nll': '7457.4384', 'x_atac_kl': '207.0890', 'x_atac_elbo': '7478.1473', 'triplet_loss': '0.0022', 'ot_loss': '5.7418', 'total_loss': '4833.1700'}, Val={'x_rna_nll': '-2455.3867', 'x_rna_kl': '174.3049', 'x_rna_elbo': '-2437.9562', 'x_atac_nll': '7535.8037', 'x_atac_kl': '193.3541', 'x_atac_elbo': '7555.1392', 'triplet_loss': '0.9739', 'ot_loss': '7.5813', 'total_loss': '5642.0174'}\n",
      "[INFO] LRScheduler: Learning rate reduction: step 3\n",
      "[INFO] CGLUESOE_OT_Trainer: [Epoch 150] Train={'x_rna_nll': '-2696.1320', 'x_rna_kl': '176.1119', 'x_rna_elbo': '-2678.5208', 'x_atac_nll': '7441.8430', 'x_atac_kl': '207.0584', 'x_atac_elbo': '7462.5489', 'triplet_loss': '0.0038', 'ot_loss': '5.2303', 'total_loss': '4812.0558'}, Val={'x_rna_nll': '-2454.4589', 'x_rna_kl': '174.2175', 'x_rna_elbo': '-2437.0372', 'x_atac_nll': '7533.6494', 'x_atac_kl': '193.5858', 'x_atac_elbo': '7553.0079', 'triplet_loss': '1.0069', 'ot_loss': '8.0494', 'total_loss': '5659.6529'}\n",
      "[INFO] CGLUESOE_OT_Trainer: [Epoch 160] Train={'x_rna_nll': '-2681.1538', 'x_rna_kl': '176.1844', 'x_rna_elbo': '-2663.5354', 'x_atac_nll': '7463.1957', 'x_atac_kl': '207.1123', 'x_atac_elbo': '7483.9070', 'triplet_loss': '0.0057', 'ot_loss': '5.5029', 'total_loss': '4850.7232'}, Val={'x_rna_nll': '-2453.5779', 'x_rna_kl': '173.9626', 'x_rna_elbo': '-2436.1817', 'x_atac_nll': '7535.7675', 'x_atac_kl': '193.8089', 'x_atac_elbo': '7555.1484', 'triplet_loss': '0.9948', 'ot_loss': '7.2785', 'total_loss': '5652.7437'}\n"
     ]
    },
    {
     "name": "stdout",
     "output_type": "stream",
     "text": [
      "[INFO] LRScheduler: Learning rate reduction: step 4\n",
      "[INFO] CGLUESOE_OT_Trainer: [Epoch 170] Train={'x_rna_nll': '-2691.4753', 'x_rna_kl': '176.3187', 'x_rna_elbo': '-2673.8434', 'x_atac_nll': '7432.5348', 'x_atac_kl': '206.9146', 'x_atac_elbo': '7453.2263', 'triplet_loss': '0.0005', 'ot_loss': '5.6505', 'total_loss': '4807.8805'}, Val={'x_rna_nll': '-2454.7768', 'x_rna_kl': '174.8369', 'x_rna_elbo': '-2437.2931', 'x_atac_nll': '7536.0837', 'x_atac_kl': '193.3486', 'x_atac_elbo': '7555.4185', 'triplet_loss': '1.0653', 'ot_loss': '8.5992', 'total_loss': '5693.7961'}\n",
      "[INFO] CGLUESOE_OT_Trainer: [Epoch 180] Train={'x_rna_nll': '-2680.9408', 'x_rna_kl': '176.2398', 'x_rna_elbo': '-2663.3168', 'x_atac_nll': '7454.9196', 'x_atac_kl': '207.1386', 'x_atac_elbo': '7475.6335', 'triplet_loss': '0.0030', 'ot_loss': '5.2979', 'total_loss': '4840.3303'}, Val={'x_rna_nll': '-2454.6084', 'x_rna_kl': '174.4728', 'x_rna_elbo': '-2437.1611', 'x_atac_nll': '7535.1558', 'x_atac_kl': '193.6062', 'x_atac_elbo': '7554.5165', 'triplet_loss': '1.0215', 'ot_loss': '8.0961', 'total_loss': '5668.5713'}\n",
      "[INFO] LRScheduler: Learning rate reduction: step 5\n",
      "[INFO] CGLUESOE_OT_Trainer: [Epoch 190] Train={'x_rna_nll': '-2695.0049', 'x_rna_kl': '175.9472', 'x_rna_elbo': '-2677.4101', 'x_atac_nll': '7449.4669', 'x_atac_kl': '207.0037', 'x_atac_elbo': '7470.1672', 'triplet_loss': '0.0015', 'ot_loss': '5.3579', 'total_loss': '4820.2976'}, Val={'x_rna_nll': '-2453.6049', 'x_rna_kl': '174.2471', 'x_rna_elbo': '-2436.1802', 'x_atac_nll': '7535.7524', 'x_atac_kl': '193.3880', 'x_atac_elbo': '7555.0912', 'triplet_loss': '1.0776', 'ot_loss': '8.0555', 'total_loss': '5697.9974'}\n",
      "[INFO] CGLUESOE_OT_Trainer: [Epoch 200] Train={'x_rna_nll': '-2695.2728', 'x_rna_kl': '175.8563', 'x_rna_elbo': '-2677.6872', 'x_atac_nll': '7422.5005', 'x_atac_kl': '207.0212', 'x_atac_elbo': '7443.2025', 'triplet_loss': '0.0016', 'ot_loss': '5.4929', 'total_loss': '4793.7750'}, Val={'x_rna_nll': '-2454.2582', 'x_rna_kl': '174.3055', 'x_rna_elbo': '-2436.8276', 'x_atac_nll': '7533.6015', 'x_atac_kl': '193.4535', 'x_atac_elbo': '7552.9469', 'triplet_loss': '1.0115', 'ot_loss': '8.4113', 'total_loss': '5663.9388'}\n",
      "[INFO] CGLUESOE_OT_Trainer: [Epoch 210] Train={'x_rna_nll': '-2694.1930', 'x_rna_kl': '176.2914', 'x_rna_elbo': '-2676.5638', 'x_atac_nll': '7442.8209', 'x_atac_kl': '206.7618', 'x_atac_elbo': '7463.4971', 'triplet_loss': '0.0027', 'ot_loss': '5.2992', 'total_loss': '4814.7965'}, Val={'x_rna_nll': '-2454.7205', 'x_rna_kl': '174.6098', 'x_rna_elbo': '-2437.2595', 'x_atac_nll': '7538.1905', 'x_atac_kl': '193.3723', 'x_atac_elbo': '7557.5278', 'triplet_loss': '1.1119', 'ot_loss': '8.3688', 'total_loss': '5718.0417'}\n",
      "[INFO] CGLUESOE_OT_Trainer: [Epoch 220] Train={'x_rna_nll': '-2690.6563', 'x_rna_kl': '175.9888', 'x_rna_elbo': '-2673.0574', 'x_atac_nll': '7444.0928', 'x_atac_kl': '206.7802', 'x_atac_elbo': '7464.7708', 'triplet_loss': '0.0014', 'ot_loss': '5.5202', 'total_loss': '4820.0304'}, Val={'x_rna_nll': '-2454.7388', 'x_rna_kl': '174.6661', 'x_rna_elbo': '-2437.2722', 'x_atac_nll': '7535.0853', 'x_atac_kl': '193.5546', 'x_atac_elbo': '7554.4408', 'triplet_loss': '0.9730', 'ot_loss': '8.5097', 'total_loss': '5646.2392'}\n",
      "[INFO] CGLUESOE_OT_Trainer: [Epoch 230] Train={'x_rna_nll': '-2686.5147', 'x_rna_kl': '176.0864', 'x_rna_elbo': '-2668.9060', 'x_atac_nll': '7428.1632', 'x_atac_kl': '206.6777', 'x_atac_elbo': '7448.8310', 'triplet_loss': '0.0038', 'ot_loss': '5.4752', 'total_loss': '4809.2095'}, Val={'x_rna_nll': '-2453.8763', 'x_rna_kl': '174.3508', 'x_rna_elbo': '-2436.4412', 'x_atac_nll': '7533.5905', 'x_atac_kl': '193.6992', 'x_atac_elbo': '7552.9605', 'triplet_loss': '0.9982', 'ot_loss': '7.7573', 'total_loss': '5654.4074'}\n",
      "[INFO] CGLUESOE_OT_Trainer: [Epoch 240] Train={'x_rna_nll': '-2690.2038', 'x_rna_kl': '176.1310', 'x_rna_elbo': '-2672.5906', 'x_atac_nll': '7448.4206', 'x_atac_kl': '206.6112', 'x_atac_elbo': '7469.0818', 'triplet_loss': '0.0022', 'ot_loss': '5.5410', 'total_loss': '4825.2988'}, Val={'x_rna_nll': '-2453.7007', 'x_rna_kl': '174.1421', 'x_rna_elbo': '-2436.2865', 'x_atac_nll': '7537.2048', 'x_atac_kl': '193.5966', 'x_atac_elbo': '7556.5644', 'triplet_loss': '1.0981', 'ot_loss': '7.5143', 'total_loss': '5706.9061'}\n",
      "[INFO] CGLUESOE_OT_Trainer: [Epoch 250] Train={'x_rna_nll': '-2688.3331', 'x_rna_kl': '176.2973', 'x_rna_elbo': '-2670.7034', 'x_atac_nll': '7421.8521', 'x_atac_kl': '206.7066', 'x_atac_elbo': '7442.5228', 'triplet_loss': '0.0010', 'ot_loss': '5.3783', 'total_loss': '4799.2163'}, Val={'x_rna_nll': '-2454.6794', 'x_rna_kl': '174.6446', 'x_rna_elbo': '-2437.2149', 'x_atac_nll': '7532.6846', 'x_atac_kl': '193.7190', 'x_atac_elbo': '7552.0565', 'triplet_loss': '1.0028', 'ot_loss': '8.3899', 'total_loss': '5658.1924'}\n",
      "[INFO] CGLUESOE_OT_Trainer: [Epoch 260] Train={'x_rna_nll': '-2713.3499', 'x_rna_kl': '176.1645', 'x_rna_elbo': '-2695.7334', 'x_atac_nll': '7457.4537', 'x_atac_kl': '207.1297', 'x_atac_elbo': '7478.1667', 'triplet_loss': '0.0023', 'ot_loss': '5.6294', 'total_loss': '4811.7248'}, Val={'x_rna_nll': '-2454.5765', 'x_rna_kl': '174.4071', 'x_rna_elbo': '-2437.1358', 'x_atac_nll': '7537.1511', 'x_atac_kl': '193.3805', 'x_atac_elbo': '7556.4891', 'triplet_loss': '1.1308', 'ot_loss': '8.3670', 'total_loss': '5726.5885'}\n",
      "[INFO] CGLUESOE_OT_Trainer: [Epoch 270] Train={'x_rna_nll': '-2683.6667', 'x_rna_kl': '176.0649', 'x_rna_elbo': '-2666.0602', 'x_atac_nll': '7419.4759', 'x_atac_kl': '206.7281', 'x_atac_elbo': '7440.1487', 'triplet_loss': '0.0018', 'ot_loss': '5.2198', 'total_loss': '4801.0839'}, Val={'x_rna_nll': '-2453.0680', 'x_rna_kl': '173.8672', 'x_rna_elbo': '-2435.6813', 'x_atac_nll': '7535.1630', 'x_atac_kl': '193.5322', 'x_atac_elbo': '7554.5162', 'triplet_loss': '0.9477', 'ot_loss': '7.5892', 'total_loss': '5630.6158'}\n",
      "[INFO] CGLUESOE_OT_Trainer: [Epoch 280] Train={'x_rna_nll': '-2698.2214', 'x_rna_kl': '176.3770', 'x_rna_elbo': '-2680.5837', 'x_atac_nll': '7454.7786', 'x_atac_kl': '206.7198', 'x_atac_elbo': '7475.4505', 'triplet_loss': '0.0033', 'ot_loss': '5.4423', 'total_loss': '4823.7396'}, Val={'x_rna_nll': '-2454.4869', 'x_rna_kl': '174.3358', 'x_rna_elbo': '-2437.0533', 'x_atac_nll': '7535.3496', 'x_atac_kl': '193.6568', 'x_atac_elbo': '7554.7153', 'triplet_loss': '1.0512', 'ot_loss': '7.6284', 'total_loss': '5681.3993'}\n",
      "[INFO] CGLUESOE_OT_Trainer: [Epoch 290] Train={'x_rna_nll': '-2700.9335', 'x_rna_kl': '176.1177', 'x_rna_elbo': '-2683.3217', 'x_atac_nll': '7429.4261', 'x_atac_kl': '207.1622', 'x_atac_elbo': '7450.1423', 'triplet_loss': '0.0007', 'ot_loss': '5.4089', 'total_loss': '4794.2397'}, Val={'x_rna_nll': '-2454.0351', 'x_rna_kl': '174.0183', 'x_rna_elbo': '-2436.6332', 'x_atac_nll': '7533.0687', 'x_atac_kl': '193.6536', 'x_atac_elbo': '7552.4340', 'triplet_loss': '0.9352', 'ot_loss': '7.3570', 'total_loss': '5620.2034'}\n",
      "[INFO] CGLUESOE_OT_Trainer: [Epoch 300] Train={'x_rna_nll': '-2695.0649', 'x_rna_kl': '176.0540', 'x_rna_elbo': '-2677.4595', 'x_atac_nll': '7450.3791', 'x_atac_kl': '207.1276', 'x_atac_elbo': '7471.0919', 'triplet_loss': '0.0018', 'ot_loss': '5.4542', 'total_loss': '4821.7894'}, Val={'x_rna_nll': '-2454.3921', 'x_rna_kl': '174.2009', 'x_rna_elbo': '-2436.9721', 'x_atac_nll': '7533.7991', 'x_atac_kl': '193.8575', 'x_atac_elbo': '7553.1849', 'triplet_loss': '1.0114', 'ot_loss': '7.8589', 'total_loss': '5661.2256'}\n",
      "[INFO] CGLUESOE_OT_Trainer: [Epoch 310] Train={'x_rna_nll': '-2690.9798', 'x_rna_kl': '176.1215', 'x_rna_elbo': '-2673.3676', 'x_atac_nll': '7432.0598', 'x_atac_kl': '207.2296', 'x_atac_elbo': '7452.7828', 'triplet_loss': '0.0037', 'ot_loss': '5.2092', 'total_loss': '4807.2959'}, Val={'x_rna_nll': '-2454.2490', 'x_rna_kl': '173.9483', 'x_rna_elbo': '-2436.8541', 'x_atac_nll': '7533.7973', 'x_atac_kl': '193.5906', 'x_atac_elbo': '7553.1563', 'triplet_loss': '1.0131', 'ot_loss': '7.2717', 'total_loss': '5659.2035'}\n",
      "[INFO] CGLUESOE_OT_Trainer: [Epoch 320] Train={'x_rna_nll': '-2691.3809', 'x_rna_kl': '176.1718', 'x_rna_elbo': '-2673.7638', 'x_atac_nll': '7444.6559', 'x_atac_kl': '206.8926', 'x_atac_elbo': '7465.3452', 'triplet_loss': '0.0003', 'ot_loss': '5.1992', 'total_loss': '4817.7182'}, Val={'x_rna_nll': '-2454.9436', 'x_rna_kl': '174.6511', 'x_rna_elbo': '-2437.4785', 'x_atac_nll': '7534.7872', 'x_atac_kl': '193.4221', 'x_atac_elbo': '7554.1293', 'triplet_loss': '1.0817', 'ot_loss': '8.9069', 'total_loss': '5702.0133'}\n"
     ]
    },
    {
     "name": "stdout",
     "output_type": "stream",
     "text": [
      "[INFO] CGLUESOE_OT_Trainer: [Epoch 330] Train={'x_rna_nll': '-2695.0362', 'x_rna_kl': '176.0864', 'x_rna_elbo': '-2677.4276', 'x_atac_nll': '7436.0223', 'x_atac_kl': '207.0018', 'x_atac_elbo': '7456.7225', 'triplet_loss': '0.0050', 'ot_loss': '5.5435', 'total_loss': '4809.4979'}, Val={'x_rna_nll': '-2454.7057', 'x_rna_kl': '174.7106', 'x_rna_elbo': '-2437.2346', 'x_atac_nll': '7534.4268', 'x_atac_kl': '193.3644', 'x_atac_elbo': '7553.7632', 'triplet_loss': '1.0407', 'ot_loss': '8.5728', 'total_loss': '5679.7367'}\n",
      "[INFO] CGLUESOE_OT_Trainer: [Epoch 340] Train={'x_rna_nll': '-2694.4455', 'x_rna_kl': '176.4118', 'x_rna_elbo': '-2676.8043', 'x_atac_nll': '7448.9387', 'x_atac_kl': '206.7000', 'x_atac_elbo': '7469.6087', 'triplet_loss': '0.0029', 'ot_loss': '5.3370', 'total_loss': '4820.9387'}, Val={'x_rna_nll': '-2454.3047', 'x_rna_kl': '174.3212', 'x_rna_elbo': '-2436.8726', 'x_atac_nll': '7534.3313', 'x_atac_kl': '193.7011', 'x_atac_elbo': '7553.7014', 'triplet_loss': '0.9844', 'ot_loss': '8.1930', 'total_loss': '5650.0030'}\n",
      "[INFO] CGLUESOE_OT_Trainer: [Epoch 350] Train={'x_rna_nll': '-2688.7226', 'x_rna_kl': '176.0952', 'x_rna_elbo': '-2671.1131', 'x_atac_nll': '7447.8958', 'x_atac_kl': '206.9769', 'x_atac_elbo': '7468.5935', 'triplet_loss': '0.0016', 'ot_loss': '5.3604', 'total_loss': '4825.0998'}, Val={'x_rna_nll': '-2454.5506', 'x_rna_kl': '174.6808', 'x_rna_elbo': '-2437.0825', 'x_atac_nll': '7536.5561', 'x_atac_kl': '193.2888', 'x_atac_elbo': '7555.8850', 'triplet_loss': '1.0176', 'ot_loss': '8.6934', 'total_loss': '5671.0596'}\n",
      "[INFO] CGLUESOE_OT_Trainer: [Epoch 360] Train={'x_rna_nll': '-2692.2250', 'x_rna_kl': '176.2938', 'x_rna_elbo': '-2674.5956', 'x_atac_nll': '7440.8667', 'x_atac_kl': '206.8944', 'x_atac_elbo': '7461.5561', 'triplet_loss': '0.0041', 'ot_loss': '5.3618', 'total_loss': '4815.8068'}, Val={'x_rna_nll': '-2454.6746', 'x_rna_kl': '174.8139', 'x_rna_elbo': '-2437.1932', 'x_atac_nll': '7533.7458', 'x_atac_kl': '193.6730', 'x_atac_elbo': '7553.1130', 'triplet_loss': '1.0044', 'ot_loss': '8.0444', 'total_loss': '5658.3421'}\n",
      "[INFO] CGLUESOE_OT_Trainer: [Epoch 370] Train={'x_rna_nll': '-2695.1563', 'x_rna_kl': '176.0313', 'x_rna_elbo': '-2677.5531', 'x_atac_nll': '7462.9289', 'x_atac_kl': '207.1172', 'x_atac_elbo': '7483.6406', 'triplet_loss': '0.0028', 'ot_loss': '5.0945', 'total_loss': '4832.9841'}, Val={'x_rna_nll': '-2454.7820', 'x_rna_kl': '174.5404', 'x_rna_elbo': '-2437.3280', 'x_atac_nll': '7535.3145', 'x_atac_kl': '193.5499', 'x_atac_elbo': '7554.6695', 'triplet_loss': '1.0749', 'ot_loss': '7.7817', 'total_loss': '5693.7048'}\n",
      "[INFO] CGLUESOE_OT_Trainer: [Epoch 380] Train={'x_rna_nll': '-2681.7794', 'x_rna_kl': '176.0679', 'x_rna_elbo': '-2664.1726', 'x_atac_nll': '7433.4359', 'x_atac_kl': '207.3118', 'x_atac_elbo': '7454.1670', 'triplet_loss': '0.0010', 'ot_loss': '5.4413', 'total_loss': '4817.7154'}, Val={'x_rna_nll': '-2454.2474', 'x_rna_kl': '174.5788', 'x_rna_elbo': '-2436.7896', 'x_atac_nll': '7533.9556', 'x_atac_kl': '193.7171', 'x_atac_elbo': '7553.3273', 'triplet_loss': '1.0014', 'ot_loss': '8.5860', 'total_loss': '5660.1606'}\n",
      "[INFO] CGLUESOE_OT_Trainer: [Epoch 390] Train={'x_rna_nll': '-2691.5372', 'x_rna_kl': '176.1512', 'x_rna_elbo': '-2673.9221', 'x_atac_nll': '7445.7636', 'x_atac_kl': '206.9197', 'x_atac_elbo': '7466.4556', 'triplet_loss': '0.0012', 'ot_loss': '5.3503', 'total_loss': '4819.8690'}, Val={'x_rna_nll': '-2454.6050', 'x_rna_kl': '174.6027', 'x_rna_elbo': '-2437.1448', 'x_atac_nll': '7533.6033', 'x_atac_kl': '193.5123', 'x_atac_elbo': '7552.9545', 'triplet_loss': '0.9895', 'ot_loss': '8.3869', 'total_loss': '5652.5046'}\n",
      "[INFO] CGLUESOE_OT_Trainer: [Epoch 400] Train={'x_rna_nll': '-2677.9555', 'x_rna_kl': '176.0141', 'x_rna_elbo': '-2660.3541', 'x_atac_nll': '7419.9243', 'x_atac_kl': '207.3659', 'x_atac_elbo': '7440.6609', 'triplet_loss': '0.0016', 'ot_loss': '5.4654', 'total_loss': '4808.4481'}, Val={'x_rna_nll': '-2454.8410', 'x_rna_kl': '174.4347', 'x_rna_elbo': '-2437.3976', 'x_atac_nll': '7534.7587', 'x_atac_kl': '193.4223', 'x_atac_elbo': '7554.1009', 'triplet_loss': '1.0799', 'ot_loss': '8.2097', 'total_loss': '5697.6926'}\n",
      "[INFO] CGLUESOE_OT_Trainer: [Epoch 410] Train={'x_rna_nll': '-2702.5412', 'x_rna_kl': '176.1613', 'x_rna_elbo': '-2684.9251', 'x_atac_nll': '7432.6955', 'x_atac_kl': '207.0867', 'x_atac_elbo': '7453.4042', 'triplet_loss': '0.0026', 'ot_loss': '5.2234', 'total_loss': '4795.8992'}, Val={'x_rna_nll': '-2454.5436', 'x_rna_kl': '174.4382', 'x_rna_elbo': '-2437.0997', 'x_atac_nll': '7534.8506', 'x_atac_kl': '193.5972', 'x_atac_elbo': '7554.2103', 'triplet_loss': '1.0575', 'ot_loss': '8.2368', 'total_loss': '5687.0655'}\n",
      "[INFO] CGLUESOE_OT_Trainer: [Epoch 420] Train={'x_rna_nll': '-2703.5800', 'x_rna_kl': '176.0510', 'x_rna_elbo': '-2685.9750', 'x_atac_nll': '7452.7859', 'x_atac_kl': '206.9950', 'x_atac_elbo': '7473.4854', 'triplet_loss': '0.0009', 'ot_loss': '5.2351', 'total_loss': '4814.1483'}, Val={'x_rna_nll': '-2454.8880', 'x_rna_kl': '174.6910', 'x_rna_elbo': '-2437.4188', 'x_atac_nll': '7536.3841', 'x_atac_kl': '193.2813', 'x_atac_elbo': '7555.7123', 'triplet_loss': '1.0560', 'ot_loss': '8.5706', 'total_loss': '5689.1623'}\n",
      "[INFO] CGLUESOE_OT_Trainer: [Epoch 430] Train={'x_rna_nll': '-2685.2154', 'x_rna_kl': '176.1533', 'x_rna_elbo': '-2667.6000', 'x_atac_nll': '7457.6289', 'x_atac_kl': '207.1340', 'x_atac_elbo': '7478.3422', 'triplet_loss': '0.0017', 'ot_loss': '5.3984', 'total_loss': '4838.5956'}, Val={'x_rna_nll': '-2454.3249', 'x_rna_kl': '174.4775', 'x_rna_elbo': '-2436.8771', 'x_atac_nll': '7535.5659', 'x_atac_kl': '193.5244', 'x_atac_elbo': '7554.9183', 'triplet_loss': '1.0443', 'ot_loss': '8.3043', 'total_loss': '5681.6902'}\n",
      "[INFO] CGLUESOE_OT_Trainer: [Epoch 440] Train={'x_rna_nll': '-2705.7001', 'x_rna_kl': '176.1628', 'x_rna_elbo': '-2688.0838', 'x_atac_nll': '7444.4805', 'x_atac_kl': '207.0263', 'x_atac_elbo': '7465.1831', 'triplet_loss': '0.0014', 'ot_loss': '5.2739', 'total_loss': '4804.1501'}, Val={'x_rna_nll': '-2454.7726', 'x_rna_kl': '174.1953', 'x_rna_elbo': '-2437.3531', 'x_atac_nll': '7536.2623', 'x_atac_kl': '193.2515', 'x_atac_elbo': '7555.5874', 'triplet_loss': '1.0895', 'ot_loss': '7.8621', 'total_loss': '5702.2744'}\n",
      "[INFO] CGLUESOE_OT_Trainer: [Epoch 450] Train={'x_rna_nll': '-2681.2726', 'x_rna_kl': '176.2754', 'x_rna_elbo': '-2663.6451', 'x_atac_nll': '7443.9413', 'x_atac_kl': '207.0761', 'x_atac_elbo': '7464.6490', 'triplet_loss': '0.0025', 'ot_loss': '5.4450', 'total_loss': '4829.4775'}, Val={'x_rna_nll': '-2453.5004', 'x_rna_kl': '174.1743', 'x_rna_elbo': '-2436.0830', 'x_atac_nll': '7535.6266', 'x_atac_kl': '193.3113', 'x_atac_elbo': '7554.9578', 'triplet_loss': '1.0423', 'ot_loss': '7.9654', 'total_loss': '5679.8434'}\n",
      "[INFO] CGLUESOE_OT_Trainer: [Epoch 460] Train={'x_rna_nll': '-2691.2634', 'x_rna_kl': '176.0977', 'x_rna_elbo': '-2673.6536', 'x_atac_nll': '7429.6592', 'x_atac_kl': '206.9577', 'x_atac_elbo': '7450.3550', 'triplet_loss': '0.0028', 'ot_loss': '5.4157', 'total_loss': '4805.2043'}, Val={'x_rna_nll': '-2454.5072', 'x_rna_kl': '174.5338', 'x_rna_elbo': '-2437.0538', 'x_atac_nll': '7534.4839', 'x_atac_kl': '193.5469', 'x_atac_elbo': '7553.8386', 'triplet_loss': '1.0380', 'ot_loss': '8.3085', 'total_loss': '5677.3358'}\n",
      "[INFO] CGLUESOE_OT_Trainer: [Epoch 470] Train={'x_rna_nll': '-2675.3290', 'x_rna_kl': '176.1148', 'x_rna_elbo': '-2657.7175', 'x_atac_nll': '7463.4369', 'x_atac_kl': '206.8710', 'x_atac_elbo': '7484.1240', 'triplet_loss': '0.0021', 'ot_loss': '5.3465', 'total_loss': '4854.1756'}, Val={'x_rna_nll': '-2454.2306', 'x_rna_kl': '174.2197', 'x_rna_elbo': '-2436.8087', 'x_atac_nll': '7534.2200', 'x_atac_kl': '193.7451', 'x_atac_elbo': '7553.5945', 'triplet_loss': '0.9754', 'ot_loss': '7.7756', 'total_loss': '5643.3435'}\n",
      "[INFO] CGLUESOE_OT_Trainer: [Epoch 480] Train={'x_rna_nll': '-2688.1224', 'x_rna_kl': '176.0580', 'x_rna_elbo': '-2670.5166', 'x_atac_nll': '7456.8680', 'x_atac_kl': '206.7897', 'x_atac_elbo': '7477.5470', 'triplet_loss': '0.0010', 'ot_loss': '5.1294', 'total_loss': '4833.1874'}, Val={'x_rna_nll': '-2454.5216', 'x_rna_kl': '174.5685', 'x_rna_elbo': '-2437.0647', 'x_atac_nll': '7536.5031', 'x_atac_kl': '193.5831', 'x_atac_elbo': '7555.8614', 'triplet_loss': '1.0276', 'ot_loss': '8.1900', 'total_loss': '5673.5679'}\n"
     ]
    },
    {
     "name": "stdout",
     "output_type": "stream",
     "text": [
      "[INFO] CGLUESOE_OT_Trainer: [Epoch 490] Train={'x_rna_nll': '-2682.2083', 'x_rna_kl': '176.0240', 'x_rna_elbo': '-2664.6059', 'x_atac_nll': '7443.0309', 'x_atac_kl': '207.1771', 'x_atac_elbo': '7463.7487', 'triplet_loss': '0.0058', 'ot_loss': '5.5665', 'total_loss': '4829.8674'}, Val={'x_rna_nll': '-2454.4592', 'x_rna_kl': '174.3090', 'x_rna_elbo': '-2437.0283', 'x_atac_nll': '7533.3564', 'x_atac_kl': '193.5717', 'x_atac_elbo': '7552.7136', 'triplet_loss': '1.0126', 'ot_loss': '7.5677', 'total_loss': '5659.8073'}\n",
      "[INFO] CGLUESOE_OT_Trainer: [Epoch 500] Train={'x_rna_nll': '-2685.4923', 'x_rna_kl': '176.0640', 'x_rna_elbo': '-2667.8860', 'x_atac_nll': '7424.3940', 'x_atac_kl': '206.4751', 'x_atac_elbo': '7445.0415', 'triplet_loss': '0.0030', 'ot_loss': '5.2868', 'total_loss': '4805.0764'}, Val={'x_rna_nll': '-2453.8670', 'x_rna_kl': '174.1122', 'x_rna_elbo': '-2436.4558', 'x_atac_nll': '7534.4141', 'x_atac_kl': '193.4536', 'x_atac_elbo': '7553.7595', 'triplet_loss': '1.0447', 'ot_loss': '7.9871', 'total_loss': '5679.6123'}\n",
      "Model fitting finished.\n"
     ]
    }
   ],
   "source": [
    "\n",
    "\n",
    "# --- 5. Initialize CGLUE-SOE-OT Model ---\n",
    "print(\"Initializing CGLUE-SOE-OT model...\")\n",
    "try:\n",
    "    model = CGLUESOE_OT_Model(\n",
    "        adatas=adatas,\n",
    "        x2u_h_depth=2, \n",
    "        x2u_h_dim=256,                 \n",
    "        u2x_h_depth=2, \n",
    "        u2x_h_dim=256, \n",
    "        dropout=0.2,\n",
    "        vertices=vertices.tolist(), # Pass the combined feature list\n",
    "        latent_dim=50, # Example latent dimension, adjust as needed\n",
    "        random_seed=SEED\n",
    "    )\n",
    "    print(\"Model initialized.\")\n",
    "except Exception as e:\n",
    "    print(f\"Error initializing model: {e}\")\n",
    "    sys.exit(1)\n",
    "\n",
    "# --- 6. Compile Model ---\n",
    "print(\"Compiling model...\")\n",
    "Times = '1'\n",
    "lam_kl=0.1           # Weight for KL divergence regularization 调低有利于聚类更紧密\n",
    "lam_data=1.0         # Weight for data reconstruction loss 调高有利于聚类更紧密\n",
    "lam_triplet=500      # Weight for triplet loss (NEEDS TUNING)\n",
    "lam_ot=5.0           # Weight for Optimal Transport loss (NEEDS TUNING)\n",
    "triplet_margin=5   # Margin for triplet loss (NEEDS TUNING)有可能数据本身就是按照时间序列排序的\n",
    "ot_epsilon=0.1       # OT Sinkhorn regularization (NEEDS TUNING) 较小的值 (如当前的 0.1) 匹配更精确，但也可能对噪声更敏感\n",
    "ot_tau=1.0          # OT Sinkhorn unbalancedness (NEEDS TUNING)\n",
    "ot_max_iter=100\n",
    "\n",
    "max_epochs=500\n",
    "# ** Tune hyperparameters, especially loss weights **\n",
    "try:\n",
    "    model.compile(\n",
    "        lr=1e-3,              # Learning rate for the single optimizer\n",
    "        # lam_graph removed\n",
    "        # lam_align removed\n",
    "        # dsc_lr removed\n",
    "        # train_ratio removed\n",
    "        lam_kl=lam_kl,           # Weight for KL divergence regularization 调低有利于聚类更紧密\n",
    "        lam_data=lam_data,         # Weight for data reconstruction loss 调高有利于聚类更紧密\n",
    "        lam_triplet=lam_triplet,      # Weight for triplet loss (NEEDS TUNING)\n",
    "        lam_ot=lam_ot,           # Weight for Optimal Transport loss (NEEDS TUNING)\n",
    "        triplet_margin=triplet_margin,   # Margin for triplet loss (NEEDS TUNING)有可能数据本身就是按照时间序列排序的\n",
    "        ot_epsilon=ot_epsilon,       # OT Sinkhorn regularization (NEEDS TUNING) 较小的值 (如当前的 0.1) 匹配更精确，但也可能对噪声更敏感\n",
    "        ot_tau=ot_tau,           # OT Sinkhorn unbalancedness (NEEDS TUNING)\n",
    "        ot_max_iter=ot_max_iter,      # OT Sinkhorn iterations\n",
    "         #weight_decay=1e-5   # Example: Add optimizer args directly\n",
    "    )\n",
    "    print(\"Model compiled.\")\n",
    "except Exception as e:\n",
    "    print(f\"Error compiling model: {e}\")\n",
    "    sys.exit(1)\n",
    "\n",
    "# --- 7. Train Model ---\n",
    "print(\"Fitting model...\")\n",
    "# Fit the model (No GraphDataset needed)\n",
    "# Adjust training parameters as needed\n",
    "try:\n",
    "    model.fit(\n",
    "        adatas=adatas,            # Pass adatas dictionary\n",
    "        # graph removed\n",
    "        val_split=0.2,            # Use 10% of data for validation\n",
    "        data_batch_size=256,      # Adjust based on memory\n",
    "        # graph_batch_size removed\n",
    "        max_epochs=max_epochs,           # Set a reasonable number of epochs\n",
    "        patience=35,              # Early stopping patience\n",
    "        reduce_lr_patience=20,    # LR scheduling patience\n",
    "        wait_n_lrs=3,             # Wait for LR reductions before stopping\n",
    "        num_workers=0,            # Set > 0 for parallel data loading if needed\n",
    "        directory=SAVE_DIR        # Directory for logs and checkpoints\n",
    "    )\n",
    "    print(\"Model fitting finished.\")\n",
    "except Exception as e:\n",
    "    print(f\"An error occurred during model fitting: {e}\")\n",
    "    import traceback\n",
    "    traceback.print_exc()\n",
    "    sys.exit(1)\n",
    "\n",
    "\n"
   ]
  },
  {
   "cell_type": "code",
   "execution_count": 15,
   "id": "d669f1e5",
   "metadata": {
    "ExecuteTime": {
     "end_time": "2025-05-08T01:31:56.295715Z",
     "start_time": "2025-05-08T01:31:36.086837Z"
    }
   },
   "outputs": [
    {
     "name": "stdout",
     "output_type": "stream",
     "text": [
      "Extracting embeddings...\n",
      "RNA embeddings shape: (9324, 50)\n",
      "ATAC embeddings shape: (6658, 50)\n",
      "Feature embeddings shape: (17207, 50)\n",
      "Saving final model to cglue_soe_ot_Fallopian_tube_pericyte_output/cglue_soe_ot_final_model.dill\n",
      "[INFO] CGLUESOE_OT_Model: Model state saved to cglue_soe_ot_Fallopian_tube_pericyte_output/cglue_soe_ot_final_model.dill\n",
      "Generating UMAP visualization...\n",
      "Running neighbors and UMAP...\n"
     ]
    },
    {
     "name": "stderr",
     "output_type": "stream",
     "text": [
      " FutureWarning:/home/sccancer/anaconda3/envs/CGLUE-SOE/lib/python3.9/site-packages/anndata/_core/anndata.py:402: The dtype argument is deprecated and will be removed in late 2024.\n"
     ]
    },
    {
     "name": "stdout",
     "output_type": "stream",
     "text": [
      "Plotting UMAP...\n",
      "WARNING: saving figure to file figures/umap_cglue_soe_ot_Fallopian_pericyte_1_results.png\n",
      "UMAP plots saved to figures/ directory (_cglue_soe_ot_Fallopian_pericyte_1_results.png).\n",
      "Script finished.\n"
     ]
    }
   ],
   "source": [
    "# --- 8. Post-Training Analysis ---\n",
    "print(\"Extracting embeddings...\")\n",
    "try:\n",
    "    # Use a different key for the new model's embeddings\n",
    "    embedding_key = \"X_cgluesoe_ot\"\n",
    "    rna_adata.obsm[embedding_key] = model.encode_data(\"rna\", rna_adata)\n",
    "    atac_adata.obsm[embedding_key] = model.encode_data(\"atac\", atac_adata)\n",
    "\n",
    "    # Get feature embeddings from the nn.Embedding layer\n",
    "    feature_embeddings = model.get_feature_embeddings()\n",
    "    feature_embeddings_df = pd.DataFrame(feature_embeddings, index=model.vertices)\n",
    "\n",
    "    print(\"RNA embeddings shape:\", rna_adata.obsm[embedding_key].shape)\n",
    "    print(\"ATAC embeddings shape:\", atac_adata.obsm[embedding_key].shape)\n",
    "    print(\"Feature embeddings shape:\", feature_embeddings_df.shape)\n",
    "\n",
    "    # --- Optional: Save model and embeddings ---\n",
    "    final_model_path = os.path.join(SAVE_DIR, \"cglue_soe_ot_final_model.dill\")\n",
    "    print(f\"Saving final model to {final_model_path}\")\n",
    "    model.save(final_model_path)\n",
    "\n",
    "    rna_save_path = os.path.join(SAVE_DIR, \"rna_adata_with_embeddings.h5ad\")\n",
    "    atac_save_path = os.path.join(SAVE_DIR, \"atac_adata_with_embeddings.h5ad\")\n",
    "    feat_save_path = os.path.join(SAVE_DIR, \"feature_embeddings.csv\")\n",
    "\n",
    "    # print(f\"Saving RNA AnnData to {rna_save_path}\")\n",
    "    # rna_adata.write_h5ad(rna_save_path)\n",
    "    # print(f\"Saving ATAC AnnData to {atac_save_path}\")\n",
    "    # atac_adata.write_h5ad(atac_save_path)\n",
    "    # print(f\"Saving feature embeddings to {feat_save_path}\")\n",
    "    # feature_embeddings_df.to_csv(feat_save_path)\n",
    "\n",
    "\n",
    "    # --- Optional: Visualization (UMAP) ---\n",
    "    print(\"Generating UMAP visualization...\")\n",
    "    # Combine embeddings and obs for visualization\n",
    "    all_embeddings = np.concatenate([rna_adata.obsm[embedding_key], atac_adata.obsm[embedding_key]], axis=0)\n",
    "    all_obs = pd.concat([\n",
    "        rna_adata.obs[[label_col]].assign(modality='rna'), # Use label_col\n",
    "        atac_adata.obs[[label_col]].assign(modality='atac') # Use label_col\n",
    "    ], axis=0)\n",
    "    # Create combined obs_names for the visualization AnnData\n",
    "    vis_obs_names = rna_adata.obs_names.tolist() + atac_adata.obs_names.tolist()\n",
    "    if len(vis_obs_names) != len(all_obs): # Basic check\n",
    "         print(f\"Warning: Length mismatch between obs_names ({len(vis_obs_names)}) and combined obs ({len(all_obs)}). Using default index.\")\n",
    "         vis_obs_names = pd.RangeIndex(start=0, stop=len(all_obs), step=1)\n",
    "\n",
    "\n",
    "    vis_adata = ad.AnnData(all_embeddings, dtype=all_embeddings.dtype) # Ensure dtype is set\n",
    "    vis_adata.obs = all_obs\n",
    "    vis_adata.obs_names = vis_obs_names # Assign combined names\n",
    "    vis_adata.obsm['X_cgluesoe_ot'] = all_embeddings # Store for scanpy functions\n",
    "\n",
    "    print(\"Running neighbors and UMAP...\")\n",
    "    sc.pp.neighbors(vis_adata, use_rep='X_cgluesoe_ot', n_neighbors=15, random_state=SEED)\n",
    "    sc.tl.umap(vis_adata, min_dist=0.3, random_state=SEED) # Adjust min_dist for spread\n",
    "\n",
    "    print(\"Plotting UMAP...\")\n",
    "    umap_save_path = f'_cglue_soe_ot_Fallopian_pericyte_{Times}_results.png' # Updated filename\n",
    "    sc.pl.umap(\n",
    "        vis_adata,\n",
    "        color=['modality', label_col], # Color by label_col\n",
    "        title=['UMAP by Modality', f'UMAP by {label_col.capitalize()}'],\n",
    "        save=umap_save_path,\n",
    "        show=False # Set to True to display interactively if possible\n",
    "    )\n",
    "    print(f\"UMAP plots saved to figures/ directory ({umap_save_path}).\")\n",
    "\n",
    "except Exception as e:\n",
    "    print(f\"An error occurred during post-training analysis: {e}\")\n",
    "    import traceback\n",
    "    traceback.print_exc()\n",
    "\n",
    "print(\"Script finished.\")"
   ]
  },
  {
   "cell_type": "code",
   "execution_count": 16,
   "id": "2866d0e3",
   "metadata": {
    "ExecuteTime": {
     "end_time": "2025-05-08T01:31:57.006804Z",
     "start_time": "2025-05-08T01:31:56.298090Z"
    }
   },
   "outputs": [
    {
     "name": "stdout",
     "output_type": "stream",
     "text": [
      "Plotting loss curves...\n",
      "[INFO] CGLUESOE_OT_Model: Loss curves saved to cglue_soe_ot_Fallopian_tube_pericyte_output/cglue_soe_ot_loss_curves_Fallopian_pericyte_1.png\n",
      "Loss curves saved to cglue_soe_ot_Fallopian_tube_pericyte_output/cglue_soe_ot_loss_curves_Fallopian_pericyte_1.png\n"
     ]
    }
   ],
   "source": [
    "\n",
    "print(\"Plotting loss curves...\")\n",
    "try:\n",
    "    # Define where to save the plot\n",
    "    loss_plot_path = os.path.join(SAVE_DIR, f\"cglue_soe_ot_loss_curves_Fallopian_pericyte_{Times}.png\")\n",
    "    # Call the plotting method\n",
    "    model.plot_loss_curves(save_path=loss_plot_path)\n",
    "    print(f\"Loss curves saved to {loss_plot_path}\")\n",
    "except Exception as e:\n",
    "    print(f\"An error occurred during loss plotting: {e}\")\n",
    "    import traceback\n",
    "    traceback.print_exc()\n"
   ]
  },
  {
   "cell_type": "code",
   "execution_count": 17,
   "id": "46cd6481",
   "metadata": {
    "ExecuteTime": {
     "end_time": "2025-05-08T01:31:57.016340Z",
     "start_time": "2025-05-08T01:31:57.009544Z"
    }
   },
   "outputs": [
    {
     "name": "stdout",
     "output_type": "stream",
     "text": [
      "超参数已成功保存到 cglue_soe_ot_Fallopian_tube_pericyte_output/hyperparameters_pericyte.csv\n"
     ]
    }
   ],
   "source": [
    "import csv\n",
    "import pickle\n",
    "# 定义你的超参数 (与上面相同)\n",
    "hyperparameters = {\n",
    "    \"lam_kl\": lam_kl,\n",
    "    \"lam_data\": lam_data,\n",
    "    \"lam_triplet\": lam_triplet,\n",
    "    \"lam_ot\": lam_ot,\n",
    "    \"triplet_margin\": triplet_margin,\n",
    "    \"ot_epsilon\": ot_epsilon,\n",
    "    \"ot_tau\": ot_tau,\n",
    "    \"ot_max_iter\": ot_max_iter,\n",
    "    \"max_epochs\": max_epochs\n",
    "}\n",
    "\n",
    "# 定义要保存的PKL文件名\n",
    "csv_filename = os.path.join(SAVE_DIR, \"hyperparameters_pericyte.csv\")\n",
    "\n",
    "# 写入CSV文件\n",
    "try:\n",
    "    with open(csv_filename, 'a', newline='') as csvfile:\n",
    "        # 定义CSV写入器\n",
    "        writer = csv.writer(csvfile)\n",
    "\n",
    "        # 写入表头 (可选，但推荐)\n",
    "        writer.writerow([f'ParameterName_{Times}', 'Value'])\n",
    "\n",
    "        # 遍历字典并写入每一行\n",
    "        for name, value in hyperparameters.items():\n",
    "            writer.writerow([name, value])\n",
    "    print(f\"超参数已成功保存到 {csv_filename}\")\n",
    "except IOError:\n",
    "    print(f\"错误：无法写入文件 {csv_filename}\")"
   ]
  },
  {
   "cell_type": "code",
   "execution_count": null,
   "id": "2199a70e",
   "metadata": {},
   "outputs": [],
   "source": []
  }
 ],
 "metadata": {
  "kernelspec": {
   "display_name": "Python [conda env:CGLUE-SOE]",
   "language": "python",
   "name": "conda-env-CGLUE-SOE-py"
  },
  "language_info": {
   "codemirror_mode": {
    "name": "ipython",
    "version": 3
   },
   "file_extension": ".py",
   "mimetype": "text/x-python",
   "name": "python",
   "nbconvert_exporter": "python",
   "pygments_lexer": "ipython3",
   "version": "3.9.22"
  },
  "toc": {
   "base_numbering": 1,
   "nav_menu": {},
   "number_sections": true,
   "sideBar": true,
   "skip_h1_title": false,
   "title_cell": "Table of Contents",
   "title_sidebar": "Contents",
   "toc_cell": false,
   "toc_position": {},
   "toc_section_display": true,
   "toc_window_display": false
  }
 },
 "nbformat": 4,
 "nbformat_minor": 5
}
