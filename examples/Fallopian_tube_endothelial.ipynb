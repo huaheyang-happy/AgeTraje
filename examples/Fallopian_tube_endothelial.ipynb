{
 "cells": [
  {
   "cell_type": "code",
   "execution_count": 1,
   "id": "e5e96040",
   "metadata": {
    "ExecuteTime": {
     "end_time": "2025-05-07T23:57:06.863621Z",
     "start_time": "2025-05-07T23:56:36.231268Z"
    }
   },
   "outputs": [],
   "source": [
    "\n",
    "import scanpy as sc\n",
    "import matplotlib.pyplot as plt\n",
    "import sys\n",
    "import os\n",
    "import numpy as np\n",
    "import pandas as pd\n",
    "import anndata as ad\n",
    "import scanpy as sc\n",
    "import networkx as nx\n",
    "import torch\n",
    "import sklearn.preprocessing\n",
    "import episcanpy as epi\n",
    "import sys\n",
    "import os\n",
    "import numpy as np\n",
    "import pandas as pd\n",
    "import anndata as ad\n",
    "import scanpy as sc\n",
    "# import networkx as nx # No longer needed for training script itself\n",
    "import torch\n",
    "\n",
    "\n",
    "adata_ATAC=sc.read(\"/data/cabins/sccancer/hhy/TI/Fallopian_tube_ATAC.h5ad\")\n",
    "adata_RNA= sc.read(\"/data/cabins/sccancer/hhy/TI/Fallopian_tube_RNA.h5ad\")"
   ]
  },
  {
   "cell_type": "code",
   "execution_count": 2,
   "id": "f75231c8",
   "metadata": {
    "ExecuteTime": {
     "end_time": "2025-05-07T23:57:10.715935Z",
     "start_time": "2025-05-07T23:57:06.868884Z"
    }
   },
   "outputs": [],
   "source": [
    "adata_ATAC_NK = adata_ATAC[adata_ATAC.obs[\"cell_type\"] == 'endothelial cell',:]\n",
    "samples_to_keep = ['55-year-old stage', '61-year-old stage', '62-year-old stage', '65-year-old stage']\n",
    "mask = adata_ATAC_NK.obs['development_stage'].isin(samples_to_keep)\n",
    "adata_ATAC_NK_Age = adata_ATAC_NK[mask].copy()"
   ]
  },
  {
   "cell_type": "code",
   "execution_count": 3,
   "id": "73568ce3",
   "metadata": {
    "ExecuteTime": {
     "end_time": "2025-05-07T23:57:11.991914Z",
     "start_time": "2025-05-07T23:57:10.718429Z"
    }
   },
   "outputs": [],
   "source": [
    "adata_RNA_NK = adata_RNA[adata_RNA.obs[\"cell_type\"] == 'endothelial cell',:]\n",
    "samples_to_keep = ['55-year-old stage', '61-year-old stage', '62-year-old stage', '65-year-old stage']\n",
    "mask = adata_RNA_NK.obs['development_stage'].isin(samples_to_keep)\n",
    "adata_RNA_NK_Age = adata_RNA_NK[mask].copy()"
   ]
  },
  {
   "cell_type": "code",
   "execution_count": 20,
   "id": "731c749c",
   "metadata": {
    "ExecuteTime": {
     "end_time": "2025-05-09T00:20:56.712742Z",
     "start_time": "2025-05-09T00:20:56.704209Z"
    }
   },
   "outputs": [
    {
     "data": {
      "text/plain": [
       "AAACCCATCATTCGTT-1_6     endothelial cell\n",
       "AAACCCATCCCTATTA-1_6     endothelial cell\n",
       "AAACGCTGTGACGTCC-1_6     endothelial cell\n",
       "AAAGAACAGAGCAACC-1_6     endothelial cell\n",
       "AAAGTGAAGAGAGGTA-1_6     endothelial cell\n",
       "                               ...       \n",
       "TTGACCCTCTCGGTCT-1_18    endothelial cell\n",
       "TTGTTTGCATCCGAAT-1_18    endothelial cell\n",
       "TTTACGTTCGATTGGT-1_18    endothelial cell\n",
       "TTTATGCTCAGCGCGT-1_18    endothelial cell\n",
       "TTTCCTCGTCACAATC-1_18    endothelial cell\n",
       "Name: cell_type, Length: 5849, dtype: category\n",
       "Categories (1, object): ['endothelial cell']"
      ]
     },
     "execution_count": 20,
     "metadata": {},
     "output_type": "execute_result"
    }
   ],
   "source": [
    "adata_RNA_NK_Age.obs[\"cell_type\"]"
   ]
  },
  {
   "cell_type": "code",
   "execution_count": 17,
   "id": "7174f99b",
   "metadata": {
    "ExecuteTime": {
     "end_time": "2025-05-09T00:19:14.570373Z",
     "start_time": "2025-05-09T00:19:14.557544Z"
    }
   },
   "outputs": [
    {
     "data": {
      "text/plain": [
       "age\n",
       "62    2009\n",
       "55    1289\n",
       "65     626\n",
       "61     139\n",
       "Name: count, dtype: int64"
      ]
     },
     "execution_count": 17,
     "metadata": {},
     "output_type": "execute_result"
    }
   ],
   "source": [
    "adata_ATAC_NK_Age.obs[\"age\"].value_counts()"
   ]
  },
  {
   "cell_type": "code",
   "execution_count": 4,
   "id": "4f4572c6",
   "metadata": {
    "ExecuteTime": {
     "end_time": "2025-05-07T23:57:12.004159Z",
     "start_time": "2025-05-07T23:57:11.994996Z"
    }
   },
   "outputs": [
    {
     "name": "stderr",
     "output_type": "stream",
     "text": [
      " FutureWarning:/tmp/ipykernel_3208285/732861383.py:7: The behavior of Series.replace (and DataFrame.replace) with CategoricalDtype is deprecated. In a future version, replace will only be used for cases that preserve the categories. To change the categories, use ser.cat.rename_categories instead.\n",
      " FutureWarning:/tmp/ipykernel_3208285/732861383.py:8: The behavior of Series.replace (and DataFrame.replace) with CategoricalDtype is deprecated. In a future version, replace will only be used for cases that preserve the categories. To change the categories, use ser.cat.rename_categories instead.\n"
     ]
    }
   ],
   "source": [
    "replacement_map = {\n",
    "    '55-year-old stage': '55',\n",
    "    '61-year-old stage': '61',\n",
    "    '62-year-old stage': '62',\n",
    "    '65-year-old stage': '65'\n",
    "}\n",
    "adata_ATAC_NK_Age.obs['age'] = adata_ATAC_NK_Age.obs['development_stage'].replace(replacement_map)\n",
    "adata_RNA_NK_Age.obs['age'] = adata_RNA_NK_Age.obs['development_stage'].replace(replacement_map)"
   ]
  },
  {
   "cell_type": "code",
   "execution_count": 5,
   "id": "181ec1b4",
   "metadata": {
    "ExecuteTime": {
     "end_time": "2025-05-07T23:57:18.065125Z",
     "start_time": "2025-05-07T23:57:12.005484Z"
    }
   },
   "outputs": [
    {
     "name": "stderr",
     "output_type": "stream",
     "text": [
      " FutureWarning:/home/sccancer/anaconda3/envs/CGLUE-SOE/lib/python3.9/site-packages/episcanpy/preprocessing/_scanpy_fct.py:145: The specified parameters ('min_counts', 'min_cells', 'max_counts', 'max_cells', 'inplace', 'copy') are no longer positional. Please specify them like `min_counts=None`\n"
     ]
    }
   ],
   "source": [
    "sc.pp.filter_cells(adata_RNA_NK_Age, min_genes=100)\n",
    "sc.pp.filter_genes(adata_RNA_NK_Age, min_cells=3)\n",
    "# Saving count data\n",
    "adata_RNA_NK_Age.layers[\"counts\"] = adata_RNA_NK_Age.X.copy()\n",
    "# Normalizing to median total counts\n",
    "sc.pp.normalize_total(adata_RNA_NK_Age)\n",
    "# Logarithmize the data\n",
    "sc.pp.log1p(adata_RNA_NK_Age)\n",
    "sc.pp.highly_variable_genes(adata_RNA_NK_Age, n_top_genes=2000)\n",
    "adata_RNA_NK_Age = adata_RNA_NK_Age[:,adata_RNA_NK_Age.var['highly_variable'] ==True]\n",
    "fpeak=0.03\n",
    "epi.pp.binarize(adata_ATAC_NK_Age)\n",
    "epi.pp.filter_features(adata_ATAC_NK_Age, min_cells=np.ceil(adata_ATAC_NK_Age.shape[0])*fpeak)"
   ]
  },
  {
   "cell_type": "code",
   "execution_count": 6,
   "id": "0c03106e",
   "metadata": {
    "ExecuteTime": {
     "end_time": "2025-05-07T23:57:18.079466Z",
     "start_time": "2025-05-07T23:57:18.069543Z"
    }
   },
   "outputs": [
    {
     "data": {
      "text/plain": [
       "AnnData object with n_obs × n_vars = 4063 × 16780\n",
       "    obs: 'mapped_reference_assembly', 'alignment_software', 'donor_id', 'self_reported_ethnicity_ontology_term_id', 'donor_living_at_sample_collection', 'donor_menopausal_status', 'organism_ontology_term_id', 'sample_uuid', 'sample_preservation_method', 'tissue_ontology_term_id', 'development_stage_ontology_term_id', 'sample_derivation_process', 'sample_source', 'suspension_derivation_process', 'suspension_uuid', 'suspension_type', 'library_uuid', 'assay_ontology_term_id', 'library_starting_quantity', 'is_primary_data', 'cell_type_ontology_term_id', 'author_cell_type', 'disease_ontology_term_id', 'sex_ontology_term_id', 'nCount_ATAC', 'nFeature_ATAC', 'sample', 'tissue_type', 'cell_type', 'assay', 'disease', 'organism', 'sex', 'tissue', 'self_reported_ethnicity', 'development_stage', 'observation_joinid', 'age'\n",
       "    var: 'feature_is_filtered', 'feature_name', 'feature_reference', 'feature_biotype', 'feature_length', 'feature_type', 'n_cells'\n",
       "    uns: 'citation', 'default_embedding', 'schema_reference', 'schema_version', 'title'\n",
       "    obsm: 'X_harmony', 'X_lsi', 'X_umap'"
      ]
     },
     "execution_count": 6,
     "metadata": {},
     "output_type": "execute_result"
    }
   ],
   "source": [
    "adata_ATAC_NK_Age"
   ]
  },
  {
   "cell_type": "code",
   "execution_count": 7,
   "id": "3571e5d2",
   "metadata": {
    "ExecuteTime": {
     "end_time": "2025-05-07T23:57:32.583411Z",
     "start_time": "2025-05-07T23:57:18.082834Z"
    }
   },
   "outputs": [
    {
     "name": "stderr",
     "output_type": "stream",
     "text": [
      " TqdmWarning:/home/sccancer/anaconda3/envs/CGLUE-SOE/lib/python3.9/site-packages/tqdm/auto.py:21: IProgress not found. Please update jupyter and ipywidgets. See https://ipywidgets.readthedocs.io/en/stable/user_install.html\n"
     ]
    }
   ],
   "source": [
    "# -*- coding: utf-8 -*-\n",
    "\"\"\"\n",
    "Training script for CGLUE-SOE-OT model using real (preprocessed)\n",
    "scRNA-seq and scATAC-seq data with ordered age labels.\n",
    "\n",
    "This script assumes the modified CGLUE-SOE-OT model files\n",
    "(e.g., cglue_soe_ot.py, cglue_soe_components_ot.py) are\n",
    "accessible within the scglue package structure or Python path.\n",
    "\"\"\"\n",
    "\n",
    "import sys\n",
    "import os\n",
    "import numpy as np\n",
    "import pandas as pd\n",
    "import anndata as ad\n",
    "import scanpy as sc\n",
    "# import networkx as nx # No longer needed for training script itself\n",
    "import torch\n",
    "\n",
    "# --- Add project root to path if necessary ---\n",
    "# Adjust this path if your script is located elsewhere relative to the scglue package\n",
    "# project_root = os.path.abspath(os.path.join(os.path.dirname(__file__), '..'))\n",
    "# if project_root not in sys.path:\n",
    "#     sys.path.insert(0, project_root)\n",
    "\n",
    "try:\n",
    "    # Import the modified model and config function\n",
    "    import scglue\n",
    "    from scglue.models.cglue_soe_ot import CGLUESOE_OT_Model, configure_dataset_cglue_soe\n",
    "    # AnnDatasetWithLabels is still needed, GraphDataset is not\n",
    "    from scglue.models.data import AnnDatasetWithLabels\n",
    "    # from scglue.utils import config as scglue_config # Optional config import\n",
    "except ImportError as e:\n",
    "    print(f\"Error importing modified scglue components: {e}\")\n",
    "    print(\"Please ensure the modified scglue package (with CGLUE-SOE-OT) is installed or accessible.\")\n",
    "    sys.exit(1)\n",
    "except AttributeError as e:\n",
    "    print(f\"Error importing specific components (check file/class names): {e}\")\n",
    "    print(\"Ensure 'CGLUESOE_OT_Model' and 'configure_dataset_cglue_soe' exist in 'scglue.models.cglue_soe_ot'.\")\n",
    "    sys.exit(1)\n",
    "\n",
    "\n",
    "# --- Configuration ---\n",
    "SEED = 0\n",
    "\n",
    "torch.manual_seed(SEED)\n",
    "np.random.seed(SEED)\n",
    "SAVE_DIR = \"cglue_soe_ot_Fallopian_tube_endothelial_output\" # Changed save directory name\n",
    "os.makedirs(SAVE_DIR, exist_ok=True)"
   ]
  },
  {
   "cell_type": "code",
   "execution_count": 8,
   "id": "a223ab1e",
   "metadata": {
    "ExecuteTime": {
     "end_time": "2025-05-07T23:57:32.769193Z",
     "start_time": "2025-05-07T23:57:32.588027Z"
    }
   },
   "outputs": [
    {
     "name": "stdout",
     "output_type": "stream",
     "text": [
      "Loading real data...\n",
      "Preprocessing data...\n"
     ]
    },
    {
     "name": "stderr",
     "output_type": "stream",
     "text": [
      " ImplicitModificationWarning:/tmp/ipykernel_3208285/2428429756.py:19: Trying to modify attribute `.obs` of view, initializing view as actual.\n"
     ]
    }
   ],
   "source": [
    "# --- 1. Load Your Real Data ---\n",
    "print(\"Loading real data...\")\n",
    "\n",
    "atac_adata= adata_ATAC_NK_Age\n",
    "rna_adata = adata_RNA_NK_Age\n",
    "adatas = {\"rna\": rna_adata, \"atac\": atac_adata}\n",
    "\n",
    "# --- 2. Preprocessing Steps ---\n",
    "print(\"Preprocessing data...\")\n",
    "\n",
    "# ** Crucial: Ensure 'age' column is ordered categorical **\n",
    "# Define the correct order\n",
    "age_order = ['55', '61', '62','65']\n",
    "label_col = 'age' # MODIFY AS NEEDED\n",
    "try:\n",
    "    for k in adatas:\n",
    "        if 'age' not in adatas[k].obs:\n",
    "            raise ValueError(f\"'age' column not found in adata '{k}'.\")\n",
    "        adatas[k].obs['age'] = pd.Categorical(\n",
    "            adatas[k].obs['age'], categories=age_order, ordered=True\n",
    "        )\n",
    "        # Check if any values became NaN after conversion (means original values didn't match categories)\n",
    "        if adatas[k].obs['age'].isnull().any():\n",
    "             print(f\"Warning: Some 'age' values in adata '{k}' did not match the expected categories {age_order} and resulted in NaNs.\")\n",
    "             # Optional: Handle NaNs, e.g., remove cells or raise error\n",
    "             # adatas[k] = adatas[k][adatas[k].obs['age'].notna()].copy()\n",
    "except Exception as e:\n",
    "    print(f\"Error processing 'age' column: {e}\")\n",
    "    sys.exit(1)\n"
   ]
  },
  {
   "cell_type": "code",
   "execution_count": 9,
   "id": "4d6a9a6f",
   "metadata": {
    "ExecuteTime": {
     "end_time": "2025-05-07T23:57:32.778094Z",
     "start_time": "2025-05-07T23:57:32.771609Z"
    }
   },
   "outputs": [],
   "source": [
    "atac_adata.var['highly_variable'] = True"
   ]
  },
  {
   "cell_type": "code",
   "execution_count": 10,
   "id": "bd71b482",
   "metadata": {
    "ExecuteTime": {
     "end_time": "2025-05-07T23:57:32.823809Z",
     "start_time": "2025-05-07T23:57:32.781584Z"
    }
   },
   "outputs": [
    {
     "name": "stdout",
     "output_type": "stream",
     "text": [
      "Defining feature vertices...\n",
      "Total unique features (vertices): 17558\n"
     ]
    }
   ],
   "source": [
    "\n",
    "# --- 3. Define Vertices (No Graph Construction Needed) ---\n",
    "# The model still needs the list of all unique features across datasets\n",
    "# for the feature embedding layer.\n",
    "print(\"Defining feature vertices...\")\n",
    "vertices = pd.Index(rna_adata.var_names.tolist() + atac_adata.var_names.tolist()).unique()\n",
    "print(f\"Total unique features (vertices): {len(vertices)}\")\n"
   ]
  },
  {
   "cell_type": "code",
   "execution_count": 11,
   "id": "b2a6626a",
   "metadata": {
    "ExecuteTime": {
     "end_time": "2025-05-07T23:57:32.873530Z",
     "start_time": "2025-05-07T23:57:32.827571Z"
    }
   },
   "outputs": [
    {
     "name": "stdout",
     "output_type": "stream",
     "text": [
      "Configuring datasets for CGLUE-SOE-OT...\n",
      "[INFO] CGLUESOE_OT_Model: Dataset configured for CGLUE-SOE-OT using label 'age'.\n",
      "[INFO] CGLUESOE_OT_Model: Dataset configured for CGLUE-SOE-OT using label 'age'.\n",
      "Datasets configured.\n"
     ]
    }
   ],
   "source": [
    "\n",
    "# --- 4. Configure Datasets for CGLUE-SOE-OT ---\n",
    "print(\"Configuring datasets for CGLUE-SOE-OT...\")\n",
    "# ** Choose appropriate prob_model based on your preprocessing **\n",
    "# 'Normal' or 'ZILN' for log-normalized RNA.\n",
    "# 'Normal', 'ZILN', or 'Bernoulli' for ATAC depending on preprocessing.\n",
    "try:\n",
    "    configure_dataset_cglue_soe( # Use the same config function name\n",
    "        adatas[\"rna\"],\n",
    "        prob_model=\"Normal\", # Adjust if needed (e.g., \"NB\" if using raw counts)\n",
    "        use_highly_variable=True, # Use selected HVGs\n",
    "        use_label=label_col, # Use the ordered label column\n",
    "        use_layer=None, # Assuming preprocessed data is in .X\n",
    "        use_rep=None,   # Or specify a representation like 'X_pca' if desired\n",
    "        use_obs_names=False # Data is unpaired\n",
    "    )\n",
    "    configure_dataset_cglue_soe( # Use the same config function name\n",
    "        adatas[\"atac\"],\n",
    "        prob_model=\"Bernoulli\", # Adjust based on ATAC preprocessing\n",
    "        use_highly_variable=True, # Use selected HVGs\n",
    "        use_label=label_col, # Use the ordered label column\n",
    "        use_layer=None, # Assuming preprocessed data is in .X\n",
    "        use_rep=None,   # Or specify a representation like 'X_lsi' if desired\n",
    "        use_obs_names=False # Data is unpaired\n",
    "    )\n",
    "    print(\"Datasets configured.\")\n",
    "except Exception as e:\n",
    "    print(f\"Error configuring datasets: {e}\")\n",
    "    sys.exit(1)\n"
   ]
  },
  {
   "cell_type": "code",
   "execution_count": 12,
   "id": "a42c45a5",
   "metadata": {
    "ExecuteTime": {
     "end_time": "2025-05-08T00:37:04.341654Z",
     "start_time": "2025-05-07T23:57:32.876895Z"
    }
   },
   "outputs": [
    {
     "name": "stdout",
     "output_type": "stream",
     "text": [
      "Initializing CGLUE-SOE-OT model...\n",
      "[INFO] autodevice: Using GPU 3 as computation device.\n",
      "Model initialized.\n",
      "Compiling model...\n",
      "Model compiled.\n",
      "Fitting model...\n"
     ]
    },
    {
     "name": "stderr",
     "output_type": "stream",
     "text": [
      " UserWarning:/home/sccancer/anaconda3/envs/CGLUE-SOE/lib/python3.9/site-packages/torch/optim/lr_scheduler.py:62: The verbose parameter is deprecated. Please use get_last_lr() to access the learning rate.\n",
      " FutureWarning:/home/sccancer/anaconda3/envs/CGLUE-SOE/lib/python3.9/abc.py:119: SparseDataset is deprecated and will be removed in late 2024. It has been replaced by the public classes CSRDataset and CSCDataset.\n",
      "\n",
      "For instance checks, use `isinstance(X, (anndata.experimental.CSRDataset, anndata.experimental.CSCDataset))` instead.\n",
      "\n",
      "For creation, use `anndata.experimental.sparse_dataset(X)` instead.\n",
      "\n"
     ]
    },
    {
     "name": "stdout",
     "output_type": "stream",
     "text": [
      "[INFO] CGLUESOE_OT_Trainer: [Epoch 10] Train={'x_rna_nll': '812.3459', 'x_rna_kl': '29.8140', 'x_rna_elbo': '815.3273', 'x_atac_nll': '10266.5708', 'x_atac_kl': '41.4425', 'x_atac_elbo': '10270.7150', 'triplet_loss': '0.0253', 'ot_loss': '57.7341', 'total_loss': '11387.3519'}, Val={'x_rna_nll': '786.1721', 'x_rna_kl': '26.5518', 'x_rna_elbo': '788.8273', 'x_atac_nll': '10086.4719', 'x_atac_kl': '38.2739', 'x_atac_elbo': '10090.2994', 'triplet_loss': '1.1198', 'ot_loss': '38.4489', 'total_loss': '11631.2695'}\n",
      "[INFO] CGLUESOE_OT_Trainer: [Epoch 20] Train={'x_rna_nll': '371.3651', 'x_rna_kl': '64.0485', 'x_rna_elbo': '377.7699', 'x_atac_nll': '8985.0250', 'x_atac_kl': '77.7842', 'x_atac_elbo': '8992.8035', 'triplet_loss': '0.0287', 'ot_loss': '48.2430', 'total_loss': '9626.1435'}, Val={'x_rna_nll': '348.4968', 'x_rna_kl': '60.0295', 'x_rna_elbo': '354.4998', 'x_atac_nll': '8912.7739', 'x_atac_kl': '75.6055', 'x_atac_elbo': '8920.3345', 'triplet_loss': '2.0681', 'ot_loss': '28.6226', 'total_loss': '10451.9875'}\n",
      "[INFO] CGLUESOE_OT_Trainer: [Epoch 30] Train={'x_rna_nll': '-52.1941', 'x_rna_kl': '84.5354', 'x_rna_elbo': '-43.7406', 'x_atac_nll': '8393.0782', 'x_atac_kl': '104.7167', 'x_atac_elbo': '8403.5499', 'triplet_loss': '0.0355', 'ot_loss': '43.6900', 'total_loss': '8596.0193'}, Val={'x_rna_nll': '-72.8928', 'x_rna_kl': '82.4813', 'x_rna_elbo': '-64.6446', 'x_atac_nll': '8365.2014', 'x_atac_kl': '101.5467', 'x_atac_elbo': '8375.3561', 'triplet_loss': '1.3461', 'ot_loss': '30.0109', 'total_loss': '9133.8090'}\n",
      "[INFO] CGLUESOE_OT_Trainer: [Epoch 40] Train={'x_rna_nll': '-462.2275', 'x_rna_kl': '97.4734', 'x_rna_elbo': '-452.4802', 'x_atac_nll': '8080.5033', 'x_atac_kl': '124.4112', 'x_atac_elbo': '8092.9444', 'triplet_loss': '0.0177', 'ot_loss': '40.2787', 'total_loss': '7850.7170'}, Val={'x_rna_nll': '-482.1708', 'x_rna_kl': '95.4650', 'x_rna_elbo': '-472.6243', 'x_atac_nll': '8072.1238', 'x_atac_kl': '119.5857', 'x_atac_elbo': '8084.0824', 'triplet_loss': '1.2709', 'ot_loss': '25.8177', 'total_loss': '8375.9935'}\n",
      "[INFO] CGLUESOE_OT_Trainer: [Epoch 50] Train={'x_rna_nll': '-852.0506', 'x_rna_kl': '109.0771', 'x_rna_elbo': '-841.1429', 'x_atac_nll': '7925.8545', 'x_atac_kl': '142.4347', 'x_atac_elbo': '7940.0980', 'triplet_loss': '0.0173', 'ot_loss': '39.1067', 'total_loss': '7303.1178'}, Val={'x_rna_nll': '-867.7980', 'x_rna_kl': '105.9507', 'x_rna_elbo': '-857.2029', 'x_atac_nll': '7961.9038', 'x_atac_kl': '133.3067', 'x_atac_elbo': '7975.2346', 'triplet_loss': '1.5840', 'ot_loss': '24.9015', 'total_loss': '8034.5272'}\n",
      "[INFO] CGLUESOE_OT_Trainer: [Epoch 60] Train={'x_rna_nll': '-1205.0716', 'x_rna_kl': '117.3292', 'x_rna_elbo': '-1193.3387', 'x_atac_nll': '7836.4893', 'x_atac_kl': '156.5600', 'x_atac_elbo': '7852.1453', 'triplet_loss': '0.0181', 'ot_loss': '38.6092', 'total_loss': '6860.8779'}, Val={'x_rna_nll': '-1220.7455', 'x_rna_kl': '115.4382', 'x_rna_elbo': '-1209.2017', 'x_atac_nll': '7939.2264', 'x_atac_kl': '148.3754', 'x_atac_elbo': '7954.0640', 'triplet_loss': '1.3639', 'ot_loss': '29.8590', 'total_loss': '7576.0880'}\n",
      "[INFO] CGLUESOE_OT_Trainer: [Epoch 70] Train={'x_rna_nll': '-1522.5540', 'x_rna_kl': '124.0043', 'x_rna_elbo': '-1510.1536', 'x_atac_nll': '7810.2825', 'x_atac_kl': '166.1836', 'x_atac_elbo': '7826.9009', 'triplet_loss': '0.0268', 'ot_loss': '38.6178', 'total_loss': '6523.2186'}, Val={'x_rna_nll': '-1528.2517', 'x_rna_kl': '122.0438', 'x_rna_elbo': '-1516.0473', 'x_atac_nll': '7915.7422', 'x_atac_kl': '160.2899', 'x_atac_elbo': '7931.7712', 'triplet_loss': '1.6113', 'ot_loss': '23.8128', 'total_loss': '7340.4224'}\n",
      "[INFO] CGLUESOE_OT_Trainer: [Epoch 80] Train={'x_rna_nll': '-1778.5248', 'x_rna_kl': '130.0808', 'x_rna_elbo': '-1765.5167', 'x_atac_nll': '7767.5876', 'x_atac_kl': '171.8437', 'x_atac_elbo': '7784.7720', 'triplet_loss': '0.0199', 'ot_loss': '36.2894', 'total_loss': '6210.6694'}, Val={'x_rna_nll': '-1772.5572', 'x_rna_kl': '127.6902', 'x_rna_elbo': '-1759.7882', 'x_atac_nll': '7921.6416', 'x_atac_kl': '163.5979', 'x_atac_elbo': '7938.0014', 'triplet_loss': '1.3594', 'ot_loss': '23.2245', 'total_loss': '6974.0147'}\n",
      "[INFO] CGLUESOE_OT_Trainer: [Epoch 90] Train={'x_rna_nll': '-1969.9638', 'x_rna_kl': '136.0765', 'x_rna_elbo': '-1956.3561', 'x_atac_nll': '7794.0268', 'x_atac_kl': '176.8830', 'x_atac_elbo': '7811.7151', 'triplet_loss': '0.0189', 'ot_loss': '36.0983', 'total_loss': '6045.3105'}, Val={'x_rna_nll': '-1936.9245', 'x_rna_kl': '135.3053', 'x_rna_elbo': '-1923.3939', 'x_atac_nll': '7907.3473', 'x_atac_kl': '167.8962', 'x_atac_elbo': '7924.1369', 'triplet_loss': '1.1460', 'ot_loss': '25.8248', 'total_loss': '6702.8503'}\n",
      "[INFO] CGLUESOE_OT_Trainer: [Epoch 100] Train={'x_rna_nll': '-2090.7450', 'x_rna_kl': '141.6836', 'x_rna_elbo': '-2076.5767', 'x_atac_nll': '7794.5966', 'x_atac_kl': '177.9334', 'x_atac_elbo': '7812.3900', 'triplet_loss': '0.0142', 'ot_loss': '34.3022', 'total_loss': '5914.4403'}, Val={'x_rna_nll': '-2024.5469', 'x_rna_kl': '139.3945', 'x_rna_elbo': '-2010.6075', 'x_atac_nll': '7918.4732', 'x_atac_kl': '168.9986', 'x_atac_elbo': '7935.3730', 'triplet_loss': '1.5166', 'ot_loss': '23.5696', 'total_loss': '6800.9234'}\n",
      "[INFO] CGLUESOE_OT_Trainer: [Epoch 110] Train={'x_rna_nll': '-2155.9512', 'x_rna_kl': '148.7354', 'x_rna_elbo': '-2141.0776', 'x_atac_nll': '7763.4059', 'x_atac_kl': '183.3376', 'x_atac_elbo': '7781.7396', 'triplet_loss': '0.0180', 'ot_loss': '34.1116', 'total_loss': '5820.2153'}, Val={'x_rna_nll': '-2042.7729', 'x_rna_kl': '147.6094', 'x_rna_elbo': '-2028.0119', 'x_atac_nll': '7904.7019', 'x_atac_kl': '173.8893', 'x_atac_elbo': '7922.0908', 'triplet_loss': '1.2098', 'ot_loss': '22.7752', 'total_loss': '6612.8322'}\n",
      "[INFO] CGLUESOE_OT_Trainer: [Epoch 120] Train={'x_rna_nll': '-2186.9425', 'x_rna_kl': '160.1300', 'x_rna_elbo': '-2170.9294', 'x_atac_nll': '7778.2194', 'x_atac_kl': '186.4390', 'x_atac_elbo': '7796.8632', 'triplet_loss': '0.0163', 'ot_loss': '27.4821', 'total_loss': '5771.4802'}, Val={'x_rna_nll': '-2015.0234', 'x_rna_kl': '158.1257', 'x_rna_elbo': '-1999.2109', 'x_atac_nll': '7907.9578', 'x_atac_kl': '176.2158', 'x_atac_elbo': '7925.5795', 'triplet_loss': '1.3215', 'ot_loss': '17.8482', 'total_loss': '6676.3671'}\n",
      "[INFO] LRScheduler: Learning rate reduction: step 1\n",
      "[INFO] CGLUESOE_OT_Trainer: [Epoch 130] Train={'x_rna_nll': '-2235.2005', 'x_rna_kl': '165.2447', 'x_rna_elbo': '-2218.6760', 'x_atac_nll': '7767.6353', 'x_atac_kl': '191.3318', 'x_atac_elbo': '7786.7685', 'triplet_loss': '0.0079', 'ot_loss': '21.1559', 'total_loss': '5677.8159'}, Val={'x_rna_nll': '-1980.0770', 'x_rna_kl': '162.9155', 'x_rna_elbo': '-1963.7855', 'x_atac_nll': '7902.7477', 'x_atac_kl': '181.4210', 'x_atac_elbo': '7920.8898', 'triplet_loss': '1.2056', 'ot_loss': '16.4398', 'total_loss': '6642.1264'}\n",
      "[INFO] CGLUESOE_OT_Trainer: [Epoch 140] Train={'x_rna_nll': '-2227.2626', 'x_rna_kl': '166.7334', 'x_rna_elbo': '-2210.5892', 'x_atac_nll': '7779.9895', 'x_atac_kl': '192.6086', 'x_atac_elbo': '7799.2504', 'triplet_loss': '0.0114', 'ot_loss': '19.9113', 'total_loss': '5693.9096'}, Val={'x_rna_nll': '-1974.4993', 'x_rna_kl': '163.6485', 'x_rna_elbo': '-1958.1344', 'x_atac_nll': '7901.7130', 'x_atac_kl': '182.2738', 'x_atac_elbo': '7919.9405', 'triplet_loss': '1.2249', 'ot_loss': '15.3798', 'total_loss': '6651.1404'}\n",
      "[INFO] LRScheduler: Learning rate reduction: step 2\n",
      "[INFO] CGLUESOE_OT_Trainer: [Epoch 150] Train={'x_rna_nll': '-2241.1473', 'x_rna_kl': '167.1227', 'x_rna_elbo': '-2224.4350', 'x_atac_nll': '7768.5877', 'x_atac_kl': '193.2982', 'x_atac_elbo': '7787.9176', 'triplet_loss': '0.0192', 'ot_loss': '19.2976', 'total_loss': '5669.5559'}, Val={'x_rna_nll': '-1971.0535', 'x_rna_kl': '164.0392', 'x_rna_elbo': '-1954.6495', 'x_atac_nll': '7902.8120', 'x_atac_kl': '183.4302', 'x_atac_elbo': '7921.1551', 'triplet_loss': '1.2906', 'ot_loss': '14.8526', 'total_loss': '6686.0926'}\n",
      "[INFO] CGLUESOE_OT_Trainer: [Epoch 160] Train={'x_rna_nll': '-2229.6346', 'x_rna_kl': '167.3761', 'x_rna_elbo': '-2212.8970', 'x_atac_nll': '7771.9588', 'x_atac_kl': '194.0820', 'x_atac_elbo': '7791.3670', 'triplet_loss': '0.0065', 'ot_loss': '19.0044', 'total_loss': '5676.7178'}, Val={'x_rna_nll': '-1970.9384', 'x_rna_kl': '164.7007', 'x_rna_elbo': '-1954.4683', 'x_atac_nll': '7900.9822', 'x_atac_kl': '184.0046', 'x_atac_elbo': '7919.3828', 'triplet_loss': '1.2310', 'ot_loss': '15.0037', 'total_loss': '6655.4238'}\n"
     ]
    },
    {
     "name": "stdout",
     "output_type": "stream",
     "text": [
      "[INFO] LRScheduler: Learning rate reduction: step 3\n",
      "[INFO] CGLUESOE_OT_Trainer: [Epoch 170] Train={'x_rna_nll': '-2233.8956', 'x_rna_kl': '167.2166', 'x_rna_elbo': '-2217.1739', 'x_atac_nll': '7768.3288', 'x_atac_kl': '193.4316', 'x_atac_elbo': '7787.6720', 'triplet_loss': '0.0069', 'ot_loss': '18.7082', 'total_loss': '5667.4901'}, Val={'x_rna_nll': '-1970.2266', 'x_rna_kl': '164.6516', 'x_rna_elbo': '-1953.7614', 'x_atac_nll': '7902.4879', 'x_atac_kl': '183.9207', 'x_atac_elbo': '7920.8800', 'triplet_loss': '1.2414', 'ot_loss': '15.2867', 'total_loss': '6664.2277'}\n",
      "[INFO] CGLUESOE_OT_Trainer: [Epoch 180] Train={'x_rna_nll': '-2228.3921', 'x_rna_kl': '167.3601', 'x_rna_elbo': '-2211.6561', 'x_atac_nll': '7756.4988', 'x_atac_kl': '193.6762', 'x_atac_elbo': '7775.8664', 'triplet_loss': '0.0035', 'ot_loss': '18.3910', 'total_loss': '5657.9046'}, Val={'x_rna_nll': '-1969.2266', 'x_rna_kl': '164.3453', 'x_rna_elbo': '-1952.7921', 'x_atac_nll': '7904.0294', 'x_atac_kl': '183.7744', 'x_atac_elbo': '7922.4068', 'triplet_loss': '1.2769', 'ot_loss': '14.6860', 'total_loss': '6681.4908'}\n",
      "[INFO] CGLUESOE_OT_Trainer: [Epoch 190] Train={'x_rna_nll': '-2234.3248', 'x_rna_kl': '167.0559', 'x_rna_elbo': '-2217.6192', 'x_atac_nll': '7750.8916', 'x_atac_kl': '193.8951', 'x_atac_elbo': '7770.2811', 'triplet_loss': '0.0082', 'ot_loss': '18.9119', 'total_loss': '5651.3176'}, Val={'x_rna_nll': '-1970.1380', 'x_rna_kl': '165.0118', 'x_rna_elbo': '-1953.6368', 'x_atac_nll': '7897.6675', 'x_atac_kl': '184.1387', 'x_atac_elbo': '7916.0814', 'triplet_loss': '1.2030', 'ot_loss': '15.5570', 'total_loss': '6641.7499'}\n",
      "[INFO] LRScheduler: Learning rate reduction: step 4\n",
      "[INFO] CGLUESOE_OT_Trainer: [Epoch 200] Train={'x_rna_nll': '-2234.1363', 'x_rna_kl': '167.1150', 'x_rna_elbo': '-2217.4247', 'x_atac_nll': '7749.1344', 'x_atac_kl': '193.6277', 'x_atac_elbo': '7768.4972', 'triplet_loss': '0.0051', 'ot_loss': '18.3556', 'total_loss': '5645.3792'}, Val={'x_rna_nll': '-1970.4742', 'x_rna_kl': '164.9640', 'x_rna_elbo': '-1953.9778', 'x_atac_nll': '7897.9111', 'x_atac_kl': '183.9743', 'x_atac_elbo': '7916.3085', 'triplet_loss': '1.2030', 'ot_loss': '15.8614', 'total_loss': '6643.1544'}\n",
      "[INFO] CGLUESOE_OT_Trainer: [Epoch 210] Train={'x_rna_nll': '-2248.0599', 'x_rna_kl': '167.3155', 'x_rna_elbo': '-2231.3284', 'x_atac_nll': '7785.2990', 'x_atac_kl': '193.7222', 'x_atac_elbo': '7804.6712', 'triplet_loss': '0.0095', 'ot_loss': '18.5566', 'total_loss': '5670.8823'}, Val={'x_rna_nll': '-1969.6730', 'x_rna_kl': '164.8036', 'x_rna_elbo': '-1953.1926', 'x_atac_nll': '7903.7407', 'x_atac_kl': '183.8239', 'x_atac_elbo': '7922.1230', 'triplet_loss': '1.2476', 'ot_loss': '15.0944', 'total_loss': '6668.2227'}\n",
      "[INFO] LRScheduler: Learning rate reduction: step 5\n",
      "[INFO] CGLUESOE_OT_Trainer: [Epoch 220] Train={'x_rna_nll': '-2222.9358', 'x_rna_kl': '167.5242', 'x_rna_elbo': '-2206.1833', 'x_atac_nll': '7779.2540', 'x_atac_kl': '193.5153', 'x_atac_elbo': '7798.6056', 'triplet_loss': '0.0095', 'ot_loss': '18.4803', 'total_loss': '5689.5611'}, Val={'x_rna_nll': '-1969.8466', 'x_rna_kl': '164.5297', 'x_rna_elbo': '-1953.3936', 'x_atac_nll': '7900.6615', 'x_atac_kl': '184.0592', 'x_atac_elbo': '7919.0674', 'triplet_loss': '1.2397', 'ot_loss': '15.2322', 'total_loss': '6661.6761'}\n",
      "[INFO] CGLUESOE_OT_Trainer: [Epoch 230] Train={'x_rna_nll': '-2240.8015', 'x_rna_kl': '167.3748', 'x_rna_elbo': '-2224.0640', 'x_atac_nll': '7740.2471', 'x_atac_kl': '194.1212', 'x_atac_elbo': '7759.6591', 'triplet_loss': '0.0062', 'ot_loss': '18.2514', 'total_loss': '5629.9309'}, Val={'x_rna_nll': '-1970.1671', 'x_rna_kl': '164.6707', 'x_rna_elbo': '-1953.7000', 'x_atac_nll': '7900.2787', 'x_atac_kl': '184.0294', 'x_atac_elbo': '7918.6817', 'triplet_loss': '1.2760', 'ot_loss': '15.1415', 'total_loss': '6678.6779'}\n",
      "[INFO] CGLUESOE_OT_Trainer: [Epoch 240] Train={'x_rna_nll': '-2233.5604', 'x_rna_kl': '167.0369', 'x_rna_elbo': '-2216.8567', 'x_atac_nll': '7744.4185', 'x_atac_kl': '193.6633', 'x_atac_elbo': '7763.7848', 'triplet_loss': '0.0073', 'ot_loss': '18.6686', 'total_loss': '5643.9058'}, Val={'x_rna_nll': '-1969.6026', 'x_rna_kl': '164.4182', 'x_rna_elbo': '-1953.1608', 'x_atac_nll': '7899.7938', 'x_atac_kl': '184.1202', 'x_atac_elbo': '7918.2057', 'triplet_loss': '1.2886', 'ot_loss': '14.8382', 'total_loss': '6683.5374'}\n",
      "[INFO] CGLUESOE_OT_Trainer: [Epoch 250] Train={'x_rna_nll': '-2240.5397', 'x_rna_kl': '167.2505', 'x_rna_elbo': '-2223.8147', 'x_atac_nll': '7783.9948', 'x_atac_kl': '194.3216', 'x_atac_elbo': '7803.4270', 'triplet_loss': '0.0097', 'ot_loss': '17.9959', 'total_loss': '5674.4189'}, Val={'x_rna_nll': '-1969.9184', 'x_rna_kl': '164.6777', 'x_rna_elbo': '-1953.4506', 'x_atac_nll': '7900.7285', 'x_atac_kl': '183.9779', 'x_atac_elbo': '7919.1262', 'triplet_loss': '1.2799', 'ot_loss': '15.1590', 'total_loss': '6681.4399'}\n",
      "[INFO] CGLUESOE_OT_Trainer: [Epoch 260] Train={'x_rna_nll': '-2221.3936', 'x_rna_kl': '167.2345', 'x_rna_elbo': '-2204.6701', 'x_atac_nll': '7767.2351', 'x_atac_kl': '194.1267', 'x_atac_elbo': '7786.6477', 'triplet_loss': '0.0115', 'ot_loss': '18.8381', 'total_loss': '5681.9330'}, Val={'x_rna_nll': '-1969.6769', 'x_rna_kl': '164.5442', 'x_rna_elbo': '-1953.2225', 'x_atac_nll': '7898.0515', 'x_atac_kl': '184.0336', 'x_atac_elbo': '7916.4548', 'triplet_loss': '1.2737', 'ot_loss': '14.8482', 'total_loss': '6674.3466'}\n",
      "[INFO] CGLUESOE_OT_Trainer: [Epoch 270] Train={'x_rna_nll': '-2232.2476', 'x_rna_kl': '167.3370', 'x_rna_elbo': '-2215.5139', 'x_atac_nll': '7783.0166', 'x_atac_kl': '193.4935', 'x_atac_elbo': '7802.3659', 'triplet_loss': '0.0099', 'ot_loss': '18.9308', 'total_loss': '5686.4496'}, Val={'x_rna_nll': '-1969.7038', 'x_rna_kl': '164.6368', 'x_rna_elbo': '-1953.2401', 'x_atac_nll': '7903.1618', 'x_atac_kl': '183.9506', 'x_atac_elbo': '7921.5569', 'triplet_loss': '1.2661', 'ot_loss': '14.8212', 'total_loss': '6675.4637'}\n",
      "[INFO] CGLUESOE_OT_Trainer: [Epoch 280] Train={'x_rna_nll': '-2246.6837', 'x_rna_kl': '167.1198', 'x_rna_elbo': '-2229.9718', 'x_atac_nll': '7772.4063', 'x_atac_kl': '194.2240', 'x_atac_elbo': '7791.8287', 'triplet_loss': '0.0046', 'ot_loss': '18.8256', 'total_loss': '5658.2617'}, Val={'x_rna_nll': '-1969.9387', 'x_rna_kl': '164.7439', 'x_rna_elbo': '-1953.4643', 'x_atac_nll': '7901.2891', 'x_atac_kl': '183.6494', 'x_atac_elbo': '7919.6541', 'triplet_loss': '1.2441', 'ot_loss': '15.1947', 'total_loss': '6664.2050'}\n",
      "[INFO] CGLUESOE_OT_Trainer: [Epoch 290] Train={'x_rna_nll': '-2234.5837', 'x_rna_kl': '167.2699', 'x_rna_elbo': '-2217.8567', 'x_atac_nll': '7746.2595', 'x_atac_kl': '194.2714', 'x_atac_elbo': '7765.6867', 'triplet_loss': '0.0058', 'ot_loss': '18.1306', 'total_loss': '5641.3849'}, Val={'x_rna_nll': '-1969.2765', 'x_rna_kl': '164.6954', 'x_rna_elbo': '-1952.8070', 'x_atac_nll': '7900.6018', 'x_atac_kl': '184.0974', 'x_atac_elbo': '7919.0115', 'triplet_loss': '1.2127', 'ot_loss': '15.1299', 'total_loss': '6648.2142'}\n",
      "[INFO] CGLUESOE_OT_Trainer: [Epoch 300] Train={'x_rna_nll': '-2227.6164', 'x_rna_kl': '167.6235', 'x_rna_elbo': '-2210.8541', 'x_atac_nll': '7766.9939', 'x_atac_kl': '193.9039', 'x_atac_elbo': '7786.3843', 'triplet_loss': '0.0042', 'ot_loss': '18.2015', 'total_loss': '5668.6442'}, Val={'x_rna_nll': '-1969.8166', 'x_rna_kl': '164.9377', 'x_rna_elbo': '-1953.3228', 'x_atac_nll': '7900.4949', 'x_atac_kl': '184.0172', 'x_atac_elbo': '7918.8965', 'triplet_loss': '1.2040', 'ot_loss': '15.3879', 'total_loss': '6644.5079'}\n",
      "Model fitting finished.\n"
     ]
    }
   ],
   "source": [
    "\n",
    "\n",
    "# --- 5. Initialize CGLUE-SOE-OT Model ---\n",
    "print(\"Initializing CGLUE-SOE-OT model...\")\n",
    "try:\n",
    "    model = CGLUESOE_OT_Model(\n",
    "        adatas=adatas,\n",
    "        x2u_h_depth=2, \n",
    "        x2u_h_dim=256,                 \n",
    "        u2x_h_depth=2, \n",
    "        u2x_h_dim=256, \n",
    "        dropout=0.2,\n",
    "        vertices=vertices.tolist(), # Pass the combined feature list\n",
    "        latent_dim=50, # Example latent dimension, adjust as needed\n",
    "        random_seed=SEED\n",
    "    )\n",
    "    print(\"Model initialized.\")\n",
    "except Exception as e:\n",
    "    print(f\"Error initializing model: {e}\")\n",
    "    sys.exit(1)\n",
    "\n",
    "# --- 6. Compile Model ---\n",
    "print(\"Compiling model...\")\n",
    "Times = '1'\n",
    "lam_kl=0.1           # Weight for KL divergence regularization 调低有利于聚类更紧密\n",
    "lam_data=1.0         # Weight for data reconstruction loss 调高有利于聚类更紧密\n",
    "lam_triplet=500      # Weight for triplet loss (NEEDS TUNING)\n",
    "lam_ot=5.0           # Weight for Optimal Transport loss (NEEDS TUNING)\n",
    "triplet_margin=5   # Margin for triplet loss (NEEDS TUNING)有可能数据本身就是按照时间序列排序的\n",
    "ot_epsilon=0.1       # OT Sinkhorn regularization (NEEDS TUNING) 较小的值 (如当前的 0.1) 匹配更精确，但也可能对噪声更敏感\n",
    "ot_tau=1.0          # OT Sinkhorn unbalancedness (NEEDS TUNING)\n",
    "ot_max_iter=100\n",
    "\n",
    "max_epochs=300\n",
    "# ** Tune hyperparameters, especially loss weights **\n",
    "try:\n",
    "    model.compile(\n",
    "        lr=1e-3,              # Learning rate for the single optimizer\n",
    "        # lam_graph removed\n",
    "        # lam_align removed\n",
    "        # dsc_lr removed\n",
    "        # train_ratio removed\n",
    "        lam_kl=lam_kl,           # Weight for KL divergence regularization 调低有利于聚类更紧密\n",
    "        lam_data=lam_data,         # Weight for data reconstruction loss 调高有利于聚类更紧密\n",
    "        lam_triplet=lam_triplet,      # Weight for triplet loss (NEEDS TUNING)\n",
    "        lam_ot=lam_ot,           # Weight for Optimal Transport loss (NEEDS TUNING)\n",
    "        triplet_margin=triplet_margin,   # Margin for triplet loss (NEEDS TUNING)有可能数据本身就是按照时间序列排序的\n",
    "        ot_epsilon=ot_epsilon,       # OT Sinkhorn regularization (NEEDS TUNING) 较小的值 (如当前的 0.1) 匹配更精确，但也可能对噪声更敏感\n",
    "        ot_tau=ot_tau,           # OT Sinkhorn unbalancedness (NEEDS TUNING)\n",
    "        ot_max_iter=ot_max_iter,      # OT Sinkhorn iterations\n",
    "         #weight_decay=1e-5   # Example: Add optimizer args directly\n",
    "    )\n",
    "    print(\"Model compiled.\")\n",
    "except Exception as e:\n",
    "    print(f\"Error compiling model: {e}\")\n",
    "    sys.exit(1)\n",
    "\n",
    "# --- 7. Train Model ---\n",
    "print(\"Fitting model...\")\n",
    "# Fit the model (No GraphDataset needed)\n",
    "# Adjust training parameters as needed\n",
    "try:\n",
    "    model.fit(\n",
    "        adatas=adatas,            # Pass adatas dictionary\n",
    "        # graph removed\n",
    "        val_split=0.2,            # Use 10% of data for validation\n",
    "        data_batch_size=256,      # Adjust based on memory\n",
    "        # graph_batch_size removed\n",
    "        max_epochs=max_epochs,           # Set a reasonable number of epochs\n",
    "        patience=35,              # Early stopping patience\n",
    "        reduce_lr_patience=20,    # LR scheduling patience\n",
    "        wait_n_lrs=3,             # Wait for LR reductions before stopping\n",
    "        num_workers=0,            # Set > 0 for parallel data loading if needed\n",
    "        directory=SAVE_DIR        # Directory for logs and checkpoints\n",
    "    )\n",
    "    print(\"Model fitting finished.\")\n",
    "except Exception as e:\n",
    "    print(f\"An error occurred during model fitting: {e}\")\n",
    "    import traceback\n",
    "    traceback.print_exc()\n",
    "    sys.exit(1)\n",
    "\n",
    "\n"
   ]
  },
  {
   "cell_type": "code",
   "execution_count": 13,
   "id": "85af9470",
   "metadata": {
    "ExecuteTime": {
     "end_time": "2025-05-08T00:38:04.719973Z",
     "start_time": "2025-05-08T00:37:04.345560Z"
    }
   },
   "outputs": [
    {
     "name": "stdout",
     "output_type": "stream",
     "text": [
      "Extracting embeddings...\n",
      "RNA embeddings shape: (5849, 50)\n",
      "ATAC embeddings shape: (4063, 50)\n",
      "Feature embeddings shape: (17558, 50)\n",
      "Saving final model to cglue_soe_ot_Fallopian_tube_endothelial_output/cglue_soe_ot_final_model.dill\n",
      "[INFO] CGLUESOE_OT_Model: Model state saved to cglue_soe_ot_Fallopian_tube_endothelial_output/cglue_soe_ot_final_model.dill\n",
      "Generating UMAP visualization...\n",
      "Running neighbors and UMAP...\n"
     ]
    },
    {
     "name": "stderr",
     "output_type": "stream",
     "text": [
      " FutureWarning:/home/sccancer/anaconda3/envs/CGLUE-SOE/lib/python3.9/site-packages/anndata/_core/anndata.py:402: The dtype argument is deprecated and will be removed in late 2024.\n"
     ]
    },
    {
     "name": "stdout",
     "output_type": "stream",
     "text": [
      "Plotting UMAP...\n",
      "WARNING: saving figure to file figures/umap_cglue_soe_ot_Fallopian_endothelial_1_results.png\n",
      "UMAP plots saved to figures/ directory (_cglue_soe_ot_Fallopian_endothelial_1_results.png).\n",
      "Script finished.\n"
     ]
    }
   ],
   "source": [
    "# --- 8. Post-Training Analysis ---\n",
    "print(\"Extracting embeddings...\")\n",
    "try:\n",
    "    # Use a different key for the new model's embeddings\n",
    "    embedding_key = \"X_cgluesoe_ot\"\n",
    "    rna_adata.obsm[embedding_key] = model.encode_data(\"rna\", rna_adata)\n",
    "    atac_adata.obsm[embedding_key] = model.encode_data(\"atac\", atac_adata)\n",
    "\n",
    "    # Get feature embeddings from the nn.Embedding layer\n",
    "    feature_embeddings = model.get_feature_embeddings()\n",
    "    feature_embeddings_df = pd.DataFrame(feature_embeddings, index=model.vertices)\n",
    "\n",
    "    print(\"RNA embeddings shape:\", rna_adata.obsm[embedding_key].shape)\n",
    "    print(\"ATAC embeddings shape:\", atac_adata.obsm[embedding_key].shape)\n",
    "    print(\"Feature embeddings shape:\", feature_embeddings_df.shape)\n",
    "\n",
    "    # --- Optional: Save model and embeddings ---\n",
    "    final_model_path = os.path.join(SAVE_DIR, \"cglue_soe_ot_final_model.dill\")\n",
    "    print(f\"Saving final model to {final_model_path}\")\n",
    "    model.save(final_model_path)\n",
    "\n",
    "    rna_save_path = os.path.join(SAVE_DIR, \"rna_adata_with_embeddings.h5ad\")\n",
    "    atac_save_path = os.path.join(SAVE_DIR, \"atac_adata_with_embeddings.h5ad\")\n",
    "    feat_save_path = os.path.join(SAVE_DIR, \"feature_embeddings.csv\")\n",
    "\n",
    "    # print(f\"Saving RNA AnnData to {rna_save_path}\")\n",
    "    # rna_adata.write_h5ad(rna_save_path)\n",
    "    # print(f\"Saving ATAC AnnData to {atac_save_path}\")\n",
    "    # atac_adata.write_h5ad(atac_save_path)\n",
    "    # print(f\"Saving feature embeddings to {feat_save_path}\")\n",
    "    # feature_embeddings_df.to_csv(feat_save_path)\n",
    "\n",
    "\n",
    "    # --- Optional: Visualization (UMAP) ---\n",
    "    print(\"Generating UMAP visualization...\")\n",
    "    # Combine embeddings and obs for visualization\n",
    "    all_embeddings = np.concatenate([rna_adata.obsm[embedding_key], atac_adata.obsm[embedding_key]], axis=0)\n",
    "    all_obs = pd.concat([\n",
    "        rna_adata.obs[[label_col]].assign(modality='rna'), # Use label_col\n",
    "        atac_adata.obs[[label_col]].assign(modality='atac') # Use label_col\n",
    "    ], axis=0)\n",
    "    # Create combined obs_names for the visualization AnnData\n",
    "    vis_obs_names = rna_adata.obs_names.tolist() + atac_adata.obs_names.tolist()\n",
    "    if len(vis_obs_names) != len(all_obs): # Basic check\n",
    "         print(f\"Warning: Length mismatch between obs_names ({len(vis_obs_names)}) and combined obs ({len(all_obs)}). Using default index.\")\n",
    "         vis_obs_names = pd.RangeIndex(start=0, stop=len(all_obs), step=1)\n",
    "\n",
    "\n",
    "    vis_adata = ad.AnnData(all_embeddings, dtype=all_embeddings.dtype) # Ensure dtype is set\n",
    "    vis_adata.obs = all_obs\n",
    "    vis_adata.obs_names = vis_obs_names # Assign combined names\n",
    "    vis_adata.obsm['X_cgluesoe_ot'] = all_embeddings # Store for scanpy functions\n",
    "\n",
    "    print(\"Running neighbors and UMAP...\")\n",
    "    sc.pp.neighbors(vis_adata, use_rep='X_cgluesoe_ot', n_neighbors=15, random_state=SEED)\n",
    "    sc.tl.umap(vis_adata, min_dist=0.3, random_state=SEED) # Adjust min_dist for spread\n",
    "\n",
    "    print(\"Plotting UMAP...\")\n",
    "    umap_save_path = f'_cglue_soe_ot_Fallopian_endothelial_{Times}_results.png' # Updated filename\n",
    "    sc.pl.umap(\n",
    "        vis_adata,\n",
    "        color=['modality', label_col], # Color by label_col\n",
    "        title=['UMAP by Modality', f'UMAP by {label_col.capitalize()}'],\n",
    "        save=umap_save_path,\n",
    "        show=False # Set to True to display interactively if possible\n",
    "    )\n",
    "    print(f\"UMAP plots saved to figures/ directory ({umap_save_path}).\")\n",
    "\n",
    "except Exception as e:\n",
    "    print(f\"An error occurred during post-training analysis: {e}\")\n",
    "    import traceback\n",
    "    traceback.print_exc()\n",
    "\n",
    "print(\"Script finished.\")"
   ]
  },
  {
   "cell_type": "code",
   "execution_count": 14,
   "id": "14f9de53",
   "metadata": {
    "ExecuteTime": {
     "end_time": "2025-05-08T00:38:05.467713Z",
     "start_time": "2025-05-08T00:38:04.721607Z"
    }
   },
   "outputs": [
    {
     "name": "stdout",
     "output_type": "stream",
     "text": [
      "Plotting loss curves...\n",
      "[INFO] CGLUESOE_OT_Model: Loss curves saved to cglue_soe_ot_Fallopian_tube_endothelial_output/cglue_soe_ot_loss_curves_Fallopian_endothelial_1.png\n",
      "Loss curves saved to cglue_soe_ot_Fallopian_tube_endothelial_output/cglue_soe_ot_loss_curves_Fallopian_endothelial_1.png\n"
     ]
    }
   ],
   "source": [
    "print(\"Plotting loss curves...\")\n",
    "try:\n",
    "    # Define where to save the plot\n",
    "    loss_plot_path = os.path.join(SAVE_DIR, f\"cglue_soe_ot_loss_curves_Fallopian_endothelial_{Times}.png\")\n",
    "    # Call the plotting method\n",
    "    model.plot_loss_curves(save_path=loss_plot_path)\n",
    "    print(f\"Loss curves saved to {loss_plot_path}\")\n",
    "except Exception as e:\n",
    "    print(f\"An error occurred during loss plotting: {e}\")\n",
    "    import traceback\n",
    "    traceback.print_exc()\n"
   ]
  },
  {
   "cell_type": "code",
   "execution_count": 15,
   "id": "68b24a4a",
   "metadata": {
    "ExecuteTime": {
     "end_time": "2025-05-08T00:38:05.479666Z",
     "start_time": "2025-05-08T00:38:05.469497Z"
    }
   },
   "outputs": [
    {
     "name": "stdout",
     "output_type": "stream",
     "text": [
      "超参数已成功保存到 cglue_soe_ot_Fallopian_tube_endothelial_output/hyperparameters_endothelial.csv\n"
     ]
    }
   ],
   "source": [
    "import csv\n",
    "import pickle\n",
    "# 定义你的超参数 (与上面相同)\n",
    "hyperparameters = {\n",
    "    \"lam_kl\": lam_kl,\n",
    "    \"lam_data\": lam_data,\n",
    "    \"lam_triplet\": lam_triplet,\n",
    "    \"lam_ot\": lam_ot,\n",
    "    \"triplet_margin\": triplet_margin,\n",
    "    \"ot_epsilon\": ot_epsilon,\n",
    "    \"ot_tau\": ot_tau,\n",
    "    \"ot_max_iter\": ot_max_iter,\n",
    "    \"max_epochs\": max_epochs\n",
    "}\n",
    "\n",
    "# 定义要保存的PKL文件名\n",
    "csv_filename = os.path.join(SAVE_DIR, \"hyperparameters_endothelial.csv\")\n",
    "\n",
    "# 写入CSV文件\n",
    "try:\n",
    "    with open(csv_filename, 'a', newline='') as csvfile:\n",
    "        # 定义CSV写入器\n",
    "        writer = csv.writer(csvfile)\n",
    "\n",
    "        # 写入表头 (可选，但推荐)\n",
    "        writer.writerow([f'ParameterName_{Times}', 'Value'])\n",
    "\n",
    "        # 遍历字典并写入每一行\n",
    "        for name, value in hyperparameters.items():\n",
    "            writer.writerow([name, value])\n",
    "    print(f\"超参数已成功保存到 {csv_filename}\")\n",
    "except IOError:\n",
    "    print(f\"错误：无法写入文件 {csv_filename}\")"
   ]
  },
  {
   "cell_type": "code",
   "execution_count": null,
   "id": "9124f210",
   "metadata": {},
   "outputs": [],
   "source": []
  }
 ],
 "metadata": {
  "kernelspec": {
   "display_name": "Python [conda env:CGLUE-SOE]",
   "language": "python",
   "name": "conda-env-CGLUE-SOE-py"
  },
  "language_info": {
   "codemirror_mode": {
    "name": "ipython",
    "version": 3
   },
   "file_extension": ".py",
   "mimetype": "text/x-python",
   "name": "python",
   "nbconvert_exporter": "python",
   "pygments_lexer": "ipython3",
   "version": "3.9.22"
  },
  "toc": {
   "base_numbering": 1,
   "nav_menu": {},
   "number_sections": true,
   "sideBar": true,
   "skip_h1_title": false,
   "title_cell": "Table of Contents",
   "title_sidebar": "Contents",
   "toc_cell": false,
   "toc_position": {},
   "toc_section_display": true,
   "toc_window_display": false
  }
 },
 "nbformat": 4,
 "nbformat_minor": 5
}
